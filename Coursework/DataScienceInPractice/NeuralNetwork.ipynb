{
 "cells": [
  {
   "cell_type": "code",
   "execution_count": 1,
   "id": "282f706f",
   "metadata": {},
   "outputs": [],
   "source": [
    "import pandas as pd\n",
    "import numpy as np\n",
    "from sklearn import preprocessing as pre\n",
    "from sklearn.model_selection import train_test_split\n",
    "from sklearn.metrics import accuracy_score, precision_score, recall_score # Should we just use accuracy?\n",
    "import matplotlib.pyplot as plt\n",
    "import torch\n",
    "import torch.nn as nn\n",
    "import torch.nn.functional as F\n",
    "from torch.autograd import Variable"
   ]
  },
  {
   "cell_type": "code",
   "execution_count": 2,
   "id": "ef4491fc",
   "metadata": {},
   "outputs": [
    {
     "name": "stdout",
     "output_type": "stream",
     "text": [
      "cpu\n"
     ]
    }
   ],
   "source": [
    "device = 'cuda' if torch.cuda.is_available() else 'cpu'\n",
    "print(device)"
   ]
  },
  {
   "cell_type": "markdown",
   "id": "c665f362",
   "metadata": {},
   "source": [
    "## Prepare the Data"
   ]
  },
  {
   "cell_type": "code",
   "execution_count": 3,
   "id": "ecbe03f5",
   "metadata": {},
   "outputs": [],
   "source": [
    "df = pd.read_csv('data/glass/glass.csv')\n",
    "\n",
    "dfX = df.drop(columns=['ID','TYPE'])\n",
    "X = dfX.to_numpy()\n",
    "\n",
    "dfY = df['TYPE']\n",
    "Y = dfY.to_numpy()"
   ]
  },
  {
   "cell_type": "code",
   "execution_count": 4,
   "id": "40d14410",
   "metadata": {},
   "outputs": [
    {
     "name": "stdout",
     "output_type": "stream",
     "text": [
      "[1 2 3 5 6 7]\n",
      "[0.32710280373831774, 0.35514018691588783, 0.0794392523364486, 0.06074766355140187, 0.04205607476635514, 0.13551401869158877]\n"
     ]
    }
   ],
   "source": [
    "vals = list(dfY.unique())\n",
    "print(dfY.unique())\n",
    "print([len(df[df['TYPE']==a])/len(dfY) for a in vals]) # Look for relative abundance of classes."
   ]
  },
  {
   "cell_type": "code",
   "execution_count": 5,
   "id": "f28906bb",
   "metadata": {},
   "outputs": [],
   "source": [
    "changeY = {1:0, 2:1, 3:2, 5:3, 6:4, 7:5} #NLLLoss wants the classes to start at 0 and not skip.\n",
    "Y1 = np.array([changeY.get(item) for item in Y])"
   ]
  },
  {
   "cell_type": "code",
   "execution_count": 6,
   "id": "ba366d0a",
   "metadata": {},
   "outputs": [],
   "source": [
    "myscaler = pre.StandardScaler(copy=False)"
   ]
  },
  {
   "cell_type": "code",
   "execution_count": 7,
   "id": "ff45e5fb",
   "metadata": {},
   "outputs": [
    {
     "name": "stdout",
     "output_type": "stream",
     "text": [
      "done preprocessing\n"
     ]
    }
   ],
   "source": [
    "X_train, X_test, y_train, y_test = train_test_split(X, Y1, test_size=0.15, random_state=42) # Split the data\n",
    "\n",
    "myscaler.fit(X_train) # compute mean, stdev.\n",
    "myscaler.transform(X_train) # standardize training data\n",
    "myscaler.transform(X_test) # standardize test data.\n",
    "print(\"done preprocessing\")"
   ]
  },
  {
   "cell_type": "code",
   "execution_count": 8,
   "id": "54275f3b",
   "metadata": {},
   "outputs": [],
   "source": [
    "train_X = Variable(torch.Tensor(X_train).float()).to(device) # convert to torch tensors and send to device.\n",
    "test_X = Variable(torch.Tensor(X_test).float()).to(device) # We use Variable for backprop.\n",
    "train_y = Variable(torch.Tensor(y_train).long()).to(device)\n",
    "test_y = Variable(torch.Tensor(y_test).long()).to(device)"
   ]
  },
  {
   "cell_type": "code",
   "execution_count": 10,
   "id": "a6618afb",
   "metadata": {},
   "outputs": [],
   "source": [
    "hidden_layers=100 # Too much??\n",
    "net=myNet(input_size=9,hidden_size=hidden_layers, output_size=len(df['TYPE'].unique()))\n",
    "net.to(device)\n",
    "criterion = nn.NLLLoss()\n",
    "optimizer = torch.optim.SGD(net.parameters(), lr=1) # I like GD. Few enough points to not need batches??"
   ]
  },
  {
   "cell_type": "code",
   "execution_count": 11,
   "id": "2ed90eba",
   "metadata": {},
   "outputs": [],
   "source": [
    "losses=[]\n",
    "for epoch in range(1000):\n",
    "    optimizer.zero_grad()\n",
    "    out = net(train_X)\n",
    "    #print(out.shape)\n",
    "    #print(train_y.shape)\n",
    "    loss = criterion(out, train_y)\n",
    "    losses.append(loss.item())\n",
    "    loss.backward()\n",
    "    optimizer.step()"
   ]
  },
  {
   "cell_type": "code",
   "execution_count": 12,
   "id": "3c5df879",
   "metadata": {},
   "outputs": [
    {
     "name": "stdout",
     "output_type": "stream",
     "text": [
      "number of epoch 999 loss tensor(-0.8115)\n",
      "Train Accuracy: 0.8232044198895028\n",
      "Test Accuracy: 0.7878787878787878\n"
     ]
    },
    {
     "data": {
      "text/plain": [
       "[<matplotlib.lines.Line2D at 0x7f175d4af280>]"
      ]
     },
     "execution_count": 12,
     "metadata": {},
     "output_type": "execute_result"
    },
    {
     "data": {
      "image/png": "[encoded data removed]",
      "text/plain": [
       "<Figure size 432x288 with 1 Axes>"
      ]
     },
     "metadata": {
      "needs_background": "light"
     },
     "output_type": "display_data"
    }
   ],
   "source": [
    "plt.title(\"Negative Log Likelihood Loss\")\n",
    "plt.xlabel(\"step\")\n",
    "plt.ylabel(\"loss\")\n",
    "print('number of epoch', epoch, 'loss', loss.data)\n",
    "predict_out = net(train_X)\n",
    "_, predict_y = torch.max(predict_out, 1)\n",
    "print(\"Train Accuracy:\",accuracy_score(train_y.data, predict_y.data))\n",
    "predict_out = net(test_X)\n",
    "_, predict_y = torch.max(predict_out, 1)\n",
    "print(\"Test Accuracy:\",accuracy_score(test_y.data, predict_y.data))\n",
    "plt.plot(losses)"
   ]
  },
  {
   "cell_type": "code",
   "execution_count": 1,
   "id": "23b82ed4",
   "metadata": {},
   "outputs": [
    {
     "ename": "NameError",
     "evalue": "name 'myNet' is not defined",
     "output_type": "error",
     "traceback": [
      "\u001b[0;31m---------------------------------------------------------------------------\u001b[0m",
      "\u001b[0;31mNameError\u001b[0m                                 Traceback (most recent call last)",
      "\u001b[0;32m<ipython-input-1-cb8f83ef0d49>\u001b[0m in \u001b[0;36m<module>\u001b[0;34m\u001b[0m\n\u001b[1;32m      1\u001b[0m \u001b[0mhidden_layers2\u001b[0m\u001b[0;34m=\u001b[0m\u001b[0;36m16\u001b[0m \u001b[0;31m# Too much??\u001b[0m\u001b[0;34m\u001b[0m\u001b[0;34m\u001b[0m\u001b[0m\n\u001b[0;32m----> 2\u001b[0;31m \u001b[0mnet2\u001b[0m\u001b[0;34m=\u001b[0m\u001b[0mmyNet\u001b[0m\u001b[0;34m(\u001b[0m\u001b[0minput_size\u001b[0m\u001b[0;34m=\u001b[0m\u001b[0;36m9\u001b[0m\u001b[0;34m,\u001b[0m\u001b[0mhidden_size\u001b[0m\u001b[0;34m=\u001b[0m\u001b[0mhidden_layers2\u001b[0m\u001b[0;34m,\u001b[0m \u001b[0moutput_size\u001b[0m\u001b[0;34m=\u001b[0m\u001b[0mlen\u001b[0m\u001b[0;34m(\u001b[0m\u001b[0mdf\u001b[0m\u001b[0;34m[\u001b[0m\u001b[0;34m'TYPE'\u001b[0m\u001b[0;34m]\u001b[0m\u001b[0;34m.\u001b[0m\u001b[0munique\u001b[0m\u001b[0;34m(\u001b[0m\u001b[0;34m)\u001b[0m\u001b[0;34m)\u001b[0m\u001b[0;34m)\u001b[0m\u001b[0;34m\u001b[0m\u001b[0;34m\u001b[0m\u001b[0m\n\u001b[0m\u001b[1;32m      3\u001b[0m \u001b[0mnet2\u001b[0m\u001b[0;34m.\u001b[0m\u001b[0mto\u001b[0m\u001b[0;34m(\u001b[0m\u001b[0mdevice\u001b[0m\u001b[0;34m)\u001b[0m\u001b[0;34m\u001b[0m\u001b[0;34m\u001b[0m\u001b[0m\n\u001b[1;32m      4\u001b[0m \u001b[0mcriterion2\u001b[0m \u001b[0;34m=\u001b[0m \u001b[0mnn\u001b[0m\u001b[0;34m.\u001b[0m\u001b[0mNLLLoss\u001b[0m\u001b[0;34m(\u001b[0m\u001b[0;34m)\u001b[0m\u001b[0;34m\u001b[0m\u001b[0;34m\u001b[0m\u001b[0m\n\u001b[1;32m      5\u001b[0m \u001b[0moptimizer2\u001b[0m \u001b[0;34m=\u001b[0m \u001b[0mtorch\u001b[0m\u001b[0;34m.\u001b[0m\u001b[0moptim\u001b[0m\u001b[0;34m.\u001b[0m\u001b[0mSGD\u001b[0m\u001b[0;34m(\u001b[0m\u001b[0mnet2\u001b[0m\u001b[0;34m.\u001b[0m\u001b[0mparameters\u001b[0m\u001b[0;34m(\u001b[0m\u001b[0;34m)\u001b[0m\u001b[0;34m,\u001b[0m \u001b[0mlr\u001b[0m\u001b[0;34m=\u001b[0m\u001b[0;36m1\u001b[0m\u001b[0;34m)\u001b[0m\u001b[0;34m\u001b[0m\u001b[0;34m\u001b[0m\u001b[0m\n",
      "\u001b[0;31mNameError\u001b[0m: name 'myNet' is not defined"
     ]
    }
   ],
   "source": [
    "hidden_layers2=16 # Too much??\n",
    "net2=myNet(input_size=9,hidden_size=hidden_layers2, output_size=len(df['TYPE'].unique()))\n",
    "net2.to(device)\n",
    "criterion2 = nn.NLLLoss()\n",
    "optimizer2 = torch.optim.SGD(net2.parameters(), lr=1) "
   ]
  },
  {
   "cell_type": "code",
   "execution_count": null,
   "id": "450e5276",
   "metadata": {},
   "outputs": [],
   "source": []
  }
 ],
 "metadata": {
  "kernelspec": {
   "display_name": "Python 3",
   "language": "python",
   "name": "python3"
  },
  "language_info": {
   "codemirror_mode": {
    "name": "ipython",
    "version": 3
   },
   "file_extension": ".py",
   "mimetype": "text/x-python",
   "name": "python",
   "nbconvert_exporter": "python",
   "pygments_lexer": "ipython3",
   "version": "3.8.8"
  }
 },
 "nbformat": 4,
 "nbformat_minor": 5
}
