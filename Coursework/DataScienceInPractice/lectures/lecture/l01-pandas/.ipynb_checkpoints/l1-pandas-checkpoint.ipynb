{
 "cells": [
  {
   "cell_type": "markdown",
   "metadata": {
    "id": "tLGAZoq_GVaW"
   },
   "source": [
    "# Explore a baseball dataset using Pandas\n",
    "This is the first day of class. This is also good, clean fun.\n",
    "\n",
    "The dataset was obtained from [this site](http://www.seanlahman.com/baseball-archive/statistics)."
   ]
  },
  {
   "cell_type": "markdown",
   "metadata": {
    "id": "d_gmpT2YKKEg"
   },
   "source": [
    "This cell mounts your Google Drive so that you can load datasets from there."
   ]
  },
  {
   "cell_type": "code",
   "execution_count": null,
   "metadata": {
    "colab": {
     "base_uri": "https://localhost:8080/"
    },
    "executionInfo": {
     "elapsed": 17621,
     "status": "ok",
     "timestamp": 1642011713229,
     "user": {
      "displayName": "John Edwards",
      "photoUrl": "https://lh3.googleusercontent.com/a-/AOh14GjNdoYCBUMD6WY4cP9VEjQJl3NdSIBREBAeQ1vz=s64",
      "userId": "04096460213798108420"
     },
     "user_tz": 420
    },
    "id": "qPLqLTEoGwf0",
    "outputId": "1df5f1fa-5322-4997-eeec-ae3507b507ff"
   },
   "outputs": [],
   "source": [
    "from google.colab import drive\n",
    "drive.mount('/content/drive')\n"
   ]
  },
  {
   "cell_type": "markdown",
   "metadata": {
    "id": "ufI3VBfOKeqQ"
   },
   "source": [
    "Change directories to the directory that contains this notebook. Note that the directory is an absolute path. *Change the absolute path to where you saved your copy of this code.* You will most likely need to leave /content/drive/MyDrive and change everything after that."
   ]
  },
  {
   "cell_type": "code",
   "execution_count": null,
   "metadata": {
    "colab": {
     "base_uri": "https://localhost:8080/"
    },
    "executionInfo": {
     "elapsed": 1066,
     "status": "ok",
     "timestamp": 1642011714285,
     "user": {
      "displayName": "John Edwards",
      "photoUrl": "https://lh3.googleusercontent.com/a-/AOh14GjNdoYCBUMD6WY4cP9VEjQJl3NdSIBREBAeQ1vz=s64",
      "userId": "04096460213798108420"
     },
     "user_tz": 420
    },
    "id": "S9VgHaUd93cW",
    "outputId": "0f6c738e-af92-4845-ece6-fe8661686871"
   },
   "outputs": [],
   "source": [
    "% cd \"/content/drive/MyDrive/Teaching/2022spring/CS5830 - Data Science Incubator/lecture/l01-pandas\"\n",
    "% ls .``"
   ]
  },
  {
   "cell_type": "markdown",
   "metadata": {
    "id": "DIs8JCx2G1t4"
   },
   "source": [
    "Your project partner may need to run a different cell..."
   ]
  },
  {
   "cell_type": "code",
   "execution_count": null,
   "metadata": {
    "executionInfo": {
     "elapsed": 7,
     "status": "ok",
     "timestamp": 1642011714287,
     "user": {
      "displayName": "John Edwards",
      "photoUrl": "https://lh3.googleusercontent.com/a-/AOh14GjNdoYCBUMD6WY4cP9VEjQJl3NdSIBREBAeQ1vz=s64",
      "userId": "04096460213798108420"
     },
     "user_tz": 420
    },
    "id": "38ivt1O-GyyY"
   },
   "outputs": [],
   "source": [
    "# % cd \"/content/drive/MyDrive/MyStuff/CS5830/l01-pandas\"\n",
    "# % ls ."
   ]
  },
  {
   "cell_type": "markdown",
   "metadata": {
    "id": "51NyfWDjNJrU"
   },
   "source": [
    "## Now we get to start playing with the code"
   ]
  },
  {
   "cell_type": "code",
   "execution_count": null,
   "metadata": {
    "executionInfo": {
     "elapsed": 230,
     "status": "ok",
     "timestamp": 1642011714512,
     "user": {
      "displayName": "John Edwards",
      "photoUrl": "https://lh3.googleusercontent.com/a-/AOh14GjNdoYCBUMD6WY4cP9VEjQJl3NdSIBREBAeQ1vz=s64",
      "userId": "04096460213798108420"
     },
     "user_tz": 420
    },
    "id": "Vf4dx7TZGVab"
   },
   "outputs": [],
   "source": [
    "import pandas as pd"
   ]
  },
  {
   "cell_type": "markdown",
   "metadata": {
    "id": "Yv8e5x6wZFC4"
   },
   "source": [
    "## df stands for Data Frame"
   ]
  },
  {
   "cell_type": "code",
   "execution_count": null,
   "metadata": {
    "executionInfo": {
     "elapsed": 844,
     "status": "ok",
     "timestamp": 1642011715557,
     "user": {
      "displayName": "John Edwards",
      "photoUrl": "https://lh3.googleusercontent.com/a-/AOh14GjNdoYCBUMD6WY4cP9VEjQJl3NdSIBREBAeQ1vz=s64",
      "userId": "04096460213798108420"
     },
     "user_tz": 420
    },
    "id": "o1jlgZPJY7nS"
   },
   "outputs": [],
   "source": [
    "df = pd.read_csv('core/People.csv')"
   ]
  },
  {
   "cell_type": "code",
   "execution_count": null,
   "metadata": {
    "colab": {
     "base_uri": "https://localhost:8080/",
     "height": 357
    },
    "executionInfo": {
     "elapsed": 22,
     "status": "ok",
     "timestamp": 1642011715563,
     "user": {
      "displayName": "John Edwards",
      "photoUrl": "https://lh3.googleusercontent.com/a-/AOh14GjNdoYCBUMD6WY4cP9VEjQJl3NdSIBREBAeQ1vz=s64",
      "userId": "04096460213798108420"
     },
     "user_tz": 420
    },
    "id": "0f1aqW7IZHzV",
    "outputId": "afbd98a1-1c41-4f64-bb77-e69adb817b3c"
   },
   "outputs": [],
   "source": [
    "df.head()"
   ]
  },
  {
   "cell_type": "code",
   "execution_count": null,
   "metadata": {
    "colab": {
     "base_uri": "https://localhost:8080/",
     "height": 206
    },
    "executionInfo": {
     "elapsed": 15,
     "status": "ok",
     "timestamp": 1642011715564,
     "user": {
      "displayName": "John Edwards",
      "photoUrl": "https://lh3.googleusercontent.com/a-/AOh14GjNdoYCBUMD6WY4cP9VEjQJl3NdSIBREBAeQ1vz=s64",
      "userId": "04096460213798108420"
     },
     "user_tz": 420
    },
    "id": "F4JwgogAZWX9",
    "outputId": "b8eec98b-68c1-4716-9a54-47a739e12d8b"
   },
   "outputs": [],
   "source": [
    "# display(df.columns)\n",
    "# display(df.head(2))\n",
    "columns = ['playerID', 'nameFirst', 'nameLast',\n",
    "       'weight', 'height', 'birthYear', 'birthCountry', 'finalGame']\n",
    "# Filter columns\n",
    "players = df[columns]\n",
    "players.head()"
   ]
  },
  {
   "cell_type": "code",
   "execution_count": null,
   "metadata": {
    "colab": {
     "base_uri": "https://localhost:8080/",
     "height": 237
    },
    "executionInfo": {
     "elapsed": 222,
     "status": "ok",
     "timestamp": 1642011715773,
     "user": {
      "displayName": "John Edwards",
      "photoUrl": "https://lh3.googleusercontent.com/a-/AOh14GjNdoYCBUMD6WY4cP9VEjQJl3NdSIBREBAeQ1vz=s64",
      "userId": "04096460213798108420"
     },
     "user_tz": 420
    },
    "id": "Dxu-T2DMaVdq",
    "outputId": "1862ea5f-0cc4-4096-ab34-3f30d6ec172f"
   },
   "outputs": [],
   "source": [
    "players[players.nameFirst == 'John']\n",
    "johns = players[(players.nameFirst == 'John') & (players.birthYear > 1931) & (players.birthCountry != 'USA')]\n",
    "johns.sort_values('birthYear', ascending=False)"
   ]
  },
  {
   "cell_type": "markdown",
   "metadata": {
    "id": "mT2GvuaVbYy6"
   },
   "source": [
    "# Load batting data"
   ]
  },
  {
   "cell_type": "code",
   "execution_count": null,
   "metadata": {
    "colab": {
     "base_uri": "https://localhost:8080/",
     "height": 206
    },
    "executionInfo": {
     "elapsed": 993,
     "status": "ok",
     "timestamp": 1642011716761,
     "user": {
      "displayName": "John Edwards",
      "photoUrl": "https://lh3.googleusercontent.com/a-/AOh14GjNdoYCBUMD6WY4cP9VEjQJl3NdSIBREBAeQ1vz=s64",
      "userId": "04096460213798108420"
     },
     "user_tz": 420
    },
    "id": "FzwvnvoIbgUp",
    "outputId": "89903ce6-676f-4342-8cad-ad00cda2222e"
   },
   "outputs": [],
   "source": [
    "batting = pd.read_csv('core/Batting.csv')\n",
    "batting = batting[['playerID', 'H', 'yearID']]\n",
    "batting.head()"
   ]
  },
  {
   "cell_type": "code",
   "execution_count": null,
   "metadata": {
    "colab": {
     "base_uri": "https://localhost:8080/",
     "height": 423
    },
    "executionInfo": {
     "elapsed": 195,
     "status": "ok",
     "timestamp": 1642012630212,
     "user": {
      "displayName": "John Edwards",
      "photoUrl": "https://lh3.googleusercontent.com/a-/AOh14GjNdoYCBUMD6WY4cP9VEjQJl3NdSIBREBAeQ1vz=s64",
      "userId": "04096460213798108420"
     },
     "user_tz": 420
    },
    "id": "KneKcUyVk336",
    "outputId": "a6d5c9e5-7a17-4059-c19b-fef4d869222d"
   },
   "outputs": [],
   "source": [
    "batting[batting.yearID == 2014].sort_values('H', ascending=False)"
   ]
  },
  {
   "cell_type": "code",
   "execution_count": null,
   "metadata": {
    "colab": {
     "base_uri": "https://localhost:8080/",
     "height": 269
    },
    "executionInfo": {
     "elapsed": 204,
     "status": "ok",
     "timestamp": 1642012700953,
     "user": {
      "displayName": "John Edwards",
      "photoUrl": "https://lh3.googleusercontent.com/a-/AOh14GjNdoYCBUMD6WY4cP9VEjQJl3NdSIBREBAeQ1vz=s64",
      "userId": "04096460213798108420"
     },
     "user_tz": 420
    },
    "id": "nkZcQOv_lL7U",
    "outputId": "05cc15fb-2c05-4154-d3c1-2055136ab9a3"
   },
   "outputs": [],
   "source": [
    "batting[batting.playerID == 'altuvjo01'].sort_values('yearID', ascending=False)"
   ]
  },
  {
   "cell_type": "markdown",
   "metadata": {
    "id": "557ifoMKlZPq"
   },
   "source": [
    "## Merge (join) the players and batting tables (data frame)"
   ]
  },
  {
   "cell_type": "code",
   "execution_count": null,
   "metadata": {
    "colab": {
     "base_uri": "https://localhost:8080/",
     "height": 269
    },
    "executionInfo": {
     "elapsed": 178,
     "status": "ok",
     "timestamp": 1642012875054,
     "user": {
      "displayName": "John Edwards",
      "photoUrl": "https://lh3.googleusercontent.com/a-/AOh14GjNdoYCBUMD6WY4cP9VEjQJl3NdSIBREBAeQ1vz=s64",
      "userId": "04096460213798108420"
     },
     "user_tz": 420
    },
    "id": "s5oXYpWdlopa",
    "outputId": "aaee478e-8e0e-4abf-ecd1-1c5a9c0e0873"
   },
   "outputs": [],
   "source": [
    "playerHits = pd.merge(players, batting, on='playerID')\n",
    "playerHits[playerHits.playerID == 'altuvjo01']"
   ]
  },
  {
   "cell_type": "markdown",
   "metadata": {
    "id": "UtFRjFOHmVXc"
   },
   "source": [
    "## Find the best hitters"
   ]
  },
  {
   "cell_type": "code",
   "execution_count": null,
   "metadata": {
    "colab": {
     "base_uri": "https://localhost:8080/",
     "height": 677
    },
    "executionInfo": {
     "elapsed": 185,
     "status": "ok",
     "timestamp": 1642013057562,
     "user": {
      "displayName": "John Edwards",
      "photoUrl": "https://lh3.googleusercontent.com/a-/AOh14GjNdoYCBUMD6WY4cP9VEjQJl3NdSIBREBAeQ1vz=s64",
      "userId": "04096460213798108420"
     },
     "user_tz": 420
    },
    "id": "GVhSAvb6mYss",
    "outputId": "fac76aeb-ca48-400d-f8ce-230550a7435f"
   },
   "outputs": [],
   "source": [
    "playerHits[playerHits.H > 250]\n",
    "playerHits.sort_values(by='H', ascending=False).head(20)"
   ]
  }
 ],
 "metadata": {
  "colab": {
   "name": "l1-pandas.ipynb",
   "provenance": []
  },
  "kernelspec": {
   "display_name": "Python 3 (ipykernel)",
   "language": "python",
   "name": "python3"
  },
  "language_info": {
   "codemirror_mode": {
    "name": "ipython",
    "version": 3
   },
   "file_extension": ".py",
   "mimetype": "text/x-python",
   "name": "python",
   "nbconvert_exporter": "python",
   "pygments_lexer": "ipython3",
   "version": "3.8.2"
  }
 },
 "nbformat": 4,
 "nbformat_minor": 1
}
