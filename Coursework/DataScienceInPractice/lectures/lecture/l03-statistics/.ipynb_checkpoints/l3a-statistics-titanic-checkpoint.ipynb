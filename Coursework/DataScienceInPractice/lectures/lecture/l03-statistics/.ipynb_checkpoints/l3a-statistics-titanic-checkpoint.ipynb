{
 "cells": [
  {
   "cell_type": "code",
   "execution_count": null,
   "metadata": {
    "executionInfo": {
     "elapsed": 640,
     "status": "ok",
     "timestamp": 1642733207254,
     "user": {
      "displayName": "John Edwards",
      "photoUrl": "https://lh3.googleusercontent.com/a-/AOh14GjNdoYCBUMD6WY4cP9VEjQJl3NdSIBREBAeQ1vz=s64",
      "userId": "04096460213798108420"
     },
     "user_tz": 420
    },
    "id": "lUpekIxIh16f"
   },
   "outputs": [],
   "source": [
    "import pandas as pd\n",
    "from matplotlib import pyplot as plt\n",
    "import seaborn as sns"
   ]
  },
  {
   "cell_type": "markdown",
   "metadata": {
    "id": "7Wwd5vPkh16i"
   },
   "source": [
    "## Load Titanic data\n",
    "\n",
    "The Titanic dataset was obtained from https://github.com/awesomedata/awesome-public-datasets/blob/master/Datasets/titanic.csv.zip"
   ]
  },
  {
   "cell_type": "code",
   "execution_count": null,
   "metadata": {
    "executionInfo": {
     "elapsed": 379,
     "status": "ok",
     "timestamp": 1642733530126,
     "user": {
      "displayName": "John Edwards",
      "photoUrl": "https://lh3.googleusercontent.com/a-/AOh14GjNdoYCBUMD6WY4cP9VEjQJl3NdSIBREBAeQ1vz=s64",
      "userId": "04096460213798108420"
     },
     "user_tz": 420
    },
    "id": "GlIfSlK4h16k"
   },
   "outputs": [],
   "source": [
    "titanic = pd.read_csv('titanic.csv')"
   ]
  },
  {
   "cell_type": "markdown",
   "metadata": {
    "id": "OIaU9Y7Kh16k"
   },
   "source": [
    "## Plot histograms of how much passengers paid for fare and ages"
   ]
  },
  {
   "cell_type": "code",
   "execution_count": null,
   "metadata": {
    "colab": {
     "base_uri": "https://localhost:8080/",
     "height": 1000
    },
    "executionInfo": {
     "elapsed": 1104,
     "status": "ok",
     "timestamp": 1642733532851,
     "user": {
      "displayName": "John Edwards",
      "photoUrl": "https://lh3.googleusercontent.com/a-/AOh14GjNdoYCBUMD6WY4cP9VEjQJl3NdSIBREBAeQ1vz=s64",
      "userId": "04096460213798108420"
     },
     "user_tz": 420
    },
    "id": "QwVeDEGIh16l",
    "outputId": "20ef5fb1-00a8-490d-a771-c458beb56a57"
   },
   "outputs": [],
   "source": [
    "\n"
   ]
  },
  {
   "cell_type": "markdown",
   "metadata": {
    "id": "eAEnjffqh16m"
   },
   "source": [
    "## Look at summary statistics mean, median, and mode"
   ]
  },
  {
   "cell_type": "code",
   "execution_count": null,
   "metadata": {
    "id": "ppAF22S7h16n",
    "outputId": "7a72ee69-81c0-4a2e-b97c-3af398f24195"
   },
   "outputs": [],
   "source": []
  },
  {
   "cell_type": "markdown",
   "metadata": {
    "id": "gWsPKAj7h16n"
   },
   "source": [
    "## Show a bar chart of the classes of passengers"
   ]
  },
  {
   "cell_type": "code",
   "execution_count": null,
   "metadata": {
    "id": "6Edn37O8h16o",
    "outputId": "26612846-e873-4caf-c3fc-cdd7e847185a"
   },
   "outputs": [],
   "source": []
  },
  {
   "cell_type": "markdown",
   "metadata": {
    "id": "I65oQRwgh16p"
   },
   "source": [
    "## Show survival rate for the classes of passengers"
   ]
  },
  {
   "cell_type": "code",
   "execution_count": null,
   "metadata": {
    "id": "nXXx4UPOh16p"
   },
   "outputs": [],
   "source": []
  }
 ],
 "metadata": {
  "colab": {
   "name": "l3a-statistics-titanic-template.ipynb",
   "provenance": []
  },
  "kernelspec": {
   "display_name": "Python 3 (ipykernel)",
   "language": "python",
   "name": "python3"
  },
  "language_info": {
   "codemirror_mode": {
    "name": "ipython",
    "version": 3
   },
   "file_extension": ".py",
   "mimetype": "text/x-python",
   "name": "python",
   "nbconvert_exporter": "python",
   "pygments_lexer": "ipython3",
   "version": "3.8.2"
  }
 },
 "nbformat": 4,
 "nbformat_minor": 1
}
