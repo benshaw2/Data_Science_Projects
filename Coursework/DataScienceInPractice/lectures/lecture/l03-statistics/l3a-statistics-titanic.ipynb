{
 "cells": [
  {
   "cell_type": "code",
   "execution_count": 2,
   "metadata": {
    "executionInfo": {
     "elapsed": 640,
     "status": "ok",
     "timestamp": 1642733207254,
     "user": {
      "displayName": "John Edwards",
      "photoUrl": "https://lh3.googleusercontent.com/a-/AOh14GjNdoYCBUMD6WY4cP9VEjQJl3NdSIBREBAeQ1vz=s64",
      "userId": "04096460213798108420"
     },
     "user_tz": 420
    },
    "id": "lUpekIxIh16f"
   },
   "outputs": [],
   "source": [
    "import pandas as pd\n",
    "from matplotlib import pyplot as plt\n",
    "import seaborn as sns"
   ]
  },
  {
   "cell_type": "markdown",
   "metadata": {
    "id": "7Wwd5vPkh16i"
   },
   "source": [
    "## Load Titanic data\n",
    "\n",
    "The Titanic dataset was obtained from https://github.com/awesomedata/awesome-public-datasets/blob/master/Datasets/titanic.csv.zip"
   ]
  },
  {
   "cell_type": "code",
   "execution_count": 3,
   "metadata": {
    "executionInfo": {
     "elapsed": 379,
     "status": "ok",
     "timestamp": 1642733530126,
     "user": {
      "displayName": "John Edwards",
      "photoUrl": "https://lh3.googleusercontent.com/a-/AOh14GjNdoYCBUMD6WY4cP9VEjQJl3NdSIBREBAeQ1vz=s64",
      "userId": "04096460213798108420"
     },
     "user_tz": 420
    },
    "id": "GlIfSlK4h16k"
   },
   "outputs": [],
   "source": [
    "titanic = pd.read_csv('titanic.csv')"
   ]
  },
  {
   "cell_type": "markdown",
   "metadata": {
    "id": "OIaU9Y7Kh16k"
   },
   "source": [
    "## Plot histograms of how much passengers paid for fare and ages"
   ]
  },
  {
   "cell_type": "code",
   "execution_count": 34,
   "metadata": {
    "colab": {
     "base_uri": "https://localhost:8080/",
     "height": 1000
    },
    "executionInfo": {
     "elapsed": 1104,
     "status": "ok",
     "timestamp": 1642733532851,
     "user": {
      "displayName": "John Edwards",
      "photoUrl": "https://lh3.googleusercontent.com/a-/AOh14GjNdoYCBUMD6WY4cP9VEjQJl3NdSIBREBAeQ1vz=s64",
      "userId": "04096460213798108420"
     },
     "user_tz": 420
    },
    "id": "QwVeDEGIh16l",
    "outputId": "20ef5fb1-00a8-490d-a771-c458beb56a57"
   },
   "outputs": [
    {
     "name": "stdout",
     "output_type": "stream",
     "text": [
      "0.3838383838383838, 0.6161616161616161, 891\n"
     ]
    },
    {
     "data": {
      "text/plain": [
       "(0.0, 100.0)"
      ]
     },
     "execution_count": 34,
     "metadata": {},
     "output_type": "execute_result"
    },
    {
     "data": {
      "image/png": "[encoded data removed]",
      "text/plain": [
       "<Figure size 402.375x360 with 1 Axes>"
      ]
     },
     "metadata": {
      "needs_background": "light"
     },
     "output_type": "display_data"
    }
   ],
   "source": [
    "titanic.shape\n",
    "num_survived = len(titanic[titanic.Survived == True])\n",
    "num_died = len(titanic[titanic.Survived == False])\n",
    "total = num_survived+num_died\n",
    "print(f'{num_survived/total}, {num_died/total}, {num_survived+num_died}')\n",
    "# titanic.columns\n",
    "\n",
    "# plt.figure()\n",
    "# ax = titanic[titanic.Pclass==1].Fare.plot.hist(bins=40, alpha=0.5)\n",
    "# ax.set_xlabel('Fare')\n",
    "# ax.set_ylabel('# of passengers')\n",
    "\n",
    "# ax = titanic[titanic.Pclass==3].Fare.plot.hist(bins=5, alpha=0.5)\n",
    "# ax.set_xlabel('Fare')\n",
    "# ax.set_ylabel('# of passengers')\n",
    "\n",
    "# plt.figure()\n",
    "# ax = titanic.Age[titanic.Pclass==3].plot.hist(bins=40, alpha=0.5)\n",
    "# ax.set_xlabel('Age')\n",
    "# ax.set_ylabel('# of passengers')\n",
    "\n",
    "# titanic.Pclass.unique()\n",
    "\n",
    "sns.displot(data=titanic, x='Fare', hue='Pclass')\n",
    "plt.xlim((0,100))"
   ]
  },
  {
   "cell_type": "markdown",
   "metadata": {
    "id": "eAEnjffqh16m"
   },
   "source": [
    "## Look at summary statistics mean, median, and mode"
   ]
  },
  {
   "cell_type": "code",
   "execution_count": 40,
   "metadata": {
    "id": "ppAF22S7h16n",
    "outputId": "7a72ee69-81c0-4a2e-b97c-3af398f24195"
   },
   "outputs": [
    {
     "data": {
      "text/plain": [
       "0    24.0\n",
       "dtype: float64"
      ]
     },
     "execution_count": 40,
     "metadata": {},
     "output_type": "execute_result"
    }
   ],
   "source": [
    "titanic.Age.mode()"
   ]
  },
  {
   "cell_type": "markdown",
   "metadata": {
    "id": "gWsPKAj7h16n"
   },
   "source": [
    "## Show a bar chart of the classes of passengers"
   ]
  },
  {
   "cell_type": "code",
   "execution_count": 41,
   "metadata": {
    "id": "6Edn37O8h16o",
    "outputId": "26612846-e873-4caf-c3fc-cdd7e847185a"
   },
   "outputs": [
    {
     "data": {
      "text/plain": [
       "<AxesSubplot:xlabel='Pclass', ylabel='count'>"
      ]
     },
     "execution_count": 41,
     "metadata": {},
     "output_type": "execute_result"
    },
    {
     "data": {
      "image/png": "[encoded data removed]",
      "text/plain": [
       "<Figure size 432x288 with 1 Axes>"
      ]
     },
     "metadata": {
      "needs_background": "light"
     },
     "output_type": "display_data"
    }
   ],
   "source": [
    "sns.countplot(x='Pclass', data=titanic)"
   ]
  },
  {
   "cell_type": "markdown",
   "metadata": {
    "id": "I65oQRwgh16p"
   },
   "source": [
    "## Show survival rate for the classes of passengers"
   ]
  },
  {
   "cell_type": "code",
   "execution_count": 46,
   "metadata": {
    "id": "nXXx4UPOh16p"
   },
   "outputs": [
    {
     "data": {
      "text/html": [
       "<div>\n",
       "<style scoped>\n",
       "    .dataframe tbody tr th:only-of-type {\n",
       "        vertical-align: middle;\n",
       "    }\n",
       "\n",
       "    .dataframe tbody tr th {\n",
       "        vertical-align: top;\n",
       "    }\n",
       "\n",
       "    .dataframe thead th {\n",
       "        text-align: right;\n",
       "    }\n",
       "</style>\n",
       "<table border=\"1\" class=\"dataframe\">\n",
       "  <thead>\n",
       "    <tr style=\"text-align: right;\">\n",
       "      <th></th>\n",
       "      <th>Total</th>\n",
       "      <th>Survived</th>\n",
       "      <th>percSurvived</th>\n",
       "    </tr>\n",
       "    <tr>\n",
       "      <th>Pclass</th>\n",
       "      <th></th>\n",
       "      <th></th>\n",
       "      <th></th>\n",
       "    </tr>\n",
       "  </thead>\n",
       "  <tbody>\n",
       "    <tr>\n",
       "      <th>1</th>\n",
       "      <td>216</td>\n",
       "      <td>136</td>\n",
       "      <td>0.629630</td>\n",
       "    </tr>\n",
       "    <tr>\n",
       "      <th>2</th>\n",
       "      <td>184</td>\n",
       "      <td>87</td>\n",
       "      <td>0.472826</td>\n",
       "    </tr>\n",
       "    <tr>\n",
       "      <th>3</th>\n",
       "      <td>491</td>\n",
       "      <td>119</td>\n",
       "      <td>0.242363</td>\n",
       "    </tr>\n",
       "  </tbody>\n",
       "</table>\n",
       "</div>"
      ],
      "text/plain": [
       "        Total  Survived  percSurvived\n",
       "Pclass                               \n",
       "1         216       136      0.629630\n",
       "2         184        87      0.472826\n",
       "3         491       119      0.242363"
      ]
     },
     "execution_count": 46,
     "metadata": {},
     "output_type": "execute_result"
    }
   ],
   "source": [
    "groupedByClass = titanic.groupby('Pclass')\n",
    "countByClass = groupedByClass.agg({'Name':['size'], 'Survived':'sum'})\n",
    "countByClass.columns = ['Total', 'Survived']\n",
    "countByClass['percSurvived'] = countByClass.Survived/countByClass.Total\n",
    "countByClass"
   ]
  },
  {
   "cell_type": "code",
   "execution_count": 48,
   "metadata": {},
   "outputs": [
    {
     "data": {
      "text/plain": [
       "<seaborn.axisgrid.FacetGrid at 0x1312b2df0>"
      ]
     },
     "execution_count": 48,
     "metadata": {},
     "output_type": "execute_result"
    },
    {
     "data": {
      "image/png": "[encoded data removed]",
      "text/plain": [
       "<Figure size 430.5x360 with 1 Axes>"
      ]
     },
     "metadata": {
      "needs_background": "light"
     },
     "output_type": "display_data"
    }
   ],
   "source": [
    "sns.catplot(x='Pclass', hue='Sex', data=titanic, kind='count')"
   ]
  },
  {
   "cell_type": "code",
   "execution_count": 49,
   "metadata": {},
   "outputs": [
    {
     "data": {
      "text/plain": [
       "<seaborn.axisgrid.FacetGrid at 0x132f6ba30>"
      ]
     },
     "execution_count": 49,
     "metadata": {},
     "output_type": "execute_result"
    },
    {
     "data": {
      "image/png": "[encoded data removed]",
      "text/plain": [
       "<Figure size 790.5x360 with 2 Axes>"
      ]
     },
     "metadata": {
      "needs_background": "light"
     },
     "output_type": "display_data"
    }
   ],
   "source": [
    "sns.catplot(x='Pclass', hue='Sex', col='Survived', data=titanic, kind='count')"
   ]
  },
  {
   "cell_type": "code",
   "execution_count": 58,
   "metadata": {},
   "outputs": [
    {
     "name": "stdout",
     "output_type": "stream",
     "text": [
      "0.5398230088495575\n",
      "0.36118251928020567\n"
     ]
    },
    {
     "data": {
      "image/png": "[encoded data removed]",
      "text/plain": [
       "<Figure size 781.25x360 with 2 Axes>"
      ]
     },
     "metadata": {
      "needs_background": "light"
     },
     "output_type": "display_data"
    }
   ],
   "source": [
    "titanic['Minor'] = titanic.Age < 18\n",
    "sns.catplot(x='Pclass', hue='Minor', col='Survived', data=titanic, kind='count')\n",
    "\n",
    "minors_survived = titanic[titanic.Minor & titanic.Survived]\n",
    "minors_died = titanic[titanic.Minor & ~titanic.Survived]\n",
    "print(len(minors_survived)/(len(minors_survived)+len(minors_died)))\n",
    "\n",
    "majors_survived = titanic[~titanic.Minor & titanic.Survived]\n",
    "majors_died = titanic[~titanic.Minor & ~titanic.Survived]\n",
    "print(len(majors_survived)/(len(majors_survived)+len(majors_died)))\n",
    "\n"
   ]
  }
 ],
 "metadata": {
  "colab": {
   "name": "l3a-statistics-titanic-template.ipynb",
   "provenance": []
  },
  "kernelspec": {
   "display_name": "Python 3 (ipykernel)",
   "language": "python",
   "name": "python3"
  },
  "language_info": {
   "codemirror_mode": {
    "name": "ipython",
    "version": 3
   },
   "file_extension": ".py",
   "mimetype": "text/x-python",
   "name": "python",
   "nbconvert_exporter": "python",
   "pygments_lexer": "ipython3",
   "version": "3.8.2"
  }
 },
 "nbformat": 4,
 "nbformat_minor": 1
}
