{
 "cells": [
  {
   "cell_type": "markdown",
   "metadata": {
    "id": "sZOdFZmjkMtB"
   },
   "source": [
    "# Are players named Juan better than players named John?\n",
    "And if so, is it because of their name?"
   ]
  },
  {
   "cell_type": "code",
   "execution_count": 1,
   "metadata": {
    "executionInfo": {
     "elapsed": 457,
     "status": "ok",
     "timestamp": 1642733829055,
     "user": {
      "displayName": "John Edwards",
      "photoUrl": "https://lh3.googleusercontent.com/a-/AOh14GjNdoYCBUMD6WY4cP9VEjQJl3NdSIBREBAeQ1vz=s64",
      "userId": "04096460213798108420"
     },
     "user_tz": 420
    },
    "id": "D0e4DldQkMtH"
   },
   "outputs": [],
   "source": [
    "import pandas as pd\n",
    "import numpy as np\n",
    "from matplotlib import pyplot as plt\n",
    "import scipy.stats as stats\n",
    "import seaborn as sns"
   ]
  },
  {
   "cell_type": "markdown",
   "metadata": {},
   "source": [
    "## Barchart of average number of hits per year"
   ]
  },
  {
   "cell_type": "code",
   "execution_count": 2,
   "metadata": {
    "id": "VRkvu4FQkMtI",
    "outputId": "214287ea-502d-4545-b696-fc6e5f518ab2",
    "scrolled": false
   },
   "outputs": [],
   "source": [
    "people = pd.read_csv('People.csv')\n",
    "people = people[['playerID', 'nameFirst', 'nameLast']]\n",
    "batting = pd.read_csv('Batting.csv')\n",
    "batting = batting[['playerID', 'AB', 'H', 'HR', 'yearID']]\n"
   ]
  },
  {
   "cell_type": "code",
   "execution_count": 3,
   "metadata": {},
   "outputs": [],
   "source": [
    "playerHits = people.join(batting.set_index('playerID'), on='playerID')"
   ]
  },
  {
   "cell_type": "code",
   "execution_count": 7,
   "metadata": {},
   "outputs": [],
   "source": [
    "johnjuan = playerHits[playerHits.nameFirst.isin(['Juan','John']) ]"
   ]
  },
  {
   "cell_type": "code",
   "execution_count": 21,
   "metadata": {},
   "outputs": [
    {
     "data": {
      "text/html": [
       "<div>\n",
       "<style scoped>\n",
       "    .dataframe tbody tr th:only-of-type {\n",
       "        vertical-align: middle;\n",
       "    }\n",
       "\n",
       "    .dataframe tbody tr th {\n",
       "        vertical-align: top;\n",
       "    }\n",
       "\n",
       "    .dataframe thead th {\n",
       "        text-align: right;\n",
       "    }\n",
       "</style>\n",
       "<table border=\"1\" class=\"dataframe\">\n",
       "  <thead>\n",
       "    <tr style=\"text-align: right;\">\n",
       "      <th></th>\n",
       "      <th>nameFirst</th>\n",
       "      <th>H</th>\n",
       "    </tr>\n",
       "    <tr>\n",
       "      <th>nameFirst</th>\n",
       "      <th></th>\n",
       "      <th></th>\n",
       "    </tr>\n",
       "  </thead>\n",
       "  <tbody>\n",
       "    <tr>\n",
       "      <th>John</th>\n",
       "      <td>John</td>\n",
       "      <td>28.043810</td>\n",
       "    </tr>\n",
       "    <tr>\n",
       "      <th>Juan</th>\n",
       "      <td>Juan</td>\n",
       "      <td>37.161644</td>\n",
       "    </tr>\n",
       "  </tbody>\n",
       "</table>\n",
       "</div>"
      ],
      "text/plain": [
       "          nameFirst          H\n",
       "nameFirst                     \n",
       "John           John  28.043810\n",
       "Juan           Juan  37.161644"
      ]
     },
     "execution_count": 21,
     "metadata": {},
     "output_type": "execute_result"
    }
   ],
   "source": [
    "juan = johnjuan[johnjuan.nameFirst=='Juan'].reset_index()\n",
    "john = johnjuan[johnjuan.nameFirst=='John'].reset_index()\n",
    "\n",
    "group = johnjuan.groupby('nameFirst').agg({'nameFirst':'first', 'H':'mean'})\n",
    "#group.columns = ['nameFirst', 'H']\n",
    "group\n",
    "#plt.figure()\n",
    "#sns.barploy(data=johnjuan, x='nameFirst', y='')"
   ]
  },
  {
   "cell_type": "code",
   "execution_count": 14,
   "metadata": {},
   "outputs": [
    {
     "data": {
      "text/plain": [
       "<seaborn.axisgrid.FacetGrid at 0x7f5d1d403fd0>"
      ]
     },
     "execution_count": 14,
     "metadata": {},
     "output_type": "execute_result"
    },
    {
     "data": {
      "image/png": "[encoded data removed]",
      "text/plain": [
       "<Figure size 417.75x360 with 1 Axes>"
      ]
     },
     "metadata": {
      "needs_background": "light"
     },
     "output_type": "display_data"
    }
   ],
   "source": [
    "sns.displot(data=johnjuan, x='H', hue='nameFirst', common_norm=False, kind='kde') \n",
    "#common_norm=False means each curve gets normalized individually\n",
    "\n",
    "#are these curves drawn from the same population? use a t-test.\n",
    "\n"
   ]
  },
  {
   "cell_type": "code",
   "execution_count": 22,
   "metadata": {},
   "outputs": [
    {
     "data": {
      "text/html": [
       "<div>\n",
       "<style scoped>\n",
       "    .dataframe tbody tr th:only-of-type {\n",
       "        vertical-align: middle;\n",
       "    }\n",
       "\n",
       "    .dataframe tbody tr th {\n",
       "        vertical-align: top;\n",
       "    }\n",
       "\n",
       "    .dataframe thead th {\n",
       "        text-align: right;\n",
       "    }\n",
       "</style>\n",
       "<table border=\"1\" class=\"dataframe\">\n",
       "  <thead>\n",
       "    <tr style=\"text-align: right;\">\n",
       "      <th></th>\n",
       "      <th>index</th>\n",
       "      <th>playerID</th>\n",
       "      <th>nameFirst</th>\n",
       "      <th>nameLast</th>\n",
       "      <th>AB</th>\n",
       "      <th>H</th>\n",
       "      <th>HR</th>\n",
       "      <th>yearID</th>\n",
       "    </tr>\n",
       "  </thead>\n",
       "  <tbody>\n",
       "    <tr>\n",
       "      <th>0</th>\n",
       "      <td>6</td>\n",
       "      <td>abadijo01</td>\n",
       "      <td>John</td>\n",
       "      <td>Abadie</td>\n",
       "      <td>45.0</td>\n",
       "      <td>10.0</td>\n",
       "      <td>0.0</td>\n",
       "      <td>1875.0</td>\n",
       "    </tr>\n",
       "    <tr>\n",
       "      <th>1</th>\n",
       "      <td>6</td>\n",
       "      <td>abadijo01</td>\n",
       "      <td>John</td>\n",
       "      <td>Abadie</td>\n",
       "      <td>4.0</td>\n",
       "      <td>1.0</td>\n",
       "      <td>0.0</td>\n",
       "      <td>1875.0</td>\n",
       "    </tr>\n",
       "    <tr>\n",
       "      <th>2</th>\n",
       "      <td>136</td>\n",
       "      <td>akejo01</td>\n",
       "      <td>John</td>\n",
       "      <td>Ake</td>\n",
       "      <td>52.0</td>\n",
       "      <td>10.0</td>\n",
       "      <td>0.0</td>\n",
       "      <td>1884.0</td>\n",
       "    </tr>\n",
       "    <tr>\n",
       "      <th>3</th>\n",
       "      <td>214</td>\n",
       "      <td>allenjo01</td>\n",
       "      <td>John</td>\n",
       "      <td>Allen</td>\n",
       "      <td>0.0</td>\n",
       "      <td>0.0</td>\n",
       "      <td>0.0</td>\n",
       "      <td>1914.0</td>\n",
       "    </tr>\n",
       "    <tr>\n",
       "      <th>4</th>\n",
       "      <td>344</td>\n",
       "      <td>anderjo01</td>\n",
       "      <td>John</td>\n",
       "      <td>Anderson</td>\n",
       "      <td>63.0</td>\n",
       "      <td>19.0</td>\n",
       "      <td>1.0</td>\n",
       "      <td>1894.0</td>\n",
       "    </tr>\n",
       "    <tr>\n",
       "      <th>...</th>\n",
       "      <td>...</td>\n",
       "      <td>...</td>\n",
       "      <td>...</td>\n",
       "      <td>...</td>\n",
       "      <td>...</td>\n",
       "      <td>...</td>\n",
       "      <td>...</td>\n",
       "      <td>...</td>\n",
       "    </tr>\n",
       "    <tr>\n",
       "      <th>1968</th>\n",
       "      <td>19151</td>\n",
       "      <td>wyattjo02</td>\n",
       "      <td>John</td>\n",
       "      <td>Wyatt</td>\n",
       "      <td>0.0</td>\n",
       "      <td>0.0</td>\n",
       "      <td>0.0</td>\n",
       "      <td>1968.0</td>\n",
       "    </tr>\n",
       "    <tr>\n",
       "      <th>1969</th>\n",
       "      <td>19151</td>\n",
       "      <td>wyattjo02</td>\n",
       "      <td>John</td>\n",
       "      <td>Wyatt</td>\n",
       "      <td>1.0</td>\n",
       "      <td>0.0</td>\n",
       "      <td>0.0</td>\n",
       "      <td>1968.0</td>\n",
       "    </tr>\n",
       "    <tr>\n",
       "      <th>1970</th>\n",
       "      <td>19151</td>\n",
       "      <td>wyattjo02</td>\n",
       "      <td>John</td>\n",
       "      <td>Wyatt</td>\n",
       "      <td>2.0</td>\n",
       "      <td>0.0</td>\n",
       "      <td>0.0</td>\n",
       "      <td>1968.0</td>\n",
       "    </tr>\n",
       "    <tr>\n",
       "      <th>1971</th>\n",
       "      <td>19151</td>\n",
       "      <td>wyattjo02</td>\n",
       "      <td>John</td>\n",
       "      <td>Wyatt</td>\n",
       "      <td>1.0</td>\n",
       "      <td>0.0</td>\n",
       "      <td>0.0</td>\n",
       "      <td>1969.0</td>\n",
       "    </tr>\n",
       "    <tr>\n",
       "      <th>1972</th>\n",
       "      <td>19253</td>\n",
       "      <td>youngjo01</td>\n",
       "      <td>John</td>\n",
       "      <td>Young</td>\n",
       "      <td>4.0</td>\n",
       "      <td>2.0</td>\n",
       "      <td>0.0</td>\n",
       "      <td>1971.0</td>\n",
       "    </tr>\n",
       "  </tbody>\n",
       "</table>\n",
       "<p>1973 rows × 8 columns</p>\n",
       "</div>"
      ],
      "text/plain": [
       "      index   playerID nameFirst  nameLast    AB     H   HR  yearID\n",
       "0         6  abadijo01      John    Abadie  45.0  10.0  0.0  1875.0\n",
       "1         6  abadijo01      John    Abadie   4.0   1.0  0.0  1875.0\n",
       "2       136    akejo01      John       Ake  52.0  10.0  0.0  1884.0\n",
       "3       214  allenjo01      John     Allen   0.0   0.0  0.0  1914.0\n",
       "4       344  anderjo01      John  Anderson  63.0  19.0  1.0  1894.0\n",
       "...     ...        ...       ...       ...   ...   ...  ...     ...\n",
       "1968  19151  wyattjo02      John     Wyatt   0.0   0.0  0.0  1968.0\n",
       "1969  19151  wyattjo02      John     Wyatt   1.0   0.0  0.0  1968.0\n",
       "1970  19151  wyattjo02      John     Wyatt   2.0   0.0  0.0  1968.0\n",
       "1971  19151  wyattjo02      John     Wyatt   1.0   0.0  0.0  1969.0\n",
       "1972  19253  youngjo01      John     Young   4.0   2.0  0.0  1971.0\n",
       "\n",
       "[1973 rows x 8 columns]"
      ]
     },
     "execution_count": 22,
     "metadata": {},
     "output_type": "execute_result"
    }
   ],
   "source": [
    "john"
   ]
  },
  {
   "cell_type": "code",
   "execution_count": null,
   "metadata": {},
   "outputs": [],
   "source": []
  },
  {
   "cell_type": "code",
   "execution_count": 15,
   "metadata": {},
   "outputs": [],
   "source": [
    "#called a Student t test.\n",
    "\n",
    "import scipy.stats as stats"
   ]
  },
  {
   "cell_type": "code",
   "execution_count": 23,
   "metadata": {},
   "outputs": [
    {
     "data": {
      "text/plain": [
       "Ttest_indResult(statistic=nan, pvalue=nan)"
      ]
     },
     "execution_count": 23,
     "metadata": {},
     "output_type": "execute_result"
    }
   ],
   "source": [
    "stats.ttest_ind(john.H, juan.H)"
   ]
  },
  {
   "cell_type": "code",
   "execution_count": null,
   "metadata": {},
   "outputs": [],
   "source": []
  },
  {
   "cell_type": "code",
   "execution_count": null,
   "metadata": {},
   "outputs": [],
   "source": []
  },
  {
   "cell_type": "markdown",
   "metadata": {
    "id": "LnL7tHFFkMtK"
   },
   "source": [
    "So, why are players named Juan better? It isn't because of their name (there's correlation, but it doesn't mean causation). It could be because players named Juan come from other countries, and Major League Baseball isn't going to go to the trouble of importing a player unless he is really good."
   ]
  },
  {
   "cell_type": "markdown",
   "metadata": {
    "id": "wb163oyEkMtL"
   },
   "source": [
    "# Are you a better hitter because you get more at-bats?"
   ]
  },
  {
   "cell_type": "code",
   "execution_count": 31,
   "metadata": {
    "id": "Mwbd0_UmkMtL",
    "outputId": "7f8ab849-0cde-47e0-a33f-9a3cada463c6"
   },
   "outputs": [
    {
     "data": {
      "text/plain": [
       "<AxesSubplot:xlabel='AB', ylabel='avg'>"
      ]
     },
     "execution_count": 31,
     "metadata": {},
     "output_type": "execute_result"
    },
    {
     "data": {
      "image/png": "[encoded data removed]",
      "text/plain": [
       "<Figure size 432x288 with 1 Axes>"
      ]
     },
     "metadata": {
      "needs_background": "light"
     },
     "output_type": "display_data"
    }
   ],
   "source": [
    "batting['avg'] = batting.H/batting.AB\n",
    "sns.regplot(data=batting, x='AB', y='avg', marker='o', color='red', scatter_kws={'s':1}, line_kws={'color':'blue'})"
   ]
  },
  {
   "cell_type": "code",
   "execution_count": 33,
   "metadata": {},
   "outputs": [
    {
     "data": {
      "text/plain": [
       "(0.3805391828161141, 0.0)"
      ]
     },
     "execution_count": 33,
     "metadata": {},
     "output_type": "execute_result"
    }
   ],
   "source": [
    "batting = batting.dropna()\n",
    "stats.pearsonr(batting.avg,batting.AB)"
   ]
  },
  {
   "cell_type": "code",
   "execution_count": null,
   "metadata": {},
   "outputs": [],
   "source": []
  },
  {
   "cell_type": "code",
   "execution_count": null,
   "metadata": {},
   "outputs": [],
   "source": []
  },
  {
   "cell_type": "markdown",
   "metadata": {
    "id": "u9fKEhOckMtM"
   },
   "source": [
    "No, actually it's probably the opposite: you get more at-bats because you are a better hitter."
   ]
  },
  {
   "cell_type": "markdown",
   "metadata": {
    "id": "ZZMIV6BxkMtN"
   },
   "source": [
    "# T distribution\n",
    "\n",
    "The t test computes t, which measures the spread between means. What are the chances that we re-sampled from a population and got the same value of t? This is what the p value is important for.\n",
    "\n",
    "http://blog.minitab.com/blog/statistics-and-quality-data-analysis/what-are-t-values-and-p-values-in-statistics"
   ]
  },
  {
   "cell_type": "code",
   "execution_count": null,
   "metadata": {
    "id": "xLM0BeE7kMtO"
   },
   "outputs": [],
   "source": [
    "# t distribution\n",
    "from scipy.stats import t\n",
    "import matplotlib.pyplot as plt\n",
    "fig, ax = plt.subplots(1, 1)\n",
    "\n",
    "df = 2.74335149908\n",
    "mean, var, skew, kurt = t.stats(df, moments='mvsk')\n",
    "x = np.linspace(t.ppf(0.01, df), t.ppf(0.99, df), 100)\n",
    "ax.plot(x, t.pdf(x, df), 'k-', lw=2, alpha=0.6, label='t pdf')\n",
    "ax.set_title('t pdf')"
   ]
  }
 ],
 "metadata": {
  "colab": {
   "name": "l3c-statistics-john-juan-template.ipynb",
   "provenance": []
  },
  "kernelspec": {
   "display_name": "Python 3",
   "language": "python",
   "name": "python3"
  },
  "language_info": {
   "codemirror_mode": {
    "name": "ipython",
    "version": 3
   },
   "file_extension": ".py",
   "mimetype": "text/x-python",
   "name": "python",
   "nbconvert_exporter": "python",
   "pygments_lexer": "ipython3",
   "version": "3.8.8"
  }
 },
 "nbformat": 4,
 "nbformat_minor": 1
}
