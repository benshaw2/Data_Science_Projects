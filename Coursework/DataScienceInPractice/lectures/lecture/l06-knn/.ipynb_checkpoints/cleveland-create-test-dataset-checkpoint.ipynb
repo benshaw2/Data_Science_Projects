{
 "cells": [
  {
   "cell_type": "code",
   "execution_count": 1,
   "metadata": {},
   "outputs": [],
   "source": [
    "import pandas as pd\n",
    "import numpy as np\n",
    "from sklearn.neighbors import NearestNeighbors\n",
    "import random\n",
    "\n",
    "import matplotlib.pyplot as plt"
   ]
  },
  {
   "cell_type": "markdown",
   "metadata": {},
   "source": [
    "# This is the code to test the models of assignment 4\n",
    "\n",
    "This dataset was obtained from https://archive.ics.uci.edu/ml/datasets/Heart+Disease.\n"
   ]
  },
  {
   "cell_type": "code",
   "execution_count": null,
   "metadata": {},
   "outputs": [],
   "source": [
    "# Comma-separated values\n",
    "df = pd.read_csv('cleveland.csv')\n",
    "\n",
    "# Rename 'num' column to 'disease' and change 1,2,3,4 to 1\n",
    "df = df.rename({'num':'disease'}, axis=1)\n",
    "df['disease'] = df.disease.apply(lambda x: min(x, 1))\n",
    "display(df.head(5))\n"
   ]
  },
  {
   "cell_type": "markdown",
   "metadata": {},
   "source": [
    "# Create the test dataset"
   ]
  },
  {
   "cell_type": "code",
   "execution_count": null,
   "metadata": {},
   "outputs": [],
   "source": [
    "print(list(df.columns) + ['test'])\n",
    "test_size = len(df)//2\n",
    "last_test_df = pd.DataFrame(columns = list(df.columns) + ['test'])\n",
    "for i in range(10):\n",
    "    t = df.sample(test_size)\n",
    "    t['test'] = i\n",
    "    last_test_df = last_test_df.append(t)\n",
    "    \n",
    "last_test_df\n",
    "last_test_df.to_csv('cleveland-test.csv')"
   ]
  }
 ],
 "metadata": {
  "kernelspec": {
   "display_name": "Python 3",
   "language": "python",
   "name": "python3"
  },
  "language_info": {
   "codemirror_mode": {
    "name": "ipython",
    "version": 3
   },
   "file_extension": ".py",
   "mimetype": "text/x-python",
   "name": "python",
   "nbconvert_exporter": "python",
   "pygments_lexer": "ipython3",
   "version": "3.6.0"
  }
 },
 "nbformat": 4,
 "nbformat_minor": 2
}
