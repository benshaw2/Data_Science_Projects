{
 "cells": [
  {
   "cell_type": "markdown",
   "metadata": {},
   "source": [
    "# Introduction to Logistic Regression\n",
    "\n",
    "## Motivation\n",
    "\n",
    "Logistic regression is like linear regression except for binary, categorical predicted variables instead of quantitative variables.\n"
   ]
  },
  {
   "cell_type": "code",
   "execution_count": 1,
   "metadata": {},
   "outputs": [],
   "source": [
    "# imports\n",
    "import pandas as pd\n",
    "import matplotlib.pyplot as plt\n",
    "from sklearn.linear_model import LinearRegression\n",
    "import statsmodels.formula.api as smf\n",
    "import numpy as np\n",
    "from sklearn.metrics import precision_recall_fscore_support\n",
    "import random\n"
   ]
  },
  {
   "cell_type": "markdown",
   "metadata": {},
   "source": [
    "## Load the data\n",
    "This data is of data scientists at a certain company. Each data scientist has a number of years of experience, a salary, and whether they paid for a premium subscription to a data science social networking website."
   ]
  },
  {
   "cell_type": "code",
   "execution_count": 2,
   "metadata": {},
   "outputs": [
    {
     "data": {
      "text/html": [
       "<div>\n",
       "<style scoped>\n",
       "    .dataframe tbody tr th:only-of-type {\n",
       "        vertical-align: middle;\n",
       "    }\n",
       "\n",
       "    .dataframe tbody tr th {\n",
       "        vertical-align: top;\n",
       "    }\n",
       "\n",
       "    .dataframe thead th {\n",
       "        text-align: right;\n",
       "    }\n",
       "</style>\n",
       "<table border=\"1\" class=\"dataframe\">\n",
       "  <thead>\n",
       "    <tr style=\"text-align: right;\">\n",
       "      <th></th>\n",
       "      <th>experience</th>\n",
       "      <th>salary</th>\n",
       "      <th>premium</th>\n",
       "    </tr>\n",
       "  </thead>\n",
       "  <tbody>\n",
       "    <tr>\n",
       "      <th>0</th>\n",
       "      <td>0.7</td>\n",
       "      <td>48000</td>\n",
       "      <td>1</td>\n",
       "    </tr>\n",
       "    <tr>\n",
       "      <th>1</th>\n",
       "      <td>1.9</td>\n",
       "      <td>48000</td>\n",
       "      <td>0</td>\n",
       "    </tr>\n",
       "    <tr>\n",
       "      <th>2</th>\n",
       "      <td>2.5</td>\n",
       "      <td>60000</td>\n",
       "      <td>1</td>\n",
       "    </tr>\n",
       "    <tr>\n",
       "      <th>3</th>\n",
       "      <td>4.2</td>\n",
       "      <td>63000</td>\n",
       "      <td>0</td>\n",
       "    </tr>\n",
       "    <tr>\n",
       "      <th>4</th>\n",
       "      <td>6.0</td>\n",
       "      <td>76000</td>\n",
       "      <td>0</td>\n",
       "    </tr>\n",
       "  </tbody>\n",
       "</table>\n",
       "</div>"
      ],
      "text/plain": [
       "   experience  salary  premium\n",
       "0         0.7   48000        1\n",
       "1         1.9   48000        0\n",
       "2         2.5   60000        1\n",
       "3         4.2   63000        0\n",
       "4         6.0   76000        0"
      ]
     },
     "metadata": {},
     "output_type": "display_data"
    },
    {
     "data": {
      "text/plain": [
       "Text(0, 0.5, 'subscribe')"
      ]
     },
     "execution_count": 2,
     "metadata": {},
     "output_type": "execute_result"
    },
    {
     "data": {
      "image/png": "[encoded data removed]",
      "text/plain": [
       "<Figure size 432x288 with 1 Axes>"
      ]
     },
     "metadata": {
      "needs_background": "light"
     },
     "output_type": "display_data"
    }
   ],
   "source": [
    "data = [(0.7,48000,1),(1.9,48000,0),(2.5,60000,1),(4.2,63000,0),(6,76000,0),(6.5,69000,0),(7.5,76000,0),(8.1,88000,0),(8.7,83000,1),(10,83000,1),(0.8,43000,0),(1.8,60000,0),(10,79000,1),(6.1,76000,0),(1.4,50000,0),(9.1,92000,0),(5.8,75000,0),(5.2,69000,0),(1,56000,0),(6,67000,0),(4.9,74000,0),(6.4,63000,1),(6.2,82000,0),(3.3,58000,0),(9.3,90000,1),(5.5,57000,1),(9.1,102000,0),(2.4,54000,0),(8.2,65000,1),(5.3,82000,0),(9.8,107000,0),(1.8,64000,0),(0.6,46000,1),(0.8,48000,0),(8.6,84000,1),(0.6,45000,0),(0.5,30000,1),(7.3,89000,0),(2.5,48000,1),(5.6,76000,0),(7.4,77000,0),(2.7,56000,0),(0.7,48000,0),(1.2,42000,0),(0.2,32000,1),(4.7,56000,1),(2.8,44000,1),(7.6,78000,0),(1.1,63000,0),(8,79000,1),(2.7,56000,0),(6,52000,1),(4.6,56000,0),(2.5,51000,0),(5.7,71000,0),(2.9,65000,0),(1.1,33000,1),(3,62000,0),(4,71000,0),(2.4,61000,0),(7.5,75000,0),(9.7,81000,1),(3.2,62000,0),(7.9,88000,0),(4.7,44000,1),(2.5,55000,0),(1.6,41000,0),(6.7,64000,1),(6.9,66000,1),(7.9,78000,1),(8.1,102000,0),(5.3,48000,1),(8.5,66000,1),(0.2,56000,0),(6,69000,0),(7.5,77000,0),(8,86000,0),(4.4,68000,0),(4.9,75000,0),(1.5,60000,0),(2.2,50000,0),(3.4,49000,1),(4.2,70000,0),(7.7,98000,0),(8.2,85000,0),(5.4,88000,0),(0.1,46000,0),(1.5,37000,0),(6.3,86000,0),(3.7,57000,0),(8.4,85000,0),(2,42000,0),(5.8,69000,1),(2.7,64000,0),(3.1,63000,0),(1.9,48000,0),(10,72000,1),(0.2,45000,0),(8.6,95000,0),(1.5,64000,0),(9.8,95000,0),(5.3,65000,0),(7.5,80000,0),(9.9,91000,0),(9.7,50000,1),(2.8,68000,0),(3.6,58000,0),(3.9,74000,0),(4.4,76000,0),(2.5,49000,0),(7.2,81000,0),(5.2,60000,1),(2.4,62000,0),(8.9,94000,0),(2.4,63000,0),(6.8,69000,1),(6.5,77000,0),(7,86000,0),(9.4,94000,0),(7.8,72000,1),(0.2,53000,0),(10,97000,0),(5.5,65000,0),(7.7,71000,1),(8.1,66000,1),(9.8,91000,0),(8,84000,0),(2.7,55000,0),(2.8,62000,0),(9.4,79000,0),(2.5,57000,0),(7.4,70000,1),(2.1,47000,0),(5.3,62000,1),(6.3,79000,0),(6.8,58000,1),(5.7,80000,0),(2.2,61000,0),(4.8,62000,0),(3.7,64000,0),(4.1,85000,0),(2.3,51000,0),(3.5,58000,0),(0.9,43000,0),(0.9,54000,0),(4.5,74000,0),(6.5,55000,1),(4.1,41000,1),(7.1,73000,0),(1.1,66000,0),(9.1,81000,1),(8,69000,1),(7.3,72000,1),(3.3,50000,0),(3.9,58000,0),(2.6,49000,0),(1.6,78000,0),(0.7,56000,0),(2.1,36000,1),(7.5,90000,0),(4.8,59000,1),(8.9,95000,0),(6.2,72000,0),(6.3,63000,0),(9.1,100000,0),(7.3,61000,1),(5.6,74000,0),(0.5,66000,0),(1.1,59000,0),(5.1,61000,0),(6.2,70000,0),(6.6,56000,1),(6.3,76000,0),(6.5,78000,0),(5.1,59000,0),(9.5,74000,1),(4.5,64000,0),(2,54000,0),(1,52000,0),(4,69000,0),(6.5,76000,0),(3,60000,0),(4.5,63000,0),(7.8,70000,0),(3.9,60000,1),(0.8,51000,0),(4.2,78000,0),(1.1,54000,0),(6.2,60000,0),(2.9,59000,0),(2.1,52000,0),(8.2,87000,0),(4.8,73000,0),(2.2,42000,1),(9.1,98000,0),(6.5,84000,0),(6.9,73000,0),(5.1,72000,0),(9.1,69000,1),(9.8,79000,1),]\n",
    "data = list(map(list, data)) # change tuples to lists\n",
    "\n",
    "df = pd.DataFrame({'experience':[row[0] for row in data],\n",
    "                   'salary':[row[1] for row in data],\n",
    "                  'premium':[row[2] for row in data]})\n",
    "display(df.head())\n",
    "\n",
    "plt.scatter(df.experience, df.premium)\n",
    "\n",
    "# Standardize input variables\n",
    "df.experience = (df.experience - df.experience.mean()) / df.experience.std()\n",
    "df.salary = (df.salary - df.salary.mean()) / df.salary.std()\n",
    "plt.xlabel('experience')\n",
    "plt.ylabel('subscribe')\n"
   ]
  },
  {
   "cell_type": "markdown",
   "metadata": {},
   "source": [
    "## Goal\n",
    "We want to predict whether a given data scientist is going to sign up for a premium subscription to the social networking site. Try linear regression!"
   ]
  },
  {
   "cell_type": "code",
   "execution_count": 3,
   "metadata": {},
   "outputs": [
    {
     "data": {
      "text/html": [
       "<div>\n",
       "<style scoped>\n",
       "    .dataframe tbody tr th:only-of-type {\n",
       "        vertical-align: middle;\n",
       "    }\n",
       "\n",
       "    .dataframe tbody tr th {\n",
       "        vertical-align: top;\n",
       "    }\n",
       "\n",
       "    .dataframe thead th {\n",
       "        text-align: right;\n",
       "    }\n",
       "</style>\n",
       "<table border=\"1\" class=\"dataframe\">\n",
       "  <thead>\n",
       "    <tr style=\"text-align: right;\">\n",
       "      <th></th>\n",
       "      <th>experience</th>\n",
       "      <th>salary</th>\n",
       "      <th>premium</th>\n",
       "    </tr>\n",
       "  </thead>\n",
       "  <tbody>\n",
       "    <tr>\n",
       "      <th>0</th>\n",
       "      <td>-1.509461</td>\n",
       "      <td>-1.203582</td>\n",
       "      <td>1</td>\n",
       "    </tr>\n",
       "    <tr>\n",
       "      <th>1</th>\n",
       "      <td>-1.088020</td>\n",
       "      <td>-1.203582</td>\n",
       "      <td>0</td>\n",
       "    </tr>\n",
       "    <tr>\n",
       "      <th>2</th>\n",
       "      <td>-0.877300</td>\n",
       "      <td>-0.431230</td>\n",
       "      <td>1</td>\n",
       "    </tr>\n",
       "    <tr>\n",
       "      <th>3</th>\n",
       "      <td>-0.280258</td>\n",
       "      <td>-0.238142</td>\n",
       "      <td>0</td>\n",
       "    </tr>\n",
       "    <tr>\n",
       "      <th>4</th>\n",
       "      <td>0.351903</td>\n",
       "      <td>0.598573</td>\n",
       "      <td>0</td>\n",
       "    </tr>\n",
       "    <tr>\n",
       "      <th>...</th>\n",
       "      <td>...</td>\n",
       "      <td>...</td>\n",
       "      <td>...</td>\n",
       "    </tr>\n",
       "    <tr>\n",
       "      <th>195</th>\n",
       "      <td>0.527504</td>\n",
       "      <td>1.113474</td>\n",
       "      <td>0</td>\n",
       "    </tr>\n",
       "    <tr>\n",
       "      <th>196</th>\n",
       "      <td>0.667984</td>\n",
       "      <td>0.405485</td>\n",
       "      <td>0</td>\n",
       "    </tr>\n",
       "    <tr>\n",
       "      <th>197</th>\n",
       "      <td>0.035822</td>\n",
       "      <td>0.341122</td>\n",
       "      <td>0</td>\n",
       "    </tr>\n",
       "    <tr>\n",
       "      <th>198</th>\n",
       "      <td>1.440626</td>\n",
       "      <td>0.148034</td>\n",
       "      <td>1</td>\n",
       "    </tr>\n",
       "    <tr>\n",
       "      <th>199</th>\n",
       "      <td>1.686467</td>\n",
       "      <td>0.791661</td>\n",
       "      <td>1</td>\n",
       "    </tr>\n",
       "  </tbody>\n",
       "</table>\n",
       "<p>200 rows × 3 columns</p>\n",
       "</div>"
      ],
      "text/plain": [
       "     experience    salary  premium\n",
       "0     -1.509461 -1.203582        1\n",
       "1     -1.088020 -1.203582        0\n",
       "2     -0.877300 -0.431230        1\n",
       "3     -0.280258 -0.238142        0\n",
       "4      0.351903  0.598573        0\n",
       "..          ...       ...      ...\n",
       "195    0.527504  1.113474        0\n",
       "196    0.667984  0.405485        0\n",
       "197    0.035822  0.341122        0\n",
       "198    1.440626  0.148034        1\n",
       "199    1.686467  0.791661        1\n",
       "\n",
       "[200 rows x 3 columns]"
      ]
     },
     "execution_count": 3,
     "metadata": {},
     "output_type": "execute_result"
    }
   ],
   "source": [
    "df"
   ]
  },
  {
   "cell_type": "code",
   "execution_count": 4,
   "metadata": {},
   "outputs": [
    {
     "name": "stdout",
     "output_type": "stream",
     "text": [
      "0.2599999999999998\n",
      "[ 0.43886522 -0.42754513]\n"
     ]
    }
   ],
   "source": [
    "X = df[['experience', 'salary']]\n",
    "y = df.premium\n",
    "\n",
    "lm = LinearRegression()\n",
    "lm.fit(X, y)\n",
    "\n",
    "print(lm.intercept_)\n",
    "print(lm.coef_)\n"
   ]
  },
  {
   "cell_type": "code",
   "execution_count": 5,
   "metadata": {},
   "outputs": [
    {
     "data": {
      "text/html": [
       "<div>\n",
       "<style scoped>\n",
       "    .dataframe tbody tr th:only-of-type {\n",
       "        vertical-align: middle;\n",
       "    }\n",
       "\n",
       "    .dataframe tbody tr th {\n",
       "        vertical-align: top;\n",
       "    }\n",
       "\n",
       "    .dataframe thead th {\n",
       "        text-align: right;\n",
       "    }\n",
       "</style>\n",
       "<table border=\"1\" class=\"dataframe\">\n",
       "  <thead>\n",
       "    <tr style=\"text-align: right;\">\n",
       "      <th></th>\n",
       "      <th>experience</th>\n",
       "      <th>salary</th>\n",
       "    </tr>\n",
       "  </thead>\n",
       "  <tbody>\n",
       "    <tr>\n",
       "      <th>0</th>\n",
       "      <td>-1.509461</td>\n",
       "      <td>-1.203582</td>\n",
       "    </tr>\n",
       "    <tr>\n",
       "      <th>1</th>\n",
       "      <td>-1.088020</td>\n",
       "      <td>-1.203582</td>\n",
       "    </tr>\n",
       "    <tr>\n",
       "      <th>2</th>\n",
       "      <td>-0.877300</td>\n",
       "      <td>-0.431230</td>\n",
       "    </tr>\n",
       "    <tr>\n",
       "      <th>3</th>\n",
       "      <td>-0.280258</td>\n",
       "      <td>-0.238142</td>\n",
       "    </tr>\n",
       "    <tr>\n",
       "      <th>4</th>\n",
       "      <td>0.351903</td>\n",
       "      <td>0.598573</td>\n",
       "    </tr>\n",
       "    <tr>\n",
       "      <th>...</th>\n",
       "      <td>...</td>\n",
       "      <td>...</td>\n",
       "    </tr>\n",
       "    <tr>\n",
       "      <th>195</th>\n",
       "      <td>0.527504</td>\n",
       "      <td>1.113474</td>\n",
       "    </tr>\n",
       "    <tr>\n",
       "      <th>196</th>\n",
       "      <td>0.667984</td>\n",
       "      <td>0.405485</td>\n",
       "    </tr>\n",
       "    <tr>\n",
       "      <th>197</th>\n",
       "      <td>0.035822</td>\n",
       "      <td>0.341122</td>\n",
       "    </tr>\n",
       "    <tr>\n",
       "      <th>198</th>\n",
       "      <td>1.440626</td>\n",
       "      <td>0.148034</td>\n",
       "    </tr>\n",
       "    <tr>\n",
       "      <th>199</th>\n",
       "      <td>1.686467</td>\n",
       "      <td>0.791661</td>\n",
       "    </tr>\n",
       "  </tbody>\n",
       "</table>\n",
       "<p>200 rows × 2 columns</p>\n",
       "</div>"
      ],
      "text/plain": [
       "     experience    salary\n",
       "0     -1.509461 -1.203582\n",
       "1     -1.088020 -1.203582\n",
       "2     -0.877300 -0.431230\n",
       "3     -0.280258 -0.238142\n",
       "4      0.351903  0.598573\n",
       "..          ...       ...\n",
       "195    0.527504  1.113474\n",
       "196    0.667984  0.405485\n",
       "197    0.035822  0.341122\n",
       "198    1.440626  0.148034\n",
       "199    1.686467  0.791661\n",
       "\n",
       "[200 rows x 2 columns]"
      ]
     },
     "metadata": {},
     "output_type": "display_data"
    },
    {
     "data": {
      "text/plain": [
       "array([ 1.12135485e-01,  2.97091319e-01,  5.93538584e-02,  2.38820779e-01,\n",
       "        1.58521204e-01,  4.28211771e-01,  3.89715996e-01,  1.51978536e-01,\n",
       "        3.82046193e-01,  5.82415013e-01,  2.65138212e-01, -4.85370445e-02,\n",
       "        6.92486805e-01,  1.73934190e-01,  1.64990492e-01,  1.96036605e-01,\n",
       "        1.55213180e-01,  2.27842951e-01, -6.17691413e-02,  4.06182737e-01,\n",
       "        4.40142526e-02,  5.77906474e-01,  2.42394877e-02,  2.37693644e-01,\n",
       "        2.81898473e-01,  6.04297287e-01, -7.91428759e-02,  2.09048561e-01,\n",
       "        8.00304328e-01, -1.14477388e-01, -1.08841713e-01, -1.58608837e-01,\n",
       "        1.51758395e-01,  1.27548471e-01,  3.39115259e-01,  1.79276343e-01,\n",
       "        5.76632578e-01,  1.15669866e-03,  3.89569235e-01,  9.68692594e-02,\n",
       "        3.46785062e-01,  2.00251623e-01,  1.12135485e-01,  3.54308104e-01,\n",
       "        4.75357724e-01,  5.08511346e-01,  5.45879986e-01,  3.50093086e-01,\n",
       "       -2.38981792e-01,  3.84227082e-01,  2.00251623e-01,  8.18951958e-01,\n",
       "        4.93098360e-01,  3.07015391e-01,  2.49871986e-01, -1.65839374e-02,\n",
       "        5.86556651e-01,  8.13828930e-02, -1.21487784e-02,  1.64229242e-02,\n",
       "        4.17233944e-01,  5.91211951e-01,  1.12208865e-01,  1.21152564e-01,\n",
       "        8.38726723e-01,  1.96943599e-01,  4.43477997e-01,  5.96627484e-01,\n",
       "        5.72417560e-01,  3.96332044e-01, -2.33272737e-01,  8.21132847e-01,\n",
       "        8.19025338e-01, -1.85073030e-01,  3.51146841e-01,  3.62198048e-01,\n",
       "        1.91601446e-01,  1.32057010e-01,  1.64963045e-02, -9.47760029e-02,\n",
       "        2.88294381e-01,  5.00768163e-01,  4.61951420e-02, -1.84852890e-01,\n",
       "        2.49945366e-01, -2.64172090e-01,  7.46934643e-02,  5.38136803e-01,\n",
       "       -7.04193185e-02,  3.26863536e-01,  2.80771338e-01,  4.77611993e-01,\n",
       "        3.20320868e-01, -1.98919616e-02,  6.92779310e-02,  2.97091319e-01,\n",
       "        8.85112442e-01,  1.17624399e-01,  3.64178299e-02, -2.04847795e-01,\n",
       "        2.21373664e-01,  3.53327730e-01,  2.79644204e-01,  3.46858442e-01,\n",
       "        1.44426834e+00, -1.14550768e-01,  2.83932602e-01, -1.10115609e-01,\n",
       "       -8.80865743e-02,  3.62051287e-01,  2.05887297e-01,  4.75504484e-01,\n",
       "       -1.10950239e-02,  1.10174736e-01, -3.86129719e-02,  4.74450730e-01,\n",
       "        2.08068187e-01,  3.74715845e-02,  1.87239667e-01,  5.46026747e-01,\n",
       "       -1.02519186e-01,  1.97163740e-01,  3.84153702e-01,  5.58131709e-01,\n",
       "        7.57373394e-01,  3.31445456e-01,  2.46637342e-01,  2.27769571e-01,\n",
       "        5.05569207e-02,  6.00008888e-01,  1.41907703e-01,  5.39410698e-01,\n",
       "        3.55435239e-01,  4.35881574e-01,  1.22206318e-01,  7.77148158e-01,\n",
       "        2.21045320e-03, -1.44030480e-02,  3.58816643e-01,  1.34237900e-01,\n",
       "       -3.81987065e-01,  2.76189419e-01,  2.68519616e-01,  2.80551198e-01,\n",
       "       -2.21462313e-02, -1.76376920e-02,  8.13463044e-01,  8.28802650e-01,\n",
       "        4.10617896e-01, -3.21535636e-01,  4.98734034e-01,  6.59406563e-01,\n",
       "        4.68961816e-01,  4.57837228e-01,  3.30171561e-01,  3.77464273e-01,\n",
       "       -5.74686082e-01, -1.08008100e-01,  6.58132668e-01,  4.46472285e-03,\n",
       "        4.41370488e-01,  8.26567884e-02,  2.99418969e-01,  5.62493487e-01,\n",
       "       -2.41069798e-02,  7.71659245e-01,  1.51905156e-01, -4.14013553e-01,\n",
       "       -1.28909999e-01,  4.32573550e-01,  3.54454865e-01,  8.01358082e-01,\n",
       "        2.04760162e-01,  1.80550238e-01,  4.87609446e-01,  7.53011615e-01,\n",
       "        2.57541789e-01,  1.47396616e-01,  4.83026510e-02,  4.28871178e-02,\n",
       "        2.35586135e-01,  1.36418789e-01,  2.85059737e-01,  6.01062643e-01,\n",
       "        2.75135664e-01,  4.49946268e-02, -1.73948443e-01,  8.67974102e-03,\n",
       "        6.29634346e-01,  1.48523751e-01,  2.17845499e-01,  1.94909470e-01,\n",
       "        5.61192145e-02,  5.08437965e-01,  3.09289164e-02,  1.54425500e-02,\n",
       "        3.79791923e-01,  1.29876121e-01,  8.28949411e-01,  6.61660833e-01])"
      ]
     },
     "metadata": {},
     "output_type": "display_data"
    }
   ],
   "source": [
    "y_pred = lm.predict(X)\n",
    "\n",
    "display(X)\n",
    "display(y_pred)"
   ]
  },
  {
   "cell_type": "code",
   "execution_count": 6,
   "metadata": {},
   "outputs": [
    {
     "data": {
      "text/plain": [
       "Text(0.5, 1.0, 'color is actual value')"
      ]
     },
     "execution_count": 6,
     "metadata": {},
     "output_type": "execute_result"
    },
    {
     "data": {
      "image/png": "[encoded data removed]",
      "text/plain": [
       "<Figure size 432x288 with 1 Axes>"
      ]
     },
     "metadata": {
      "needs_background": "light"
     },
     "output_type": "display_data"
    }
   ],
   "source": [
    "# look at what values were predicted. Position on the y-axis is predicted\n",
    "# value and color is the actual value.\n",
    "plt.figure()\n",
    "plt.scatter([0 for _ in y_pred], y_pred, c=y, cmap='bwr', s=2)\n",
    "plt.ylabel('predicted value')\n",
    "plt.title('color is actual value')"
   ]
  },
  {
   "cell_type": "code",
   "execution_count": 7,
   "metadata": {},
   "outputs": [
    {
     "data": {
      "text/plain": [
       "'cutoff: 0.3'"
      ]
     },
     "metadata": {},
     "output_type": "display_data"
    },
    {
     "data": {
      "text/plain": [
       "'precision = [0.95798319 0.58024691]'"
      ]
     },
     "metadata": {},
     "output_type": "display_data"
    },
    {
     "data": {
      "text/plain": [
       "'recall = [0.77027027 0.90384615]'"
      ]
     },
     "metadata": {},
     "output_type": "display_data"
    },
    {
     "data": {
      "text/plain": [
       "'f-score = [0.85393258 0.70676692]'"
      ]
     },
     "metadata": {},
     "output_type": "display_data"
    },
    {
     "data": {
      "image/png": "[encoded data removed]",
      "text/plain": [
       "<Figure size 432x288 with 1 Axes>"
      ]
     },
     "metadata": {
      "needs_background": "light"
     },
     "output_type": "display_data"
    }
   ],
   "source": [
    "# look at what was predicted against the actual values\n",
    "plt.figure()\n",
    "plt.scatter(y_pred, y, c=y, cmap='bwr')\n",
    "plt.xlabel('predicted')\n",
    "plt.ylabel('actual')\n",
    "\n",
    "# display('predicted range: [{0:.2f},{1:.2f}]'.format(min(y_pred), max(y_pred)))\n",
    "\n",
    "# # Set the cutoff to, say, 0\n",
    "# p,r,f,s = precision_recall_fscore_support(y, [0 if y_<0 else 1 for y_ in y_pred])\n",
    "# display('cutoff: 0.0')\n",
    "# display('precision = {}'.format(p))\n",
    "# display('recall = {}'.format(r))\n",
    "# display('f-score = {}'.format(f))\n",
    "\n",
    "# Set the cutoff to, say, 0.3\n",
    "p,r,f,s = precision_recall_fscore_support(y, [0 if y_<0.3 else 1 for y_ in y_pred])\n",
    "display('cutoff: 0.3')\n",
    "display('precision = {}'.format(p))\n",
    "display('recall = {}'.format(r))\n",
    "display('f-score = {}'.format(f))"
   ]
  },
  {
   "cell_type": "markdown",
   "metadata": {},
   "source": [
    "## Predict categorical variable?\n",
    "How do we take a quantitative predicted value and turn it into a categorical variable? For values between 0 and 1 we could treat them as probabilities:"
   ]
  },
  {
   "cell_type": "code",
   "execution_count": 8,
   "metadata": {},
   "outputs": [
    {
     "data": {
      "text/plain": [
       "Text(0, 0.5, 'actual')"
      ]
     },
     "execution_count": 8,
     "metadata": {},
     "output_type": "execute_result"
    },
    {
     "data": {
      "image/png": "[encoded data removed]",
      "text/plain": [
       "<Figure size 432x288 with 1 Axes>"
      ]
     },
     "metadata": {
      "needs_background": "light"
     },
     "output_type": "display_data"
    }
   ],
   "source": [
    "def get_color(x):\n",
    "    if x < 0 or x > 1:\n",
    "        return 'r'\n",
    "    if x < 0.5:\n",
    "        return 'b'\n",
    "    return 'c'\n",
    "\n",
    "color = [get_color(x) for x in y_pred]\n",
    "plt.scatter(y_pred, y, c=color)\n",
    "plt.xlabel('predicted')\n",
    "plt.ylabel('actual')\n"
   ]
  },
  {
   "cell_type": "markdown",
   "metadata": {},
   "source": [
    "How do we interpret the red predictions, those outside the range of [0,1]?\n",
    "\n",
    "More importantly is the following problem:\n",
    "\n",
    "> $\\text{premium} = \\beta_0 + \\beta_1\\text{experience} + \\beta_2\\text{salary} + \\epsilon$\n",
    "\n",
    "Our handy ```lm.fit()``` function finds the coefficients such that $\\epsilon$ is minimized. The problem is this: experience is highly correlated with whether the employee will have a premium subscription, so $\\beta_2$ is high. So as experience grows, the predicted variable grows as well. However, we know that the maximum value for premium is 1, so that messes with $\\epsilon$, throwing our linear fit off!"
   ]
  },
  {
   "cell_type": "markdown",
   "metadata": {},
   "source": [
    "## The logistic function\n",
    "The solution is to use the logistic function $f(x)$:"
   ]
  },
  {
   "cell_type": "code",
   "execution_count": 9,
   "metadata": {},
   "outputs": [
    {
     "data": {
      "image/png": "[encoded data removed]",
      "text/plain": [
       "<Figure size 432x288 with 1 Axes>"
      ]
     },
     "metadata": {
      "needs_background": "light"
     },
     "output_type": "display_data"
    }
   ],
   "source": [
    "import math\n",
    "\n",
    "def logistic(x):\n",
    "    return 1.0 / (1 + math.exp(-x))\n",
    "#     return 1.0 / (1 + np.exp(-x))\n",
    "\n",
    "x = [x_/10 for x_ in range(-100,100)]\n",
    "y = [logistic(x_) for x_ in x]\n",
    "plt.plot(x, y);\n",
    "plt.title('logistic function');"
   ]
  },
  {
   "cell_type": "markdown",
   "metadata": {},
   "source": [
    "Note that as the input goes down the output gets closer to zero, and similarly as it goes up. We can use this to modify our linear regression to use *logistic regression*. So instead of using the linear regression approach of minimizing the error of:\n",
    "\n",
    "> $\\text{premium} = \\beta_0 + \\beta_1\\text{experience} + \\beta_2\\text{salary} + \\epsilon$\n",
    "\n",
    "logistic regression minimizes the error of (where $f$ is the logistic function):\n",
    "\n",
    "> $f(\\beta_0 + \\beta_1\\text{experience} + \\beta_2\\text{salary}) + \\epsilon$\n",
    "\n",
    "We then set premium to zero if $f(x_i\\beta)<0$ and one otherwise."
   ]
  },
  {
   "cell_type": "code",
   "execution_count": 10,
   "metadata": {},
   "outputs": [
    {
     "data": {
      "text/html": [
       "<div>\n",
       "<style scoped>\n",
       "    .dataframe tbody tr th:only-of-type {\n",
       "        vertical-align: middle;\n",
       "    }\n",
       "\n",
       "    .dataframe tbody tr th {\n",
       "        vertical-align: top;\n",
       "    }\n",
       "\n",
       "    .dataframe thead th {\n",
       "        text-align: right;\n",
       "    }\n",
       "</style>\n",
       "<table border=\"1\" class=\"dataframe\">\n",
       "  <thead>\n",
       "    <tr style=\"text-align: right;\">\n",
       "      <th></th>\n",
       "      <th>experience</th>\n",
       "      <th>salary</th>\n",
       "    </tr>\n",
       "  </thead>\n",
       "  <tbody>\n",
       "    <tr>\n",
       "      <th>0</th>\n",
       "      <td>-1.509461</td>\n",
       "      <td>-1.203582</td>\n",
       "    </tr>\n",
       "    <tr>\n",
       "      <th>1</th>\n",
       "      <td>-1.088020</td>\n",
       "      <td>-1.203582</td>\n",
       "    </tr>\n",
       "    <tr>\n",
       "      <th>2</th>\n",
       "      <td>-0.877300</td>\n",
       "      <td>-0.431230</td>\n",
       "    </tr>\n",
       "    <tr>\n",
       "      <th>3</th>\n",
       "      <td>-0.280258</td>\n",
       "      <td>-0.238142</td>\n",
       "    </tr>\n",
       "    <tr>\n",
       "      <th>4</th>\n",
       "      <td>0.351903</td>\n",
       "      <td>0.598573</td>\n",
       "    </tr>\n",
       "    <tr>\n",
       "      <th>...</th>\n",
       "      <td>...</td>\n",
       "      <td>...</td>\n",
       "    </tr>\n",
       "    <tr>\n",
       "      <th>195</th>\n",
       "      <td>0.527504</td>\n",
       "      <td>1.113474</td>\n",
       "    </tr>\n",
       "    <tr>\n",
       "      <th>196</th>\n",
       "      <td>0.667984</td>\n",
       "      <td>0.405485</td>\n",
       "    </tr>\n",
       "    <tr>\n",
       "      <th>197</th>\n",
       "      <td>0.035822</td>\n",
       "      <td>0.341122</td>\n",
       "    </tr>\n",
       "    <tr>\n",
       "      <th>198</th>\n",
       "      <td>1.440626</td>\n",
       "      <td>0.148034</td>\n",
       "    </tr>\n",
       "    <tr>\n",
       "      <th>199</th>\n",
       "      <td>1.686467</td>\n",
       "      <td>0.791661</td>\n",
       "    </tr>\n",
       "  </tbody>\n",
       "</table>\n",
       "<p>200 rows × 2 columns</p>\n",
       "</div>"
      ],
      "text/plain": [
       "     experience    salary\n",
       "0     -1.509461 -1.203582\n",
       "1     -1.088020 -1.203582\n",
       "2     -0.877300 -0.431230\n",
       "3     -0.280258 -0.238142\n",
       "4      0.351903  0.598573\n",
       "..          ...       ...\n",
       "195    0.527504  1.113474\n",
       "196    0.667984  0.405485\n",
       "197    0.035822  0.341122\n",
       "198    1.440626  0.148034\n",
       "199    1.686467  0.791661\n",
       "\n",
       "[200 rows x 2 columns]"
      ]
     },
     "metadata": {},
     "output_type": "display_data"
    },
    {
     "data": {
      "text/plain": [
       "0      1\n",
       "1      0\n",
       "2      1\n",
       "3      0\n",
       "4      0\n",
       "      ..\n",
       "195    0\n",
       "196    0\n",
       "197    0\n",
       "198    1\n",
       "199    1\n",
       "Name: premium, Length: 200, dtype: int64"
      ]
     },
     "metadata": {},
     "output_type": "display_data"
    }
   ],
   "source": [
    "from sklearn.linear_model import LogisticRegression\n",
    "\n",
    "X = df[['experience', 'salary']]\n",
    "y = df.premium\n",
    "\n",
    "lm = LogisticRegression(class_weight={0:0.2, 1:0.8})\n",
    "lm.fit(X, y)\n",
    "\n",
    "display(X)\n",
    "display(y)"
   ]
  },
  {
   "cell_type": "code",
   "execution_count": 11,
   "metadata": {},
   "outputs": [
    {
     "data": {
      "text/plain": [
       "'predicted range: [0.00,1.00]'"
      ]
     },
     "metadata": {},
     "output_type": "display_data"
    },
    {
     "data": {
      "text/plain": [
       "'precision = [0.95726496 0.56626506]'"
      ]
     },
     "metadata": {},
     "output_type": "display_data"
    },
    {
     "data": {
      "text/plain": [
       "'recall = [0.75675676 0.90384615]'"
      ]
     },
     "metadata": {},
     "output_type": "display_data"
    },
    {
     "data": {
      "text/plain": [
       "'f-score = [0.84528302 0.6962963 ]'"
      ]
     },
     "metadata": {},
     "output_type": "display_data"
    }
   ],
   "source": [
    "# print(lm.intercept_)\n",
    "# print(lm.coef_)\n",
    "\n",
    "y_pred = lm.predict(X)\n",
    "\n",
    "display('predicted range: [{0:.2f},{1:.2f}]'.format(min(y_pred), max(y_pred)))\n",
    "\n",
    "p,r,f,s = precision_recall_fscore_support(y, y_pred)\n",
    "display('precision = {}'.format(p))\n",
    "display('recall = {}'.format(r))\n",
    "display('f-score = {}'.format(f))"
   ]
  },
  {
   "cell_type": "markdown",
   "metadata": {},
   "source": [
    "## Prediction\n",
    "What is prediction doing under the hood? Remember that linear regression was doing the following:\n",
    "\n",
    "> $\\text{premium} = \\beta_0 + \\beta_1\\text{experience} + \\beta_2\\text{salary}$\n",
    "\n",
    "Logistic regression does this:\n",
    "\n",
    "> $a = f(\\beta_0 + \\beta_1\\text{experience} + \\beta_2\\text{salary})$\n",
    "\n",
    "> premium = 0 if $a$ < cutoff else 1\n",
    "\n",
    "where cutoff defaults to 0.5."
   ]
  },
  {
   "cell_type": "markdown",
   "metadata": {},
   "source": [
    "## Geometric interpretation\n",
    "What logistic regression does is finds a separating hyperplane between the data. This hyperplane is defined as\n",
    "> $\\beta_0 + \\beta_1\\text{experience} + \\beta_2\\text{salary} = 0$\n",
    "\n",
    "We also call this separating hyperplane a *decision boundary*."
   ]
  },
  {
   "cell_type": "code",
   "execution_count": 12,
   "metadata": {},
   "outputs": [
    {
     "data": {
      "text/plain": [
       "Text(0, 0.5, 'salary')"
      ]
     },
     "execution_count": 12,
     "metadata": {},
     "output_type": "execute_result"
    },
    {
     "data": {
      "image/png": "[encoded data removed]",
      "text/plain": [
       "<Figure size 432x288 with 1 Axes>"
      ]
     },
     "metadata": {
      "needs_background": "light"
     },
     "output_type": "display_data"
    }
   ],
   "source": [
    "# Plot the dataset colored by actual value\n",
    "color = ['r' if y_ == 0 else 'b' for y_ in y]\n",
    "plt.scatter(df.experience, df.salary, c=color, s=3)\n",
    "plt.xlabel('experience')\n",
    "plt.ylabel('salary')\n",
    "\n",
    "# # display(lm.intercept_)\n",
    "# # display(lm.coef_)"
   ]
  },
  {
   "cell_type": "code",
   "execution_count": 13,
   "metadata": {},
   "outputs": [
    {
     "data": {
      "text/plain": [
       "array([1, 0, 1, 1, 1])"
      ]
     },
     "execution_count": 13,
     "metadata": {},
     "output_type": "execute_result"
    }
   ],
   "source": [
    "n = 5\n",
    "experience = [random.uniform(-2,2) for _ in range(n)]\n",
    "salary = [random.uniform(-2.5,2.5) for _ in range(n)]\n",
    "df_temp = pd.DataFrame({'experience':experience,'salary':salary})\n",
    "df_temp\n",
    "plabel = lm.predict(df_temp)\n",
    "plabel"
   ]
  },
  {
   "cell_type": "code",
   "execution_count": 14,
   "metadata": {},
   "outputs": [
    {
     "data": {
      "text/plain": [
       "Text(0, 0.5, 'salary')"
      ]
     },
     "execution_count": 14,
     "metadata": {},
     "output_type": "execute_result"
    },
    {
     "data": {
      "image/png": "[encoded data removed]",
      "text/plain": [
       "<Figure size 432x288 with 1 Axes>"
      ]
     },
     "metadata": {
      "needs_background": "light"
     },
     "output_type": "display_data"
    }
   ],
   "source": [
    "# Plot random points colored by predicted value\n",
    "b0 = lm.intercept_\n",
    "b = lm.coef_[0]\n",
    "\n",
    "# Plot random points colored by prediction\n",
    "import random\n",
    "\n",
    "n = 5000\n",
    "newx = [random.uniform(-2,2) for _ in range(n)]\n",
    "newy = [random.uniform(-2.5,2.5) for _ in range(n)]\n",
    "df_temp = pd.DataFrame({'experience':newx,'salary':newy})\n",
    "newlabel = lm.predict(df_temp)\n",
    "\n",
    "color = ['r' if y_ == 0 else 'b' for y_ in newlabel]\n",
    "plt.figure()\n",
    "plt.scatter(newx, newy, c=color, marker='o', s=7)\n",
    "plt.xlabel('experience')\n",
    "plt.ylabel('salary')"
   ]
  },
  {
   "cell_type": "markdown",
   "metadata": {},
   "source": [
    "## Finding the decision boundary\n",
    "\n",
    "To find the exact decision boundary we find two points that satisfy this equation.\n",
    "\n",
    "$\\beta_0 + \\beta_1\\text{experience} + \\beta_2\\text{salary} = 0$\n",
    "\n",
    "Set experience and solve for salary:\n",
    "\n",
    "$\\text{salary} = -\\frac{\\beta_0 + \\beta_1\\text{experience}}{\\beta_2}$\n"
   ]
  },
  {
   "cell_type": "code",
   "execution_count": 15,
   "metadata": {},
   "outputs": [
    {
     "data": {
      "text/plain": [
       "Text(0, 0.5, 'salary')"
      ]
     },
     "execution_count": 15,
     "metadata": {},
     "output_type": "execute_result"
    },
    {
     "data": {
      "image/png": "[encoded data removed]",
      "text/plain": [
       "<Figure size 432x288 with 1 Axes>"
      ]
     },
     "metadata": {
      "needs_background": "light"
     },
     "output_type": "display_data"
    }
   ],
   "source": [
    "color = ['r' if y_ == 0 else 'b' for y_ in y]\n",
    "plt.scatter(df.experience, df.salary, c=color, s=8)\n",
    "\n",
    "b0 = lm.intercept_[0]\n",
    "b = lm.coef_[0]\n",
    "\n",
    "Xdb = [-1.8, 1.8]\n",
    "ydb = [-(b0+b[0]*x)/b[1] for x in Xdb]\n",
    "plt.plot(Xdb, ydb)\n",
    "plt.xlabel('experience')\n",
    "plt.ylabel('salary')\n"
   ]
  },
  {
   "cell_type": "markdown",
   "metadata": {},
   "source": [
    "## Increasing dimensionality to improve separation\n",
    "\n",
    "Here we have a one-dimensional dataset, so our decision boundary is \n",
    "\n",
    "$\\beta_0 + \\beta_1\\text{x} = 0$\n",
    "\n",
    "$\\text{x} = \\frac{-\\beta_0}{\\beta_1}$"
   ]
  },
  {
   "cell_type": "code",
   "execution_count": 19,
   "metadata": {},
   "outputs": [
    {
     "name": "stderr",
     "output_type": "stream",
     "text": [
      "<ipython-input-19-ede891048513>:25: RuntimeWarning: divide by zero encountered in double_scalars\n",
      "  db = -b0 / b1\n"
     ]
    },
    {
     "data": {
      "text/plain": [
       "[<matplotlib.lines.Line2D at 0x7f2c3d930af0>]"
      ]
     },
     "execution_count": 19,
     "metadata": {},
     "output_type": "execute_result"
    },
    {
     "data": {
      "image/png": "[encoded data removed]",
      "text/plain": [
       "<Figure size 432x288 with 1 Axes>"
      ]
     },
     "metadata": {
      "needs_background": "light"
     },
     "output_type": "display_data"
    }
   ],
   "source": [
    "X = [-4, -3, -2, -1, 0, 1, 2, 3, 4]\n",
    "\n",
    "# We can get a nice decision boundary for this dataset...\n",
    "# y = [1, 1, 1, 1, 1, 0, 0, 0, 0]\n",
    "\n",
    "# ...but not for this one\n",
    "y = [0, 0, 1, 1, 1, 1, 1, 0, 0]\n",
    "\n",
    "Xy = list(zip(X, y))\n",
    "zeros = [xy for xy in Xy if xy[1] == 0]\n",
    "(Xzeros, yzeros) = list(zip(*zeros))\n",
    "ones = [xy for xy in Xy if xy[1] == 1]\n",
    "(Xones, yones) = list(zip(*ones))\n",
    "\n",
    "plt.scatter(Xzeros, [0 for _ in Xzeros], marker='o')\n",
    "plt.scatter(Xones, [0 for _ in Xones], marker='x')\n",
    "\n",
    "lm = LogisticRegression()\n",
    "lm.fit([[x] for x in X], y)\n",
    "\n",
    "b0 = lm.intercept_[0]\n",
    "b1 = lm.coef_[0][0]\n",
    "\n",
    "# Draw the decision boundary\n",
    "db = -b0 / b1\n",
    "plt.plot([db, db], [-1, 1])\n"
   ]
  },
  {
   "cell_type": "markdown",
   "metadata": {},
   "source": [
    "So we map the dataset into two dimensions and map the second dimension as ```x**2```. This is called the *kernel trick*."
   ]
  },
  {
   "cell_type": "code",
   "execution_count": 20,
   "metadata": {},
   "outputs": [
    {
     "data": {
      "text/plain": [
       "(-1.0, 17.0)"
      ]
     },
     "execution_count": 20,
     "metadata": {},
     "output_type": "execute_result"
    },
    {
     "data": {
      "image/png": "[encoded data removed]",
      "text/plain": [
       "<Figure size 432x288 with 1 Axes>"
      ]
     },
     "metadata": {
      "needs_background": "light"
     },
     "output_type": "display_data"
    }
   ],
   "source": [
    "X = [-4, -3, -2, -1, 0, 1, 2, 3, 4]\n",
    "X = [[x, x**2] for x in X]\n",
    "\n",
    "# We can get a nice decision boundary for this dataset...\n",
    "# y = [1, 1, 1, 1, 1, 0, 0, 0, 0]\n",
    "\n",
    "# ...and for this one\n",
    "y = [0, 0, 1, 1, 1, 1, 1, 0, 0]\n",
    "\n",
    "Xy = list(zip(X, y))\n",
    "zeros = [xy for xy in Xy if xy[1] == 0]\n",
    "(Xzeros, yzeros) = list(zip(*zeros))\n",
    "ones = [xy for xy in Xy if xy[1] == 1]\n",
    "(Xones, yones) = list(zip(*ones))\n",
    "\n",
    "(xzeros_p, yzeros_p) = zip(*Xzeros)\n",
    "(xones_p, yones_p) = zip(*Xones)\n",
    "plt.scatter(xzeros_p, yzeros_p, marker='o')\n",
    "plt.scatter(xones_p, yones_p, marker='o')\n",
    "\n",
    "lm = LogisticRegression()\n",
    "lm.fit(X, y)\n",
    "\n",
    "b0 = lm.intercept_[0]\n",
    "b = lm.coef_[0]\n",
    "\n",
    "# Draw the decision boundary\n",
    "Xdb = [-4, 4]\n",
    "ydb = [-(b0+b[0]*x)/b[1] for x in Xdb]\n",
    "plt.plot(Xdb, ydb)\n",
    "plt.xlim([-4.5, 4.5])\n",
    "plt.ylim([-1, 17])\n"
   ]
  },
  {
   "cell_type": "code",
   "execution_count": null,
   "metadata": {},
   "outputs": [],
   "source": []
  }
 ],
 "metadata": {
  "kernelspec": {
   "display_name": "Python 3",
   "language": "python",
   "name": "python3"
  },
  "language_info": {
   "codemirror_mode": {
    "name": "ipython",
    "version": 3
   },
   "file_extension": ".py",
   "mimetype": "text/x-python",
   "name": "python",
   "nbconvert_exporter": "python",
   "pygments_lexer": "ipython3",
   "version": "3.8.8"
  }
 },
 "nbformat": 4,
 "nbformat_minor": 1
}
