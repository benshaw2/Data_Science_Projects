{
 "cells": [
  {
   "cell_type": "markdown",
   "metadata": {},
   "source": [
    "# Introduction to Logistic Regression\n",
    "\n",
    "*Credit: some ideas taken from https://towardsdatascience.com/building-a-logistic-regression-in-python-step-by-step-becd4d56c9c8*\n",
    "\n",
    "## Motivation\n",
    "\n",
    "Logistic regression is like linear regression except for binary, categorical predicted variables instead of quantitative variables.\n"
   ]
  },
  {
   "cell_type": "code",
   "execution_count": 85,
   "metadata": {},
   "outputs": [],
   "source": [
    "# imports\n",
    "import pandas as pd\n",
    "import matplotlib.pyplot as plt\n",
    "from sklearn.linear_model import LinearRegression\n",
    "import statsmodels.formula.api as smf\n",
    "import numpy as np\n",
    "from sklearn.metrics import precision_recall_fscore_support\n"
   ]
  },
  {
   "cell_type": "markdown",
   "metadata": {},
   "source": [
    "## Load the data\n",
    "This data is of data scientists at a certain company. Each data scientist has a number of years of experience, a salary, and whether they paid for a premium subscription to a data science social networking website."
   ]
  },
  {
   "cell_type": "code",
   "execution_count": null,
   "metadata": {},
   "outputs": [],
   "source": [
    "data = [(0.7,48000,1),(1.9,48000,0),(2.5,60000,1),(4.2,63000,0),(6,76000,0),(6.5,69000,0),(7.5,76000,0),(8.1,88000,0),(8.7,83000,1),(10,83000,1),(0.8,43000,0),(1.8,60000,0),(10,79000,1),(6.1,76000,0),(1.4,50000,0),(9.1,92000,0),(5.8,75000,0),(5.2,69000,0),(1,56000,0),(6,67000,0),(4.9,74000,0),(6.4,63000,1),(6.2,82000,0),(3.3,58000,0),(9.3,90000,1),(5.5,57000,1),(9.1,102000,0),(2.4,54000,0),(8.2,65000,1),(5.3,82000,0),(9.8,107000,0),(1.8,64000,0),(0.6,46000,1),(0.8,48000,0),(8.6,84000,1),(0.6,45000,0),(0.5,30000,1),(7.3,89000,0),(2.5,48000,1),(5.6,76000,0),(7.4,77000,0),(2.7,56000,0),(0.7,48000,0),(1.2,42000,0),(0.2,32000,1),(4.7,56000,1),(2.8,44000,1),(7.6,78000,0),(1.1,63000,0),(8,79000,1),(2.7,56000,0),(6,52000,1),(4.6,56000,0),(2.5,51000,0),(5.7,71000,0),(2.9,65000,0),(1.1,33000,1),(3,62000,0),(4,71000,0),(2.4,61000,0),(7.5,75000,0),(9.7,81000,1),(3.2,62000,0),(7.9,88000,0),(4.7,44000,1),(2.5,55000,0),(1.6,41000,0),(6.7,64000,1),(6.9,66000,1),(7.9,78000,1),(8.1,102000,0),(5.3,48000,1),(8.5,66000,1),(0.2,56000,0),(6,69000,0),(7.5,77000,0),(8,86000,0),(4.4,68000,0),(4.9,75000,0),(1.5,60000,0),(2.2,50000,0),(3.4,49000,1),(4.2,70000,0),(7.7,98000,0),(8.2,85000,0),(5.4,88000,0),(0.1,46000,0),(1.5,37000,0),(6.3,86000,0),(3.7,57000,0),(8.4,85000,0),(2,42000,0),(5.8,69000,1),(2.7,64000,0),(3.1,63000,0),(1.9,48000,0),(10,72000,1),(0.2,45000,0),(8.6,95000,0),(1.5,64000,0),(9.8,95000,0),(5.3,65000,0),(7.5,80000,0),(9.9,91000,0),(9.7,50000,1),(2.8,68000,0),(3.6,58000,0),(3.9,74000,0),(4.4,76000,0),(2.5,49000,0),(7.2,81000,0),(5.2,60000,1),(2.4,62000,0),(8.9,94000,0),(2.4,63000,0),(6.8,69000,1),(6.5,77000,0),(7,86000,0),(9.4,94000,0),(7.8,72000,1),(0.2,53000,0),(10,97000,0),(5.5,65000,0),(7.7,71000,1),(8.1,66000,1),(9.8,91000,0),(8,84000,0),(2.7,55000,0),(2.8,62000,0),(9.4,79000,0),(2.5,57000,0),(7.4,70000,1),(2.1,47000,0),(5.3,62000,1),(6.3,79000,0),(6.8,58000,1),(5.7,80000,0),(2.2,61000,0),(4.8,62000,0),(3.7,64000,0),(4.1,85000,0),(2.3,51000,0),(3.5,58000,0),(0.9,43000,0),(0.9,54000,0),(4.5,74000,0),(6.5,55000,1),(4.1,41000,1),(7.1,73000,0),(1.1,66000,0),(9.1,81000,1),(8,69000,1),(7.3,72000,1),(3.3,50000,0),(3.9,58000,0),(2.6,49000,0),(1.6,78000,0),(0.7,56000,0),(2.1,36000,1),(7.5,90000,0),(4.8,59000,1),(8.9,95000,0),(6.2,72000,0),(6.3,63000,0),(9.1,100000,0),(7.3,61000,1),(5.6,74000,0),(0.5,66000,0),(1.1,59000,0),(5.1,61000,0),(6.2,70000,0),(6.6,56000,1),(6.3,76000,0),(6.5,78000,0),(5.1,59000,0),(9.5,74000,1),(4.5,64000,0),(2,54000,0),(1,52000,0),(4,69000,0),(6.5,76000,0),(3,60000,0),(4.5,63000,0),(7.8,70000,0),(3.9,60000,1),(0.8,51000,0),(4.2,78000,0),(1.1,54000,0),(6.2,60000,0),(2.9,59000,0),(2.1,52000,0),(8.2,87000,0),(4.8,73000,0),(2.2,42000,1),(9.1,98000,0),(6.5,84000,0),(6.9,73000,0),(5.1,72000,0),(9.1,69000,1),(9.8,79000,1),]\n",
    "data = list(map(list, data)) # change tuples to lists\n",
    "\n",
    "df = pd.DataFrame({'experience':[row[0] for row in data],\n",
    "                   'salary':[row[1] for row in data],\n",
    "                  'premium':[row[2] for row in data]})\n",
    "display(df.head())\n",
    "\n",
    "plt.scatter(df.experience, df.premium)\n",
    "\n",
    "df.experience = (df.experience - df.experience.mean()) / df.experience.std()\n",
    "df.salary = (df.salary - df.salary.mean()) / df.salary.std()\n"
   ]
  },
  {
   "cell_type": "markdown",
   "metadata": {},
   "source": [
    "## Goal\n",
    "We want to predict whether a given data scientist is going to sign up for a premium subscription to the social networking site. Try linear regression!"
   ]
  },
  {
   "cell_type": "code",
   "execution_count": 90,
   "metadata": {},
   "outputs": [
    {
     "data": {
      "text/plain": [
       "LinearRegression(copy_X=True, fit_intercept=True, n_jobs=1, normalize=False)"
      ]
     },
     "execution_count": 90,
     "metadata": {},
     "output_type": "execute_result"
    }
   ],
   "source": [
    "X = df[['experience', 'salary']]\n",
    "y = df.premium\n",
    "\n",
    "lm = LinearRegression()\n",
    "lm.fit(X, y)\n",
    "\n",
    "# print(lm.intercept_)\n",
    "# print(lm.coef_)\n"
   ]
  },
  {
   "cell_type": "code",
   "execution_count": 95,
   "metadata": {},
   "outputs": [
    {
     "data": {
      "text/plain": [
       "'predicted range: [-0.57,1.44]'"
      ]
     },
     "metadata": {},
     "output_type": "display_data"
    },
    {
     "data": {
      "text/plain": [
       "'precision = [0.92361111 0.73214286]'"
      ]
     },
     "metadata": {},
     "output_type": "display_data"
    },
    {
     "data": {
      "text/plain": [
       "'recall = [0.89864865 0.78846154]'"
      ]
     },
     "metadata": {},
     "output_type": "display_data"
    },
    {
     "data": {
      "text/plain": [
       "'f-score = [0.9109589  0.75925926]'"
      ]
     },
     "metadata": {},
     "output_type": "display_data"
    },
    {
     "data": {
      "image/png": "[encoded data removed]",
      "text/plain": [
       "<matplotlib.figure.Figure at 0x11605cac8>"
      ]
     },
     "metadata": {},
     "output_type": "display_data"
    }
   ],
   "source": [
    "y_pred = lm.predict(X)\n",
    "plt.scatter(y_pred, y, c=y)\n",
    "plt.xlabel('predicted')\n",
    "plt.ylabel('actual')\n",
    "\n",
    "display('predicted range: [{0:.2f},{1:.2f}]'.format(min(y_pred), max(y_pred)))\n",
    "\n",
    "# Set the cutoff to, say, 0.4\n",
    "p,r,f,s = precision_recall_fscore_support(y, [0 if y_<0.4 else 1 for y_ in y_pred])\n",
    "display('precision = {}'.format(p))\n",
    "display('recall = {}'.format(r))\n",
    "display('f-score = {}'.format(f))\n"
   ]
  },
  {
   "cell_type": "markdown",
   "metadata": {},
   "source": [
    "How do we take a quantitative predicted value and turn it into a categorical variable? For values between 0 and 1 we could treat them as probabilities:"
   ]
  },
  {
   "cell_type": "code",
   "execution_count": null,
   "metadata": {},
   "outputs": [],
   "source": [
    "def get_color(x):\n",
    "    if x < 0 or x > 1:\n",
    "        return 'r'\n",
    "    if x < 0.5:\n",
    "        return 'b'\n",
    "    return 'c'\n",
    "\n",
    "color = [get_color(x) for x in y_pred]\n",
    "plt.scatter(y_pred, y, c=color)\n",
    "plt.xlabel('predicted')\n",
    "plt.ylabel('actual')\n"
   ]
  },
  {
   "cell_type": "markdown",
   "metadata": {},
   "source": [
    "How do we interpret the red predictions, those outside the range of [0,1]?\n",
    "\n",
    "More importantly is the following problem:\n",
    "\n",
    "> $\\text{premium} = \\beta_0 + \\beta_1\\text{experience} + \\beta_2\\text{salary} + \\epsilon$\n",
    "\n",
    "Our handy ```lm.fit()``` function finds the coefficients such that $\\epsilon$ is minimized. The problem is this: experience is highly correlated with whether the employee will have a premium subscription, so $\\beta_2$ is high. So as experience grows, the predicted variable grows as well. However, we know that the maximum value for premium is 1, so that messes with $\\epsilon$, throwing our linear fit off!"
   ]
  },
  {
   "cell_type": "markdown",
   "metadata": {},
   "source": [
    "The solution is to use the logistic function:"
   ]
  },
  {
   "cell_type": "code",
   "execution_count": null,
   "metadata": {},
   "outputs": [],
   "source": [
    "import math\n",
    "\n",
    "def logistic(x):\n",
    "    return 1.0 / (1 + math.exp(-x))\n",
    "\n",
    "x = [x_/10 for x_ in range(-100,100)]\n",
    "y = [logistic(x_) for x_ in x]\n",
    "plt.plot(x, y);\n",
    "plt.title('logistic function');"
   ]
  },
  {
   "cell_type": "markdown",
   "metadata": {},
   "source": [
    "Note that as the input goes down the output gets closer to zero, and similarly as it goes up. We can use this to modify our linear regression to use *logistic regression*."
   ]
  },
  {
   "cell_type": "code",
   "execution_count": 101,
   "metadata": {},
   "outputs": [
    {
     "data": {
      "text/plain": [
       "'predicted range: [0.00,1.00]'"
      ]
     },
     "metadata": {},
     "output_type": "display_data"
    },
    {
     "data": {
      "text/plain": [
       "'precision = [0.89375 0.875  ]'"
      ]
     },
     "metadata": {},
     "output_type": "display_data"
    },
    {
     "data": {
      "text/plain": [
       "'recall = [0.96621622 0.67307692]'"
      ]
     },
     "metadata": {},
     "output_type": "display_data"
    },
    {
     "data": {
      "text/plain": [
       "'f-score = [0.92857143 0.76086957]'"
      ]
     },
     "metadata": {},
     "output_type": "display_data"
    }
   ],
   "source": [
    "from sklearn.linear_model import LogisticRegression\n",
    "\n",
    "X = df[['experience', 'salary']]\n",
    "y = df.premium\n",
    "\n",
    "lm = LogisticRegression()\n",
    "lm.fit(X, y)\n",
    "\n",
    "# print(lm.intercept_)\n",
    "# print(lm.coef_)\n",
    "\n",
    "y_pred = lm.predict(X)\n",
    "\n",
    "display('predicted range: [{0:.2f},{1:.2f}]'.format(min(y_pred), max(y_pred)))\n",
    "\n",
    "p,r,f,s = precision_recall_fscore_support(y, y_pred)\n",
    "display('precision = {}'.format(p))\n",
    "display('recall = {}'.format(r))\n",
    "display('f-score = {}'.format(f))"
   ]
  },
  {
   "cell_type": "markdown",
   "metadata": {},
   "source": [
    "What is prediction doing under the hood? Remember that linear regression was doing the following:\n",
    "\n",
    "$\\text{premium} = \\beta_0 + \\beta_1\\text{experience} + \\beta_2\\text{salary} + \\epsilon$\n",
    "\n",
    "Logistic regression does this:\n",
    "\n",
    "> $a = \\beta_0 + \\beta_1\\text{experience} + \\beta_2\\text{salary} + \\epsilon$\n",
    "\n",
    "> premium = 0 if logistic($a$) < cutoff else 1\n",
    "\n",
    "where cutoff defaults to 0.5."
   ]
  },
  {
   "cell_type": "code",
   "execution_count": 177,
   "metadata": {},
   "outputs": [
    {
     "name": "stdout",
     "output_type": "stream",
     "text": [
      "label1 = 0, label2 = 0\n",
      "label1 = 0, label2 = 0\n",
      "label1 = 0, label2 = 0\n",
      "label1 = 1, label2 = 1\n",
      "label1 = 1, label2 = 1\n",
      "label1 = 1, label2 = 1\n",
      "label1 = 0, label2 = 0\n",
      "label1 = 0, label2 = 0\n",
      "label1 = 1, label2 = 1\n",
      "label1 = 1, label2 = 1\n"
     ]
    }
   ],
   "source": [
    "for _ in range(10):\n",
    "    px = random.uniform(-2,2)\n",
    "    py = random.uniform(-2.5,2.5)\n",
    "\n",
    "    label1 = lm.predict([[px,py]])[0]\n",
    "\n",
    "    a = logistic(b0 + np.array([px,py]).dot(b))\n",
    "    label2 = 0 if a<0.5 else 1\n",
    "\n",
    "    print('label1 = {}, label2 = {}'.format(label1, label2))\n"
   ]
  },
  {
   "cell_type": "code",
   "execution_count": 156,
   "metadata": {},
   "outputs": [
    {
     "data": {
      "image/png": "[encoded data removed]",
      "text/plain": [
       "<matplotlib.figure.Figure at 0x117adf898>"
      ]
     },
     "metadata": {},
     "output_type": "display_data"
    }
   ],
   "source": [
    "color = ['r' if y_ == 0 else 'b' for y_ in y]\n",
    "plt.scatter(df.experience, df.salary, c=color, s=2)\n",
    "\n",
    "# display(lm.intercept_)\n",
    "# display(lm.coef_)\n",
    "\n",
    "b0 = lm.intercept_\n",
    "b = lm.coef_[0]\n",
    "\n",
    "# add random points\n",
    "import random\n",
    "newx = []\n",
    "newy = []\n",
    "newlabel = []\n",
    "for _ in range(5):\n",
    "# for _ in range(5000):\n",
    "    px = random.uniform(-2,2)\n",
    "    py = random.uniform(-2.5,2.5)\n",
    "#     plabel = logistic(b0 + np.array([px,py]).dot(b))\n",
    "    plabel = lm.predict([[px,py]])\n",
    "    newx.append(px)\n",
    "    newy.append(py)\n",
    "#     newlabel.append(0 if plabel<0.5 else 1)\n",
    "    newlabel.append(plabel)\n",
    "\n",
    "color = ['r' if y_ == 0 else 'b' for y_ in newlabel]\n",
    "plt.scatter(newx, newy, c=color, marker='x');\n",
    "\n"
   ]
  }
 ],
 "metadata": {
  "kernelspec": {
   "display_name": "Python 3",
   "language": "python",
   "name": "python3"
  },
  "language_info": {
   "codemirror_mode": {
    "name": "ipython",
    "version": 3
   },
   "file_extension": ".py",
   "mimetype": "text/x-python",
   "name": "python",
   "nbconvert_exporter": "python",
   "pygments_lexer": "ipython3",
   "version": "3.6.4"
  }
 },
 "nbformat": 4,
 "nbformat_minor": 1
}
