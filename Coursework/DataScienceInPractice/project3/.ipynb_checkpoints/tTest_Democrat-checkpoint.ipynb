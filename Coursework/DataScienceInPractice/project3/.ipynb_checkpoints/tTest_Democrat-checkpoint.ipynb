{
 "cells": [
  {
   "cell_type": "code",
   "execution_count": 1,
   "id": "58e1f04c",
   "metadata": {},
   "outputs": [],
   "source": [
    "# import pandas as pd\n",
    "import numpy as np\n",
    "import requests #from requests_html import HTMLSession\n",
    "# import matplotlib.pyplot as plt  # Let's do the plotting with a different notebook.\n",
    "# import seaborn as sns\n",
    "# import scipy.stats as stats\n",
    "import re\n",
    "import time\n",
    "import operator"
   ]
  },
  {
   "cell_type": "code",
   "execution_count": 2,
   "id": "6a92db52",
   "metadata": {},
   "outputs": [],
   "source": [
    "urls = {'Daily Kos': 'https://www.dailykos.com/', 'The Guardian': 'https://www.theguardian.com/us', \n",
    "        'CNN': 'https://www.cnn.com/', 'Fox': 'https://www.foxnews.com/', \n",
    "        'NY Post': 'https://nypost.com/', 'The Blaze': 'https://www.theblaze.com/'}"
   ]
  },
  {
   "cell_type": "code",
   "execution_count": 5,
   "id": "b6f13365",
   "metadata": {},
   "outputs": [],
   "source": [
    "# take a sample every 30 minutes for ?? hours."
   ]
  },
  {
   "cell_type": "code",
   "execution_count": null,
   "id": "26d427c9",
   "metadata": {},
   "outputs": [],
   "source": [
    "# test the idea.\n",
    "\n",
    "numHours = 24*3 # Length of sampling time.\n",
    "freq = 2 # samples per hour\n",
    "numIter = numHours*freq # How many requests total are we going to make?\n",
    "numSecs = 60*60/freq # the number of seconds that pass between each request: deterministic function of the freq.\n",
    "\n",
    "dem_matches = np.array([[0,0,0,0,0,0]]) #the first \"data point\" is bogus.\n",
    "rep_matches = np.array([[0,0,0,0,0,0]]) #the first \"data point\" is bogus.\n",
    "\n",
    "print(\"Number of iterations to complete: \" + str(numIter))\n",
    "\n",
    "for i in range(numIter):\n",
    "    sites = [requests.get(url) for url in urls.values()] # Make the request\n",
    "    demMatch = [len(list(re.finditer('(D|d)emocrat', str(html.content)))) for html in sites] # count democrat\n",
    "    demsMatch = [len(list(re.finditer('(D|d)ems', str(html.content)))) for html in sites] # count dems\n",
    "    repMatch = [len(list(re.finditer('(R|r)epublican', str(html.content)))) for html in sites] #count republican\n",
    "    GOPmatch = [len(list(re.finditer('GOP', str(html.content)))) for html in sites] # count GOP\n",
    "    \n",
    "    newthingD = list(map(operator.add,demMatch, demsMatch)) # add dem terms\n",
    "    newthingR = list(map(operator.add,repMatch, GOPmatch)) # add rep terms\n",
    "    dem_matches = np.append(dem_matches, [newthingD], axis=0)\n",
    "    rep_matches = np.append(rep_matches, [newthingR], axis=0)\n",
    "    print(\"completed iteration \" + str(i))\n",
    "    print('Waiting for ' + str(numSecs) + ' seconds before beginning the next iteration...')\n",
    "    time.sleep(numSecs)"
   ]
  },
  {
   "cell_type": "code",
   "execution_count": 12,
   "id": "aa07ef44",
   "metadata": {},
   "outputs": [],
   "source": [
    "with open(\"RepDemMatches.txt\", \"w\") as output:\n",
    "    output.write(str(dem_matches))\n",
    "    output.write('\\n')\n",
    "    output.write(str(rep_matches))"
   ]
  },
  {
   "cell_type": "code",
   "execution_count": null,
   "id": "2cbab798",
   "metadata": {},
   "outputs": [],
   "source": []
  }
 ],
 "metadata": {
  "kernelspec": {
   "display_name": "Python 3",
   "language": "python",
   "name": "python3"
  },
  "language_info": {
   "codemirror_mode": {
    "name": "ipython",
    "version": 3
   },
   "file_extension": ".py",
   "mimetype": "text/x-python",
   "name": "python",
   "nbconvert_exporter": "python",
   "pygments_lexer": "ipython3",
   "version": "3.8.8"
  }
 },
 "nbformat": 4,
 "nbformat_minor": 5
}
