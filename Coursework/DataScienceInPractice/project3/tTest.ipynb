{
 "cells": [
  {
   "cell_type": "code",
   "execution_count": 1,
   "id": "9d085705",
   "metadata": {},
   "outputs": [],
   "source": [
    "import pandas as pd\n",
    "import numpy as np\n",
    "import matplotlib.pyplot as plt\n",
    "import seaborn as sns\n",
    "import scipy.stats as stats"
   ]
  },
  {
   "cell_type": "code",
   "execution_count": 2,
   "id": "a8492de9",
   "metadata": {},
   "outputs": [],
   "source": [
    "f1 = open(\"Toy.txt\", \"r\")\n",
    "f1p = str(f1.read())"
   ]
  },
  {
   "cell_type": "code",
   "execution_count": 3,
   "id": "0034c9e2",
   "metadata": {},
   "outputs": [],
   "source": [
    "F1 = f1p.replace('\\n ', ',')\n",
    "F1 = F1.replace('\\n', ',')\n",
    "F1 = F1.replace('[  ', '[')\n",
    "F1 = F1.replace('[ ', '[')\n",
    "F1 = F1.replace('   ', ',')\n",
    "F1 = F1.replace('  ', ',')\n",
    "F1 = F1.replace(' ', ',')"
   ]
  },
  {
   "cell_type": "code",
   "execution_count": 4,
   "id": "f0872fd0",
   "metadata": {},
   "outputs": [],
   "source": [
    "F1d = np.array(eval(F1[0:F1.find(',[[')]))\n",
    "F1r = np.array(eval(F1[F1.find(',[[')+1:]))"
   ]
  },
  {
   "cell_type": "code",
   "execution_count": 5,
   "id": "1df07d96",
   "metadata": {},
   "outputs": [],
   "source": [
    "# Now the first dataset is read in."
   ]
  },
  {
   "cell_type": "code",
   "execution_count": 6,
   "id": "ed7e2039",
   "metadata": {},
   "outputs": [],
   "source": [
    "f2 = open(\"RepDemMatches.txt\", \"r\")\n",
    "f2p = str(f2.read()) "
   ]
  },
  {
   "cell_type": "code",
   "execution_count": 7,
   "id": "2e07eb8b",
   "metadata": {},
   "outputs": [],
   "source": [
    "F2 = f2p.replace('\\n ', ',')\n",
    "F2 = F2.replace('\\n', ',')\n",
    "F2 = F2.replace('[  ', '[')\n",
    "F2 = F2.replace('[ ', '[')\n",
    "F2 = F2.replace('   ', ',')\n",
    "F2 = F2.replace('  ', ',')\n",
    "F2 = F2.replace(' ', ',')"
   ]
  },
  {
   "cell_type": "code",
   "execution_count": 8,
   "id": "49d7d2f3",
   "metadata": {},
   "outputs": [],
   "source": [
    "F2d = np.array(eval(F2[0:F2.find(',[[')]))\n",
    "F2r = np.array(eval(F2[F2.find(',[[')+1:]))"
   ]
  },
  {
   "cell_type": "code",
   "execution_count": 9,
   "id": "fd3e812d",
   "metadata": {},
   "outputs": [],
   "source": [
    "# Now the second dataset is read in."
   ]
  },
  {
   "cell_type": "code",
   "execution_count": 10,
   "id": "52348cee",
   "metadata": {},
   "outputs": [],
   "source": [
    "F1dT = F1d.transpose()\n",
    "F1rT = F1r.transpose()\n",
    "F2dT = F2d.transpose()\n",
    "F2rT = F2r.transpose()"
   ]
  },
  {
   "cell_type": "code",
   "execution_count": 11,
   "id": "fa3c6535",
   "metadata": {},
   "outputs": [],
   "source": [
    "# Now we're going to just concern ourselves with the Daily Kos and Blaze data."
   ]
  },
  {
   "cell_type": "code",
   "execution_count": 12,
   "id": "57d3ab65",
   "metadata": {},
   "outputs": [],
   "source": [
    "KosD = [F1dT[0][i] for i in range(1,len(F1dT[0]))]\n",
    "KosD.extend([F2dT[0][i] for i in range(1,len(F2dT[0]))])\n",
    "KosR = [F1rT[0][i] for i in range(1,len(F1rT[0]))]\n",
    "KosR.extend([F2rT[0][i] for i in range(1,len(F2rT[0]))])"
   ]
  },
  {
   "cell_type": "code",
   "execution_count": 13,
   "id": "e7efab86",
   "metadata": {},
   "outputs": [],
   "source": [
    "BlazeD = [F1dT[1][i] for i in range(1,len(F1dT[1]))]\n",
    "BlazeD.extend([F2dT[1][i] for i in range(1,len(F2dT[1]))])\n",
    "BlazeR = [F1rT[1][i] for i in range(1,len(F1rT[1]))]\n",
    "BlazeR.extend([F2rT[1][i] for i in range(1,len(F2rT[1]))])"
   ]
  },
  {
   "cell_type": "code",
   "execution_count": 14,
   "id": "baeaac71",
   "metadata": {},
   "outputs": [],
   "source": [
    "KosDP = [KosD[i]/(KosD[i]+KosR[i]) for i in range(len(KosD)-16)]\n",
    "BlazeDP = [BlazeD[i]/(BlazeD[i]+BlazeR[i]) for i in range(len(BlazeD)-16)] # some are nans: superbowl or baloons?"
   ]
  },
  {
   "cell_type": "code",
   "execution_count": 15,
   "id": "415c051c",
   "metadata": {},
   "outputs": [
    {
     "data": {
      "text/plain": [
       "Ttest_indResult(statistic=7.443744414772836, pvalue=7.669751305565525e-13)"
      ]
     },
     "execution_count": 15,
     "metadata": {},
     "output_type": "execute_result"
    }
   ],
   "source": [
    "stats.ttest_ind(KosDP, BlazeDP) #Here's the t test."
   ]
  },
  {
   "cell_type": "code",
   "execution_count": 16,
   "id": "030ea693",
   "metadata": {},
   "outputs": [],
   "source": [
    "# Everything from here on down is about visualizing the different distributions."
   ]
  },
  {
   "cell_type": "code",
   "execution_count": 17,
   "id": "d9e978e1",
   "metadata": {},
   "outputs": [],
   "source": [
    "Dnp = np.array([KosDP, BlazeDP])"
   ]
  },
  {
   "cell_type": "code",
   "execution_count": 18,
   "id": "ac8fc18b",
   "metadata": {},
   "outputs": [],
   "source": [
    "labels = ['Kos' for i in range(len(KosDP))]\n",
    "labels.extend(['Blaze' for i in range(len(BlazeDP))])\n",
    "KosDP.extend(BlazeDP)"
   ]
  },
  {
   "cell_type": "code",
   "execution_count": 19,
   "id": "976436ac",
   "metadata": {},
   "outputs": [],
   "source": [
    "mynp = np.array([KosDP, labels])"
   ]
  },
  {
   "cell_type": "code",
   "execution_count": 20,
   "id": "b7b41545",
   "metadata": {},
   "outputs": [],
   "source": [
    "Ddf = pd.DataFrame(data=mynp.transpose(), columns = ['Proportions', 'news'])"
   ]
  },
  {
   "cell_type": "code",
   "execution_count": 21,
   "id": "eb7bb2d4",
   "metadata": {},
   "outputs": [],
   "source": [
    "Ddf['Proportions'] = Ddf['Proportions'].astype(float)"
   ]
  },
  {
   "cell_type": "code",
   "execution_count": 22,
   "id": "31216d02",
   "metadata": {},
   "outputs": [
    {
     "data": {
      "image/png": "[encoded data removed]",
      "text/plain": [
       "<Figure size 783.125x720 with 1 Axes>"
      ]
     },
     "metadata": {
      "needs_background": "light"
     },
     "output_type": "display_data"
    }
   ],
   "source": [
    "myplot = sns.displot(data=Ddf, x='Proportions', hue='news', kind='hist', common_norm=False,\n",
    "                    height=10, bins=20)\n",
    "#sns.displot(x=KosDP, kind='hist', height=5, color='Blue')\n",
    "#sns.displot(x=BlazeDP, kind='hist', height=5, color='Orange')\n",
    "plt.xlabel('Proportion of Dem References')\n",
    "plt.ylabel('Number of Samples')\n",
    "plt.show()"
   ]
  },
  {
   "cell_type": "code",
   "execution_count": 23,
   "id": "aa685373",
   "metadata": {},
   "outputs": [],
   "source": [
    "myplot.savefig('DemRefsKosBlaze.pdf')"
   ]
  },
  {
   "cell_type": "code",
   "execution_count": null,
   "id": "0224dcce",
   "metadata": {},
   "outputs": [],
   "source": []
  }
 ],
 "metadata": {
  "kernelspec": {
   "display_name": "Python 3",
   "language": "python",
   "name": "python3"
  },
  "language_info": {
   "codemirror_mode": {
    "name": "ipython",
    "version": 3
   },
   "file_extension": ".py",
   "mimetype": "text/x-python",
   "name": "python",
   "nbconvert_exporter": "python",
   "pygments_lexer": "ipython3",
   "version": "3.8.8"
  }
 },
 "nbformat": 4,
 "nbformat_minor": 5
}
