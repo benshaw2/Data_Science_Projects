{
 "cells": [
  {
   "cell_type": "markdown",
   "metadata": {},
   "source": [
    "# Problem 5.1"
   ]
  },
  {
   "cell_type": "code",
   "execution_count": null,
   "metadata": {},
   "outputs": [],
   "source": [
    "'''\n",
    "You can start using the same code as in HW3. Some things to consider:\n",
    "\n",
    "- Now we are using the skorch library which allows us to do parameter tunning in the same way as for\n",
    "other classifiers in sklearn. \n",
    "- The code to add L1 regularization is already implemented.\n",
    "\n",
    "\n",
    "'''"
   ]
  },
  {
   "cell_type": "code",
   "execution_count": 1,
   "metadata": {},
   "outputs": [
    {
     "data": {
      "text/plain": [
       "'\\nStep - Import Mnist training and testing data sets as we did for HW3. But do not use Dataloader, \\nskorch will do that step for us.\\n\\nStep - Normalize the data so the pixel values are between 0 and 1. \\n     - Make sure the shape of the data tensor is not (n_observations, 28, 28), but (n_observations, 784)\\n     - Also make sure the data is type float and the targets type integer\\n     - Name the data X_train and X_test and the labels y_train and y_test\\n     \\n'"
      ]
     },
     "execution_count": 1,
     "metadata": {},
     "output_type": "execute_result"
    }
   ],
   "source": [
    "'''\n",
    "Import packages \n",
    "'''\n",
    "\n",
    "import torch\n",
    "import torch.nn as nn\n",
    "import torchvision\n",
    "import torchvision.transforms as transforms\n",
    "from sklearn.metrics import accuracy_score\n",
    "import torch.nn.functional as F\n",
    "\n",
    "# Device configuration - If you have CUDA configured, you must use it. Try training with CPU and observe what happens\n",
    "device = torch.device('cuda' if torch.cuda.is_available() else 'cpu')\n",
    "\n",
    "\n",
    "'''\n",
    "Step - Import Mnist training and testing data sets as we did for HW3. But do not use Dataloader, \n",
    "skorch will do that step for us.\n",
    "\n",
    "Step - Normalize the data so the pixel values are between 0 and 1. \n",
    "     - Make sure the shape of the data tensor is not (n_observations, 28, 28), but (n_observations, 784)\n",
    "     - Also make sure the data is type float and the targets type integer\n",
    "     - Name the data X_train and X_test and the labels y_train and y_test\n",
    "     \n",
    "'''\n"
   ]
  },
  {
   "cell_type": "code",
   "execution_count": 2,
   "metadata": {},
   "outputs": [],
   "source": [
    "import numpy as np"
   ]
  },
  {
   "cell_type": "code",
   "execution_count": 3,
   "metadata": {},
   "outputs": [
    {
     "name": "stderr",
     "output_type": "stream",
     "text": [
      "C:\\ProgramData\\Anaconda3\\lib\\site-packages\\torchvision\\datasets\\mnist.py:498: UserWarning: The given NumPy array is not writeable, and PyTorch does not support non-writeable tensors. This means you can write to the underlying (supposedly non-writeable) NumPy array using the tensor. You may want to copy the array to protect its data or make it writeable before converting it to a tensor. This type of warning will be suppressed for the rest of this program. (Triggered internally at  ..\\torch\\csrc\\utils\\tensor_numpy.cpp:180.)\n",
      "  return torch.from_numpy(parsed.astype(m[2], copy=False)).view(*s)\n"
     ]
    }
   ],
   "source": [
    "train_dataset = torchvision.datasets.MNIST(root='./data', \n",
    "                                           train=True, \n",
    "                                           transform=transforms.ToTensor(),  \n",
    "                                           download=True)\n",
    "\n",
    "test_dataset = torchvision.datasets.MNIST(root='./data', \n",
    "                                          train=False, \n",
    "                                          transform=transforms.ToTensor())\n"
   ]
  },
  {
   "cell_type": "code",
   "execution_count": 4,
   "metadata": {},
   "outputs": [
    {
     "data": {
      "text/plain": [
       "torch.Size([60000, 784])"
      ]
     },
     "execution_count": 4,
     "metadata": {},
     "output_type": "execute_result"
    }
   ],
   "source": [
    "X_train = torch.cat(tuple([train_dataset[i][0].reshape(-1,28*28) for i in range(len(train_dataset))]))\n",
    "X_train.shape"
   ]
  },
  {
   "cell_type": "code",
   "execution_count": 5,
   "metadata": {},
   "outputs": [
    {
     "data": {
      "text/plain": [
       "torch.Size([10000, 784])"
      ]
     },
     "execution_count": 5,
     "metadata": {},
     "output_type": "execute_result"
    }
   ],
   "source": [
    "X_test = torch.cat(tuple([test_dataset[i][0].reshape(-1,28*28) for i in range(len(test_dataset))]))\n",
    "X_test.shape"
   ]
  },
  {
   "cell_type": "code",
   "execution_count": 6,
   "metadata": {},
   "outputs": [
    {
     "data": {
      "text/plain": [
       "torch.Size([60000])"
      ]
     },
     "execution_count": 6,
     "metadata": {},
     "output_type": "execute_result"
    }
   ],
   "source": [
    "y_train = torch.tensor([train_dataset[i][1] for i in range(len(train_dataset))])\n",
    "y_train.shape"
   ]
  },
  {
   "cell_type": "code",
   "execution_count": 7,
   "metadata": {},
   "outputs": [
    {
     "data": {
      "text/plain": [
       "torch.Size([10000])"
      ]
     },
     "execution_count": 7,
     "metadata": {},
     "output_type": "execute_result"
    }
   ],
   "source": [
    "y_test = torch.tensor([test_dataset[i][1] for i in range(len(test_dataset))])\n",
    "y_test.shape"
   ]
  },
  {
   "cell_type": "code",
   "execution_count": 8,
   "metadata": {},
   "outputs": [],
   "source": [
    "ytrain = y_train.type(torch.LongTensor)\n",
    "y_test = y_test.type(torch.LongTensor)"
   ]
  },
  {
   "cell_type": "code",
   "execution_count": null,
   "metadata": {},
   "outputs": [],
   "source": []
  },
  {
   "cell_type": "code",
   "execution_count": null,
   "metadata": {},
   "outputs": [],
   "source": []
  },
  {
   "cell_type": "code",
   "execution_count": 9,
   "metadata": {
    "colab": {},
    "colab_type": "code",
    "id": "xgQGKYQIlrFt"
   },
   "outputs": [],
   "source": [
    "#Adding L1 regularization\n",
    "\n",
    "from skorch import NeuralNet\n",
    "\n",
    "class MyModule(nn.Module):\n",
    "    def __init__(self, input_size, layer1size, layer2size, num_classes, dropout=0.25):\n",
    "        #self.__hLL = hiddenLayerList\n",
    "        super(MyModule, self).__init__()\n",
    "        \n",
    "        #First, we will take as input\n",
    "        self.first = nn.Linear(input_size, layer1size)\n",
    "        \n",
    "        #Here's the ReLU activation.\n",
    "        self.relu = nn.ReLU(inplace=False)\n",
    "        \n",
    "        self.second = nn.Linear(layer1size, layer2size)\n",
    "            \n",
    "        #And now we go from the last hidden layer to the output layer.\n",
    "        #self.last = nn.Linear(hiddenLayerList[-1], num_classes)\n",
    "        self.last = nn.Linear(layer2size, num_classes)\n",
    "        \n",
    "        #Here is the last activation softmax\n",
    "        self.Last = nn.LogSoftmax()\n",
    "        \n",
    "        #Lastly, we'll define dropout.\n",
    "        self.dropout = nn.Dropout(dropout)\n",
    "        \n",
    "    #Now we'll define the forward method.\n",
    "    def forward(self, x):\n",
    "        out = self.first(x)\n",
    "        out = self.relu(out)\n",
    "        out = self.dropout(out)\n",
    "        out = self.second(out)\n",
    "        out = self.relu(out)\n",
    "        self.dropout(out)\n",
    "        out = self.last(out)\n",
    "        out = self.Last(out)\n",
    "        return out\n",
    "    \n",
    "    '''\n",
    "    \n",
    "    Step - Fill in the Neural Network here. Use the same arquitecture as in HW3, but now add a new hidden layer.\n",
    "    and dropout\n",
    "    Remember to use ReLU activations in the hidden layers. \n",
    "    \n",
    "    \n",
    "    \n",
    "    '''\n",
    "    \n",
    "    pass\n",
    "\n"
   ]
  },
  {
   "cell_type": "code",
   "execution_count": null,
   "metadata": {},
   "outputs": [],
   "source": [
    "# We'll try a few loss functions:\n",
    "# criterion = nn.CrossEntropyLoss()"
   ]
  },
  {
   "cell_type": "code",
   "execution_count": 10,
   "metadata": {},
   "outputs": [],
   "source": [
    "class RegularizedNet(NeuralNet):\n",
    "    \n",
    "    ''''''\n",
    "    \n",
    "    def __init__(self, *args, lambda1=0.01, **kwargs):\n",
    "        super().__init__(*args, **kwargs)\n",
    "        self.lambda1 = lambda1\n",
    "    \n",
    "    ''' *** - What is the following method doing? Explain in detail in the main pdf ***'''\n",
    "    \n",
    "    def get_loss(self, y_pred, y_true, X=None, training=False):\n",
    "        loss = super().get_loss(y_pred, y_true, X=X, training=training)\n",
    "        loss += self.lambda1 * sum([w.abs().sum() for w in self.module_.parameters()])\n",
    "        return loss\n",
    "\n",
    "    "
   ]
  },
  {
   "cell_type": "code",
   "execution_count": null,
   "metadata": {},
   "outputs": [],
   "source": [
    "# torch.optim.SGD(model.parameters(), lr = learning_rate)"
   ]
  },
  {
   "cell_type": "code",
   "execution_count": 16,
   "metadata": {
    "colab": {},
    "colab_type": "code",
    "id": "xgQGKYQIlrFt"
   },
   "outputs": [],
   "source": [
    "'''\n",
    "Here we define the RegularizedNet. Make sure you use nn.NLLLoss. Thus, you have to use a correct last activation\n",
    "in the forward method of your network\n",
    "\n",
    "We can especify different parameters as learning rate (lr), our optimizar (start with standard SGD, in 5.3 we will\n",
    "try another ones), batch size etc.\n",
    "To define the arquitecture parameters for MyModule write them as module__<name of your parameter> = ....\n",
    "\n",
    "Since we have to train it first with L2 regularization lambda1 should be equal to 0\n",
    "'''\n",
    "new_net = RegularizedNet(module=MyModule, criterion=torch.nn.NLLLoss, \n",
    "                        optimizer=torch.optim.SGD, lr = 0.15, lambda1 = 0,  module__dropout = 0.1,\n",
    "                        optimizer__weight_decay = 0, module__input_size = 784, module__layer1size = 400,\n",
    "                        module__layer2size = 150, module__num_classes = 10)\n",
    "    "
   ]
  },
  {
   "cell_type": "code",
   "execution_count": 17,
   "metadata": {
    "colab": {},
    "colab_type": "code",
    "id": "Gb6yTL_ulzD6"
   },
   "outputs": [
    {
     "name": "stderr",
     "output_type": "stream",
     "text": [
      "<ipython-input-9-bb6654121bf9>:51: UserWarning: Implicit dimension choice for log_softmax has been deprecated. Change the call to include dim=X as an argument.\n",
      "  out = self.Last(out)\n"
     ]
    },
    {
     "name": "stdout",
     "output_type": "stream",
     "text": [
      "  epoch    train_loss    valid_loss     dur\n",
      "-------  ------------  ------------  ------\n",
      "      1        \u001b[36m0.6510\u001b[0m        \u001b[32m0.3073\u001b[0m  3.1279\n",
      "      2        \u001b[36m0.2432\u001b[0m        \u001b[32m0.2330\u001b[0m  3.1647\n",
      "      3        \u001b[36m0.1712\u001b[0m        \u001b[32m0.1747\u001b[0m  3.4767\n",
      "      4        \u001b[36m0.1312\u001b[0m        \u001b[32m0.1425\u001b[0m  3.2860\n",
      "      5        \u001b[36m0.1052\u001b[0m        \u001b[32m0.1125\u001b[0m  3.4352\n",
      "      6        \u001b[36m0.0866\u001b[0m        \u001b[32m0.1015\u001b[0m  3.4442\n",
      "      7        \u001b[36m0.0728\u001b[0m        \u001b[32m0.0939\u001b[0m  3.1891\n",
      "      8        \u001b[36m0.0616\u001b[0m        \u001b[32m0.0853\u001b[0m  3.4607\n",
      "      9        \u001b[36m0.0540\u001b[0m        0.0875  3.2616\n",
      "     10        \u001b[36m0.0469\u001b[0m        \u001b[32m0.0801\u001b[0m  3.2887\n",
      "     11        \u001b[36m0.0402\u001b[0m        \u001b[32m0.0773\u001b[0m  3.2735\n",
      "     12        \u001b[36m0.0343\u001b[0m        0.0786  3.3048\n",
      "     13        \u001b[36m0.0302\u001b[0m        \u001b[32m0.0744\u001b[0m  3.3986\n",
      "     14        \u001b[36m0.0268\u001b[0m        0.0752  3.3385\n",
      "     15        \u001b[36m0.0245\u001b[0m        \u001b[32m0.0719\u001b[0m  3.4318\n",
      "     16        \u001b[36m0.0217\u001b[0m        \u001b[32m0.0697\u001b[0m  3.6788\n",
      "     17        \u001b[36m0.0184\u001b[0m        0.0730  3.4992\n",
      "     18        \u001b[36m0.0152\u001b[0m        0.0718  3.6712\n",
      "     19        \u001b[36m0.0150\u001b[0m        0.0730  3.3920\n",
      "     20        \u001b[36m0.0142\u001b[0m        0.0706  3.3796\n"
     ]
    },
    {
     "data": {
      "text/plain": [
       "'\\nLook how your loss is going down as well as the validation accuracy is increasing \\n'"
      ]
     },
     "execution_count": 17,
     "metadata": {},
     "output_type": "execute_result"
    }
   ],
   "source": [
    "'''Step - train the network'''\n",
    "\n",
    "new_net.fit(X_train, y_train, epochs=20)\n",
    "\n",
    "'''\n",
    "Look how your loss is going down as well as the validation accuracy is increasing \n",
    "'''"
   ]
  },
  {
   "cell_type": "code",
   "execution_count": 18,
   "metadata": {},
   "outputs": [
    {
     "name": "stderr",
     "output_type": "stream",
     "text": [
      "<ipython-input-9-bb6654121bf9>:51: UserWarning: Implicit dimension choice for log_softmax has been deprecated. Change the call to include dim=X as an argument.\n",
      "  out = self.Last(out)\n"
     ]
    }
   ],
   "source": [
    "y_pred_probs = new_net.predict(X_test)"
   ]
  },
  {
   "cell_type": "code",
   "execution_count": 19,
   "metadata": {
    "colab": {},
    "colab_type": "code",
    "id": "UFN1PQ50lzGi"
   },
   "outputs": [],
   "source": [
    "'''Step - Predict for the test set and print the final accuracy score, your validation accuracy obtained in the previous\n",
    "cell should be similar to the accuracy in the test set\n",
    "'''\n",
    "# y_pred = new_net.predict(X_test)\n",
    "y_pred = torch.tensor([np.argmax(y_pred_probs[i]) for i in range(y_pred_probs.shape[0])])\n",
    "y_pred = y_pred.type(torch.LongTensor)"
   ]
  },
  {
   "cell_type": "code",
   "execution_count": 20,
   "metadata": {},
   "outputs": [
    {
     "data": {
      "text/plain": [
       "0.9801"
      ]
     },
     "execution_count": 20,
     "metadata": {},
     "output_type": "execute_result"
    }
   ],
   "source": [
    "accuracy_score(y_test, y_pred)"
   ]
  },
  {
   "cell_type": "code",
   "execution_count": null,
   "metadata": {},
   "outputs": [],
   "source": []
  },
  {
   "cell_type": "code",
   "execution_count": null,
   "metadata": {},
   "outputs": [],
   "source": []
  },
  {
   "cell_type": "code",
   "execution_count": 21,
   "metadata": {
    "colab": {},
    "colab_type": "code",
    "id": "OXbcnqA7lzIi"
   },
   "outputs": [
    {
     "data": {
      "text/plain": [
       "'\\nStep - define a grid with some parameters that you consider may give you good results and \\nthe code will do the rest for you\\n\\n* Especially take into account the parameters we are asking for to tune:  \\nLearning rate, regularization parameter, and the number of nodes\\n\\n'"
      ]
     },
     "execution_count": 21,
     "metadata": {},
     "output_type": "execute_result"
    }
   ],
   "source": [
    "'''The idea is that you should get more than 98% of accuracy, so try different parameters as requested in the main pdf\n",
    "The fit method is already showing you a validation error which can be used to compare between different parameters.\n",
    "\n",
    "for the final submission leave the best parameters in your RegularizedNet(...)\n",
    "'''\n",
    "'''\n",
    "Instead of doing it manually skorch allows us to use GridSearchCV from sklearn \n",
    "'''\n",
    "from sklearn.model_selection import GridSearchCV\n",
    "\n",
    "'''\n",
    "Step - define a grid with some parameters that you consider may give you good results and \n",
    "the code will do the rest for you\n",
    "\n",
    "* Especially take into account the parameters we are asking for to tune:  \n",
    "Learning rate, regularization parameter, and the number of nodes\n",
    "\n",
    "'''\n",
    "\n",
    "\n"
   ]
  },
  {
   "cell_type": "code",
   "execution_count": 50,
   "metadata": {},
   "outputs": [],
   "source": [
    "#module=MyModule, criterion=torch.nn.NLLLoss, \n",
    " #                       optimizer=torch.optim.SGD, lr = 0.13, lambda1 = 0,  module__dropout = 0.25,\n",
    "  #                      optimizer__weight_decay = 0, module__input_size = 784, module__layer1size = 400,\n",
    "   #                     module__layer2size = 150, module__num_classes = 10\n",
    "\n",
    "\n",
    "grid = {\n",
    "    'lr': [0.01, 0.1, 0.001],\n",
    "    'module__layer1size': [400,200],\n",
    "    'module__layer2size': [150,70],\n",
    "    'optimizer__weight_decay': [0.001, 0.1]\n",
    "    \n",
    "}\n",
    "\n",
    "\n",
    "\n"
   ]
  },
  {
   "cell_type": "code",
   "execution_count": null,
   "metadata": {},
   "outputs": [],
   "source": [
    "#Due to issues with datatypes, we will create our own scoring method."
   ]
  },
  {
   "cell_type": "code",
   "execution_count": 46,
   "metadata": {},
   "outputs": [],
   "source": [
    "def my_scoring(Estimator, X_Test, Y_Test):\n",
    "    Y_pred_probs = Estimator.predict(X_Test)\n",
    "    Y_pred = torch.tensor([np.argmax(Y_pred_probs[i]) for i in range(Y_pred_probs.shape[0])])\n",
    "    Y_pred = Y_pred.type(torch.LongTensor)\n",
    "    return accuracy_score(Y_Test, Y_pred)\n"
   ]
  },
  {
   "cell_type": "code",
   "execution_count": null,
   "metadata": {},
   "outputs": [],
   "source": []
  },
  {
   "cell_type": "code",
   "execution_count": null,
   "metadata": {},
   "outputs": [],
   "source": []
  },
  {
   "cell_type": "code",
   "execution_count": null,
   "metadata": {},
   "outputs": [],
   "source": []
  },
  {
   "cell_type": "code",
   "execution_count": 51,
   "metadata": {},
   "outputs": [],
   "source": [
    "'''\n",
    "Important that you keep refit = True\n",
    "'''\n",
    "#gs = GridSearchCV(new_net, grid, refit=True, cv=5, scoring='accuracy')\n",
    "gs = GridSearchCV(new_net, grid, refit=True, cv=5, scoring=my_scoring)"
   ]
  },
  {
   "cell_type": "code",
   "execution_count": 89,
   "metadata": {
    "scrolled": true
   },
   "outputs": [
    {
     "name": "stderr",
     "output_type": "stream",
     "text": [
      "<ipython-input-9-bb6654121bf9>:51: UserWarning: Implicit dimension choice for log_softmax has been deprecated. Change the call to include dim=X as an argument.\n",
      "  out = self.Last(out)\n"
     ]
    },
    {
     "name": "stdout",
     "output_type": "stream",
     "text": [
      "  epoch    train_loss    valid_loss     dur\n",
      "-------  ------------  ------------  ------\n",
      "      1        \u001b[36m2.2240\u001b[0m        \u001b[32m2.1012\u001b[0m  2.2715\n",
      "      2        \u001b[36m1.7688\u001b[0m        \u001b[32m1.3284\u001b[0m  2.2897\n",
      "      3        \u001b[36m0.9892\u001b[0m        \u001b[32m0.7730\u001b[0m  2.2907\n",
      "      4        \u001b[36m0.6591\u001b[0m        \u001b[32m0.5925\u001b[0m  2.3082\n",
      "      5        \u001b[36m0.5367\u001b[0m        \u001b[32m0.5080\u001b[0m  2.8008\n",
      "      6        \u001b[36m0.4721\u001b[0m        \u001b[32m0.4584\u001b[0m  2.8426\n",
      "      7        \u001b[36m0.4316\u001b[0m        \u001b[32m0.4259\u001b[0m  2.7422\n",
      "      8        \u001b[36m0.4053\u001b[0m        \u001b[32m0.4026\u001b[0m  2.7155\n",
      "      9        \u001b[36m0.3840\u001b[0m        \u001b[32m0.3848\u001b[0m  2.6445\n",
      "     10        \u001b[36m0.3669\u001b[0m        \u001b[32m0.3704\u001b[0m  2.5940\n",
      "     11        \u001b[36m0.3515\u001b[0m        \u001b[32m0.3591\u001b[0m  2.7211\n",
      "     12        \u001b[36m0.3410\u001b[0m        \u001b[32m0.3490\u001b[0m  2.7527\n",
      "     13        \u001b[36m0.3302\u001b[0m        \u001b[32m0.3393\u001b[0m  2.6141\n",
      "     14        \u001b[36m0.3210\u001b[0m        \u001b[32m0.3311\u001b[0m  2.5949\n",
      "     15        \u001b[36m0.3108\u001b[0m        \u001b[32m0.3229\u001b[0m  2.6767\n",
      "     16        \u001b[36m0.3052\u001b[0m        \u001b[32m0.3157\u001b[0m  2.5555\n",
      "     17        \u001b[36m0.2956\u001b[0m        \u001b[32m0.3094\u001b[0m  2.5966\n",
      "     18        \u001b[36m0.2888\u001b[0m        \u001b[32m0.3026\u001b[0m  2.6069\n",
      "     19        \u001b[36m0.2822\u001b[0m        \u001b[32m0.2960\u001b[0m  2.5649\n",
      "     20        \u001b[36m0.2759\u001b[0m        \u001b[32m0.2903\u001b[0m  2.6416\n"
     ]
    },
    {
     "name": "stderr",
     "output_type": "stream",
     "text": [
      "<ipython-input-9-bb6654121bf9>:51: UserWarning: Implicit dimension choice for log_softmax has been deprecated. Change the call to include dim=X as an argument.\n",
      "  out = self.Last(out)\n"
     ]
    },
    {
     "name": "stdout",
     "output_type": "stream",
     "text": [
      "  epoch    train_loss    valid_loss     dur\n",
      "-------  ------------  ------------  ------\n",
      "      1        \u001b[36m2.2296\u001b[0m        \u001b[32m2.1018\u001b[0m  2.6030\n",
      "      2        \u001b[36m1.7747\u001b[0m        \u001b[32m1.3105\u001b[0m  2.7862\n",
      "      3        \u001b[36m0.9944\u001b[0m        \u001b[32m0.7537\u001b[0m  3.0341\n",
      "      4        \u001b[36m0.6626\u001b[0m        \u001b[32m0.5716\u001b[0m  3.0153\n",
      "      5        \u001b[36m0.5383\u001b[0m        \u001b[32m0.4869\u001b[0m  2.6265\n",
      "      6        \u001b[36m0.4754\u001b[0m        \u001b[32m0.4382\u001b[0m  2.7852\n",
      "      7        \u001b[36m0.4351\u001b[0m        \u001b[32m0.4062\u001b[0m  2.5867\n",
      "      8        \u001b[36m0.4083\u001b[0m        \u001b[32m0.3831\u001b[0m  2.6174\n",
      "      9        \u001b[36m0.3882\u001b[0m        \u001b[32m0.3663\u001b[0m  2.5803\n",
      "     10        \u001b[36m0.3705\u001b[0m        \u001b[32m0.3522\u001b[0m  2.6381\n",
      "     11        \u001b[36m0.3578\u001b[0m        \u001b[32m0.3401\u001b[0m  2.6284\n",
      "     12        \u001b[36m0.3448\u001b[0m        \u001b[32m0.3300\u001b[0m  2.9316\n",
      "     13        \u001b[36m0.3341\u001b[0m        \u001b[32m0.3211\u001b[0m  2.8183\n",
      "     14        \u001b[36m0.3260\u001b[0m        \u001b[32m0.3129\u001b[0m  2.6816\n",
      "     15        \u001b[36m0.3164\u001b[0m        \u001b[32m0.3050\u001b[0m  2.9119\n",
      "     16        \u001b[36m0.3088\u001b[0m        \u001b[32m0.2980\u001b[0m  2.8344\n",
      "     17        \u001b[36m0.2998\u001b[0m        \u001b[32m0.2915\u001b[0m  3.0824\n",
      "     18        \u001b[36m0.2945\u001b[0m        \u001b[32m0.2854\u001b[0m  2.9193\n",
      "     19        \u001b[36m0.2880\u001b[0m        \u001b[32m0.2796\u001b[0m  2.7288\n",
      "     20        \u001b[36m0.2801\u001b[0m        \u001b[32m0.2738\u001b[0m  2.8736\n"
     ]
    },
    {
     "name": "stderr",
     "output_type": "stream",
     "text": [
      "<ipython-input-9-bb6654121bf9>:51: UserWarning: Implicit dimension choice for log_softmax has been deprecated. Change the call to include dim=X as an argument.\n",
      "  out = self.Last(out)\n"
     ]
    },
    {
     "name": "stdout",
     "output_type": "stream",
     "text": [
      "  epoch    train_loss    valid_loss     dur\n",
      "-------  ------------  ------------  ------\n",
      "      1        \u001b[36m2.2355\u001b[0m        \u001b[32m2.1163\u001b[0m  3.1348\n",
      "      2        \u001b[36m1.8154\u001b[0m        \u001b[32m1.3758\u001b[0m  2.8386\n",
      "      3        \u001b[36m1.0414\u001b[0m        \u001b[32m0.7817\u001b[0m  2.7978\n",
      "      4        \u001b[36m0.6753\u001b[0m        \u001b[32m0.5750\u001b[0m  2.7333\n",
      "      5        \u001b[36m0.5344\u001b[0m        \u001b[32m0.4803\u001b[0m  2.9151\n",
      "      6        \u001b[36m0.4640\u001b[0m        \u001b[32m0.4294\u001b[0m  3.1611\n",
      "      7        \u001b[36m0.4244\u001b[0m        \u001b[32m0.3972\u001b[0m  2.7933\n",
      "      8        \u001b[36m0.3971\u001b[0m        \u001b[32m0.3758\u001b[0m  2.7406\n",
      "      9        \u001b[36m0.3779\u001b[0m        \u001b[32m0.3598\u001b[0m  2.9858\n",
      "     10        \u001b[36m0.3625\u001b[0m        \u001b[32m0.3471\u001b[0m  2.8810\n",
      "     11        \u001b[36m0.3515\u001b[0m        \u001b[32m0.3355\u001b[0m  2.8848\n",
      "     12        \u001b[36m0.3388\u001b[0m        \u001b[32m0.3266\u001b[0m  2.8203\n",
      "     13        \u001b[36m0.3302\u001b[0m        \u001b[32m0.3183\u001b[0m  2.8183\n",
      "     14        \u001b[36m0.3217\u001b[0m        \u001b[32m0.3104\u001b[0m  2.9889\n",
      "     15        \u001b[36m0.3133\u001b[0m        \u001b[32m0.3039\u001b[0m  2.9260\n",
      "     16        \u001b[36m0.3046\u001b[0m        \u001b[32m0.2974\u001b[0m  2.8582\n",
      "     17        \u001b[36m0.2979\u001b[0m        \u001b[32m0.2911\u001b[0m  3.0977\n",
      "     18        \u001b[36m0.2920\u001b[0m        \u001b[32m0.2855\u001b[0m  2.8212\n",
      "     19        \u001b[36m0.2850\u001b[0m        \u001b[32m0.2799\u001b[0m  2.7176\n",
      "     20        \u001b[36m0.2792\u001b[0m        \u001b[32m0.2746\u001b[0m  2.9761\n"
     ]
    },
    {
     "name": "stderr",
     "output_type": "stream",
     "text": [
      "<ipython-input-9-bb6654121bf9>:51: UserWarning: Implicit dimension choice for log_softmax has been deprecated. Change the call to include dim=X as an argument.\n",
      "  out = self.Last(out)\n"
     ]
    },
    {
     "name": "stdout",
     "output_type": "stream",
     "text": [
      "  epoch    train_loss    valid_loss     dur\n",
      "-------  ------------  ------------  ------\n",
      "      1        \u001b[36m2.2380\u001b[0m        \u001b[32m2.1230\u001b[0m  2.9151\n",
      "      2        \u001b[36m1.8447\u001b[0m        \u001b[32m1.4293\u001b[0m  2.7952\n",
      "      3        \u001b[36m1.0753\u001b[0m        \u001b[32m0.8012\u001b[0m  3.2508\n",
      "      4        \u001b[36m0.6946\u001b[0m        \u001b[32m0.5920\u001b[0m  2.9728\n",
      "      5        \u001b[36m0.5527\u001b[0m        \u001b[32m0.4968\u001b[0m  2.8403\n",
      "      6        \u001b[36m0.4801\u001b[0m        \u001b[32m0.4424\u001b[0m  2.7991\n",
      "      7        \u001b[36m0.4352\u001b[0m        \u001b[32m0.4081\u001b[0m  3.0790\n",
      "      8        \u001b[36m0.4047\u001b[0m        \u001b[32m0.3833\u001b[0m  3.0067\n",
      "      9        \u001b[36m0.3838\u001b[0m        \u001b[32m0.3653\u001b[0m  2.8156\n",
      "     10        \u001b[36m0.3673\u001b[0m        \u001b[32m0.3515\u001b[0m  2.7901\n",
      "     11        \u001b[36m0.3513\u001b[0m        \u001b[32m0.3398\u001b[0m  3.0163\n",
      "     12        \u001b[36m0.3403\u001b[0m        \u001b[32m0.3287\u001b[0m  2.9639\n",
      "     13        \u001b[36m0.3296\u001b[0m        \u001b[32m0.3195\u001b[0m  3.0122\n",
      "     14        \u001b[36m0.3191\u001b[0m        \u001b[32m0.3115\u001b[0m  2.9450\n",
      "     15        \u001b[36m0.3104\u001b[0m        \u001b[32m0.3035\u001b[0m  2.8066\n",
      "     16        \u001b[36m0.3027\u001b[0m        \u001b[32m0.2965\u001b[0m  3.1106\n",
      "     17        \u001b[36m0.2951\u001b[0m        \u001b[32m0.2897\u001b[0m  2.9612\n",
      "     18        \u001b[36m0.2865\u001b[0m        \u001b[32m0.2837\u001b[0m  2.9396\n",
      "     19        \u001b[36m0.2810\u001b[0m        \u001b[32m0.2778\u001b[0m  3.1568\n",
      "     20        \u001b[36m0.2736\u001b[0m        \u001b[32m0.2724\u001b[0m  3.0288\n"
     ]
    },
    {
     "name": "stderr",
     "output_type": "stream",
     "text": [
      "<ipython-input-9-bb6654121bf9>:51: UserWarning: Implicit dimension choice for log_softmax has been deprecated. Change the call to include dim=X as an argument.\n",
      "  out = self.Last(out)\n"
     ]
    },
    {
     "name": "stdout",
     "output_type": "stream",
     "text": [
      "  epoch    train_loss    valid_loss     dur\n",
      "-------  ------------  ------------  ------\n",
      "      1        \u001b[36m2.2313\u001b[0m        \u001b[32m2.1066\u001b[0m  2.9880\n",
      "      2        \u001b[36m1.7846\u001b[0m        \u001b[32m1.3310\u001b[0m  3.0104\n",
      "      3        \u001b[36m1.0273\u001b[0m        \u001b[32m0.7808\u001b[0m  2.7760\n",
      "      4        \u001b[36m0.6950\u001b[0m        \u001b[32m0.5899\u001b[0m  3.0386\n",
      "      5        \u001b[36m0.5629\u001b[0m        \u001b[32m0.4974\u001b[0m  2.9572\n",
      "      6        \u001b[36m0.4922\u001b[0m        \u001b[32m0.4429\u001b[0m  2.8989\n",
      "      7        \u001b[36m0.4472\u001b[0m        \u001b[32m0.4072\u001b[0m  2.9407\n",
      "      8        \u001b[36m0.4163\u001b[0m        \u001b[32m0.3822\u001b[0m  3.0408\n",
      "      9        \u001b[36m0.3946\u001b[0m        \u001b[32m0.3636\u001b[0m  2.8169\n",
      "     10        \u001b[36m0.3762\u001b[0m        \u001b[32m0.3486\u001b[0m  3.1624\n",
      "     11        \u001b[36m0.3622\u001b[0m        \u001b[32m0.3369\u001b[0m  2.9153\n",
      "     12        \u001b[36m0.3497\u001b[0m        \u001b[32m0.3254\u001b[0m  2.7332\n",
      "     13        \u001b[36m0.3373\u001b[0m        \u001b[32m0.3162\u001b[0m  3.0393\n",
      "     14        \u001b[36m0.3291\u001b[0m        \u001b[32m0.3080\u001b[0m  3.0693\n",
      "     15        \u001b[36m0.3205\u001b[0m        \u001b[32m0.3003\u001b[0m  2.8424\n",
      "     16        \u001b[36m0.3119\u001b[0m        \u001b[32m0.2933\u001b[0m  2.9386\n",
      "     17        \u001b[36m0.3032\u001b[0m        \u001b[32m0.2865\u001b[0m  3.1174\n",
      "     18        \u001b[36m0.2970\u001b[0m        \u001b[32m0.2802\u001b[0m  2.9244\n",
      "     19        \u001b[36m0.2883\u001b[0m        \u001b[32m0.2743\u001b[0m  2.8697\n",
      "     20        \u001b[36m0.2823\u001b[0m        \u001b[32m0.2687\u001b[0m  2.8161\n"
     ]
    },
    {
     "name": "stderr",
     "output_type": "stream",
     "text": [
      "<ipython-input-9-bb6654121bf9>:51: UserWarning: Implicit dimension choice for log_softmax has been deprecated. Change the call to include dim=X as an argument.\n",
      "  out = self.Last(out)\n"
     ]
    },
    {
     "name": "stdout",
     "output_type": "stream",
     "text": [
      "  epoch    train_loss    valid_loss     dur\n",
      "-------  ------------  ------------  ------\n",
      "      1        \u001b[36m2.2654\u001b[0m        \u001b[32m2.2342\u001b[0m  3.0650\n",
      "      2        \u001b[36m2.2033\u001b[0m        \u001b[32m2.1677\u001b[0m  2.8989\n",
      "      3        \u001b[36m2.1135\u001b[0m        \u001b[32m2.0492\u001b[0m  2.9370\n",
      "      4        \u001b[36m1.9499\u001b[0m        \u001b[32m1.8384\u001b[0m  2.9660\n",
      "      5        \u001b[36m1.7014\u001b[0m        \u001b[32m1.5837\u001b[0m  2.9979\n",
      "      6        \u001b[36m1.4779\u001b[0m        \u001b[32m1.3923\u001b[0m  2.9924\n",
      "      7        \u001b[36m1.3086\u001b[0m        \u001b[32m1.2424\u001b[0m  2.6884\n",
      "      8        \u001b[36m1.1850\u001b[0m        \u001b[32m1.1497\u001b[0m  2.5785\n",
      "      9        \u001b[36m1.1164\u001b[0m        \u001b[32m1.1010\u001b[0m  2.6772\n",
      "     10        \u001b[36m1.0779\u001b[0m        \u001b[32m1.0734\u001b[0m  2.7399\n",
      "     11        \u001b[36m1.0568\u001b[0m        \u001b[32m1.0568\u001b[0m  2.7185\n",
      "     12        \u001b[36m1.0426\u001b[0m        \u001b[32m1.0454\u001b[0m  2.9354\n",
      "     13        \u001b[36m1.0338\u001b[0m        \u001b[32m1.0377\u001b[0m  2.7654\n",
      "     14        \u001b[36m1.0255\u001b[0m        \u001b[32m1.0316\u001b[0m  2.8240\n",
      "     15        \u001b[36m1.0211\u001b[0m        \u001b[32m1.0271\u001b[0m  2.8323\n",
      "     16        \u001b[36m1.0164\u001b[0m        \u001b[32m1.0236\u001b[0m  2.8269\n",
      "     17        \u001b[36m1.0137\u001b[0m        \u001b[32m1.0211\u001b[0m  2.7860\n",
      "     18        \u001b[36m1.0113\u001b[0m        \u001b[32m1.0187\u001b[0m  2.7940\n",
      "     19        \u001b[36m1.0090\u001b[0m        \u001b[32m1.0170\u001b[0m  2.8608\n",
      "     20        \u001b[36m1.0066\u001b[0m        \u001b[32m1.0150\u001b[0m  2.8130\n"
     ]
    },
    {
     "name": "stderr",
     "output_type": "stream",
     "text": [
      "<ipython-input-9-bb6654121bf9>:51: UserWarning: Implicit dimension choice for log_softmax has been deprecated. Change the call to include dim=X as an argument.\n",
      "  out = self.Last(out)\n"
     ]
    },
    {
     "name": "stdout",
     "output_type": "stream",
     "text": [
      "  epoch    train_loss    valid_loss     dur\n",
      "-------  ------------  ------------  ------\n",
      "      1        \u001b[36m2.2661\u001b[0m        \u001b[32m2.2348\u001b[0m  3.1603\n",
      "      2        \u001b[36m2.2103\u001b[0m        \u001b[32m2.1748\u001b[0m  3.0587\n",
      "      3        \u001b[36m2.1249\u001b[0m        \u001b[32m2.0495\u001b[0m  2.9677\n",
      "      4        \u001b[36m1.9470\u001b[0m        \u001b[32m1.8133\u001b[0m  2.9277\n",
      "      5        \u001b[36m1.6994\u001b[0m        \u001b[32m1.5787\u001b[0m  2.9261\n",
      "      6        \u001b[36m1.5109\u001b[0m        \u001b[32m1.4280\u001b[0m  3.0068\n",
      "      7        \u001b[36m1.3775\u001b[0m        \u001b[32m1.2989\u001b[0m  2.8836\n",
      "      8        \u001b[36m1.2493\u001b[0m        \u001b[32m1.1765\u001b[0m  2.9651\n",
      "      9        \u001b[36m1.1509\u001b[0m        \u001b[32m1.1004\u001b[0m  2.9591\n",
      "     10        \u001b[36m1.0964\u001b[0m        \u001b[32m1.0601\u001b[0m  2.9457\n",
      "     11        \u001b[36m1.0654\u001b[0m        \u001b[32m1.0373\u001b[0m  3.0853\n",
      "     12        \u001b[36m1.0481\u001b[0m        \u001b[32m1.0233\u001b[0m  3.0682\n",
      "     13        \u001b[36m1.0369\u001b[0m        \u001b[32m1.0141\u001b[0m  3.0850\n",
      "     14        \u001b[36m1.0284\u001b[0m        \u001b[32m1.0074\u001b[0m  3.1257\n",
      "     15        \u001b[36m1.0227\u001b[0m        \u001b[32m1.0024\u001b[0m  2.9646\n",
      "     16        \u001b[36m1.0189\u001b[0m        \u001b[32m0.9987\u001b[0m  2.9144\n",
      "     17        \u001b[36m1.0156\u001b[0m        \u001b[32m0.9957\u001b[0m  2.8047\n",
      "     18        \u001b[36m1.0126\u001b[0m        \u001b[32m0.9935\u001b[0m  2.7979\n",
      "     19        \u001b[36m1.0115\u001b[0m        \u001b[32m0.9916\u001b[0m  2.7914\n",
      "     20        \u001b[36m1.0089\u001b[0m        \u001b[32m0.9900\u001b[0m  2.7622\n"
     ]
    },
    {
     "name": "stderr",
     "output_type": "stream",
     "text": [
      "<ipython-input-9-bb6654121bf9>:51: UserWarning: Implicit dimension choice for log_softmax has been deprecated. Change the call to include dim=X as an argument.\n",
      "  out = self.Last(out)\n"
     ]
    },
    {
     "name": "stdout",
     "output_type": "stream",
     "text": [
      "  epoch    train_loss    valid_loss     dur\n",
      "-------  ------------  ------------  ------\n",
      "      1        \u001b[36m2.2694\u001b[0m        \u001b[32m2.2398\u001b[0m  2.9784\n",
      "      2        \u001b[36m2.2174\u001b[0m        \u001b[32m2.1868\u001b[0m  3.0285\n",
      "      3        \u001b[36m2.1454\u001b[0m        \u001b[32m2.0793\u001b[0m  2.9546\n",
      "      4        \u001b[36m1.9774\u001b[0m        \u001b[32m1.8368\u001b[0m  2.8822\n",
      "      5        \u001b[36m1.7070\u001b[0m        \u001b[32m1.5688\u001b[0m  3.0465\n",
      "      6        \u001b[36m1.4817\u001b[0m        \u001b[32m1.3790\u001b[0m  2.8931\n",
      "      7        \u001b[36m1.3130\u001b[0m        \u001b[32m1.2261\u001b[0m  2.8647\n",
      "      8        \u001b[36m1.1849\u001b[0m        \u001b[32m1.1259\u001b[0m  2.8782\n",
      "      9        \u001b[36m1.1122\u001b[0m        \u001b[32m1.0738\u001b[0m  2.8867\n",
      "     10        \u001b[36m1.0735\u001b[0m        \u001b[32m1.0454\u001b[0m  2.7608\n",
      "     11        \u001b[36m1.0523\u001b[0m        \u001b[32m1.0291\u001b[0m  2.7951\n",
      "     12        \u001b[36m1.0385\u001b[0m        \u001b[32m1.0181\u001b[0m  2.8942\n",
      "     13        \u001b[36m1.0298\u001b[0m        \u001b[32m1.0104\u001b[0m  2.9455\n",
      "     14        \u001b[36m1.0226\u001b[0m        \u001b[32m1.0049\u001b[0m  2.9741\n",
      "     15        \u001b[36m1.0181\u001b[0m        \u001b[32m1.0005\u001b[0m  3.0693\n",
      "     16        \u001b[36m1.0136\u001b[0m        \u001b[32m0.9972\u001b[0m  3.0631\n",
      "     17        \u001b[36m1.0109\u001b[0m        \u001b[32m0.9941\u001b[0m  3.0289\n",
      "     18        \u001b[36m1.0087\u001b[0m        \u001b[32m0.9922\u001b[0m  2.9186\n",
      "     19        \u001b[36m1.0065\u001b[0m        \u001b[32m0.9904\u001b[0m  2.8368\n",
      "     20        \u001b[36m1.0048\u001b[0m        \u001b[32m0.9887\u001b[0m  2.8183\n"
     ]
    },
    {
     "name": "stderr",
     "output_type": "stream",
     "text": [
      "<ipython-input-9-bb6654121bf9>:51: UserWarning: Implicit dimension choice for log_softmax has been deprecated. Change the call to include dim=X as an argument.\n",
      "  out = self.Last(out)\n"
     ]
    },
    {
     "name": "stdout",
     "output_type": "stream",
     "text": [
      "  epoch    train_loss    valid_loss     dur\n",
      "-------  ------------  ------------  ------\n",
      "      1        \u001b[36m2.2677\u001b[0m        \u001b[32m2.2424\u001b[0m  2.9357\n",
      "      2        \u001b[36m2.2229\u001b[0m        \u001b[32m2.1965\u001b[0m  2.9674\n",
      "      3        \u001b[36m2.1617\u001b[0m        \u001b[32m2.1087\u001b[0m  2.9624\n",
      "      4        \u001b[36m2.0327\u001b[0m        \u001b[32m1.9275\u001b[0m  2.9746\n",
      "      5        \u001b[36m1.7970\u001b[0m        \u001b[32m1.6354\u001b[0m  2.9452\n",
      "      6        \u001b[36m1.5045\u001b[0m        \u001b[32m1.3650\u001b[0m  2.9156\n",
      "      7        \u001b[36m1.2877\u001b[0m        \u001b[32m1.1978\u001b[0m  2.9135\n",
      "      8        \u001b[36m1.1660\u001b[0m        \u001b[32m1.1127\u001b[0m  2.8865\n",
      "      9        \u001b[36m1.1045\u001b[0m        \u001b[32m1.0687\u001b[0m  2.8548\n",
      "     10        \u001b[36m1.0719\u001b[0m        \u001b[32m1.0435\u001b[0m  2.8854\n",
      "     11        \u001b[36m1.0522\u001b[0m        \u001b[32m1.0278\u001b[0m  2.9123\n",
      "     12        \u001b[36m1.0392\u001b[0m        \u001b[32m1.0177\u001b[0m  2.8756\n",
      "     13        \u001b[36m1.0313\u001b[0m        \u001b[32m1.0106\u001b[0m  2.9286\n",
      "     14        \u001b[36m1.0254\u001b[0m        \u001b[32m1.0055\u001b[0m  3.2782\n",
      "     15        \u001b[36m1.0197\u001b[0m        \u001b[32m1.0009\u001b[0m  3.0291\n",
      "     16        \u001b[36m1.0158\u001b[0m        \u001b[32m0.9974\u001b[0m  3.3325\n",
      "     17        \u001b[36m1.0131\u001b[0m        \u001b[32m0.9947\u001b[0m  3.2255\n",
      "     18        \u001b[36m1.0101\u001b[0m        \u001b[32m0.9924\u001b[0m  2.8814\n",
      "     19        \u001b[36m1.0084\u001b[0m        \u001b[32m0.9906\u001b[0m  2.9718\n",
      "     20        \u001b[36m1.0068\u001b[0m        \u001b[32m0.9891\u001b[0m  2.7799\n"
     ]
    },
    {
     "name": "stderr",
     "output_type": "stream",
     "text": [
      "<ipython-input-9-bb6654121bf9>:51: UserWarning: Implicit dimension choice for log_softmax has been deprecated. Change the call to include dim=X as an argument.\n",
      "  out = self.Last(out)\n"
     ]
    },
    {
     "name": "stdout",
     "output_type": "stream",
     "text": [
      "  epoch    train_loss    valid_loss     dur\n",
      "-------  ------------  ------------  ------\n",
      "      1        \u001b[36m2.2689\u001b[0m        \u001b[32m2.2373\u001b[0m  2.9241\n",
      "      2        \u001b[36m2.2111\u001b[0m        \u001b[32m2.1743\u001b[0m  2.8077\n",
      "      3        \u001b[36m2.1241\u001b[0m        \u001b[32m2.0511\u001b[0m  2.7427\n",
      "      4        \u001b[36m1.9625\u001b[0m        \u001b[32m1.8428\u001b[0m  2.8419\n",
      "      5        \u001b[36m1.7223\u001b[0m        \u001b[32m1.5830\u001b[0m  2.7828\n",
      "      6        \u001b[36m1.5044\u001b[0m        \u001b[32m1.4125\u001b[0m  2.8123\n",
      "      7        \u001b[36m1.3688\u001b[0m        \u001b[32m1.2964\u001b[0m  2.8131\n",
      "      8        \u001b[36m1.2617\u001b[0m        \u001b[32m1.1951\u001b[0m  2.6974\n",
      "      9        \u001b[36m1.1756\u001b[0m        \u001b[32m1.1231\u001b[0m  2.6728\n",
      "     10        \u001b[36m1.1198\u001b[0m        \u001b[32m1.0809\u001b[0m  2.6928\n",
      "     11        \u001b[36m1.0878\u001b[0m        \u001b[32m1.0556\u001b[0m  2.7928\n",
      "     12        \u001b[36m1.0686\u001b[0m        \u001b[32m1.0399\u001b[0m  2.6580\n",
      "     13        \u001b[36m1.0564\u001b[0m        \u001b[32m1.0294\u001b[0m  2.6500\n",
      "     14        \u001b[36m1.0474\u001b[0m        \u001b[32m1.0217\u001b[0m  2.6635\n",
      "     15        \u001b[36m1.0402\u001b[0m        \u001b[32m1.0158\u001b[0m  2.7152\n",
      "     16        \u001b[36m1.0354\u001b[0m        \u001b[32m1.0113\u001b[0m  2.6279\n",
      "     17        \u001b[36m1.0312\u001b[0m        \u001b[32m1.0078\u001b[0m  3.0396\n",
      "     18        \u001b[36m1.0286\u001b[0m        \u001b[32m1.0053\u001b[0m  3.0778\n",
      "     19        \u001b[36m1.0259\u001b[0m        \u001b[32m1.0030\u001b[0m  3.1017\n",
      "     20        \u001b[36m1.0243\u001b[0m        \u001b[32m1.0011\u001b[0m  3.2580\n"
     ]
    },
    {
     "name": "stderr",
     "output_type": "stream",
     "text": [
      "<ipython-input-9-bb6654121bf9>:51: UserWarning: Implicit dimension choice for log_softmax has been deprecated. Change the call to include dim=X as an argument.\n",
      "  out = self.Last(out)\n"
     ]
    },
    {
     "name": "stdout",
     "output_type": "stream",
     "text": [
      "  epoch    train_loss    valid_loss     dur\n",
      "-------  ------------  ------------  ------\n",
      "      1        \u001b[36m2.2277\u001b[0m        \u001b[32m2.0997\u001b[0m  3.2302\n",
      "      2        \u001b[36m1.7871\u001b[0m        \u001b[32m1.3796\u001b[0m  3.1592\n",
      "      3        \u001b[36m1.0306\u001b[0m        \u001b[32m0.8070\u001b[0m  3.0452\n",
      "      4        \u001b[36m0.6822\u001b[0m        \u001b[32m0.6106\u001b[0m  2.9586\n",
      "      5        \u001b[36m0.5467\u001b[0m        \u001b[32m0.5166\u001b[0m  2.9482\n",
      "      6        \u001b[36m0.4769\u001b[0m        \u001b[32m0.4635\u001b[0m  2.7785\n",
      "      7        \u001b[36m0.4342\u001b[0m        \u001b[32m0.4298\u001b[0m  2.7731\n",
      "      8        \u001b[36m0.4056\u001b[0m        \u001b[32m0.4063\u001b[0m  2.7826\n",
      "      9        \u001b[36m0.3862\u001b[0m        \u001b[32m0.3888\u001b[0m  2.7802\n",
      "     10        \u001b[36m0.3696\u001b[0m        \u001b[32m0.3753\u001b[0m  2.7526\n",
      "     11        \u001b[36m0.3565\u001b[0m        \u001b[32m0.3636\u001b[0m  2.9863\n",
      "     12        \u001b[36m0.3453\u001b[0m        \u001b[32m0.3539\u001b[0m  2.8629\n",
      "     13        \u001b[36m0.3355\u001b[0m        \u001b[32m0.3453\u001b[0m  2.9475\n",
      "     14        \u001b[36m0.3263\u001b[0m        \u001b[32m0.3366\u001b[0m  2.8360\n",
      "     15        \u001b[36m0.3165\u001b[0m        \u001b[32m0.3292\u001b[0m  2.8753\n",
      "     16        \u001b[36m0.3080\u001b[0m        \u001b[32m0.3221\u001b[0m  3.0548\n",
      "     17        \u001b[36m0.3014\u001b[0m        \u001b[32m0.3153\u001b[0m  2.9498\n",
      "     18        \u001b[36m0.2937\u001b[0m        \u001b[32m0.3092\u001b[0m  2.9251\n",
      "     19        \u001b[36m0.2871\u001b[0m        \u001b[32m0.3031\u001b[0m  3.1768\n",
      "     20        \u001b[36m0.2812\u001b[0m        \u001b[32m0.2968\u001b[0m  3.3346\n"
     ]
    },
    {
     "name": "stderr",
     "output_type": "stream",
     "text": [
      "<ipython-input-9-bb6654121bf9>:51: UserWarning: Implicit dimension choice for log_softmax has been deprecated. Change the call to include dim=X as an argument.\n",
      "  out = self.Last(out)\n"
     ]
    },
    {
     "name": "stdout",
     "output_type": "stream",
     "text": [
      "  epoch    train_loss    valid_loss     dur\n",
      "-------  ------------  ------------  ------\n",
      "      1        \u001b[36m2.2369\u001b[0m        \u001b[32m2.1259\u001b[0m  3.2410\n",
      "      2        \u001b[36m1.8530\u001b[0m        \u001b[32m1.4502\u001b[0m  3.1483\n",
      "      3        \u001b[36m1.0920\u001b[0m        \u001b[32m0.8149\u001b[0m  3.1435\n",
      "      4        \u001b[36m0.7014\u001b[0m        \u001b[32m0.5946\u001b[0m  2.9693\n",
      "      5        \u001b[36m0.5527\u001b[0m        \u001b[32m0.4956\u001b[0m  2.8257\n",
      "      6        \u001b[36m0.4806\u001b[0m        \u001b[32m0.4409\u001b[0m  2.8504\n",
      "      7        \u001b[36m0.4368\u001b[0m        \u001b[32m0.4064\u001b[0m  2.8137\n",
      "      8        \u001b[36m0.4079\u001b[0m        \u001b[32m0.3828\u001b[0m  2.8535\n",
      "      9        \u001b[36m0.3854\u001b[0m        \u001b[32m0.3648\u001b[0m  2.8916\n",
      "     10        \u001b[36m0.3693\u001b[0m        \u001b[32m0.3510\u001b[0m  2.8595\n",
      "     11        \u001b[36m0.3551\u001b[0m        \u001b[32m0.3389\u001b[0m  2.8921\n",
      "     12        \u001b[36m0.3439\u001b[0m        \u001b[32m0.3291\u001b[0m  2.9978\n",
      "     13        \u001b[36m0.3340\u001b[0m        \u001b[32m0.3200\u001b[0m  2.8094\n",
      "     14        \u001b[36m0.3251\u001b[0m        \u001b[32m0.3120\u001b[0m  2.9019\n",
      "     15        \u001b[36m0.3167\u001b[0m        \u001b[32m0.3046\u001b[0m  3.0272\n",
      "     16        \u001b[36m0.3073\u001b[0m        \u001b[32m0.2975\u001b[0m  3.0511\n",
      "     17        \u001b[36m0.2991\u001b[0m        \u001b[32m0.2909\u001b[0m  3.1419\n",
      "     18        \u001b[36m0.2931\u001b[0m        \u001b[32m0.2847\u001b[0m  3.2150\n",
      "     19        \u001b[36m0.2860\u001b[0m        \u001b[32m0.2784\u001b[0m  3.1994\n",
      "     20        \u001b[36m0.2786\u001b[0m        \u001b[32m0.2726\u001b[0m  3.2667\n"
     ]
    },
    {
     "name": "stderr",
     "output_type": "stream",
     "text": [
      "<ipython-input-9-bb6654121bf9>:51: UserWarning: Implicit dimension choice for log_softmax has been deprecated. Change the call to include dim=X as an argument.\n",
      "  out = self.Last(out)\n"
     ]
    },
    {
     "name": "stdout",
     "output_type": "stream",
     "text": [
      "  epoch    train_loss    valid_loss     dur\n",
      "-------  ------------  ------------  ------\n",
      "      1        \u001b[36m2.2286\u001b[0m        \u001b[32m2.1024\u001b[0m  3.3194\n",
      "      2        \u001b[36m1.7910\u001b[0m        \u001b[32m1.3632\u001b[0m  3.2432\n",
      "      3        \u001b[36m1.0612\u001b[0m        \u001b[32m0.8170\u001b[0m  3.1872\n",
      "      4        \u001b[36m0.7139\u001b[0m        \u001b[32m0.6131\u001b[0m  3.1157\n",
      "      5        \u001b[36m0.5665\u001b[0m        \u001b[32m0.5101\u001b[0m  2.8716\n",
      "      6        \u001b[36m0.4868\u001b[0m        \u001b[32m0.4501\u001b[0m  2.7255\n",
      "      7        \u001b[36m0.4402\u001b[0m        \u001b[32m0.4123\u001b[0m  2.7221\n",
      "      8        \u001b[36m0.4079\u001b[0m        \u001b[32m0.3861\u001b[0m  2.7780\n",
      "      9        \u001b[36m0.3856\u001b[0m        \u001b[32m0.3671\u001b[0m  2.7522\n",
      "     10        \u001b[36m0.3680\u001b[0m        \u001b[32m0.3515\u001b[0m  2.6703\n",
      "     11        \u001b[36m0.3542\u001b[0m        \u001b[32m0.3391\u001b[0m  2.7420\n",
      "     12        \u001b[36m0.3415\u001b[0m        \u001b[32m0.3290\u001b[0m  2.8032\n",
      "     13        \u001b[36m0.3303\u001b[0m        \u001b[32m0.3200\u001b[0m  2.7943\n",
      "     14        \u001b[36m0.3221\u001b[0m        \u001b[32m0.3119\u001b[0m  2.8641\n",
      "     15        \u001b[36m0.3134\u001b[0m        \u001b[32m0.3046\u001b[0m  2.8867\n",
      "     16        \u001b[36m0.3045\u001b[0m        \u001b[32m0.2975\u001b[0m  2.8961\n",
      "     17        \u001b[36m0.2992\u001b[0m        \u001b[32m0.2915\u001b[0m  3.0043\n",
      "     18        \u001b[36m0.2925\u001b[0m        \u001b[32m0.2855\u001b[0m  3.1975\n",
      "     19        \u001b[36m0.2852\u001b[0m        \u001b[32m0.2801\u001b[0m  3.1586\n",
      "     20        \u001b[36m0.2791\u001b[0m        \u001b[32m0.2749\u001b[0m  3.1755\n"
     ]
    },
    {
     "name": "stderr",
     "output_type": "stream",
     "text": [
      "<ipython-input-9-bb6654121bf9>:51: UserWarning: Implicit dimension choice for log_softmax has been deprecated. Change the call to include dim=X as an argument.\n",
      "  out = self.Last(out)\n"
     ]
    },
    {
     "name": "stdout",
     "output_type": "stream",
     "text": [
      "  epoch    train_loss    valid_loss     dur\n",
      "-------  ------------  ------------  ------\n",
      "      1        \u001b[36m2.2155\u001b[0m        \u001b[32m2.0686\u001b[0m  3.1481\n",
      "      2        \u001b[36m1.7247\u001b[0m        \u001b[32m1.2670\u001b[0m  3.1446\n",
      "      3        \u001b[36m0.9728\u001b[0m        \u001b[32m0.7483\u001b[0m  3.0649\n",
      "      4        \u001b[36m0.6591\u001b[0m        \u001b[32m0.5721\u001b[0m  3.0098\n",
      "      5        \u001b[36m0.5363\u001b[0m        \u001b[32m0.4873\u001b[0m  2.8743\n",
      "      6        \u001b[36m0.4722\u001b[0m        \u001b[32m0.4381\u001b[0m  2.9121\n",
      "      7        \u001b[36m0.4302\u001b[0m        \u001b[32m0.4064\u001b[0m  2.8239\n",
      "      8        \u001b[36m0.4042\u001b[0m        \u001b[32m0.3831\u001b[0m  2.7749\n",
      "      9        \u001b[36m0.3835\u001b[0m        \u001b[32m0.3652\u001b[0m  2.8637\n",
      "     10        \u001b[36m0.3662\u001b[0m        \u001b[32m0.3519\u001b[0m  2.7319\n",
      "     11        \u001b[36m0.3534\u001b[0m        \u001b[32m0.3398\u001b[0m  2.7717\n",
      "     12        \u001b[36m0.3411\u001b[0m        \u001b[32m0.3295\u001b[0m  2.7495\n",
      "     13        \u001b[36m0.3307\u001b[0m        \u001b[32m0.3201\u001b[0m  2.7231\n",
      "     14        \u001b[36m0.3205\u001b[0m        \u001b[32m0.3120\u001b[0m  2.8134\n",
      "     15        \u001b[36m0.3106\u001b[0m        \u001b[32m0.3040\u001b[0m  2.7920\n",
      "     16        \u001b[36m0.3022\u001b[0m        \u001b[32m0.2971\u001b[0m  2.8530\n",
      "     17        \u001b[36m0.2959\u001b[0m        \u001b[32m0.2903\u001b[0m  2.9580\n",
      "     18        \u001b[36m0.2879\u001b[0m        \u001b[32m0.2833\u001b[0m  2.9653\n",
      "     19        \u001b[36m0.2810\u001b[0m        \u001b[32m0.2776\u001b[0m  3.0105\n",
      "     20        \u001b[36m0.2746\u001b[0m        \u001b[32m0.2717\u001b[0m  3.0864\n"
     ]
    },
    {
     "name": "stderr",
     "output_type": "stream",
     "text": [
      "<ipython-input-9-bb6654121bf9>:51: UserWarning: Implicit dimension choice for log_softmax has been deprecated. Change the call to include dim=X as an argument.\n",
      "  out = self.Last(out)\n"
     ]
    },
    {
     "name": "stdout",
     "output_type": "stream",
     "text": [
      "  epoch    train_loss    valid_loss     dur\n",
      "-------  ------------  ------------  ------\n",
      "      1        \u001b[36m2.2401\u001b[0m        \u001b[32m2.1359\u001b[0m  3.2296\n",
      "      2        \u001b[36m1.8755\u001b[0m        \u001b[32m1.4706\u001b[0m  3.2036\n",
      "      3        \u001b[36m1.1131\u001b[0m        \u001b[32m0.8167\u001b[0m  3.0195\n",
      "      4        \u001b[36m0.7128\u001b[0m        \u001b[32m0.5980\u001b[0m  3.0467\n",
      "      5        \u001b[36m0.5667\u001b[0m        \u001b[32m0.5017\u001b[0m  2.8481\n",
      "      6        \u001b[36m0.4940\u001b[0m        \u001b[32m0.4483\u001b[0m  2.8649\n",
      "      7        \u001b[36m0.4528\u001b[0m        \u001b[32m0.4141\u001b[0m  2.8261\n",
      "      8        \u001b[36m0.4231\u001b[0m        \u001b[32m0.3898\u001b[0m  2.8751\n",
      "      9        \u001b[36m0.4008\u001b[0m        \u001b[32m0.3715\u001b[0m  2.7215\n",
      "     10        \u001b[36m0.3842\u001b[0m        \u001b[32m0.3562\u001b[0m  2.7829\n",
      "     11        \u001b[36m0.3704\u001b[0m        \u001b[32m0.3442\u001b[0m  2.8960\n",
      "     12        \u001b[36m0.3567\u001b[0m        \u001b[32m0.3333\u001b[0m  2.9418\n",
      "     13        \u001b[36m0.3473\u001b[0m        \u001b[32m0.3231\u001b[0m  2.9075\n",
      "     14        \u001b[36m0.3357\u001b[0m        \u001b[32m0.3148\u001b[0m  2.8458\n",
      "     15        \u001b[36m0.3273\u001b[0m        \u001b[32m0.3068\u001b[0m  2.8604\n",
      "     16        \u001b[36m0.3190\u001b[0m        \u001b[32m0.2994\u001b[0m  2.8824\n",
      "     17        \u001b[36m0.3109\u001b[0m        \u001b[32m0.2925\u001b[0m  2.8770\n",
      "     18        \u001b[36m0.3040\u001b[0m        \u001b[32m0.2866\u001b[0m  3.1431\n",
      "     19        \u001b[36m0.2955\u001b[0m        \u001b[32m0.2804\u001b[0m  3.1925\n",
      "     20        \u001b[36m0.2892\u001b[0m        \u001b[32m0.2743\u001b[0m  3.1159\n"
     ]
    },
    {
     "name": "stderr",
     "output_type": "stream",
     "text": [
      "<ipython-input-9-bb6654121bf9>:51: UserWarning: Implicit dimension choice for log_softmax has been deprecated. Change the call to include dim=X as an argument.\n",
      "  out = self.Last(out)\n"
     ]
    },
    {
     "name": "stdout",
     "output_type": "stream",
     "text": [
      "  epoch    train_loss    valid_loss     dur\n",
      "-------  ------------  ------------  ------\n",
      "      1        \u001b[36m2.2679\u001b[0m        \u001b[32m2.2401\u001b[0m  3.1564\n",
      "      2        \u001b[36m2.2123\u001b[0m        \u001b[32m2.1803\u001b[0m  3.0955\n",
      "      3        \u001b[36m2.1257\u001b[0m        \u001b[32m2.0629\u001b[0m  3.0920\n",
      "      4        \u001b[36m1.9782\u001b[0m        \u001b[32m1.8941\u001b[0m  3.0041\n",
      "      5        \u001b[36m1.7894\u001b[0m        \u001b[32m1.6911\u001b[0m  2.8460\n",
      "      6        \u001b[36m1.5829\u001b[0m        \u001b[32m1.5010\u001b[0m  2.7444\n",
      "      7        \u001b[36m1.4354\u001b[0m        \u001b[32m1.3969\u001b[0m  2.6834\n",
      "      8        \u001b[36m1.3592\u001b[0m        \u001b[32m1.3403\u001b[0m  2.8235\n",
      "      9        \u001b[36m1.3113\u001b[0m        \u001b[32m1.2984\u001b[0m  2.7308\n",
      "     10        \u001b[36m1.2703\u001b[0m        \u001b[32m1.2571\u001b[0m  2.7891\n",
      "     11        \u001b[36m1.2252\u001b[0m        \u001b[32m1.2080\u001b[0m  2.7374\n",
      "     12        \u001b[36m1.1698\u001b[0m        \u001b[32m1.1522\u001b[0m  2.7322\n",
      "     13        \u001b[36m1.1177\u001b[0m        \u001b[32m1.1071\u001b[0m  3.0190\n",
      "     14        \u001b[36m1.0799\u001b[0m        \u001b[32m1.0775\u001b[0m  2.8850\n",
      "     15        \u001b[36m1.0570\u001b[0m        \u001b[32m1.0598\u001b[0m  3.0277\n",
      "     16        \u001b[36m1.0425\u001b[0m        \u001b[32m1.0482\u001b[0m  3.0917\n",
      "     17        \u001b[36m1.0337\u001b[0m        \u001b[32m1.0404\u001b[0m  2.9752\n",
      "     18        \u001b[36m1.0276\u001b[0m        \u001b[32m1.0350\u001b[0m  2.8613\n",
      "     19        \u001b[36m1.0228\u001b[0m        \u001b[32m1.0303\u001b[0m  2.8033\n",
      "     20        \u001b[36m1.0185\u001b[0m        \u001b[32m1.0269\u001b[0m  2.9148\n"
     ]
    },
    {
     "name": "stderr",
     "output_type": "stream",
     "text": [
      "<ipython-input-9-bb6654121bf9>:51: UserWarning: Implicit dimension choice for log_softmax has been deprecated. Change the call to include dim=X as an argument.\n",
      "  out = self.Last(out)\n"
     ]
    },
    {
     "name": "stdout",
     "output_type": "stream",
     "text": [
      "  epoch    train_loss    valid_loss     dur\n",
      "-------  ------------  ------------  ------\n",
      "      1        \u001b[36m2.2676\u001b[0m        \u001b[32m2.2358\u001b[0m  3.2028\n",
      "      2        \u001b[36m2.2120\u001b[0m        \u001b[32m2.1793\u001b[0m  3.1766\n",
      "      3        \u001b[36m2.1335\u001b[0m        \u001b[32m2.0604\u001b[0m  3.0253\n",
      "      4        \u001b[36m1.9589\u001b[0m        \u001b[32m1.8336\u001b[0m  2.9427\n",
      "      5        \u001b[36m1.7310\u001b[0m        \u001b[32m1.6080\u001b[0m  2.8719\n",
      "      6        \u001b[36m1.5111\u001b[0m        \u001b[32m1.3894\u001b[0m  2.8627\n",
      "      7        \u001b[36m1.3148\u001b[0m        \u001b[32m1.2201\u001b[0m  2.7753\n",
      "      8        \u001b[36m1.1842\u001b[0m        \u001b[32m1.1248\u001b[0m  2.6806\n",
      "      9        \u001b[36m1.1154\u001b[0m        \u001b[32m1.0751\u001b[0m  2.6331\n",
      "     10        \u001b[36m1.0780\u001b[0m        \u001b[32m1.0469\u001b[0m  2.7121\n",
      "     11        \u001b[36m1.0567\u001b[0m        \u001b[32m1.0304\u001b[0m  2.7126\n",
      "     12        \u001b[36m1.0432\u001b[0m        \u001b[32m1.0188\u001b[0m  2.6642\n",
      "     13        \u001b[36m1.0329\u001b[0m        \u001b[32m1.0108\u001b[0m  2.8165\n",
      "     14        \u001b[36m1.0259\u001b[0m        \u001b[32m1.0048\u001b[0m  2.7610\n",
      "     15        \u001b[36m1.0213\u001b[0m        \u001b[32m1.0008\u001b[0m  2.9215\n",
      "     16        \u001b[36m1.0177\u001b[0m        \u001b[32m0.9973\u001b[0m  2.8737\n",
      "     17        \u001b[36m1.0140\u001b[0m        \u001b[32m0.9946\u001b[0m  2.8228\n",
      "     18        \u001b[36m1.0115\u001b[0m        \u001b[32m0.9920\u001b[0m  2.8189\n",
      "     19        \u001b[36m1.0089\u001b[0m        \u001b[32m0.9904\u001b[0m  2.8956\n",
      "     20        \u001b[36m1.0074\u001b[0m        \u001b[32m0.9889\u001b[0m  3.0489\n"
     ]
    },
    {
     "name": "stderr",
     "output_type": "stream",
     "text": [
      "<ipython-input-9-bb6654121bf9>:51: UserWarning: Implicit dimension choice for log_softmax has been deprecated. Change the call to include dim=X as an argument.\n",
      "  out = self.Last(out)\n"
     ]
    },
    {
     "name": "stdout",
     "output_type": "stream",
     "text": [
      "  epoch    train_loss    valid_loss     dur\n",
      "-------  ------------  ------------  ------\n",
      "      1        \u001b[36m2.2719\u001b[0m        \u001b[32m2.2450\u001b[0m  3.0669\n",
      "      2        \u001b[36m2.2229\u001b[0m        \u001b[32m2.1946\u001b[0m  3.3024\n",
      "      3        \u001b[36m2.1552\u001b[0m        \u001b[32m2.0955\u001b[0m  3.2144\n",
      "      4        \u001b[36m2.0047\u001b[0m        \u001b[32m1.8872\u001b[0m  3.1870\n",
      "      5        \u001b[36m1.7777\u001b[0m        \u001b[32m1.6544\u001b[0m  2.8641\n",
      "      6        \u001b[36m1.5577\u001b[0m        \u001b[32m1.4434\u001b[0m  2.8202\n",
      "      7        \u001b[36m1.3660\u001b[0m        \u001b[32m1.2673\u001b[0m  2.6490\n",
      "      8        \u001b[36m1.2153\u001b[0m        \u001b[32m1.1457\u001b[0m  2.6628\n",
      "      9        \u001b[36m1.1247\u001b[0m        \u001b[32m1.0807\u001b[0m  2.6312\n",
      "     10        \u001b[36m1.0770\u001b[0m        \u001b[32m1.0467\u001b[0m  2.7327\n",
      "     11        \u001b[36m1.0520\u001b[0m        \u001b[32m1.0279\u001b[0m  2.7352\n",
      "     12        \u001b[36m1.0376\u001b[0m        \u001b[32m1.0163\u001b[0m  2.7458\n",
      "     13        \u001b[36m1.0279\u001b[0m        \u001b[32m1.0086\u001b[0m  2.6876\n",
      "     14        \u001b[36m1.0222\u001b[0m        \u001b[32m1.0033\u001b[0m  2.7205\n",
      "     15        \u001b[36m1.0166\u001b[0m        \u001b[32m0.9992\u001b[0m  2.8165\n",
      "     16        \u001b[36m1.0138\u001b[0m        \u001b[32m0.9960\u001b[0m  2.8295\n",
      "     17        \u001b[36m1.0101\u001b[0m        \u001b[32m0.9933\u001b[0m  2.9485\n",
      "     18        \u001b[36m1.0071\u001b[0m        \u001b[32m0.9909\u001b[0m  2.8008\n",
      "     19        \u001b[36m1.0065\u001b[0m        \u001b[32m0.9897\u001b[0m  2.9741\n",
      "     20        \u001b[36m1.0044\u001b[0m        \u001b[32m0.9881\u001b[0m  2.9247\n"
     ]
    },
    {
     "name": "stderr",
     "output_type": "stream",
     "text": [
      "<ipython-input-9-bb6654121bf9>:51: UserWarning: Implicit dimension choice for log_softmax has been deprecated. Change the call to include dim=X as an argument.\n",
      "  out = self.Last(out)\n"
     ]
    },
    {
     "name": "stdout",
     "output_type": "stream",
     "text": [
      "  epoch    train_loss    valid_loss     dur\n",
      "-------  ------------  ------------  ------\n",
      "      1        \u001b[36m2.2733\u001b[0m        \u001b[32m2.2481\u001b[0m  3.0828\n",
      "      2        \u001b[36m2.2316\u001b[0m        \u001b[32m2.2105\u001b[0m  3.1417\n",
      "      3        \u001b[36m2.1821\u001b[0m        \u001b[32m2.1380\u001b[0m  3.0893\n",
      "      4        \u001b[36m2.0715\u001b[0m        \u001b[32m1.9846\u001b[0m  3.1725\n",
      "      5        \u001b[36m1.8993\u001b[0m        \u001b[32m1.8022\u001b[0m  3.0961\n",
      "      6        \u001b[36m1.7178\u001b[0m        \u001b[32m1.6075\u001b[0m  2.8783\n",
      "      7        \u001b[36m1.5019\u001b[0m        \u001b[32m1.3711\u001b[0m  2.7589\n",
      "      8        \u001b[36m1.2919\u001b[0m        \u001b[32m1.1994\u001b[0m  2.6282\n",
      "      9        \u001b[36m1.1658\u001b[0m        \u001b[32m1.1099\u001b[0m  2.8115\n",
      "     10        \u001b[36m1.1013\u001b[0m        \u001b[32m1.0638\u001b[0m  2.6615\n",
      "     11        \u001b[36m1.0677\u001b[0m        \u001b[32m1.0385\u001b[0m  2.6293\n",
      "     12        \u001b[36m1.0479\u001b[0m        \u001b[32m1.0236\u001b[0m  2.7058\n",
      "     13        \u001b[36m1.0360\u001b[0m        \u001b[32m1.0137\u001b[0m  2.5868\n",
      "     14        \u001b[36m1.0273\u001b[0m        \u001b[32m1.0068\u001b[0m  2.7948\n",
      "     15        \u001b[36m1.0212\u001b[0m        \u001b[32m1.0019\u001b[0m  2.7522\n",
      "     16        \u001b[36m1.0176\u001b[0m        \u001b[32m0.9986\u001b[0m  3.2600\n",
      "     17        \u001b[36m1.0149\u001b[0m        \u001b[32m0.9956\u001b[0m  2.8326\n",
      "     18        \u001b[36m1.0116\u001b[0m        \u001b[32m0.9932\u001b[0m  3.0385\n",
      "     19        \u001b[36m1.0099\u001b[0m        \u001b[32m0.9916\u001b[0m  3.0007\n",
      "     20        \u001b[36m1.0077\u001b[0m        \u001b[32m0.9898\u001b[0m  2.9058\n"
     ]
    },
    {
     "name": "stderr",
     "output_type": "stream",
     "text": [
      "<ipython-input-9-bb6654121bf9>:51: UserWarning: Implicit dimension choice for log_softmax has been deprecated. Change the call to include dim=X as an argument.\n",
      "  out = self.Last(out)\n"
     ]
    },
    {
     "name": "stdout",
     "output_type": "stream",
     "text": [
      "  epoch    train_loss    valid_loss     dur\n",
      "-------  ------------  ------------  ------\n",
      "      1        \u001b[36m2.2751\u001b[0m        \u001b[32m2.2497\u001b[0m  3.2659\n",
      "      2        \u001b[36m2.2359\u001b[0m        \u001b[32m2.2167\u001b[0m  3.3623\n",
      "      3        \u001b[36m2.1958\u001b[0m        \u001b[32m2.1609\u001b[0m  2.9785\n",
      "      4        \u001b[36m2.1114\u001b[0m        \u001b[32m2.0372\u001b[0m  2.9911\n",
      "      5        \u001b[36m1.9403\u001b[0m        \u001b[32m1.8025\u001b[0m  2.8387\n",
      "      6        \u001b[36m1.6548\u001b[0m        \u001b[32m1.4862\u001b[0m  2.8218\n",
      "      7        \u001b[36m1.3856\u001b[0m        \u001b[32m1.2708\u001b[0m  2.7775\n",
      "      8        \u001b[36m1.2250\u001b[0m        \u001b[32m1.1545\u001b[0m  2.6650\n",
      "      9        \u001b[36m1.1414\u001b[0m        \u001b[32m1.0945\u001b[0m  2.7066\n",
      "     10        \u001b[36m1.0977\u001b[0m        \u001b[32m1.0617\u001b[0m  2.5602\n",
      "     11        \u001b[36m1.0730\u001b[0m        \u001b[32m1.0424\u001b[0m  2.5065\n",
      "     12        \u001b[36m1.0569\u001b[0m        \u001b[32m1.0295\u001b[0m  2.4453\n",
      "     13        \u001b[36m1.0471\u001b[0m        \u001b[32m1.0212\u001b[0m  2.4864\n",
      "     14        \u001b[36m1.0397\u001b[0m        \u001b[32m1.0150\u001b[0m  2.5516\n",
      "     15        \u001b[36m1.0344\u001b[0m        \u001b[32m1.0104\u001b[0m  3.3817\n",
      "     16        \u001b[36m1.0302\u001b[0m        \u001b[32m1.0067\u001b[0m  2.9321\n",
      "     17        \u001b[36m1.0268\u001b[0m        \u001b[32m1.0040\u001b[0m  2.7883\n",
      "     18        \u001b[36m1.0255\u001b[0m        \u001b[32m1.0021\u001b[0m  3.0385\n",
      "     19        \u001b[36m1.0232\u001b[0m        \u001b[32m1.0002\u001b[0m  2.8539\n",
      "     20        \u001b[36m1.0213\u001b[0m        \u001b[32m0.9987\u001b[0m  2.9890\n"
     ]
    },
    {
     "name": "stderr",
     "output_type": "stream",
     "text": [
      "<ipython-input-9-bb6654121bf9>:51: UserWarning: Implicit dimension choice for log_softmax has been deprecated. Change the call to include dim=X as an argument.\n",
      "  out = self.Last(out)\n"
     ]
    },
    {
     "name": "stdout",
     "output_type": "stream",
     "text": [
      "  epoch    train_loss    valid_loss     dur\n",
      "-------  ------------  ------------  ------\n",
      "      1        \u001b[36m2.2429\u001b[0m        \u001b[32m2.1417\u001b[0m  2.0721\n",
      "      2        \u001b[36m1.8415\u001b[0m        \u001b[32m1.4190\u001b[0m  2.1444\n",
      "      3        \u001b[36m1.0770\u001b[0m        \u001b[32m0.8391\u001b[0m  2.2792\n",
      "      4        \u001b[36m0.7178\u001b[0m        \u001b[32m0.6303\u001b[0m  1.8210\n",
      "      5        \u001b[36m0.5721\u001b[0m        \u001b[32m0.5308\u001b[0m  1.7870\n",
      "      6        \u001b[36m0.4980\u001b[0m        \u001b[32m0.4735\u001b[0m  1.7930\n",
      "      7        \u001b[36m0.4519\u001b[0m        \u001b[32m0.4365\u001b[0m  1.7840\n",
      "      8        \u001b[36m0.4204\u001b[0m        \u001b[32m0.4112\u001b[0m  1.7630\n",
      "      9        \u001b[36m0.3990\u001b[0m        \u001b[32m0.3924\u001b[0m  1.8194\n",
      "     10        \u001b[36m0.3781\u001b[0m        \u001b[32m0.3769\u001b[0m  1.8469\n",
      "     11        \u001b[36m0.3660\u001b[0m        \u001b[32m0.3645\u001b[0m  1.8324\n",
      "     12        \u001b[36m0.3517\u001b[0m        \u001b[32m0.3534\u001b[0m  1.8416\n",
      "     13        \u001b[36m0.3411\u001b[0m        \u001b[32m0.3433\u001b[0m  1.7723\n",
      "     14        \u001b[36m0.3324\u001b[0m        \u001b[32m0.3351\u001b[0m  1.7711\n",
      "     15        \u001b[36m0.3217\u001b[0m        \u001b[32m0.3270\u001b[0m  1.7927\n",
      "     16        \u001b[36m0.3120\u001b[0m        \u001b[32m0.3191\u001b[0m  1.8228\n",
      "     17        \u001b[36m0.3049\u001b[0m        \u001b[32m0.3124\u001b[0m  1.7518\n",
      "     18        \u001b[36m0.2990\u001b[0m        \u001b[32m0.3055\u001b[0m  1.7394\n",
      "     19        \u001b[36m0.2920\u001b[0m        \u001b[32m0.2993\u001b[0m  1.7206\n",
      "     20        \u001b[36m0.2844\u001b[0m        \u001b[32m0.2929\u001b[0m  1.7215\n"
     ]
    },
    {
     "name": "stderr",
     "output_type": "stream",
     "text": [
      "<ipython-input-9-bb6654121bf9>:51: UserWarning: Implicit dimension choice for log_softmax has been deprecated. Change the call to include dim=X as an argument.\n",
      "  out = self.Last(out)\n"
     ]
    },
    {
     "name": "stdout",
     "output_type": "stream",
     "text": [
      "  epoch    train_loss    valid_loss     dur\n",
      "-------  ------------  ------------  ------\n",
      "      1        \u001b[36m2.2223\u001b[0m        \u001b[32m2.0780\u001b[0m  1.6660\n",
      "      2        \u001b[36m1.7520\u001b[0m        \u001b[32m1.3006\u001b[0m  1.6530\n",
      "      3        \u001b[36m1.0063\u001b[0m        \u001b[32m0.7638\u001b[0m  1.6499\n",
      "      4        \u001b[36m0.6838\u001b[0m        \u001b[32m0.5838\u001b[0m  1.6880\n",
      "      5        \u001b[36m0.5604\u001b[0m        \u001b[32m0.4973\u001b[0m  1.6618\n",
      "      6        \u001b[36m0.4928\u001b[0m        \u001b[32m0.4449\u001b[0m  1.6283\n",
      "      7        \u001b[36m0.4469\u001b[0m        \u001b[32m0.4100\u001b[0m  1.6676\n",
      "      8        \u001b[36m0.4184\u001b[0m        \u001b[32m0.3846\u001b[0m  1.6987\n",
      "      9        \u001b[36m0.3943\u001b[0m        \u001b[32m0.3655\u001b[0m  1.9458\n",
      "     10        \u001b[36m0.3758\u001b[0m        \u001b[32m0.3496\u001b[0m  1.9150\n",
      "     11        \u001b[36m0.3617\u001b[0m        \u001b[32m0.3372\u001b[0m  1.6555\n",
      "     12        \u001b[36m0.3495\u001b[0m        \u001b[32m0.3264\u001b[0m  1.7081\n",
      "     13        \u001b[36m0.3381\u001b[0m        \u001b[32m0.3169\u001b[0m  1.7166\n",
      "     14        \u001b[36m0.3259\u001b[0m        \u001b[32m0.3077\u001b[0m  1.7909\n",
      "     15        \u001b[36m0.3183\u001b[0m        \u001b[32m0.3002\u001b[0m  1.7567\n",
      "     16        \u001b[36m0.3111\u001b[0m        \u001b[32m0.2935\u001b[0m  1.7992\n",
      "     17        \u001b[36m0.3022\u001b[0m        \u001b[32m0.2865\u001b[0m  1.8190\n",
      "     18        \u001b[36m0.2939\u001b[0m        \u001b[32m0.2804\u001b[0m  1.8312\n",
      "     19        \u001b[36m0.2867\u001b[0m        \u001b[32m0.2741\u001b[0m  1.8444\n",
      "     20        \u001b[36m0.2803\u001b[0m        \u001b[32m0.2687\u001b[0m  1.8933\n"
     ]
    },
    {
     "name": "stderr",
     "output_type": "stream",
     "text": [
      "<ipython-input-9-bb6654121bf9>:51: UserWarning: Implicit dimension choice for log_softmax has been deprecated. Change the call to include dim=X as an argument.\n",
      "  out = self.Last(out)\n"
     ]
    },
    {
     "name": "stdout",
     "output_type": "stream",
     "text": [
      "  epoch    train_loss    valid_loss     dur\n",
      "-------  ------------  ------------  ------\n",
      "      1        \u001b[36m2.2596\u001b[0m        \u001b[32m2.1819\u001b[0m  1.8891\n",
      "      2        \u001b[36m1.9734\u001b[0m        \u001b[32m1.6225\u001b[0m  1.8939\n",
      "      3        \u001b[36m1.2362\u001b[0m        \u001b[32m0.8934\u001b[0m  1.8306\n",
      "      4        \u001b[36m0.7574\u001b[0m        \u001b[32m0.6268\u001b[0m  1.8388\n",
      "      5        \u001b[36m0.5863\u001b[0m        \u001b[32m0.5174\u001b[0m  1.9332\n",
      "      6        \u001b[36m0.5055\u001b[0m        \u001b[32m0.4567\u001b[0m  1.9408\n",
      "      7        \u001b[36m0.4557\u001b[0m        \u001b[32m0.4192\u001b[0m  1.9959\n",
      "      8        \u001b[36m0.4248\u001b[0m        \u001b[32m0.3937\u001b[0m  2.2732\n",
      "      9        \u001b[36m0.3998\u001b[0m        \u001b[32m0.3747\u001b[0m  2.1438\n",
      "     10        \u001b[36m0.3817\u001b[0m        \u001b[32m0.3594\u001b[0m  2.0196\n",
      "     11        \u001b[36m0.3675\u001b[0m        \u001b[32m0.3466\u001b[0m  2.1114\n",
      "     12        \u001b[36m0.3559\u001b[0m        \u001b[32m0.3357\u001b[0m  1.8236\n",
      "     13        \u001b[36m0.3430\u001b[0m        \u001b[32m0.3262\u001b[0m  1.6873\n",
      "     14        \u001b[36m0.3349\u001b[0m        \u001b[32m0.3179\u001b[0m  1.6355\n",
      "     15        \u001b[36m0.3248\u001b[0m        \u001b[32m0.3097\u001b[0m  1.7015\n",
      "     16        \u001b[36m0.3174\u001b[0m        \u001b[32m0.3024\u001b[0m  1.7803\n",
      "     17        \u001b[36m0.3089\u001b[0m        \u001b[32m0.2960\u001b[0m  1.9518\n",
      "     18        \u001b[36m0.3008\u001b[0m        \u001b[32m0.2895\u001b[0m  2.0629\n",
      "     19        \u001b[36m0.2952\u001b[0m        \u001b[32m0.2831\u001b[0m  1.8970\n",
      "     20        \u001b[36m0.2871\u001b[0m        \u001b[32m0.2776\u001b[0m  2.3740\n"
     ]
    },
    {
     "name": "stderr",
     "output_type": "stream",
     "text": [
      "<ipython-input-9-bb6654121bf9>:51: UserWarning: Implicit dimension choice for log_softmax has been deprecated. Change the call to include dim=X as an argument.\n",
      "  out = self.Last(out)\n"
     ]
    },
    {
     "name": "stdout",
     "output_type": "stream",
     "text": [
      "  epoch    train_loss    valid_loss     dur\n",
      "-------  ------------  ------------  ------\n",
      "      1        \u001b[36m2.2587\u001b[0m        \u001b[32m2.1788\u001b[0m  2.3722\n",
      "      2        \u001b[36m1.9611\u001b[0m        \u001b[32m1.5968\u001b[0m  1.8332\n",
      "      3        \u001b[36m1.2154\u001b[0m        \u001b[32m0.8859\u001b[0m  1.8285\n",
      "      4        \u001b[36m0.7573\u001b[0m        \u001b[32m0.6255\u001b[0m  1.8743\n",
      "      5        \u001b[36m0.5876\u001b[0m        \u001b[32m0.5151\u001b[0m  1.8001\n",
      "      6        \u001b[36m0.5037\u001b[0m        \u001b[32m0.4562\u001b[0m  1.8563\n",
      "      7        \u001b[36m0.4578\u001b[0m        \u001b[32m0.4189\u001b[0m  1.7835\n",
      "      8        \u001b[36m0.4266\u001b[0m        \u001b[32m0.3941\u001b[0m  1.8005\n",
      "      9        \u001b[36m0.4026\u001b[0m        \u001b[32m0.3744\u001b[0m  1.7807\n",
      "     10        \u001b[36m0.3832\u001b[0m        \u001b[32m0.3593\u001b[0m  1.9746\n",
      "     11        \u001b[36m0.3679\u001b[0m        \u001b[32m0.3464\u001b[0m  2.0878\n",
      "     12        \u001b[36m0.3547\u001b[0m        \u001b[32m0.3351\u001b[0m  1.8271\n",
      "     13        \u001b[36m0.3425\u001b[0m        \u001b[32m0.3252\u001b[0m  1.8158\n",
      "     14        \u001b[36m0.3328\u001b[0m        \u001b[32m0.3167\u001b[0m  1.8725\n",
      "     15        \u001b[36m0.3245\u001b[0m        \u001b[32m0.3090\u001b[0m  1.8014\n",
      "     16        \u001b[36m0.3160\u001b[0m        \u001b[32m0.3014\u001b[0m  1.7475\n",
      "     17        \u001b[36m0.3062\u001b[0m        \u001b[32m0.2944\u001b[0m  1.7158\n",
      "     18        \u001b[36m0.2991\u001b[0m        \u001b[32m0.2880\u001b[0m  1.7107\n",
      "     19        \u001b[36m0.2922\u001b[0m        \u001b[32m0.2811\u001b[0m  1.6270\n",
      "     20        \u001b[36m0.2838\u001b[0m        \u001b[32m0.2753\u001b[0m  1.6774\n"
     ]
    },
    {
     "name": "stderr",
     "output_type": "stream",
     "text": [
      "<ipython-input-9-bb6654121bf9>:51: UserWarning: Implicit dimension choice for log_softmax has been deprecated. Change the call to include dim=X as an argument.\n",
      "  out = self.Last(out)\n"
     ]
    },
    {
     "name": "stdout",
     "output_type": "stream",
     "text": [
      "  epoch    train_loss    valid_loss     dur\n",
      "-------  ------------  ------------  ------\n",
      "      1        \u001b[36m2.2387\u001b[0m        \u001b[32m2.1317\u001b[0m  1.6882\n",
      "      2        \u001b[36m1.8471\u001b[0m        \u001b[32m1.4075\u001b[0m  1.6861\n",
      "      3        \u001b[36m1.0722\u001b[0m        \u001b[32m0.7846\u001b[0m  1.6681\n",
      "      4        \u001b[36m0.6977\u001b[0m        \u001b[32m0.5786\u001b[0m  1.6336\n",
      "      5        \u001b[36m0.5635\u001b[0m        \u001b[32m0.4888\u001b[0m  1.6694\n",
      "      6        \u001b[36m0.4935\u001b[0m        \u001b[32m0.4387\u001b[0m  1.6500\n",
      "      7        \u001b[36m0.4556\u001b[0m        \u001b[32m0.4062\u001b[0m  1.7288\n",
      "      8        \u001b[36m0.4245\u001b[0m        \u001b[32m0.3828\u001b[0m  1.6863\n",
      "      9        \u001b[36m0.4028\u001b[0m        \u001b[32m0.3654\u001b[0m  1.7568\n",
      "     10        \u001b[36m0.3855\u001b[0m        \u001b[32m0.3509\u001b[0m  1.7587\n",
      "     11        \u001b[36m0.3710\u001b[0m        \u001b[32m0.3385\u001b[0m  1.7750\n",
      "     12        \u001b[36m0.3568\u001b[0m        \u001b[32m0.3278\u001b[0m  1.8532\n",
      "     13        \u001b[36m0.3479\u001b[0m        \u001b[32m0.3185\u001b[0m  1.8933\n",
      "     14        \u001b[36m0.3363\u001b[0m        \u001b[32m0.3097\u001b[0m  1.8742\n",
      "     15        \u001b[36m0.3261\u001b[0m        \u001b[32m0.3015\u001b[0m  1.8394\n",
      "     16        \u001b[36m0.3190\u001b[0m        \u001b[32m0.2939\u001b[0m  1.8394\n",
      "     17        \u001b[36m0.3100\u001b[0m        \u001b[32m0.2871\u001b[0m  1.8209\n",
      "     18        \u001b[36m0.3026\u001b[0m        \u001b[32m0.2802\u001b[0m  1.8632\n",
      "     19        \u001b[36m0.2946\u001b[0m        \u001b[32m0.2738\u001b[0m  1.8107\n",
      "     20        \u001b[36m0.2868\u001b[0m        \u001b[32m0.2681\u001b[0m  1.8404\n"
     ]
    },
    {
     "name": "stderr",
     "output_type": "stream",
     "text": [
      "<ipython-input-9-bb6654121bf9>:51: UserWarning: Implicit dimension choice for log_softmax has been deprecated. Change the call to include dim=X as an argument.\n",
      "  out = self.Last(out)\n"
     ]
    },
    {
     "name": "stdout",
     "output_type": "stream",
     "text": [
      "  epoch    train_loss    valid_loss     dur\n",
      "-------  ------------  ------------  ------\n",
      "      1        \u001b[36m2.2737\u001b[0m        \u001b[32m2.2516\u001b[0m  2.0005\n",
      "      2        \u001b[36m2.2312\u001b[0m        \u001b[32m2.2081\u001b[0m  2.0550\n",
      "      3        \u001b[36m2.1711\u001b[0m        \u001b[32m2.1261\u001b[0m  2.0879\n",
      "      4        \u001b[36m2.0522\u001b[0m        \u001b[32m1.9742\u001b[0m  1.9412\n",
      "      5        \u001b[36m1.8632\u001b[0m        \u001b[32m1.7556\u001b[0m  1.9495\n",
      "      6        \u001b[36m1.6188\u001b[0m        \u001b[32m1.4958\u001b[0m  1.8200\n",
      "      7        \u001b[36m1.3713\u001b[0m        \u001b[32m1.2794\u001b[0m  1.6694\n",
      "      8        \u001b[36m1.2092\u001b[0m        \u001b[32m1.1652\u001b[0m  1.5772\n",
      "      9        \u001b[36m1.1295\u001b[0m        \u001b[32m1.1096\u001b[0m  1.6512\n",
      "     10        \u001b[36m1.0870\u001b[0m        \u001b[32m1.0792\u001b[0m  1.5769\n",
      "     11        \u001b[36m1.0643\u001b[0m        \u001b[32m1.0606\u001b[0m  1.5911\n",
      "     12        \u001b[36m1.0496\u001b[0m        \u001b[32m1.0486\u001b[0m  1.6313\n",
      "     13        \u001b[36m1.0387\u001b[0m        \u001b[32m1.0400\u001b[0m  1.5896\n",
      "     14        \u001b[36m1.0315\u001b[0m        \u001b[32m1.0336\u001b[0m  1.5646\n",
      "     15        \u001b[36m1.0255\u001b[0m        \u001b[32m1.0289\u001b[0m  1.7611\n",
      "     16        \u001b[36m1.0208\u001b[0m        \u001b[32m1.0246\u001b[0m  1.5738\n",
      "     17        \u001b[36m1.0181\u001b[0m        \u001b[32m1.0223\u001b[0m  1.7100\n",
      "     18        \u001b[36m1.0153\u001b[0m        \u001b[32m1.0200\u001b[0m  1.7199\n",
      "     19        \u001b[36m1.0129\u001b[0m        \u001b[32m1.0181\u001b[0m  1.6046\n",
      "     20        \u001b[36m1.0120\u001b[0m        \u001b[32m1.0168\u001b[0m  1.6491\n"
     ]
    },
    {
     "name": "stderr",
     "output_type": "stream",
     "text": [
      "<ipython-input-9-bb6654121bf9>:51: UserWarning: Implicit dimension choice for log_softmax has been deprecated. Change the call to include dim=X as an argument.\n",
      "  out = self.Last(out)\n"
     ]
    },
    {
     "name": "stdout",
     "output_type": "stream",
     "text": [
      "  epoch    train_loss    valid_loss     dur\n",
      "-------  ------------  ------------  ------\n",
      "      1        \u001b[36m2.2742\u001b[0m        \u001b[32m2.2493\u001b[0m  1.8612\n",
      "      2        \u001b[36m2.2295\u001b[0m        \u001b[32m2.2020\u001b[0m  1.8937\n",
      "      3        \u001b[36m2.1665\u001b[0m        \u001b[32m2.1128\u001b[0m  1.8382\n",
      "      4        \u001b[36m2.0432\u001b[0m        \u001b[32m1.9493\u001b[0m  1.8297\n",
      "      5        \u001b[36m1.8358\u001b[0m        \u001b[32m1.6876\u001b[0m  1.7564\n",
      "      6        \u001b[36m1.5690\u001b[0m        \u001b[32m1.4431\u001b[0m  1.8614\n",
      "      7        \u001b[36m1.3820\u001b[0m        \u001b[32m1.2980\u001b[0m  1.8714\n",
      "      8        \u001b[36m1.2602\u001b[0m        \u001b[32m1.1911\u001b[0m  1.7809\n",
      "      9        \u001b[36m1.1712\u001b[0m        \u001b[32m1.1173\u001b[0m  1.7828\n",
      "     10        \u001b[36m1.1129\u001b[0m        \u001b[32m1.0728\u001b[0m  1.8022\n",
      "     11        \u001b[36m1.0801\u001b[0m        \u001b[32m1.0474\u001b[0m  1.7005\n",
      "     12        \u001b[36m1.0597\u001b[0m        \u001b[32m1.0307\u001b[0m  1.7709\n",
      "     13        \u001b[36m1.0466\u001b[0m        \u001b[32m1.0204\u001b[0m  1.7087\n",
      "     14        \u001b[36m1.0376\u001b[0m        \u001b[32m1.0123\u001b[0m  1.7393\n",
      "     15        \u001b[36m1.0310\u001b[0m        \u001b[32m1.0070\u001b[0m  1.7393\n",
      "     16        \u001b[36m1.0255\u001b[0m        \u001b[32m1.0028\u001b[0m  1.7206\n",
      "     17        \u001b[36m1.0220\u001b[0m        \u001b[32m0.9992\u001b[0m  1.6454\n",
      "     18        \u001b[36m1.0188\u001b[0m        \u001b[32m0.9961\u001b[0m  1.6876\n",
      "     19        \u001b[36m1.0175\u001b[0m        \u001b[32m0.9945\u001b[0m  1.6179\n",
      "     20        \u001b[36m1.0146\u001b[0m        \u001b[32m0.9925\u001b[0m  1.5760\n"
     ]
    },
    {
     "name": "stderr",
     "output_type": "stream",
     "text": [
      "<ipython-input-9-bb6654121bf9>:51: UserWarning: Implicit dimension choice for log_softmax has been deprecated. Change the call to include dim=X as an argument.\n",
      "  out = self.Last(out)\n"
     ]
    },
    {
     "name": "stdout",
     "output_type": "stream",
     "text": [
      "  epoch    train_loss    valid_loss     dur\n",
      "-------  ------------  ------------  ------\n",
      "      1        \u001b[36m2.2737\u001b[0m        \u001b[32m2.2467\u001b[0m  1.7219\n",
      "      2        \u001b[36m2.2273\u001b[0m        \u001b[32m2.1990\u001b[0m  1.8002\n",
      "      3        \u001b[36m2.1640\u001b[0m        \u001b[32m2.1075\u001b[0m  1.8670\n",
      "      4        \u001b[36m2.0326\u001b[0m        \u001b[32m1.9288\u001b[0m  1.7910\n",
      "      5        \u001b[36m1.8096\u001b[0m        \u001b[32m1.6604\u001b[0m  1.8402\n",
      "      6        \u001b[36m1.5580\u001b[0m        \u001b[32m1.4484\u001b[0m  1.9187\n",
      "      7        \u001b[36m1.3952\u001b[0m        \u001b[32m1.3154\u001b[0m  2.2206\n",
      "      8        \u001b[36m1.2731\u001b[0m        \u001b[32m1.1998\u001b[0m  1.7452\n",
      "      9        \u001b[36m1.1741\u001b[0m        \u001b[32m1.1165\u001b[0m  1.7277\n",
      "     10        \u001b[36m1.1108\u001b[0m        \u001b[32m1.0699\u001b[0m  1.6502\n",
      "     11        \u001b[36m1.0762\u001b[0m        \u001b[32m1.0446\u001b[0m  1.7970\n",
      "     12        \u001b[36m1.0576\u001b[0m        \u001b[32m1.0299\u001b[0m  1.8381\n",
      "     13        \u001b[36m1.0456\u001b[0m        \u001b[32m1.0207\u001b[0m  1.8501\n",
      "     14        \u001b[36m1.0365\u001b[0m        \u001b[32m1.0138\u001b[0m  1.9312\n",
      "     15        \u001b[36m1.0299\u001b[0m        \u001b[32m1.0084\u001b[0m  1.9266\n",
      "     16        \u001b[36m1.0258\u001b[0m        \u001b[32m1.0044\u001b[0m  2.1809\n",
      "     17        \u001b[36m1.0218\u001b[0m        \u001b[32m1.0011\u001b[0m  2.4891\n",
      "     18        \u001b[36m1.0195\u001b[0m        \u001b[32m0.9987\u001b[0m  2.1315\n",
      "     19        \u001b[36m1.0171\u001b[0m        \u001b[32m0.9969\u001b[0m  2.2595\n",
      "     20        \u001b[36m1.0154\u001b[0m        \u001b[32m0.9955\u001b[0m  2.1572\n"
     ]
    },
    {
     "name": "stderr",
     "output_type": "stream",
     "text": [
      "<ipython-input-9-bb6654121bf9>:51: UserWarning: Implicit dimension choice for log_softmax has been deprecated. Change the call to include dim=X as an argument.\n",
      "  out = self.Last(out)\n"
     ]
    },
    {
     "name": "stdout",
     "output_type": "stream",
     "text": [
      "  epoch    train_loss    valid_loss     dur\n",
      "-------  ------------  ------------  ------\n",
      "      1        \u001b[36m2.2822\u001b[0m        \u001b[32m2.2623\u001b[0m  2.4071\n",
      "      2        \u001b[36m2.2491\u001b[0m        \u001b[32m2.2293\u001b[0m  2.0152\n",
      "      3        \u001b[36m2.2071\u001b[0m        \u001b[32m2.1701\u001b[0m  1.8611\n",
      "      4        \u001b[36m2.1213\u001b[0m        \u001b[32m2.0532\u001b[0m  1.9228\n",
      "      5        \u001b[36m1.9815\u001b[0m        \u001b[32m1.8854\u001b[0m  2.1281\n",
      "      6        \u001b[36m1.7938\u001b[0m        \u001b[32m1.6736\u001b[0m  2.1856\n",
      "      7        \u001b[36m1.5690\u001b[0m        \u001b[32m1.4349\u001b[0m  1.9899\n",
      "      8        \u001b[36m1.3550\u001b[0m        \u001b[32m1.2487\u001b[0m  2.0559\n",
      "      9        \u001b[36m1.2088\u001b[0m        \u001b[32m1.1379\u001b[0m  1.9322\n",
      "     10        \u001b[36m1.1293\u001b[0m        \u001b[32m1.0808\u001b[0m  1.7959\n",
      "     11        \u001b[36m1.0874\u001b[0m        \u001b[32m1.0506\u001b[0m  1.8037\n",
      "     12        \u001b[36m1.0648\u001b[0m        \u001b[32m1.0335\u001b[0m  1.7529\n",
      "     13        \u001b[36m1.0501\u001b[0m        \u001b[32m1.0219\u001b[0m  1.7516\n",
      "     14        \u001b[36m1.0406\u001b[0m        \u001b[32m1.0146\u001b[0m  1.7491\n",
      "     15        \u001b[36m1.0345\u001b[0m        \u001b[32m1.0091\u001b[0m  1.6868\n",
      "     16        \u001b[36m1.0294\u001b[0m        \u001b[32m1.0050\u001b[0m  1.6903\n",
      "     17        \u001b[36m1.0257\u001b[0m        \u001b[32m1.0015\u001b[0m  1.7061\n",
      "     18        \u001b[36m1.0236\u001b[0m        \u001b[32m0.9993\u001b[0m  1.7029\n",
      "     19        \u001b[36m1.0200\u001b[0m        \u001b[32m0.9969\u001b[0m  1.6389\n",
      "     20        \u001b[36m1.0173\u001b[0m        \u001b[32m0.9950\u001b[0m  1.5891\n"
     ]
    },
    {
     "name": "stderr",
     "output_type": "stream",
     "text": [
      "<ipython-input-9-bb6654121bf9>:51: UserWarning: Implicit dimension choice for log_softmax has been deprecated. Change the call to include dim=X as an argument.\n",
      "  out = self.Last(out)\n"
     ]
    },
    {
     "name": "stdout",
     "output_type": "stream",
     "text": [
      "  epoch    train_loss    valid_loss     dur\n",
      "-------  ------------  ------------  ------\n",
      "      1        \u001b[36m2.2811\u001b[0m        \u001b[32m2.2602\u001b[0m  1.6898\n",
      "      2        \u001b[36m2.2470\u001b[0m        \u001b[32m2.2274\u001b[0m  1.6914\n",
      "      3        \u001b[36m2.2051\u001b[0m        \u001b[32m2.1673\u001b[0m  1.6823\n",
      "      4        \u001b[36m2.1160\u001b[0m        \u001b[32m2.0433\u001b[0m  2.1119\n",
      "      5        \u001b[36m1.9692\u001b[0m        \u001b[32m1.8724\u001b[0m  1.8998\n",
      "      6        \u001b[36m1.7903\u001b[0m        \u001b[32m1.6868\u001b[0m  1.8916\n",
      "      7        \u001b[36m1.6153\u001b[0m        \u001b[32m1.5290\u001b[0m  1.7558\n",
      "      8        \u001b[36m1.4917\u001b[0m        \u001b[32m1.4361\u001b[0m  1.7378\n",
      "      9        \u001b[36m1.4151\u001b[0m        \u001b[32m1.3666\u001b[0m  1.6598\n",
      "     10        \u001b[36m1.3433\u001b[0m        \u001b[32m1.2864\u001b[0m  1.7815\n",
      "     11        \u001b[36m1.2582\u001b[0m        \u001b[32m1.1940\u001b[0m  1.9284\n",
      "     12        \u001b[36m1.1775\u001b[0m        \u001b[32m1.1221\u001b[0m  2.1748\n",
      "     13        \u001b[36m1.1210\u001b[0m        \u001b[32m1.0774\u001b[0m  2.2455\n",
      "     14        \u001b[36m1.0879\u001b[0m        \u001b[32m1.0514\u001b[0m  2.1315\n",
      "     15        \u001b[36m1.0679\u001b[0m        \u001b[32m1.0360\u001b[0m  2.0927\n",
      "     16        \u001b[36m1.0563\u001b[0m        \u001b[32m1.0263\u001b[0m  1.9519\n",
      "     17        \u001b[36m1.0475\u001b[0m        \u001b[32m1.0192\u001b[0m  1.8684\n",
      "     18        \u001b[36m1.0415\u001b[0m        \u001b[32m1.0143\u001b[0m  2.1303\n",
      "     19        \u001b[36m1.0369\u001b[0m        \u001b[32m1.0103\u001b[0m  1.8654\n",
      "     20        \u001b[36m1.0347\u001b[0m        \u001b[32m1.0078\u001b[0m  1.9213\n"
     ]
    },
    {
     "name": "stderr",
     "output_type": "stream",
     "text": [
      "<ipython-input-9-bb6654121bf9>:51: UserWarning: Implicit dimension choice for log_softmax has been deprecated. Change the call to include dim=X as an argument.\n",
      "  out = self.Last(out)\n"
     ]
    },
    {
     "name": "stdout",
     "output_type": "stream",
     "text": [
      "  epoch    train_loss    valid_loss     dur\n",
      "-------  ------------  ------------  ------\n",
      "      1        \u001b[36m2.2493\u001b[0m        \u001b[32m2.1659\u001b[0m  1.9094\n",
      "      2        \u001b[36m1.9465\u001b[0m        \u001b[32m1.6293\u001b[0m  2.0409\n",
      "      3        \u001b[36m1.2358\u001b[0m        \u001b[32m0.9352\u001b[0m  2.0868\n",
      "      4        \u001b[36m0.7840\u001b[0m        \u001b[32m0.6816\u001b[0m  1.9687\n",
      "      5        \u001b[36m0.6123\u001b[0m        \u001b[32m0.5644\u001b[0m  1.8379\n",
      "      6        \u001b[36m0.5222\u001b[0m        \u001b[32m0.4963\u001b[0m  1.8589\n",
      "      7        \u001b[36m0.4695\u001b[0m        \u001b[32m0.4530\u001b[0m  1.7867\n",
      "      8        \u001b[36m0.4338\u001b[0m        \u001b[32m0.4230\u001b[0m  1.9487\n",
      "      9        \u001b[36m0.4074\u001b[0m        \u001b[32m0.4015\u001b[0m  1.9599\n",
      "     10        \u001b[36m0.3860\u001b[0m        \u001b[32m0.3837\u001b[0m  1.6217\n",
      "     11        \u001b[36m0.3705\u001b[0m        \u001b[32m0.3701\u001b[0m  1.6041\n",
      "     12        \u001b[36m0.3538\u001b[0m        \u001b[32m0.3583\u001b[0m  1.6780\n",
      "     13        \u001b[36m0.3425\u001b[0m        \u001b[32m0.3486\u001b[0m  1.6125\n",
      "     14        \u001b[36m0.3345\u001b[0m        \u001b[32m0.3393\u001b[0m  1.6306\n",
      "     15        \u001b[36m0.3245\u001b[0m        \u001b[32m0.3310\u001b[0m  1.5612\n",
      "     16        \u001b[36m0.3151\u001b[0m        \u001b[32m0.3241\u001b[0m  1.5554\n",
      "     17        \u001b[36m0.3083\u001b[0m        \u001b[32m0.3172\u001b[0m  1.6278\n",
      "     18        \u001b[36m0.3030\u001b[0m        \u001b[32m0.3109\u001b[0m  1.4864\n",
      "     19        \u001b[36m0.2960\u001b[0m        \u001b[32m0.3046\u001b[0m  1.4979\n",
      "     20        \u001b[36m0.2877\u001b[0m        \u001b[32m0.2987\u001b[0m  1.5151\n"
     ]
    },
    {
     "name": "stderr",
     "output_type": "stream",
     "text": [
      "<ipython-input-9-bb6654121bf9>:51: UserWarning: Implicit dimension choice for log_softmax has been deprecated. Change the call to include dim=X as an argument.\n",
      "  out = self.Last(out)\n"
     ]
    },
    {
     "name": "stdout",
     "output_type": "stream",
     "text": [
      "  epoch    train_loss    valid_loss     dur\n",
      "-------  ------------  ------------  ------\n",
      "      1        \u001b[36m2.2402\u001b[0m        \u001b[32m2.1332\u001b[0m  1.8271\n",
      "      2        \u001b[36m1.8526\u001b[0m        \u001b[32m1.4327\u001b[0m  1.5277\n",
      "      3        \u001b[36m1.0860\u001b[0m        \u001b[32m0.8081\u001b[0m  1.4957\n",
      "      4        \u001b[36m0.7133\u001b[0m        \u001b[32m0.6042\u001b[0m  1.7648\n",
      "      5        \u001b[36m0.5739\u001b[0m        \u001b[32m0.5105\u001b[0m  1.5287\n",
      "      6        \u001b[36m0.5022\u001b[0m        \u001b[32m0.4556\u001b[0m  1.5653\n",
      "      7        \u001b[36m0.4577\u001b[0m        \u001b[32m0.4198\u001b[0m  1.7748\n",
      "      8        \u001b[36m0.4266\u001b[0m        \u001b[32m0.3941\u001b[0m  1.6485\n",
      "      9        \u001b[36m0.4036\u001b[0m        \u001b[32m0.3745\u001b[0m  1.5888\n",
      "     10        \u001b[36m0.3860\u001b[0m        \u001b[32m0.3584\u001b[0m  1.6400\n",
      "     11        \u001b[36m0.3685\u001b[0m        \u001b[32m0.3453\u001b[0m  1.7995\n",
      "     12        \u001b[36m0.3553\u001b[0m        \u001b[32m0.3338\u001b[0m  1.7209\n",
      "     13        \u001b[36m0.3437\u001b[0m        \u001b[32m0.3240\u001b[0m  1.6517\n",
      "     14        \u001b[36m0.3342\u001b[0m        \u001b[32m0.3145\u001b[0m  1.6292\n",
      "     15        \u001b[36m0.3234\u001b[0m        \u001b[32m0.3065\u001b[0m  1.6969\n",
      "     16        \u001b[36m0.3149\u001b[0m        \u001b[32m0.2986\u001b[0m  1.6469\n",
      "     17        \u001b[36m0.3077\u001b[0m        \u001b[32m0.2919\u001b[0m  1.6237\n",
      "     18        \u001b[36m0.2999\u001b[0m        \u001b[32m0.2853\u001b[0m  1.8418\n",
      "     19        \u001b[36m0.2945\u001b[0m        \u001b[32m0.2791\u001b[0m  1.6088\n",
      "     20        \u001b[36m0.2864\u001b[0m        \u001b[32m0.2732\u001b[0m  1.7293\n"
     ]
    },
    {
     "name": "stderr",
     "output_type": "stream",
     "text": [
      "<ipython-input-9-bb6654121bf9>:51: UserWarning: Implicit dimension choice for log_softmax has been deprecated. Change the call to include dim=X as an argument.\n",
      "  out = self.Last(out)\n"
     ]
    },
    {
     "name": "stdout",
     "output_type": "stream",
     "text": [
      "  epoch    train_loss    valid_loss     dur\n",
      "-------  ------------  ------------  ------\n",
      "      1        \u001b[36m2.2299\u001b[0m        \u001b[32m2.1151\u001b[0m  1.7709\n",
      "      2        \u001b[36m1.8474\u001b[0m        \u001b[32m1.4815\u001b[0m  1.7054\n",
      "      3        \u001b[36m1.1561\u001b[0m        \u001b[32m0.8741\u001b[0m  1.6281\n",
      "      4        \u001b[36m0.7500\u001b[0m        \u001b[32m0.6248\u001b[0m  1.6261\n",
      "      5        \u001b[36m0.5800\u001b[0m        \u001b[32m0.5108\u001b[0m  1.5866\n",
      "      6        \u001b[36m0.4969\u001b[0m        \u001b[32m0.4490\u001b[0m  1.5778\n",
      "      7        \u001b[36m0.4515\u001b[0m        \u001b[32m0.4115\u001b[0m  1.6147\n",
      "      8        \u001b[36m0.4184\u001b[0m        \u001b[32m0.3872\u001b[0m  1.6164\n",
      "      9        \u001b[36m0.3958\u001b[0m        \u001b[32m0.3693\u001b[0m  1.6397\n",
      "     10        \u001b[36m0.3781\u001b[0m        \u001b[32m0.3557\u001b[0m  1.7186\n",
      "     11        \u001b[36m0.3646\u001b[0m        \u001b[32m0.3442\u001b[0m  1.6000\n",
      "     12        \u001b[36m0.3537\u001b[0m        \u001b[32m0.3346\u001b[0m  1.7710\n",
      "     13        \u001b[36m0.3422\u001b[0m        \u001b[32m0.3260\u001b[0m  1.5951\n",
      "     14        \u001b[36m0.3348\u001b[0m        \u001b[32m0.3184\u001b[0m  1.5462\n",
      "     15        \u001b[36m0.3264\u001b[0m        \u001b[32m0.3114\u001b[0m  1.4975\n",
      "     16        \u001b[36m0.3199\u001b[0m        \u001b[32m0.3049\u001b[0m  1.4657\n",
      "     17        \u001b[36m0.3128\u001b[0m        \u001b[32m0.2987\u001b[0m  1.4638\n",
      "     18        \u001b[36m0.3037\u001b[0m        \u001b[32m0.2934\u001b[0m  1.5673\n",
      "     19        \u001b[36m0.2974\u001b[0m        \u001b[32m0.2874\u001b[0m  1.6269\n",
      "     20        \u001b[36m0.2915\u001b[0m        \u001b[32m0.2821\u001b[0m  1.6257\n"
     ]
    },
    {
     "name": "stderr",
     "output_type": "stream",
     "text": [
      "<ipython-input-9-bb6654121bf9>:51: UserWarning: Implicit dimension choice for log_softmax has been deprecated. Change the call to include dim=X as an argument.\n",
      "  out = self.Last(out)\n"
     ]
    },
    {
     "name": "stdout",
     "output_type": "stream",
     "text": [
      "  epoch    train_loss    valid_loss     dur\n",
      "-------  ------------  ------------  ------\n",
      "      1        \u001b[36m2.2408\u001b[0m        \u001b[32m2.1296\u001b[0m  1.6842\n",
      "      2        \u001b[36m1.8699\u001b[0m        \u001b[32m1.4916\u001b[0m  1.6294\n",
      "      3        \u001b[36m1.1647\u001b[0m        \u001b[32m0.8803\u001b[0m  1.7071\n",
      "      4        \u001b[36m0.7682\u001b[0m        \u001b[32m0.6470\u001b[0m  1.7292\n",
      "      5        \u001b[36m0.6070\u001b[0m        \u001b[32m0.5358\u001b[0m  1.7000\n",
      "      6        \u001b[36m0.5202\u001b[0m        \u001b[32m0.4721\u001b[0m  1.7899\n",
      "      7        \u001b[36m0.4660\u001b[0m        \u001b[32m0.4302\u001b[0m  1.7882\n",
      "      8        \u001b[36m0.4328\u001b[0m        \u001b[32m0.4022\u001b[0m  1.7965\n",
      "      9        \u001b[36m0.4074\u001b[0m        \u001b[32m0.3809\u001b[0m  1.7701\n",
      "     10        \u001b[36m0.3862\u001b[0m        \u001b[32m0.3640\u001b[0m  1.7192\n",
      "     11        \u001b[36m0.3723\u001b[0m        \u001b[32m0.3502\u001b[0m  1.7200\n",
      "     12        \u001b[36m0.3553\u001b[0m        \u001b[32m0.3385\u001b[0m  1.7198\n",
      "     13        \u001b[36m0.3437\u001b[0m        \u001b[32m0.3279\u001b[0m  1.7225\n",
      "     14        \u001b[36m0.3332\u001b[0m        \u001b[32m0.3189\u001b[0m  1.7543\n",
      "     15        \u001b[36m0.3215\u001b[0m        \u001b[32m0.3110\u001b[0m  1.7420\n",
      "     16        \u001b[36m0.3145\u001b[0m        \u001b[32m0.3036\u001b[0m  1.8490\n",
      "     17        \u001b[36m0.3047\u001b[0m        \u001b[32m0.2971\u001b[0m  1.8804\n",
      "     18        \u001b[36m0.2990\u001b[0m        \u001b[32m0.2899\u001b[0m  1.8488\n",
      "     19        \u001b[36m0.2904\u001b[0m        \u001b[32m0.2838\u001b[0m  1.7593\n",
      "     20        \u001b[36m0.2841\u001b[0m        \u001b[32m0.2781\u001b[0m  1.8182\n"
     ]
    },
    {
     "name": "stderr",
     "output_type": "stream",
     "text": [
      "<ipython-input-9-bb6654121bf9>:51: UserWarning: Implicit dimension choice for log_softmax has been deprecated. Change the call to include dim=X as an argument.\n",
      "  out = self.Last(out)\n"
     ]
    },
    {
     "name": "stdout",
     "output_type": "stream",
     "text": [
      "  epoch    train_loss    valid_loss     dur\n",
      "-------  ------------  ------------  ------\n",
      "      1        \u001b[36m2.2383\u001b[0m        \u001b[32m2.1280\u001b[0m  1.8186\n",
      "      2        \u001b[36m1.8810\u001b[0m        \u001b[32m1.5212\u001b[0m  1.7613\n",
      "      3        \u001b[36m1.2043\u001b[0m        \u001b[32m0.9084\u001b[0m  1.7195\n",
      "      4        \u001b[36m0.7913\u001b[0m        \u001b[32m0.6459\u001b[0m  1.7098\n",
      "      5        \u001b[36m0.6117\u001b[0m        \u001b[32m0.5266\u001b[0m  1.6705\n",
      "      6        \u001b[36m0.5243\u001b[0m        \u001b[32m0.4623\u001b[0m  1.8014\n",
      "      7        \u001b[36m0.4743\u001b[0m        \u001b[32m0.4238\u001b[0m  1.8508\n",
      "      8        \u001b[36m0.4410\u001b[0m        \u001b[32m0.3967\u001b[0m  1.5734\n",
      "      9        \u001b[36m0.4167\u001b[0m        \u001b[32m0.3772\u001b[0m  1.5468\n",
      "     10        \u001b[36m0.3972\u001b[0m        \u001b[32m0.3616\u001b[0m  1.4765\n",
      "     11        \u001b[36m0.3811\u001b[0m        \u001b[32m0.3486\u001b[0m  1.5039\n",
      "     12        \u001b[36m0.3687\u001b[0m        \u001b[32m0.3369\u001b[0m  1.4774\n",
      "     13        \u001b[36m0.3559\u001b[0m        \u001b[32m0.3276\u001b[0m  1.4942\n",
      "     14        \u001b[36m0.3474\u001b[0m        \u001b[32m0.3185\u001b[0m  1.5460\n",
      "     15        \u001b[36m0.3371\u001b[0m        \u001b[32m0.3106\u001b[0m  1.4909\n",
      "     16        \u001b[36m0.3266\u001b[0m        \u001b[32m0.3033\u001b[0m  1.5061\n",
      "     17        \u001b[36m0.3193\u001b[0m        \u001b[32m0.2961\u001b[0m  1.6180\n",
      "     18        \u001b[36m0.3120\u001b[0m        \u001b[32m0.2894\u001b[0m  1.6017\n",
      "     19        \u001b[36m0.3038\u001b[0m        \u001b[32m0.2834\u001b[0m  1.5808\n",
      "     20        \u001b[36m0.2989\u001b[0m        \u001b[32m0.2778\u001b[0m  1.6687\n"
     ]
    },
    {
     "name": "stderr",
     "output_type": "stream",
     "text": [
      "<ipython-input-9-bb6654121bf9>:51: UserWarning: Implicit dimension choice for log_softmax has been deprecated. Change the call to include dim=X as an argument.\n",
      "  out = self.Last(out)\n"
     ]
    },
    {
     "name": "stdout",
     "output_type": "stream",
     "text": [
      "  epoch    train_loss    valid_loss     dur\n",
      "-------  ------------  ------------  ------\n",
      "      1        \u001b[36m2.2815\u001b[0m        \u001b[32m2.2622\u001b[0m  1.7847\n",
      "      2        \u001b[36m2.2494\u001b[0m        \u001b[32m2.2339\u001b[0m  1.8738\n",
      "      3        \u001b[36m2.2153\u001b[0m        \u001b[32m2.1903\u001b[0m  1.7672\n",
      "      4        \u001b[36m2.1488\u001b[0m        \u001b[32m2.0954\u001b[0m  1.7313\n",
      "      5        \u001b[36m2.0136\u001b[0m        \u001b[32m1.9171\u001b[0m  1.8534\n",
      "      6        \u001b[36m1.7832\u001b[0m        \u001b[32m1.6497\u001b[0m  1.7884\n",
      "      7        \u001b[36m1.5385\u001b[0m        \u001b[32m1.4530\u001b[0m  1.7713\n",
      "      8        \u001b[36m1.3803\u001b[0m        \u001b[32m1.3173\u001b[0m  1.6300\n",
      "      9        \u001b[36m1.2552\u001b[0m        \u001b[32m1.2066\u001b[0m  1.6623\n",
      "     10        \u001b[36m1.1636\u001b[0m        \u001b[32m1.1366\u001b[0m  1.6807\n",
      "     11        \u001b[36m1.1106\u001b[0m        \u001b[32m1.0962\u001b[0m  1.6835\n",
      "     12        \u001b[36m1.0802\u001b[0m        \u001b[32m1.0725\u001b[0m  1.6311\n",
      "     13        \u001b[36m1.0605\u001b[0m        \u001b[32m1.0568\u001b[0m  1.6291\n",
      "     14        \u001b[36m1.0478\u001b[0m        \u001b[32m1.0466\u001b[0m  1.6021\n",
      "     15        \u001b[36m1.0391\u001b[0m        \u001b[32m1.0392\u001b[0m  1.7254\n",
      "     16        \u001b[36m1.0326\u001b[0m        \u001b[32m1.0340\u001b[0m  1.6752\n",
      "     17        \u001b[36m1.0267\u001b[0m        \u001b[32m1.0298\u001b[0m  1.7302\n",
      "     18        \u001b[36m1.0226\u001b[0m        \u001b[32m1.0263\u001b[0m  1.6188\n",
      "     19        \u001b[36m1.0207\u001b[0m        \u001b[32m1.0243\u001b[0m  1.6172\n",
      "     20        \u001b[36m1.0183\u001b[0m        \u001b[32m1.0224\u001b[0m  1.6610\n"
     ]
    },
    {
     "name": "stderr",
     "output_type": "stream",
     "text": [
      "<ipython-input-9-bb6654121bf9>:51: UserWarning: Implicit dimension choice for log_softmax has been deprecated. Change the call to include dim=X as an argument.\n",
      "  out = self.Last(out)\n"
     ]
    },
    {
     "name": "stdout",
     "output_type": "stream",
     "text": [
      "  epoch    train_loss    valid_loss     dur\n",
      "-------  ------------  ------------  ------\n",
      "      1        \u001b[36m2.2827\u001b[0m        \u001b[32m2.2632\u001b[0m  1.8574\n",
      "      2        \u001b[36m2.2531\u001b[0m        \u001b[32m2.2390\u001b[0m  1.7011\n",
      "      3        \u001b[36m2.2274\u001b[0m        \u001b[32m2.2075\u001b[0m  1.7089\n",
      "      4        \u001b[36m2.1814\u001b[0m        \u001b[32m2.1370\u001b[0m  1.7689\n",
      "      5        \u001b[36m2.0643\u001b[0m        \u001b[32m1.9525\u001b[0m  1.7545\n",
      "      6        \u001b[36m1.8173\u001b[0m        \u001b[32m1.6610\u001b[0m  1.7175\n",
      "      7        \u001b[36m1.5695\u001b[0m        \u001b[32m1.4684\u001b[0m  1.6302\n",
      "      8        \u001b[36m1.4247\u001b[0m        \u001b[32m1.3546\u001b[0m  1.5595\n",
      "      9        \u001b[36m1.3226\u001b[0m        \u001b[32m1.2551\u001b[0m  1.5056\n",
      "     10        \u001b[36m1.2255\u001b[0m        \u001b[32m1.1625\u001b[0m  1.5859\n",
      "     11        \u001b[36m1.1478\u001b[0m        \u001b[32m1.1001\u001b[0m  1.6072\n",
      "     12        \u001b[36m1.1014\u001b[0m        \u001b[32m1.0651\u001b[0m  1.5970\n",
      "     13        \u001b[36m1.0739\u001b[0m        \u001b[32m1.0442\u001b[0m  1.5270\n",
      "     14        \u001b[36m1.0582\u001b[0m        \u001b[32m1.0310\u001b[0m  1.5683\n",
      "     15        \u001b[36m1.0467\u001b[0m        \u001b[32m1.0219\u001b[0m  1.5989\n",
      "     16        \u001b[36m1.0399\u001b[0m        \u001b[32m1.0154\u001b[0m  1.5238\n",
      "     17        \u001b[36m1.0343\u001b[0m        \u001b[32m1.0103\u001b[0m  1.5685\n",
      "     18        \u001b[36m1.0279\u001b[0m        \u001b[32m1.0058\u001b[0m  1.5402\n",
      "     19        \u001b[36m1.0248\u001b[0m        \u001b[32m1.0030\u001b[0m  1.5159\n",
      "     20        \u001b[36m1.0222\u001b[0m        \u001b[32m1.0004\u001b[0m  1.5769\n"
     ]
    },
    {
     "name": "stderr",
     "output_type": "stream",
     "text": [
      "<ipython-input-9-bb6654121bf9>:51: UserWarning: Implicit dimension choice for log_softmax has been deprecated. Change the call to include dim=X as an argument.\n",
      "  out = self.Last(out)\n"
     ]
    },
    {
     "name": "stdout",
     "output_type": "stream",
     "text": [
      "  epoch    train_loss    valid_loss     dur\n",
      "-------  ------------  ------------  ------\n",
      "      1        \u001b[36m2.2790\u001b[0m        \u001b[32m2.2553\u001b[0m  1.7378\n",
      "      2        \u001b[36m2.2372\u001b[0m        \u001b[32m2.2148\u001b[0m  1.7811\n",
      "      3        \u001b[36m2.1869\u001b[0m        \u001b[32m2.1457\u001b[0m  1.7577\n",
      "      4        \u001b[36m2.0915\u001b[0m        \u001b[32m2.0193\u001b[0m  1.6658\n",
      "      5        \u001b[36m1.9342\u001b[0m        \u001b[32m1.8213\u001b[0m  1.7320\n",
      "      6        \u001b[36m1.6936\u001b[0m        \u001b[32m1.5363\u001b[0m  1.7067\n",
      "      7        \u001b[36m1.4203\u001b[0m        \u001b[32m1.2914\u001b[0m  1.6778\n",
      "      8        \u001b[36m1.2308\u001b[0m        \u001b[32m1.1527\u001b[0m  1.8192\n",
      "      9        \u001b[36m1.1339\u001b[0m        \u001b[32m1.0863\u001b[0m  1.7129\n",
      "     10        \u001b[36m1.0870\u001b[0m        \u001b[32m1.0524\u001b[0m  1.7756\n",
      "     11        \u001b[36m1.0608\u001b[0m        \u001b[32m1.0335\u001b[0m  1.7195\n",
      "     12        \u001b[36m1.0466\u001b[0m        \u001b[32m1.0220\u001b[0m  1.7371\n",
      "     13        \u001b[36m1.0376\u001b[0m        \u001b[32m1.0143\u001b[0m  1.7186\n",
      "     14        \u001b[36m1.0301\u001b[0m        \u001b[32m1.0084\u001b[0m  1.7075\n",
      "     15        \u001b[36m1.0254\u001b[0m        \u001b[32m1.0043\u001b[0m  1.6611\n",
      "     16        \u001b[36m1.0213\u001b[0m        \u001b[32m1.0013\u001b[0m  1.6298\n",
      "     17        \u001b[36m1.0183\u001b[0m        \u001b[32m0.9983\u001b[0m  1.6261\n",
      "     18        \u001b[36m1.0165\u001b[0m        \u001b[32m0.9964\u001b[0m  1.5777\n",
      "     19        \u001b[36m1.0136\u001b[0m        \u001b[32m0.9943\u001b[0m  1.6158\n",
      "     20        \u001b[36m1.0122\u001b[0m        \u001b[32m0.9930\u001b[0m  1.6487\n"
     ]
    },
    {
     "name": "stderr",
     "output_type": "stream",
     "text": [
      "<ipython-input-9-bb6654121bf9>:51: UserWarning: Implicit dimension choice for log_softmax has been deprecated. Change the call to include dim=X as an argument.\n",
      "  out = self.Last(out)\n"
     ]
    },
    {
     "name": "stdout",
     "output_type": "stream",
     "text": [
      "  epoch    train_loss    valid_loss     dur\n",
      "-------  ------------  ------------  ------\n",
      "      1        \u001b[36m2.2759\u001b[0m        \u001b[32m2.2533\u001b[0m  1.7390\n",
      "      2        \u001b[36m2.2372\u001b[0m        \u001b[32m2.2153\u001b[0m  1.7105\n",
      "      3        \u001b[36m2.1900\u001b[0m        \u001b[32m2.1501\u001b[0m  1.7996\n",
      "      4        \u001b[36m2.1031\u001b[0m        \u001b[32m2.0400\u001b[0m  1.7145\n",
      "      5        \u001b[36m1.9746\u001b[0m        \u001b[32m1.8890\u001b[0m  1.6180\n",
      "      6        \u001b[36m1.8092\u001b[0m        \u001b[32m1.7124\u001b[0m  1.7187\n",
      "      7        \u001b[36m1.6368\u001b[0m        \u001b[32m1.5418\u001b[0m  1.7358\n",
      "      8        \u001b[36m1.4799\u001b[0m        \u001b[32m1.3944\u001b[0m  1.7405\n",
      "      9        \u001b[36m1.3392\u001b[0m        \u001b[32m1.2530\u001b[0m  1.5764\n",
      "     10        \u001b[36m1.2118\u001b[0m        \u001b[32m1.1426\u001b[0m  1.6485\n",
      "     11        \u001b[36m1.1300\u001b[0m        \u001b[32m1.0832\u001b[0m  1.5891\n",
      "     12        \u001b[36m1.0874\u001b[0m        \u001b[32m1.0522\u001b[0m  1.5567\n",
      "     13        \u001b[36m1.0632\u001b[0m        \u001b[32m1.0338\u001b[0m  1.5659\n",
      "     14        \u001b[36m1.0492\u001b[0m        \u001b[32m1.0219\u001b[0m  1.4895\n",
      "     15        \u001b[36m1.0394\u001b[0m        \u001b[32m1.0139\u001b[0m  1.5552\n",
      "     16        \u001b[36m1.0320\u001b[0m        \u001b[32m1.0074\u001b[0m  1.5061\n",
      "     17        \u001b[36m1.0262\u001b[0m        \u001b[32m1.0031\u001b[0m  1.4667\n",
      "     18        \u001b[36m1.0215\u001b[0m        \u001b[32m0.9989\u001b[0m  1.5882\n",
      "     19        \u001b[36m1.0182\u001b[0m        \u001b[32m0.9963\u001b[0m  1.5792\n",
      "     20        \u001b[36m1.0164\u001b[0m        \u001b[32m0.9942\u001b[0m  1.5417\n"
     ]
    },
    {
     "name": "stderr",
     "output_type": "stream",
     "text": [
      "<ipython-input-9-bb6654121bf9>:51: UserWarning: Implicit dimension choice for log_softmax has been deprecated. Change the call to include dim=X as an argument.\n",
      "  out = self.Last(out)\n"
     ]
    },
    {
     "name": "stdout",
     "output_type": "stream",
     "text": [
      "  epoch    train_loss    valid_loss     dur\n",
      "-------  ------------  ------------  ------\n",
      "      1        \u001b[36m2.2751\u001b[0m        \u001b[32m2.2496\u001b[0m  1.7331\n",
      "      2        \u001b[36m2.2312\u001b[0m        \u001b[32m2.2040\u001b[0m  1.7899\n",
      "      3        \u001b[36m2.1706\u001b[0m        \u001b[32m2.1150\u001b[0m  1.7763\n",
      "      4        \u001b[36m2.0447\u001b[0m        \u001b[32m1.9487\u001b[0m  1.8456\n",
      "      5        \u001b[36m1.8633\u001b[0m        \u001b[32m1.7536\u001b[0m  1.7997\n",
      "      6        \u001b[36m1.6685\u001b[0m        \u001b[32m1.5601\u001b[0m  1.8117\n",
      "      7        \u001b[36m1.5004\u001b[0m        \u001b[32m1.4215\u001b[0m  1.7274\n",
      "      8        \u001b[36m1.3831\u001b[0m        \u001b[32m1.3140\u001b[0m  1.6800\n",
      "      9        \u001b[36m1.2780\u001b[0m        \u001b[32m1.2072\u001b[0m  1.8783\n",
      "     10        \u001b[36m1.1844\u001b[0m        \u001b[32m1.1262\u001b[0m  1.7781\n",
      "     11        \u001b[36m1.1230\u001b[0m        \u001b[32m1.0798\u001b[0m  1.7803\n",
      "     12        \u001b[36m1.0895\u001b[0m        \u001b[32m1.0536\u001b[0m  1.6553\n",
      "     13        \u001b[36m1.0693\u001b[0m        \u001b[32m1.0380\u001b[0m  1.7286\n",
      "     14        \u001b[36m1.0585\u001b[0m        \u001b[32m1.0286\u001b[0m  1.7844\n",
      "     15        \u001b[36m1.0482\u001b[0m        \u001b[32m1.0211\u001b[0m  1.7106\n",
      "     16        \u001b[36m1.0425\u001b[0m        \u001b[32m1.0160\u001b[0m  1.6376\n",
      "     17        \u001b[36m1.0394\u001b[0m        \u001b[32m1.0126\u001b[0m  1.6666\n",
      "     18        \u001b[36m1.0356\u001b[0m        \u001b[32m1.0090\u001b[0m  1.5591\n",
      "     19        \u001b[36m1.0331\u001b[0m        \u001b[32m1.0066\u001b[0m  1.6087\n",
      "     20        \u001b[36m1.0310\u001b[0m        \u001b[32m1.0045\u001b[0m  1.5890\n"
     ]
    },
    {
     "name": "stderr",
     "output_type": "stream",
     "text": [
      "<ipython-input-9-bb6654121bf9>:51: UserWarning: Implicit dimension choice for log_softmax has been deprecated. Change the call to include dim=X as an argument.\n",
      "  out = self.Last(out)\n"
     ]
    },
    {
     "name": "stdout",
     "output_type": "stream",
     "text": [
      "  epoch    train_loss    valid_loss     dur\n",
      "-------  ------------  ------------  ------\n",
      "      1        \u001b[36m0.9055\u001b[0m        \u001b[32m0.4114\u001b[0m  3.2051\n",
      "      2        \u001b[36m0.3315\u001b[0m        \u001b[32m0.3099\u001b[0m  3.3707\n",
      "      3        \u001b[36m0.2539\u001b[0m        \u001b[32m0.2635\u001b[0m  3.2541\n",
      "      4        \u001b[36m0.2085\u001b[0m        \u001b[32m0.2235\u001b[0m  3.2773\n",
      "      5        \u001b[36m0.1755\u001b[0m        \u001b[32m0.1939\u001b[0m  3.0893\n",
      "      6        \u001b[36m0.1523\u001b[0m        \u001b[32m0.1724\u001b[0m  3.1907\n",
      "      7        \u001b[36m0.1337\u001b[0m        \u001b[32m0.1550\u001b[0m  3.2055\n",
      "      8        \u001b[36m0.1199\u001b[0m        \u001b[32m0.1454\u001b[0m  3.0561\n",
      "      9        \u001b[36m0.1098\u001b[0m        \u001b[32m0.1378\u001b[0m  3.1341\n",
      "     10        \u001b[36m0.1000\u001b[0m        \u001b[32m0.1258\u001b[0m  3.1081\n",
      "     11        \u001b[36m0.0925\u001b[0m        \u001b[32m0.1226\u001b[0m  3.1713\n",
      "     12        \u001b[36m0.0853\u001b[0m        \u001b[32m0.1181\u001b[0m  3.1767\n",
      "     13        \u001b[36m0.0806\u001b[0m        \u001b[32m0.1167\u001b[0m  3.4314\n",
      "     14        \u001b[36m0.0752\u001b[0m        \u001b[32m0.1089\u001b[0m  3.3701\n",
      "     15        \u001b[36m0.0709\u001b[0m        \u001b[32m0.1076\u001b[0m  3.4241\n",
      "     16        \u001b[36m0.0667\u001b[0m        \u001b[32m0.1027\u001b[0m  3.2948\n",
      "     17        \u001b[36m0.0639\u001b[0m        \u001b[32m0.1001\u001b[0m  3.2999\n",
      "     18        \u001b[36m0.0609\u001b[0m        0.1012  3.2205\n",
      "     19        \u001b[36m0.0582\u001b[0m        0.1001  3.3598\n",
      "     20        \u001b[36m0.0556\u001b[0m        \u001b[32m0.0967\u001b[0m  3.3584\n"
     ]
    },
    {
     "name": "stderr",
     "output_type": "stream",
     "text": [
      "<ipython-input-9-bb6654121bf9>:51: UserWarning: Implicit dimension choice for log_softmax has been deprecated. Change the call to include dim=X as an argument.\n",
      "  out = self.Last(out)\n"
     ]
    },
    {
     "name": "stdout",
     "output_type": "stream",
     "text": [
      "  epoch    train_loss    valid_loss     dur\n",
      "-------  ------------  ------------  ------\n",
      "      1        \u001b[36m0.8730\u001b[0m        \u001b[32m0.3929\u001b[0m  3.4095\n",
      "      2        \u001b[36m0.3302\u001b[0m        \u001b[32m0.2977\u001b[0m  3.3091\n",
      "      3        \u001b[36m0.2596\u001b[0m        \u001b[32m0.2468\u001b[0m  3.2507\n",
      "      4        \u001b[36m0.2132\u001b[0m        \u001b[32m0.2139\u001b[0m  3.3412\n",
      "      5        \u001b[36m0.1806\u001b[0m        \u001b[32m0.1878\u001b[0m  3.3736\n",
      "      6        \u001b[36m0.1557\u001b[0m        \u001b[32m0.1692\u001b[0m  3.3266\n",
      "      7        \u001b[36m0.1370\u001b[0m        \u001b[32m0.1547\u001b[0m  3.2974\n",
      "      8        \u001b[36m0.1220\u001b[0m        \u001b[32m0.1387\u001b[0m  3.1864\n",
      "      9        \u001b[36m0.1102\u001b[0m        \u001b[32m0.1303\u001b[0m  3.2087\n",
      "     10        \u001b[36m0.1004\u001b[0m        \u001b[32m0.1261\u001b[0m  3.1111\n",
      "     11        \u001b[36m0.0925\u001b[0m        \u001b[32m0.1169\u001b[0m  2.9568\n",
      "     12        \u001b[36m0.0850\u001b[0m        \u001b[32m0.1168\u001b[0m  2.8991\n",
      "     13        \u001b[36m0.0795\u001b[0m        \u001b[32m0.1081\u001b[0m  2.9117\n",
      "     14        \u001b[36m0.0746\u001b[0m        \u001b[32m0.1048\u001b[0m  2.9951\n",
      "     15        \u001b[36m0.0693\u001b[0m        \u001b[32m0.1047\u001b[0m  2.9782\n",
      "     16        \u001b[36m0.0659\u001b[0m        \u001b[32m0.1002\u001b[0m  3.1673\n",
      "     17        \u001b[36m0.0636\u001b[0m        \u001b[32m0.0989\u001b[0m  3.2375\n",
      "     18        \u001b[36m0.0605\u001b[0m        \u001b[32m0.0968\u001b[0m  3.3592\n",
      "     19        \u001b[36m0.0571\u001b[0m        \u001b[32m0.0961\u001b[0m  3.1973\n",
      "     20        \u001b[36m0.0551\u001b[0m        \u001b[32m0.0946\u001b[0m  3.1531\n"
     ]
    },
    {
     "name": "stderr",
     "output_type": "stream",
     "text": [
      "<ipython-input-9-bb6654121bf9>:51: UserWarning: Implicit dimension choice for log_softmax has been deprecated. Change the call to include dim=X as an argument.\n",
      "  out = self.Last(out)\n"
     ]
    },
    {
     "name": "stdout",
     "output_type": "stream",
     "text": [
      "  epoch    train_loss    valid_loss     dur\n",
      "-------  ------------  ------------  ------\n",
      "      1        \u001b[36m0.8650\u001b[0m        \u001b[32m0.3905\u001b[0m  3.3263\n",
      "      2        \u001b[36m0.3297\u001b[0m        \u001b[32m0.2970\u001b[0m  3.3011\n",
      "      3        \u001b[36m0.2574\u001b[0m        \u001b[32m0.2446\u001b[0m  3.2990\n",
      "      4        \u001b[36m0.2109\u001b[0m        \u001b[32m0.2128\u001b[0m  3.1548\n",
      "      5        \u001b[36m0.1759\u001b[0m        \u001b[32m0.1867\u001b[0m  3.1999\n",
      "      6        \u001b[36m0.1530\u001b[0m        \u001b[32m0.1662\u001b[0m  3.4856\n",
      "      7        \u001b[36m0.1333\u001b[0m        \u001b[32m0.1530\u001b[0m  3.4479\n",
      "      8        \u001b[36m0.1195\u001b[0m        \u001b[32m0.1414\u001b[0m  3.1279\n",
      "      9        \u001b[36m0.1087\u001b[0m        \u001b[32m0.1290\u001b[0m  3.6762\n",
      "     10        \u001b[36m0.0983\u001b[0m        \u001b[32m0.1229\u001b[0m  3.3378\n",
      "     11        \u001b[36m0.0920\u001b[0m        \u001b[32m0.1178\u001b[0m  2.9625\n",
      "     12        \u001b[36m0.0844\u001b[0m        \u001b[32m0.1134\u001b[0m  2.9607\n",
      "     13        \u001b[36m0.0787\u001b[0m        \u001b[32m0.1072\u001b[0m  3.0019\n",
      "     14        \u001b[36m0.0735\u001b[0m        0.1082  2.9654\n",
      "     15        \u001b[36m0.0690\u001b[0m        \u001b[32m0.1048\u001b[0m  3.1157\n",
      "     16        \u001b[36m0.0652\u001b[0m        \u001b[32m0.1026\u001b[0m  2.9831\n",
      "     17        \u001b[36m0.0618\u001b[0m        \u001b[32m0.0983\u001b[0m  3.0567\n",
      "     18        \u001b[36m0.0585\u001b[0m        \u001b[32m0.0981\u001b[0m  3.0628\n",
      "     19        \u001b[36m0.0559\u001b[0m        \u001b[32m0.0944\u001b[0m  2.9546\n",
      "     20        \u001b[36m0.0523\u001b[0m        \u001b[32m0.0935\u001b[0m  2.7799\n"
     ]
    },
    {
     "name": "stderr",
     "output_type": "stream",
     "text": [
      "<ipython-input-9-bb6654121bf9>:51: UserWarning: Implicit dimension choice for log_softmax has been deprecated. Change the call to include dim=X as an argument.\n",
      "  out = self.Last(out)\n"
     ]
    },
    {
     "name": "stdout",
     "output_type": "stream",
     "text": [
      "  epoch    train_loss    valid_loss     dur\n",
      "-------  ------------  ------------  ------\n",
      "      1        \u001b[36m0.8617\u001b[0m        \u001b[32m0.3932\u001b[0m  2.7414\n",
      "      2        \u001b[36m0.3290\u001b[0m        \u001b[32m0.2963\u001b[0m  2.7739\n",
      "      3        \u001b[36m0.2559\u001b[0m        \u001b[32m0.2402\u001b[0m  2.7458\n",
      "      4        \u001b[36m0.2049\u001b[0m        \u001b[32m0.2091\u001b[0m  2.8321\n",
      "      5        \u001b[36m0.1729\u001b[0m        \u001b[32m0.1855\u001b[0m  2.8406\n",
      "      6        \u001b[36m0.1479\u001b[0m        \u001b[32m0.1641\u001b[0m  2.9439\n",
      "      7        \u001b[36m0.1299\u001b[0m        \u001b[32m0.1484\u001b[0m  3.0861\n",
      "      8        \u001b[36m0.1162\u001b[0m        \u001b[32m0.1372\u001b[0m  3.0105\n",
      "      9        \u001b[36m0.1040\u001b[0m        \u001b[32m0.1271\u001b[0m  3.1072\n",
      "     10        \u001b[36m0.0955\u001b[0m        \u001b[32m0.1190\u001b[0m  3.0029\n",
      "     11        \u001b[36m0.0871\u001b[0m        \u001b[32m0.1130\u001b[0m  3.0348\n",
      "     12        \u001b[36m0.0807\u001b[0m        \u001b[32m0.1093\u001b[0m  2.9820\n",
      "     13        \u001b[36m0.0753\u001b[0m        \u001b[32m0.1057\u001b[0m  3.0014\n",
      "     14        \u001b[36m0.0700\u001b[0m        \u001b[32m0.1022\u001b[0m  3.4382\n",
      "     15        \u001b[36m0.0656\u001b[0m        \u001b[32m0.0985\u001b[0m  3.3062\n",
      "     16        \u001b[36m0.0621\u001b[0m        \u001b[32m0.0953\u001b[0m  3.0427\n",
      "     17        \u001b[36m0.0586\u001b[0m        \u001b[32m0.0950\u001b[0m  3.3755\n",
      "     18        \u001b[36m0.0561\u001b[0m        \u001b[32m0.0937\u001b[0m  3.6066\n",
      "     19        \u001b[36m0.0541\u001b[0m        0.0945  3.4163\n",
      "     20        \u001b[36m0.0512\u001b[0m        \u001b[32m0.0907\u001b[0m  3.0751\n"
     ]
    },
    {
     "name": "stderr",
     "output_type": "stream",
     "text": [
      "<ipython-input-9-bb6654121bf9>:51: UserWarning: Implicit dimension choice for log_softmax has been deprecated. Change the call to include dim=X as an argument.\n",
      "  out = self.Last(out)\n"
     ]
    },
    {
     "name": "stdout",
     "output_type": "stream",
     "text": [
      "  epoch    train_loss    valid_loss     dur\n",
      "-------  ------------  ------------  ------\n",
      "      1        \u001b[36m0.8887\u001b[0m        \u001b[32m0.4019\u001b[0m  3.0017\n",
      "      2        \u001b[36m0.3350\u001b[0m        \u001b[32m0.2939\u001b[0m  3.0787\n",
      "      3        \u001b[36m0.2617\u001b[0m        \u001b[32m0.2334\u001b[0m  2.9828\n",
      "      4        \u001b[36m0.2131\u001b[0m        \u001b[32m0.1969\u001b[0m  3.0164\n",
      "      5        \u001b[36m0.1791\u001b[0m        \u001b[32m0.1741\u001b[0m  3.0540\n",
      "      6        \u001b[36m0.1549\u001b[0m        \u001b[32m0.1569\u001b[0m  3.0195\n",
      "      7        \u001b[36m0.1369\u001b[0m        \u001b[32m0.1425\u001b[0m  2.9498\n",
      "      8        \u001b[36m0.1216\u001b[0m        \u001b[32m0.1340\u001b[0m  2.8700\n",
      "      9        \u001b[36m0.1095\u001b[0m        \u001b[32m0.1268\u001b[0m  2.8522\n",
      "     10        \u001b[36m0.1003\u001b[0m        \u001b[32m0.1221\u001b[0m  3.0018\n",
      "     11        \u001b[36m0.0929\u001b[0m        \u001b[32m0.1136\u001b[0m  2.7167\n",
      "     12        \u001b[36m0.0859\u001b[0m        \u001b[32m0.1106\u001b[0m  2.7502\n",
      "     13        \u001b[36m0.0793\u001b[0m        \u001b[32m0.1056\u001b[0m  2.7663\n",
      "     14        \u001b[36m0.0747\u001b[0m        \u001b[32m0.1034\u001b[0m  2.8927\n",
      "     15        \u001b[36m0.0706\u001b[0m        \u001b[32m0.1015\u001b[0m  2.9581\n",
      "     16        \u001b[36m0.0666\u001b[0m        \u001b[32m0.1006\u001b[0m  3.0103\n",
      "     17        \u001b[36m0.0631\u001b[0m        \u001b[32m0.0985\u001b[0m  3.0507\n",
      "     18        \u001b[36m0.0598\u001b[0m        \u001b[32m0.0965\u001b[0m  3.0313\n",
      "     19        \u001b[36m0.0575\u001b[0m        \u001b[32m0.0958\u001b[0m  3.0789\n",
      "     20        \u001b[36m0.0558\u001b[0m        \u001b[32m0.0952\u001b[0m  2.9772\n"
     ]
    },
    {
     "name": "stderr",
     "output_type": "stream",
     "text": [
      "<ipython-input-9-bb6654121bf9>:51: UserWarning: Implicit dimension choice for log_softmax has been deprecated. Change the call to include dim=X as an argument.\n",
      "  out = self.Last(out)\n"
     ]
    },
    {
     "name": "stdout",
     "output_type": "stream",
     "text": [
      "  epoch    train_loss    valid_loss     dur\n",
      "-------  ------------  ------------  ------\n",
      "      1        \u001b[36m1.6474\u001b[0m        \u001b[32m1.0614\u001b[0m  2.9298\n",
      "      2        \u001b[36m1.0383\u001b[0m        \u001b[32m1.0081\u001b[0m  2.9346\n",
      "      3        \u001b[36m1.0171\u001b[0m        \u001b[32m1.0006\u001b[0m  2.8892\n",
      "      4        \u001b[36m1.0120\u001b[0m        \u001b[32m0.9971\u001b[0m  2.7298\n",
      "      5        \u001b[36m1.0104\u001b[0m        \u001b[32m0.9962\u001b[0m  2.7696\n",
      "      6        \u001b[36m1.0080\u001b[0m        \u001b[32m0.9944\u001b[0m  2.7806\n",
      "      7        \u001b[36m1.0056\u001b[0m        \u001b[32m0.9937\u001b[0m  2.7467\n",
      "      8        1.0060        \u001b[32m0.9929\u001b[0m  2.7007\n",
      "      9        \u001b[36m1.0045\u001b[0m        0.9932  2.7313\n",
      "     10        \u001b[36m1.0037\u001b[0m        \u001b[32m0.9913\u001b[0m  2.6273\n",
      "     11        1.0039        0.9922  2.6267\n",
      "     12        1.0043        0.9919  2.6702\n",
      "     13        \u001b[36m1.0031\u001b[0m        \u001b[32m0.9908\u001b[0m  2.6334\n",
      "     14        1.0032        0.9914  2.5783\n",
      "     15        \u001b[36m1.0025\u001b[0m        \u001b[32m0.9908\u001b[0m  2.5141\n",
      "     16        1.0027        \u001b[32m0.9907\u001b[0m  2.3819\n",
      "     17        \u001b[36m1.0019\u001b[0m        \u001b[32m0.9905\u001b[0m  2.4363\n",
      "     18        1.0022        \u001b[32m0.9904\u001b[0m  2.4965\n",
      "     19        \u001b[36m1.0017\u001b[0m        0.9907  2.4980\n",
      "     20        1.0021        \u001b[32m0.9903\u001b[0m  2.4758\n"
     ]
    },
    {
     "name": "stderr",
     "output_type": "stream",
     "text": [
      "<ipython-input-9-bb6654121bf9>:51: UserWarning: Implicit dimension choice for log_softmax has been deprecated. Change the call to include dim=X as an argument.\n",
      "  out = self.Last(out)\n"
     ]
    },
    {
     "name": "stdout",
     "output_type": "stream",
     "text": [
      "  epoch    train_loss    valid_loss     dur\n",
      "-------  ------------  ------------  ------\n",
      "      1        \u001b[36m1.6858\u001b[0m        \u001b[32m1.0498\u001b[0m  2.8024\n",
      "      2        \u001b[36m1.0430\u001b[0m        \u001b[32m0.9827\u001b[0m  2.8120\n",
      "      3        \u001b[36m1.0182\u001b[0m        \u001b[32m0.9746\u001b[0m  2.8034\n",
      "      4        \u001b[36m1.0135\u001b[0m        \u001b[32m0.9699\u001b[0m  2.8437\n",
      "      5        \u001b[36m1.0098\u001b[0m        \u001b[32m0.9693\u001b[0m  2.8878\n",
      "      6        \u001b[36m1.0089\u001b[0m        \u001b[32m0.9682\u001b[0m  2.7727\n",
      "      7        \u001b[36m1.0073\u001b[0m        \u001b[32m0.9667\u001b[0m  2.7579\n",
      "      8        \u001b[36m1.0070\u001b[0m        \u001b[32m0.9666\u001b[0m  2.8245\n",
      "      9        \u001b[36m1.0060\u001b[0m        \u001b[32m0.9655\u001b[0m  2.7818\n",
      "     10        \u001b[36m1.0049\u001b[0m        \u001b[32m0.9646\u001b[0m  3.0309\n",
      "     11        1.0057        0.9654  3.0731\n",
      "     12        \u001b[36m1.0047\u001b[0m        0.9648  3.0977\n",
      "     13        1.0047        \u001b[32m0.9637\u001b[0m  3.0046\n",
      "     14        1.0050        0.9652  2.7746\n",
      "     15        \u001b[36m1.0038\u001b[0m        \u001b[32m0.9636\u001b[0m  2.9910\n",
      "     16        \u001b[36m1.0035\u001b[0m        0.9637  3.2226\n",
      "     17        \u001b[36m1.0031\u001b[0m        0.9644  3.0094\n",
      "     18        1.0040        0.9645  2.8255\n",
      "     19        1.0039        0.9638  3.0752\n",
      "     20        1.0042        0.9646  3.7912\n"
     ]
    },
    {
     "name": "stderr",
     "output_type": "stream",
     "text": [
      "<ipython-input-9-bb6654121bf9>:51: UserWarning: Implicit dimension choice for log_softmax has been deprecated. Change the call to include dim=X as an argument.\n",
      "  out = self.Last(out)\n"
     ]
    },
    {
     "name": "stdout",
     "output_type": "stream",
     "text": [
      "  epoch    train_loss    valid_loss     dur\n",
      "-------  ------------  ------------  ------\n",
      "      1        \u001b[36m1.6120\u001b[0m        \u001b[32m1.0276\u001b[0m  3.7475\n",
      "      2        \u001b[36m1.0344\u001b[0m        \u001b[32m0.9788\u001b[0m  4.0073\n",
      "      3        \u001b[36m1.0145\u001b[0m        \u001b[32m0.9714\u001b[0m  3.4989\n",
      "      4        \u001b[36m1.0092\u001b[0m        \u001b[32m0.9683\u001b[0m  3.6410\n",
      "      5        \u001b[36m1.0067\u001b[0m        \u001b[32m0.9671\u001b[0m  3.0005\n",
      "      6        \u001b[36m1.0056\u001b[0m        \u001b[32m0.9658\u001b[0m  2.6808\n",
      "      7        \u001b[36m1.0055\u001b[0m        0.9661  2.6730\n",
      "      8        \u001b[36m1.0046\u001b[0m        0.9662  2.6495\n",
      "      9        \u001b[36m1.0044\u001b[0m        0.9660  2.6879\n",
      "     10        1.0044        0.9662  2.6566\n",
      "     11        \u001b[36m1.0041\u001b[0m        \u001b[32m0.9652\u001b[0m  2.6039\n",
      "     12        \u001b[36m1.0040\u001b[0m        0.9658  2.5355\n",
      "     13        1.0044        \u001b[32m0.9651\u001b[0m  2.6088\n",
      "     14        \u001b[36m1.0030\u001b[0m        \u001b[32m0.9650\u001b[0m  2.4649\n",
      "     15        1.0040        0.9660  3.0638\n",
      "     16        1.0048        0.9659  2.8692\n",
      "     17        1.0037        0.9658  2.6263\n",
      "     18        1.0033        0.9654  2.6696\n",
      "     19        1.0041        0.9657  2.7441\n",
      "     20        1.0031        0.9654  2.6796\n"
     ]
    },
    {
     "name": "stderr",
     "output_type": "stream",
     "text": [
      "<ipython-input-9-bb6654121bf9>:51: UserWarning: Implicit dimension choice for log_softmax has been deprecated. Change the call to include dim=X as an argument.\n",
      "  out = self.Last(out)\n"
     ]
    },
    {
     "name": "stdout",
     "output_type": "stream",
     "text": [
      "  epoch    train_loss    valid_loss     dur\n",
      "-------  ------------  ------------  ------\n",
      "      1        \u001b[36m1.7050\u001b[0m        \u001b[32m1.0434\u001b[0m  2.9993\n",
      "      2        \u001b[36m1.0427\u001b[0m        \u001b[32m0.9817\u001b[0m  2.8620\n",
      "      3        \u001b[36m1.0199\u001b[0m        \u001b[32m0.9739\u001b[0m  2.8118\n",
      "      4        \u001b[36m1.0140\u001b[0m        \u001b[32m0.9692\u001b[0m  2.7605\n",
      "      5        \u001b[36m1.0113\u001b[0m        \u001b[32m0.9673\u001b[0m  2.7489\n",
      "      6        \u001b[36m1.0090\u001b[0m        \u001b[32m0.9662\u001b[0m  2.8214\n",
      "      7        \u001b[36m1.0084\u001b[0m        \u001b[32m0.9659\u001b[0m  2.7693\n",
      "      8        \u001b[36m1.0073\u001b[0m        \u001b[32m0.9654\u001b[0m  2.7068\n",
      "      9        \u001b[36m1.0056\u001b[0m        \u001b[32m0.9632\u001b[0m  2.8126\n",
      "     10        \u001b[36m1.0043\u001b[0m        \u001b[32m0.9631\u001b[0m  2.7708\n",
      "     11        \u001b[36m1.0040\u001b[0m        \u001b[32m0.9623\u001b[0m  2.7278\n",
      "     12        1.0045        0.9642  2.7619\n",
      "     13        1.0047        0.9631  2.7423\n",
      "     14        1.0043        0.9634  2.9358\n",
      "     15        \u001b[36m1.0038\u001b[0m        0.9625  3.1296\n",
      "     16        \u001b[36m1.0033\u001b[0m        0.9626  2.5765\n",
      "     17        1.0034        \u001b[32m0.9616\u001b[0m  2.5142\n",
      "     18        1.0036        0.9632  2.5559\n",
      "     19        \u001b[36m1.0029\u001b[0m        0.9628  2.4556\n",
      "     20        1.0029        0.9617  2.4524\n"
     ]
    },
    {
     "name": "stderr",
     "output_type": "stream",
     "text": [
      "<ipython-input-9-bb6654121bf9>:51: UserWarning: Implicit dimension choice for log_softmax has been deprecated. Change the call to include dim=X as an argument.\n",
      "  out = self.Last(out)\n"
     ]
    },
    {
     "name": "stdout",
     "output_type": "stream",
     "text": [
      "  epoch    train_loss    valid_loss     dur\n",
      "-------  ------------  ------------  ------\n",
      "      1        \u001b[36m1.6232\u001b[0m        \u001b[32m1.0848\u001b[0m  2.8211\n",
      "      2        \u001b[36m1.0468\u001b[0m        \u001b[32m1.0269\u001b[0m  2.9081\n",
      "      3        \u001b[36m1.0266\u001b[0m        \u001b[32m1.0150\u001b[0m  3.0365\n",
      "      4        \u001b[36m1.0218\u001b[0m        \u001b[32m1.0144\u001b[0m  2.9144\n",
      "      5        \u001b[36m1.0206\u001b[0m        \u001b[32m1.0129\u001b[0m  3.0369\n",
      "      6        \u001b[36m1.0183\u001b[0m        \u001b[32m1.0104\u001b[0m  2.7062\n",
      "      7        \u001b[36m1.0179\u001b[0m        \u001b[32m1.0096\u001b[0m  2.8876\n",
      "      8        1.0181        \u001b[32m1.0078\u001b[0m  3.4319\n",
      "      9        \u001b[36m1.0165\u001b[0m        1.0083  3.1191\n",
      "     10        \u001b[36m1.0162\u001b[0m        \u001b[32m1.0061\u001b[0m  2.8025\n",
      "     11        \u001b[36m1.0160\u001b[0m        1.0112  2.6786\n",
      "     12        \u001b[36m1.0152\u001b[0m        1.0093  2.6697\n",
      "     13        1.0153        1.0092  2.7205\n",
      "     14        1.0161        1.0081  2.7336\n",
      "     15        1.0165        1.0105  3.2170\n",
      "     16        1.0168        1.0076  3.1237\n",
      "     17        1.0153        1.0081  3.1006\n",
      "     18        1.0157        1.0090  2.9734\n",
      "     19        1.0153        1.0096  2.7493\n",
      "     20        \u001b[36m1.0151\u001b[0m        1.0092  2.8004\n"
     ]
    },
    {
     "name": "stderr",
     "output_type": "stream",
     "text": [
      "<ipython-input-9-bb6654121bf9>:51: UserWarning: Implicit dimension choice for log_softmax has been deprecated. Change the call to include dim=X as an argument.\n",
      "  out = self.Last(out)\n"
     ]
    },
    {
     "name": "stdout",
     "output_type": "stream",
     "text": [
      "  epoch    train_loss    valid_loss     dur\n",
      "-------  ------------  ------------  ------\n",
      "      1        \u001b[36m0.8709\u001b[0m        \u001b[32m0.4101\u001b[0m  3.1494\n",
      "      2        \u001b[36m0.3379\u001b[0m        \u001b[32m0.3183\u001b[0m  3.8675\n",
      "      3        \u001b[36m0.2611\u001b[0m        \u001b[32m0.2667\u001b[0m  3.6789\n",
      "      4        \u001b[36m0.2125\u001b[0m        \u001b[32m0.2313\u001b[0m  3.1962\n",
      "      5        \u001b[36m0.1794\u001b[0m        \u001b[32m0.1969\u001b[0m  3.0105\n",
      "      6        \u001b[36m0.1554\u001b[0m        \u001b[32m0.1734\u001b[0m  3.0061\n",
      "      7        \u001b[36m0.1366\u001b[0m        \u001b[32m0.1556\u001b[0m  3.1688\n",
      "      8        \u001b[36m0.1230\u001b[0m        \u001b[32m0.1430\u001b[0m  3.0233\n",
      "      9        \u001b[36m0.1122\u001b[0m        \u001b[32m0.1376\u001b[0m  2.9590\n",
      "     10        \u001b[36m0.1017\u001b[0m        \u001b[32m0.1278\u001b[0m  2.8495\n",
      "     11        \u001b[36m0.0947\u001b[0m        \u001b[32m0.1214\u001b[0m  2.9664\n",
      "     12        \u001b[36m0.0871\u001b[0m        \u001b[32m0.1139\u001b[0m  2.9862\n",
      "     13        \u001b[36m0.0808\u001b[0m        \u001b[32m0.1110\u001b[0m  2.9498\n",
      "     14        \u001b[36m0.0754\u001b[0m        \u001b[32m0.1060\u001b[0m  2.9545\n",
      "     15        \u001b[36m0.0723\u001b[0m        \u001b[32m0.1040\u001b[0m  3.1770\n",
      "     16        \u001b[36m0.0673\u001b[0m        \u001b[32m0.1012\u001b[0m  2.7903\n",
      "     17        \u001b[36m0.0639\u001b[0m        \u001b[32m0.0996\u001b[0m  3.1209\n",
      "     18        \u001b[36m0.0603\u001b[0m        \u001b[32m0.0994\u001b[0m  2.9681\n",
      "     19        \u001b[36m0.0583\u001b[0m        \u001b[32m0.0974\u001b[0m  2.8413\n",
      "     20        \u001b[36m0.0569\u001b[0m        \u001b[32m0.0973\u001b[0m  3.7776\n"
     ]
    },
    {
     "name": "stderr",
     "output_type": "stream",
     "text": [
      "<ipython-input-9-bb6654121bf9>:51: UserWarning: Implicit dimension choice for log_softmax has been deprecated. Change the call to include dim=X as an argument.\n",
      "  out = self.Last(out)\n"
     ]
    },
    {
     "name": "stdout",
     "output_type": "stream",
     "text": [
      "  epoch    train_loss    valid_loss     dur\n",
      "-------  ------------  ------------  ------\n",
      "      1        \u001b[36m0.8963\u001b[0m        \u001b[32m0.4032\u001b[0m  2.9349\n",
      "      2        \u001b[36m0.3340\u001b[0m        \u001b[32m0.3001\u001b[0m  2.9222\n",
      "      3        \u001b[36m0.2615\u001b[0m        \u001b[32m0.2515\u001b[0m  2.8794\n",
      "      4        \u001b[36m0.2116\u001b[0m        \u001b[32m0.2158\u001b[0m  2.8863\n",
      "      5        \u001b[36m0.1795\u001b[0m        \u001b[32m0.1960\u001b[0m  2.9101\n",
      "      6        \u001b[36m0.1551\u001b[0m        \u001b[32m0.1743\u001b[0m  2.8388\n",
      "      7        \u001b[36m0.1358\u001b[0m        \u001b[32m0.1531\u001b[0m  2.9008\n",
      "      8        \u001b[36m0.1210\u001b[0m        \u001b[32m0.1461\u001b[0m  2.8504\n",
      "      9        \u001b[36m0.1098\u001b[0m        \u001b[32m0.1342\u001b[0m  3.1920\n",
      "     10        \u001b[36m0.0993\u001b[0m        \u001b[32m0.1218\u001b[0m  2.8628\n",
      "     11        \u001b[36m0.0930\u001b[0m        \u001b[32m0.1167\u001b[0m  2.8952\n",
      "     12        \u001b[36m0.0863\u001b[0m        \u001b[32m0.1126\u001b[0m  2.7565\n",
      "     13        \u001b[36m0.0798\u001b[0m        \u001b[32m0.1084\u001b[0m  2.9128\n",
      "     14        \u001b[36m0.0749\u001b[0m        \u001b[32m0.1061\u001b[0m  2.7496\n",
      "     15        \u001b[36m0.0707\u001b[0m        \u001b[32m0.0996\u001b[0m  2.8134\n",
      "     16        \u001b[36m0.0671\u001b[0m        \u001b[32m0.0988\u001b[0m  2.7990\n",
      "     17        \u001b[36m0.0626\u001b[0m        \u001b[32m0.0983\u001b[0m  2.7792\n",
      "     18        \u001b[36m0.0602\u001b[0m        \u001b[32m0.0976\u001b[0m  2.7602\n",
      "     19        \u001b[36m0.0580\u001b[0m        \u001b[32m0.0953\u001b[0m  2.6805\n",
      "     20        \u001b[36m0.0551\u001b[0m        \u001b[32m0.0930\u001b[0m  2.6777\n"
     ]
    },
    {
     "name": "stderr",
     "output_type": "stream",
     "text": [
      "<ipython-input-9-bb6654121bf9>:51: UserWarning: Implicit dimension choice for log_softmax has been deprecated. Change the call to include dim=X as an argument.\n",
      "  out = self.Last(out)\n"
     ]
    },
    {
     "name": "stdout",
     "output_type": "stream",
     "text": [
      "  epoch    train_loss    valid_loss     dur\n",
      "-------  ------------  ------------  ------\n",
      "      1        \u001b[36m0.8855\u001b[0m        \u001b[32m0.4001\u001b[0m  2.7303\n",
      "      2        \u001b[36m0.3358\u001b[0m        \u001b[32m0.3034\u001b[0m  2.5990\n",
      "      3        \u001b[36m0.2610\u001b[0m        \u001b[32m0.2517\u001b[0m  2.7192\n",
      "      4        \u001b[36m0.2127\u001b[0m        \u001b[32m0.2140\u001b[0m  2.7869\n",
      "      5        \u001b[36m0.1785\u001b[0m        \u001b[32m0.1892\u001b[0m  3.0261\n",
      "      6        \u001b[36m0.1540\u001b[0m        \u001b[32m0.1700\u001b[0m  2.7774\n",
      "      7        \u001b[36m0.1353\u001b[0m        \u001b[32m0.1581\u001b[0m  2.9631\n",
      "      8        \u001b[36m0.1214\u001b[0m        \u001b[32m0.1426\u001b[0m  2.9318\n",
      "      9        \u001b[36m0.1103\u001b[0m        \u001b[32m0.1318\u001b[0m  3.0036\n",
      "     10        \u001b[36m0.1011\u001b[0m        \u001b[32m0.1257\u001b[0m  2.9724\n",
      "     11        \u001b[36m0.0918\u001b[0m        \u001b[32m0.1186\u001b[0m  2.9978\n",
      "     12        \u001b[36m0.0855\u001b[0m        \u001b[32m0.1140\u001b[0m  2.9509\n",
      "     13        \u001b[36m0.0792\u001b[0m        \u001b[32m0.1114\u001b[0m  3.0269\n",
      "     14        \u001b[36m0.0743\u001b[0m        \u001b[32m0.1082\u001b[0m  2.9431\n",
      "     15        \u001b[36m0.0698\u001b[0m        \u001b[32m0.1056\u001b[0m  2.9650\n",
      "     16        \u001b[36m0.0657\u001b[0m        \u001b[32m0.1003\u001b[0m  2.8974\n",
      "     17        \u001b[36m0.0626\u001b[0m        0.1022  3.0339\n",
      "     18        \u001b[36m0.0597\u001b[0m        \u001b[32m0.0964\u001b[0m  2.9214\n",
      "     19        \u001b[36m0.0559\u001b[0m        0.0981  2.9019\n",
      "     20        \u001b[36m0.0541\u001b[0m        \u001b[32m0.0922\u001b[0m  2.8320\n"
     ]
    },
    {
     "name": "stderr",
     "output_type": "stream",
     "text": [
      "<ipython-input-9-bb6654121bf9>:51: UserWarning: Implicit dimension choice for log_softmax has been deprecated. Change the call to include dim=X as an argument.\n",
      "  out = self.Last(out)\n"
     ]
    },
    {
     "name": "stdout",
     "output_type": "stream",
     "text": [
      "  epoch    train_loss    valid_loss     dur\n",
      "-------  ------------  ------------  ------\n",
      "      1        \u001b[36m0.9025\u001b[0m        \u001b[32m0.3953\u001b[0m  2.8202\n",
      "      2        \u001b[36m0.3352\u001b[0m        \u001b[32m0.2982\u001b[0m  2.9649\n",
      "      3        \u001b[36m0.2604\u001b[0m        \u001b[32m0.2516\u001b[0m  2.8940\n",
      "      4        \u001b[36m0.2116\u001b[0m        \u001b[32m0.2158\u001b[0m  2.8702\n",
      "      5        \u001b[36m0.1778\u001b[0m        \u001b[32m0.1890\u001b[0m  2.8230\n",
      "      6        \u001b[36m0.1520\u001b[0m        \u001b[32m0.1726\u001b[0m  2.8320\n",
      "      7        \u001b[36m0.1334\u001b[0m        \u001b[32m0.1548\u001b[0m  2.8365\n",
      "      8        \u001b[36m0.1189\u001b[0m        \u001b[32m0.1423\u001b[0m  2.8510\n",
      "      9        \u001b[36m0.1063\u001b[0m        \u001b[32m0.1327\u001b[0m  2.8100\n",
      "     10        \u001b[36m0.0969\u001b[0m        \u001b[32m0.1256\u001b[0m  2.9048\n",
      "     11        \u001b[36m0.0889\u001b[0m        \u001b[32m0.1193\u001b[0m  2.8709\n",
      "     12        \u001b[36m0.0835\u001b[0m        \u001b[32m0.1145\u001b[0m  2.9557\n",
      "     13        \u001b[36m0.0775\u001b[0m        \u001b[32m0.1086\u001b[0m  2.9920\n",
      "     14        \u001b[36m0.0716\u001b[0m        \u001b[32m0.1070\u001b[0m  2.9026\n",
      "     15        \u001b[36m0.0677\u001b[0m        \u001b[32m0.1023\u001b[0m  2.8930\n",
      "     16        \u001b[36m0.0646\u001b[0m        \u001b[32m0.1011\u001b[0m  3.0414\n",
      "     17        \u001b[36m0.0604\u001b[0m        \u001b[32m0.0995\u001b[0m  2.8769\n",
      "     18        \u001b[36m0.0573\u001b[0m        \u001b[32m0.0980\u001b[0m  2.9824\n",
      "     19        \u001b[36m0.0551\u001b[0m        \u001b[32m0.0944\u001b[0m  2.8289\n",
      "     20        \u001b[36m0.0525\u001b[0m        \u001b[32m0.0936\u001b[0m  2.9425\n"
     ]
    },
    {
     "name": "stderr",
     "output_type": "stream",
     "text": [
      "<ipython-input-9-bb6654121bf9>:51: UserWarning: Implicit dimension choice for log_softmax has been deprecated. Change the call to include dim=X as an argument.\n",
      "  out = self.Last(out)\n"
     ]
    },
    {
     "name": "stdout",
     "output_type": "stream",
     "text": [
      "  epoch    train_loss    valid_loss     dur\n",
      "-------  ------------  ------------  ------\n",
      "      1        \u001b[36m0.8846\u001b[0m        \u001b[32m0.4021\u001b[0m  2.9104\n",
      "      2        \u001b[36m0.3400\u001b[0m        \u001b[32m0.2902\u001b[0m  2.8673\n",
      "      3        \u001b[36m0.2643\u001b[0m        \u001b[32m0.2336\u001b[0m  2.9037\n",
      "      4        \u001b[36m0.2153\u001b[0m        \u001b[32m0.1992\u001b[0m  2.8718\n",
      "      5        \u001b[36m0.1821\u001b[0m        \u001b[32m0.1747\u001b[0m  2.7764\n",
      "      6        \u001b[36m0.1581\u001b[0m        \u001b[32m0.1576\u001b[0m  2.7599\n",
      "      7        \u001b[36m0.1390\u001b[0m        \u001b[32m0.1440\u001b[0m  2.8342\n",
      "      8        \u001b[36m0.1239\u001b[0m        \u001b[32m0.1348\u001b[0m  2.9744\n",
      "      9        \u001b[36m0.1127\u001b[0m        \u001b[32m0.1258\u001b[0m  2.9289\n",
      "     10        \u001b[36m0.1029\u001b[0m        \u001b[32m0.1193\u001b[0m  2.9194\n",
      "     11        \u001b[36m0.0953\u001b[0m        \u001b[32m0.1145\u001b[0m  2.9180\n",
      "     12        \u001b[36m0.0879\u001b[0m        \u001b[32m0.1087\u001b[0m  3.0351\n",
      "     13        \u001b[36m0.0813\u001b[0m        \u001b[32m0.1066\u001b[0m  3.0260\n",
      "     14        \u001b[36m0.0765\u001b[0m        \u001b[32m0.1043\u001b[0m  2.8942\n",
      "     15        \u001b[36m0.0716\u001b[0m        \u001b[32m0.1011\u001b[0m  2.9169\n",
      "     16        \u001b[36m0.0678\u001b[0m        \u001b[32m0.0987\u001b[0m  2.9170\n",
      "     17        \u001b[36m0.0645\u001b[0m        \u001b[32m0.0962\u001b[0m  2.9134\n",
      "     18        \u001b[36m0.0605\u001b[0m        \u001b[32m0.0943\u001b[0m  2.8584\n",
      "     19        \u001b[36m0.0583\u001b[0m        \u001b[32m0.0933\u001b[0m  3.0072\n",
      "     20        \u001b[36m0.0561\u001b[0m        0.0934  2.9329\n"
     ]
    },
    {
     "name": "stderr",
     "output_type": "stream",
     "text": [
      "<ipython-input-9-bb6654121bf9>:51: UserWarning: Implicit dimension choice for log_softmax has been deprecated. Change the call to include dim=X as an argument.\n",
      "  out = self.Last(out)\n"
     ]
    },
    {
     "name": "stdout",
     "output_type": "stream",
     "text": [
      "  epoch    train_loss    valid_loss     dur\n",
      "-------  ------------  ------------  ------\n",
      "      1        \u001b[36m1.6623\u001b[0m        \u001b[32m1.0613\u001b[0m  2.8239\n",
      "      2        \u001b[36m1.0355\u001b[0m        \u001b[32m1.0045\u001b[0m  2.7282\n",
      "      3        \u001b[36m1.0148\u001b[0m        \u001b[32m0.9987\u001b[0m  2.7301\n",
      "      4        \u001b[36m1.0103\u001b[0m        \u001b[32m0.9954\u001b[0m  2.7226\n",
      "      5        \u001b[36m1.0075\u001b[0m        \u001b[32m0.9951\u001b[0m  2.5543\n",
      "      6        \u001b[36m1.0074\u001b[0m        \u001b[32m0.9942\u001b[0m  2.6442\n",
      "      7        \u001b[36m1.0060\u001b[0m        \u001b[32m0.9936\u001b[0m  2.6572\n",
      "      8        \u001b[36m1.0052\u001b[0m        \u001b[32m0.9916\u001b[0m  2.6495\n",
      "      9        \u001b[36m1.0039\u001b[0m        0.9919  2.6819\n",
      "     10        1.0042        0.9917  2.6286\n",
      "     11        1.0042        \u001b[32m0.9911\u001b[0m  2.6309\n",
      "     12        \u001b[36m1.0036\u001b[0m        0.9917  2.6318\n",
      "     13        \u001b[36m1.0035\u001b[0m        0.9911  2.5454\n",
      "     14        \u001b[36m1.0034\u001b[0m        0.9913  2.6225\n",
      "     15        \u001b[36m1.0024\u001b[0m        \u001b[32m0.9906\u001b[0m  2.4844\n",
      "     16        1.0040        0.9911  2.5888\n",
      "     17        \u001b[36m1.0023\u001b[0m        0.9907  2.5685\n",
      "     18        1.0026        0.9910  2.5466\n",
      "     19        1.0029        0.9908  2.5361\n",
      "     20        1.0025        0.9906  2.5604\n"
     ]
    },
    {
     "name": "stderr",
     "output_type": "stream",
     "text": [
      "<ipython-input-9-bb6654121bf9>:51: UserWarning: Implicit dimension choice for log_softmax has been deprecated. Change the call to include dim=X as an argument.\n",
      "  out = self.Last(out)\n"
     ]
    },
    {
     "name": "stdout",
     "output_type": "stream",
     "text": [
      "  epoch    train_loss    valid_loss     dur\n",
      "-------  ------------  ------------  ------\n",
      "      1        \u001b[36m1.7231\u001b[0m        \u001b[32m1.1368\u001b[0m  2.7125\n",
      "      2        \u001b[36m1.0601\u001b[0m        \u001b[32m0.9857\u001b[0m  2.5494\n",
      "      3        \u001b[36m1.0216\u001b[0m        \u001b[32m0.9775\u001b[0m  2.4356\n",
      "      4        \u001b[36m1.0164\u001b[0m        \u001b[32m0.9730\u001b[0m  2.4282\n",
      "      5        \u001b[36m1.0120\u001b[0m        \u001b[32m0.9703\u001b[0m  2.4339\n",
      "      6        \u001b[36m1.0090\u001b[0m        \u001b[32m0.9685\u001b[0m  2.5678\n",
      "      7        1.0092        \u001b[32m0.9675\u001b[0m  2.7818\n",
      "      8        \u001b[36m1.0089\u001b[0m        \u001b[32m0.9670\u001b[0m  2.7310\n",
      "      9        \u001b[36m1.0074\u001b[0m        0.9681  2.6281\n",
      "     10        \u001b[36m1.0054\u001b[0m        \u001b[32m0.9662\u001b[0m  2.7628\n",
      "     11        \u001b[36m1.0054\u001b[0m        \u001b[32m0.9655\u001b[0m  2.6547\n",
      "     12        \u001b[36m1.0051\u001b[0m        \u001b[32m0.9652\u001b[0m  2.6804\n",
      "     13        1.0056        \u001b[32m0.9650\u001b[0m  2.5884\n",
      "     14        \u001b[36m1.0044\u001b[0m        0.9652  2.6361\n",
      "     15        1.0048        \u001b[32m0.9649\u001b[0m  2.6923\n",
      "     16        \u001b[36m1.0039\u001b[0m        \u001b[32m0.9643\u001b[0m  2.6610\n",
      "     17        1.0041        \u001b[32m0.9640\u001b[0m  2.7421\n",
      "     18        1.0042        \u001b[32m0.9638\u001b[0m  2.5618\n",
      "     19        1.0039        \u001b[32m0.9637\u001b[0m  2.6721\n",
      "     20        \u001b[36m1.0032\u001b[0m        \u001b[32m0.9630\u001b[0m  2.6909\n"
     ]
    },
    {
     "name": "stderr",
     "output_type": "stream",
     "text": [
      "<ipython-input-9-bb6654121bf9>:51: UserWarning: Implicit dimension choice for log_softmax has been deprecated. Change the call to include dim=X as an argument.\n",
      "  out = self.Last(out)\n"
     ]
    },
    {
     "name": "stdout",
     "output_type": "stream",
     "text": [
      "  epoch    train_loss    valid_loss     dur\n",
      "-------  ------------  ------------  ------\n",
      "      1        \u001b[36m1.6139\u001b[0m        \u001b[32m1.0180\u001b[0m  2.8599\n",
      "      2        \u001b[36m1.0314\u001b[0m        \u001b[32m0.9780\u001b[0m  2.7302\n",
      "      3        \u001b[36m1.0156\u001b[0m        \u001b[32m0.9733\u001b[0m  2.6589\n",
      "      4        \u001b[36m1.0110\u001b[0m        \u001b[32m0.9704\u001b[0m  2.7468\n",
      "      5        \u001b[36m1.0082\u001b[0m        \u001b[32m0.9691\u001b[0m  2.6111\n",
      "      6        \u001b[36m1.0079\u001b[0m        \u001b[32m0.9689\u001b[0m  2.6311\n",
      "      7        \u001b[36m1.0069\u001b[0m        \u001b[32m0.9675\u001b[0m  2.5977\n",
      "      8        \u001b[36m1.0058\u001b[0m        \u001b[32m0.9672\u001b[0m  2.5797\n",
      "      9        \u001b[36m1.0054\u001b[0m        \u001b[32m0.9669\u001b[0m  2.7712\n",
      "     10        1.0056        \u001b[32m0.9668\u001b[0m  2.6671\n",
      "     11        \u001b[36m1.0053\u001b[0m        \u001b[32m0.9660\u001b[0m  2.6255\n",
      "     12        \u001b[36m1.0048\u001b[0m        0.9671  2.5892\n",
      "     13        \u001b[36m1.0047\u001b[0m        0.9661  2.6389\n",
      "     14        \u001b[36m1.0041\u001b[0m        \u001b[32m0.9660\u001b[0m  2.6232\n",
      "     15        \u001b[36m1.0036\u001b[0m        \u001b[32m0.9659\u001b[0m  2.6294\n",
      "     16        1.0043        0.9664  2.4991\n",
      "     17        1.0037        0.9659  2.6506\n",
      "     18        \u001b[36m1.0032\u001b[0m        0.9661  2.5564\n",
      "     19        1.0034        \u001b[32m0.9655\u001b[0m  2.6291\n",
      "     20        \u001b[36m1.0030\u001b[0m        0.9662  2.5899\n"
     ]
    },
    {
     "name": "stderr",
     "output_type": "stream",
     "text": [
      "<ipython-input-9-bb6654121bf9>:51: UserWarning: Implicit dimension choice for log_softmax has been deprecated. Change the call to include dim=X as an argument.\n",
      "  out = self.Last(out)\n"
     ]
    },
    {
     "name": "stdout",
     "output_type": "stream",
     "text": [
      "  epoch    train_loss    valid_loss     dur\n",
      "-------  ------------  ------------  ------\n",
      "      1        \u001b[36m1.7026\u001b[0m        \u001b[32m1.0528\u001b[0m  2.8999\n",
      "      2        \u001b[36m1.0425\u001b[0m        \u001b[32m0.9783\u001b[0m  2.6175\n",
      "      3        \u001b[36m1.0161\u001b[0m        \u001b[32m0.9691\u001b[0m  2.5564\n",
      "      4        \u001b[36m1.0106\u001b[0m        \u001b[32m0.9679\u001b[0m  2.4969\n",
      "      5        \u001b[36m1.0081\u001b[0m        \u001b[32m0.9663\u001b[0m  2.6858\n",
      "      6        \u001b[36m1.0073\u001b[0m        \u001b[32m0.9646\u001b[0m  2.4638\n",
      "      7        \u001b[36m1.0060\u001b[0m        \u001b[32m0.9639\u001b[0m  2.5504\n",
      "      8        \u001b[36m1.0056\u001b[0m        \u001b[32m0.9639\u001b[0m  2.6990\n",
      "      9        \u001b[36m1.0052\u001b[0m        0.9639  2.6936\n",
      "     10        1.0053        \u001b[32m0.9633\u001b[0m  2.5969\n",
      "     11        \u001b[36m1.0039\u001b[0m        \u001b[32m0.9632\u001b[0m  2.7001\n",
      "     12        \u001b[36m1.0037\u001b[0m        0.9632  2.5745\n",
      "     13        \u001b[36m1.0035\u001b[0m        \u001b[32m0.9630\u001b[0m  2.6186\n",
      "     14        \u001b[36m1.0027\u001b[0m        \u001b[32m0.9622\u001b[0m  2.6420\n",
      "     15        1.0031        \u001b[32m0.9618\u001b[0m  2.5969\n",
      "     16        \u001b[36m1.0025\u001b[0m        0.9623  2.6725\n",
      "     17        1.0033        0.9622  2.6306\n",
      "     18        \u001b[36m1.0025\u001b[0m        0.9622  2.6008\n",
      "     19        1.0025        \u001b[32m0.9614\u001b[0m  2.6486\n",
      "     20        1.0029        \u001b[32m0.9614\u001b[0m  2.6180\n"
     ]
    },
    {
     "name": "stderr",
     "output_type": "stream",
     "text": [
      "<ipython-input-9-bb6654121bf9>:51: UserWarning: Implicit dimension choice for log_softmax has been deprecated. Change the call to include dim=X as an argument.\n",
      "  out = self.Last(out)\n"
     ]
    },
    {
     "name": "stdout",
     "output_type": "stream",
     "text": [
      "  epoch    train_loss    valid_loss     dur\n",
      "-------  ------------  ------------  ------\n",
      "      1        \u001b[36m1.7142\u001b[0m        \u001b[32m1.1070\u001b[0m  2.9356\n",
      "      2        \u001b[36m1.0567\u001b[0m        \u001b[32m1.0347\u001b[0m  2.7590\n",
      "      3        \u001b[36m1.0313\u001b[0m        \u001b[32m1.0225\u001b[0m  2.6869\n",
      "      4        \u001b[36m1.0257\u001b[0m        \u001b[32m1.0174\u001b[0m  2.6620\n",
      "      5        \u001b[36m1.0235\u001b[0m        \u001b[32m1.0170\u001b[0m  2.6890\n",
      "      6        \u001b[36m1.0224\u001b[0m        \u001b[32m1.0154\u001b[0m  2.6823\n",
      "      7        \u001b[36m1.0203\u001b[0m        \u001b[32m1.0152\u001b[0m  2.6750\n",
      "      8        \u001b[36m1.0188\u001b[0m        \u001b[32m1.0131\u001b[0m  2.5897\n",
      "      9        \u001b[36m1.0178\u001b[0m        \u001b[32m1.0105\u001b[0m  2.5262\n",
      "     10        \u001b[36m1.0175\u001b[0m        \u001b[32m1.0103\u001b[0m  2.5677\n",
      "     11        \u001b[36m1.0174\u001b[0m        \u001b[32m1.0086\u001b[0m  2.5594\n",
      "     12        \u001b[36m1.0164\u001b[0m        \u001b[32m1.0081\u001b[0m  2.5858\n",
      "     13        1.0171        \u001b[32m1.0073\u001b[0m  2.6094\n",
      "     14        \u001b[36m1.0160\u001b[0m        \u001b[32m1.0073\u001b[0m  2.5083\n",
      "     15        \u001b[36m1.0158\u001b[0m        1.0098  2.6607\n",
      "     16        \u001b[36m1.0151\u001b[0m        \u001b[32m1.0057\u001b[0m  2.6311\n",
      "     17        1.0160        1.0077  2.5914\n",
      "     18        1.0156        1.0079  2.3857\n",
      "     19        1.0160        1.0076  2.4355\n",
      "     20        \u001b[36m1.0151\u001b[0m        1.0076  2.5383\n"
     ]
    },
    {
     "name": "stderr",
     "output_type": "stream",
     "text": [
      "<ipython-input-9-bb6654121bf9>:51: UserWarning: Implicit dimension choice for log_softmax has been deprecated. Change the call to include dim=X as an argument.\n",
      "  out = self.Last(out)\n"
     ]
    },
    {
     "name": "stdout",
     "output_type": "stream",
     "text": [
      "  epoch    train_loss    valid_loss     dur\n",
      "-------  ------------  ------------  ------\n",
      "      1        \u001b[36m0.8967\u001b[0m        \u001b[32m0.4149\u001b[0m  1.8091\n",
      "      2        \u001b[36m0.3430\u001b[0m        \u001b[32m0.3198\u001b[0m  1.7911\n",
      "      3        \u001b[36m0.2733\u001b[0m        \u001b[32m0.2711\u001b[0m  1.8642\n",
      "      4        \u001b[36m0.2240\u001b[0m        \u001b[32m0.2337\u001b[0m  1.8178\n",
      "      5        \u001b[36m0.1917\u001b[0m        \u001b[32m0.2108\u001b[0m  1.8870\n",
      "      6        \u001b[36m0.1666\u001b[0m        \u001b[32m0.1871\u001b[0m  1.8513\n",
      "      7        \u001b[36m0.1484\u001b[0m        \u001b[32m0.1629\u001b[0m  1.8887\n",
      "      8        \u001b[36m0.1332\u001b[0m        \u001b[32m0.1502\u001b[0m  1.8359\n",
      "      9        \u001b[36m0.1204\u001b[0m        \u001b[32m0.1440\u001b[0m  1.8130\n",
      "     10        \u001b[36m0.1108\u001b[0m        \u001b[32m0.1375\u001b[0m  1.8570\n",
      "     11        \u001b[36m0.1018\u001b[0m        \u001b[32m0.1267\u001b[0m  1.8038\n",
      "     12        \u001b[36m0.0947\u001b[0m        \u001b[32m0.1223\u001b[0m  1.8312\n",
      "     13        \u001b[36m0.0876\u001b[0m        \u001b[32m0.1186\u001b[0m  1.8243\n",
      "     14        \u001b[36m0.0843\u001b[0m        \u001b[32m0.1137\u001b[0m  1.8533\n",
      "     15        \u001b[36m0.0788\u001b[0m        \u001b[32m0.1076\u001b[0m  1.8076\n",
      "     16        \u001b[36m0.0745\u001b[0m        0.1107  1.7957\n",
      "     17        \u001b[36m0.0712\u001b[0m        \u001b[32m0.1049\u001b[0m  1.7894\n",
      "     18        \u001b[36m0.0694\u001b[0m        \u001b[32m0.1033\u001b[0m  1.7838\n",
      "     19        \u001b[36m0.0661\u001b[0m        \u001b[32m0.1013\u001b[0m  1.9252\n",
      "     20        \u001b[36m0.0627\u001b[0m        \u001b[32m0.0976\u001b[0m  1.7689\n"
     ]
    },
    {
     "name": "stderr",
     "output_type": "stream",
     "text": [
      "<ipython-input-9-bb6654121bf9>:51: UserWarning: Implicit dimension choice for log_softmax has been deprecated. Change the call to include dim=X as an argument.\n",
      "  out = self.Last(out)\n"
     ]
    },
    {
     "name": "stdout",
     "output_type": "stream",
     "text": [
      "  epoch    train_loss    valid_loss     dur\n",
      "-------  ------------  ------------  ------\n",
      "      1        \u001b[36m0.8956\u001b[0m        \u001b[32m0.3994\u001b[0m  1.8221\n",
      "      2        \u001b[36m0.3429\u001b[0m        \u001b[32m0.2999\u001b[0m  1.8210\n",
      "      3        \u001b[36m0.2709\u001b[0m        \u001b[32m0.2501\u001b[0m  1.8468\n",
      "      4        \u001b[36m0.2227\u001b[0m        \u001b[32m0.2181\u001b[0m  1.8679\n",
      "      5        \u001b[36m0.1873\u001b[0m        \u001b[32m0.1923\u001b[0m  1.8500\n",
      "      6        \u001b[36m0.1648\u001b[0m        \u001b[32m0.1691\u001b[0m  1.8798\n",
      "      7        \u001b[36m0.1462\u001b[0m        \u001b[32m0.1591\u001b[0m  1.8182\n",
      "      8        \u001b[36m0.1320\u001b[0m        \u001b[32m0.1502\u001b[0m  1.7600\n",
      "      9        \u001b[36m0.1197\u001b[0m        \u001b[32m0.1369\u001b[0m  1.7614\n",
      "     10        \u001b[36m0.1103\u001b[0m        \u001b[32m0.1286\u001b[0m  1.7526\n",
      "     11        \u001b[36m0.1033\u001b[0m        \u001b[32m0.1220\u001b[0m  1.9167\n",
      "     12        \u001b[36m0.0969\u001b[0m        \u001b[32m0.1212\u001b[0m  1.7886\n",
      "     13        \u001b[36m0.0894\u001b[0m        \u001b[32m0.1119\u001b[0m  1.6659\n",
      "     14        \u001b[36m0.0844\u001b[0m        \u001b[32m0.1097\u001b[0m  1.7059\n",
      "     15        \u001b[36m0.0809\u001b[0m        \u001b[32m0.1080\u001b[0m  1.7293\n",
      "     16        \u001b[36m0.0757\u001b[0m        \u001b[32m0.1079\u001b[0m  1.8026\n",
      "     17        \u001b[36m0.0726\u001b[0m        \u001b[32m0.1025\u001b[0m  1.7568\n",
      "     18        \u001b[36m0.0699\u001b[0m        \u001b[32m0.1005\u001b[0m  1.8212\n",
      "     19        \u001b[36m0.0665\u001b[0m        \u001b[32m0.0975\u001b[0m  1.8212\n",
      "     20        \u001b[36m0.0642\u001b[0m        \u001b[32m0.0942\u001b[0m  1.8916\n"
     ]
    },
    {
     "name": "stderr",
     "output_type": "stream",
     "text": [
      "<ipython-input-9-bb6654121bf9>:51: UserWarning: Implicit dimension choice for log_softmax has been deprecated. Change the call to include dim=X as an argument.\n",
      "  out = self.Last(out)\n"
     ]
    },
    {
     "name": "stdout",
     "output_type": "stream",
     "text": [
      "  epoch    train_loss    valid_loss     dur\n",
      "-------  ------------  ------------  ------\n",
      "      1        \u001b[36m0.8900\u001b[0m        \u001b[32m0.4022\u001b[0m  1.9115\n",
      "      2        \u001b[36m0.3405\u001b[0m        \u001b[32m0.3035\u001b[0m  1.8808\n",
      "      3        \u001b[36m0.2681\u001b[0m        \u001b[32m0.2553\u001b[0m  1.8534\n",
      "      4        \u001b[36m0.2211\u001b[0m        \u001b[32m0.2200\u001b[0m  1.8944\n",
      "      5        \u001b[36m0.1887\u001b[0m        \u001b[32m0.1917\u001b[0m  1.8363\n",
      "      6        \u001b[36m0.1654\u001b[0m        \u001b[32m0.1798\u001b[0m  1.8370\n",
      "      7        \u001b[36m0.1476\u001b[0m        \u001b[32m0.1571\u001b[0m  1.8160\n",
      "      8        \u001b[36m0.1327\u001b[0m        \u001b[32m0.1486\u001b[0m  1.8270\n",
      "      9        \u001b[36m0.1193\u001b[0m        \u001b[32m0.1387\u001b[0m  1.8611\n",
      "     10        \u001b[36m0.1103\u001b[0m        \u001b[32m0.1354\u001b[0m  1.8177\n",
      "     11        \u001b[36m0.1028\u001b[0m        \u001b[32m0.1245\u001b[0m  1.8045\n",
      "     12        \u001b[36m0.0949\u001b[0m        \u001b[32m0.1229\u001b[0m  1.8831\n",
      "     13        \u001b[36m0.0909\u001b[0m        \u001b[32m0.1193\u001b[0m  1.8541\n",
      "     14        \u001b[36m0.0842\u001b[0m        \u001b[32m0.1163\u001b[0m  1.8286\n",
      "     15        \u001b[36m0.0792\u001b[0m        \u001b[32m0.1095\u001b[0m  1.8810\n",
      "     16        \u001b[36m0.0754\u001b[0m        0.1120  1.8401\n",
      "     17        \u001b[36m0.0717\u001b[0m        \u001b[32m0.1062\u001b[0m  1.8619\n",
      "     18        \u001b[36m0.0683\u001b[0m        \u001b[32m0.1050\u001b[0m  1.8555\n",
      "     19        \u001b[36m0.0647\u001b[0m        \u001b[32m0.1013\u001b[0m  1.8439\n",
      "     20        \u001b[36m0.0633\u001b[0m        \u001b[32m0.1011\u001b[0m  1.8630\n"
     ]
    },
    {
     "name": "stderr",
     "output_type": "stream",
     "text": [
      "<ipython-input-9-bb6654121bf9>:51: UserWarning: Implicit dimension choice for log_softmax has been deprecated. Change the call to include dim=X as an argument.\n",
      "  out = self.Last(out)\n"
     ]
    },
    {
     "name": "stdout",
     "output_type": "stream",
     "text": [
      "  epoch    train_loss    valid_loss     dur\n",
      "-------  ------------  ------------  ------\n",
      "      1        \u001b[36m0.9286\u001b[0m        \u001b[32m0.3945\u001b[0m  1.8501\n",
      "      2        \u001b[36m0.3363\u001b[0m        \u001b[32m0.2975\u001b[0m  1.8494\n",
      "      3        \u001b[36m0.2599\u001b[0m        \u001b[32m0.2476\u001b[0m  1.7870\n",
      "      4        \u001b[36m0.2142\u001b[0m        \u001b[32m0.2218\u001b[0m  1.8189\n",
      "      5        \u001b[36m0.1825\u001b[0m        \u001b[32m0.1871\u001b[0m  1.8432\n",
      "      6        \u001b[36m0.1579\u001b[0m        \u001b[32m0.1696\u001b[0m  1.7880\n",
      "      7        \u001b[36m0.1419\u001b[0m        \u001b[32m0.1525\u001b[0m  1.7701\n",
      "      8        \u001b[36m0.1267\u001b[0m        \u001b[32m0.1407\u001b[0m  1.8104\n",
      "      9        \u001b[36m0.1160\u001b[0m        \u001b[32m0.1373\u001b[0m  1.8095\n",
      "     10        \u001b[36m0.1068\u001b[0m        \u001b[32m0.1234\u001b[0m  1.8213\n",
      "     11        \u001b[36m0.0990\u001b[0m        \u001b[32m0.1189\u001b[0m  1.7587\n",
      "     12        \u001b[36m0.0929\u001b[0m        \u001b[32m0.1141\u001b[0m  1.7686\n",
      "     13        \u001b[36m0.0858\u001b[0m        \u001b[32m0.1101\u001b[0m  1.7138\n",
      "     14        \u001b[36m0.0810\u001b[0m        \u001b[32m0.1092\u001b[0m  1.7003\n",
      "     15        \u001b[36m0.0759\u001b[0m        \u001b[32m0.1047\u001b[0m  1.7008\n",
      "     16        \u001b[36m0.0723\u001b[0m        \u001b[32m0.1013\u001b[0m  1.6655\n",
      "     17        \u001b[36m0.0695\u001b[0m        0.1029  1.6967\n",
      "     18        \u001b[36m0.0658\u001b[0m        \u001b[32m0.0998\u001b[0m  1.7293\n",
      "     19        \u001b[36m0.0630\u001b[0m        \u001b[32m0.0956\u001b[0m  1.7048\n",
      "     20        \u001b[36m0.0604\u001b[0m        0.0962  1.7198\n"
     ]
    },
    {
     "name": "stderr",
     "output_type": "stream",
     "text": [
      "<ipython-input-9-bb6654121bf9>:51: UserWarning: Implicit dimension choice for log_softmax has been deprecated. Change the call to include dim=X as an argument.\n",
      "  out = self.Last(out)\n"
     ]
    },
    {
     "name": "stdout",
     "output_type": "stream",
     "text": [
      "  epoch    train_loss    valid_loss     dur\n",
      "-------  ------------  ------------  ------\n",
      "      1        \u001b[36m0.9153\u001b[0m        \u001b[32m0.4112\u001b[0m  1.7943\n",
      "      2        \u001b[36m0.3497\u001b[0m        \u001b[32m0.2956\u001b[0m  1.7612\n",
      "      3        \u001b[36m0.2715\u001b[0m        \u001b[32m0.2345\u001b[0m  1.8623\n",
      "      4        \u001b[36m0.2204\u001b[0m        \u001b[32m0.2006\u001b[0m  1.8806\n",
      "      5        \u001b[36m0.1881\u001b[0m        \u001b[32m0.1750\u001b[0m  1.8408\n",
      "      6        \u001b[36m0.1627\u001b[0m        \u001b[32m0.1579\u001b[0m  1.8298\n",
      "      7        \u001b[36m0.1444\u001b[0m        \u001b[32m0.1433\u001b[0m  1.8217\n",
      "      8        \u001b[36m0.1310\u001b[0m        \u001b[32m0.1351\u001b[0m  1.8302\n",
      "      9        \u001b[36m0.1171\u001b[0m        \u001b[32m0.1261\u001b[0m  1.8608\n",
      "     10        \u001b[36m0.1068\u001b[0m        \u001b[32m0.1205\u001b[0m  1.8192\n",
      "     11        \u001b[36m0.0993\u001b[0m        \u001b[32m0.1135\u001b[0m  1.8267\n",
      "     12        \u001b[36m0.0923\u001b[0m        0.1141  1.8826\n",
      "     13        \u001b[36m0.0879\u001b[0m        \u001b[32m0.1092\u001b[0m  1.8621\n",
      "     14        \u001b[36m0.0821\u001b[0m        \u001b[32m0.1034\u001b[0m  1.8872\n",
      "     15        \u001b[36m0.0771\u001b[0m        \u001b[32m0.1030\u001b[0m  1.8215\n",
      "     16        \u001b[36m0.0737\u001b[0m        \u001b[32m0.1011\u001b[0m  1.8523\n",
      "     17        \u001b[36m0.0703\u001b[0m        \u001b[32m0.0979\u001b[0m  1.8469\n",
      "     18        \u001b[36m0.0664\u001b[0m        0.0979  1.8374\n",
      "     19        \u001b[36m0.0642\u001b[0m        \u001b[32m0.0936\u001b[0m  1.7897\n",
      "     20        \u001b[36m0.0624\u001b[0m        0.0942  1.7973\n"
     ]
    },
    {
     "name": "stderr",
     "output_type": "stream",
     "text": [
      "<ipython-input-9-bb6654121bf9>:51: UserWarning: Implicit dimension choice for log_softmax has been deprecated. Change the call to include dim=X as an argument.\n",
      "  out = self.Last(out)\n"
     ]
    },
    {
     "name": "stdout",
     "output_type": "stream",
     "text": [
      "  epoch    train_loss    valid_loss     dur\n",
      "-------  ------------  ------------  ------\n",
      "      1        \u001b[36m1.6555\u001b[0m        \u001b[32m1.0725\u001b[0m  1.8081\n",
      "      2        \u001b[36m1.0480\u001b[0m        \u001b[32m1.0114\u001b[0m  1.7715\n",
      "      3        \u001b[36m1.0244\u001b[0m        \u001b[32m1.0041\u001b[0m  1.6365\n",
      "      4        \u001b[36m1.0166\u001b[0m        \u001b[32m0.9985\u001b[0m  1.6964\n",
      "      5        \u001b[36m1.0143\u001b[0m        \u001b[32m0.9975\u001b[0m  1.6906\n",
      "      6        \u001b[36m1.0123\u001b[0m        \u001b[32m0.9961\u001b[0m  1.6886\n",
      "      7        \u001b[36m1.0116\u001b[0m        0.9961  1.6512\n",
      "      8        \u001b[36m1.0101\u001b[0m        \u001b[32m0.9945\u001b[0m  1.6220\n",
      "      9        \u001b[36m1.0097\u001b[0m        0.9951  1.5988\n",
      "     10        \u001b[36m1.0095\u001b[0m        0.9956  1.5028\n",
      "     11        \u001b[36m1.0095\u001b[0m        \u001b[32m0.9934\u001b[0m  1.5078\n",
      "     12        \u001b[36m1.0077\u001b[0m        0.9939  1.5555\n",
      "     13        \u001b[36m1.0074\u001b[0m        \u001b[32m0.9927\u001b[0m  1.5159\n",
      "     14        1.0083        0.9939  1.5357\n",
      "     15        \u001b[36m1.0068\u001b[0m        0.9939  1.5301\n",
      "     16        1.0080        0.9930  1.5059\n",
      "     17        1.0072        \u001b[32m0.9924\u001b[0m  1.5381\n",
      "     18        1.0068        \u001b[32m0.9921\u001b[0m  1.5544\n",
      "     19        1.0069        0.9931  1.6157\n",
      "     20        \u001b[36m1.0067\u001b[0m        0.9926  1.6684\n"
     ]
    },
    {
     "name": "stderr",
     "output_type": "stream",
     "text": [
      "<ipython-input-9-bb6654121bf9>:51: UserWarning: Implicit dimension choice for log_softmax has been deprecated. Change the call to include dim=X as an argument.\n",
      "  out = self.Last(out)\n"
     ]
    },
    {
     "name": "stdout",
     "output_type": "stream",
     "text": [
      "  epoch    train_loss    valid_loss     dur\n",
      "-------  ------------  ------------  ------\n",
      "      1        \u001b[36m1.7813\u001b[0m        \u001b[32m1.0762\u001b[0m  1.7880\n",
      "      2        \u001b[36m1.0549\u001b[0m        \u001b[32m0.9864\u001b[0m  1.6881\n",
      "      3        \u001b[36m1.0242\u001b[0m        \u001b[32m0.9762\u001b[0m  1.6783\n",
      "      4        \u001b[36m1.0187\u001b[0m        \u001b[32m0.9724\u001b[0m  1.7198\n",
      "      5        \u001b[36m1.0163\u001b[0m        \u001b[32m0.9723\u001b[0m  1.6250\n",
      "      6        \u001b[36m1.0139\u001b[0m        \u001b[32m0.9699\u001b[0m  1.8299\n",
      "      7        \u001b[36m1.0123\u001b[0m        \u001b[32m0.9695\u001b[0m  1.6501\n",
      "      8        1.0125        \u001b[32m0.9681\u001b[0m  1.6477\n",
      "      9        \u001b[36m1.0116\u001b[0m        0.9687  1.6035\n",
      "     10        \u001b[36m1.0094\u001b[0m        \u001b[32m0.9672\u001b[0m  1.6560\n",
      "     11        1.0107        \u001b[32m0.9670\u001b[0m  1.6127\n",
      "     12        1.0099        0.9679  1.6319\n",
      "     13        \u001b[36m1.0087\u001b[0m        \u001b[32m0.9663\u001b[0m  1.5823\n",
      "     14        1.0093        0.9668  1.6519\n",
      "     15        \u001b[36m1.0082\u001b[0m        0.9665  1.5972\n",
      "     16        \u001b[36m1.0079\u001b[0m        \u001b[32m0.9660\u001b[0m  1.5571\n",
      "     17        \u001b[36m1.0075\u001b[0m        \u001b[32m0.9653\u001b[0m  1.6207\n",
      "     18        \u001b[36m1.0068\u001b[0m        \u001b[32m0.9649\u001b[0m  1.5373\n",
      "     19        1.0072        0.9666  1.5504\n",
      "     20        1.0074        0.9649  1.5400\n"
     ]
    },
    {
     "name": "stderr",
     "output_type": "stream",
     "text": [
      "<ipython-input-9-bb6654121bf9>:51: UserWarning: Implicit dimension choice for log_softmax has been deprecated. Change the call to include dim=X as an argument.\n",
      "  out = self.Last(out)\n"
     ]
    },
    {
     "name": "stdout",
     "output_type": "stream",
     "text": [
      "  epoch    train_loss    valid_loss     dur\n",
      "-------  ------------  ------------  ------\n",
      "      1        \u001b[36m1.6828\u001b[0m        \u001b[32m1.0580\u001b[0m  1.7217\n",
      "      2        \u001b[36m1.0511\u001b[0m        \u001b[32m0.9867\u001b[0m  1.6313\n",
      "      3        \u001b[36m1.0250\u001b[0m        \u001b[32m0.9788\u001b[0m  1.5969\n",
      "      4        \u001b[36m1.0191\u001b[0m        \u001b[32m0.9755\u001b[0m  1.5975\n",
      "      5        \u001b[36m1.0176\u001b[0m        \u001b[32m0.9735\u001b[0m  1.5884\n",
      "      6        \u001b[36m1.0150\u001b[0m        \u001b[32m0.9726\u001b[0m  1.6442\n",
      "      7        \u001b[36m1.0129\u001b[0m        \u001b[32m0.9711\u001b[0m  1.5349\n",
      "      8        1.0130        \u001b[32m0.9709\u001b[0m  1.4635\n",
      "      9        \u001b[36m1.0112\u001b[0m        \u001b[32m0.9697\u001b[0m  1.5047\n",
      "     10        1.0122        \u001b[32m0.9694\u001b[0m  1.5536\n",
      "     11        \u001b[36m1.0109\u001b[0m        0.9701  1.5328\n",
      "     12        1.0111        0.9704  1.5984\n",
      "     13        \u001b[36m1.0106\u001b[0m        0.9695  1.5340\n",
      "     14        1.0111        0.9702  1.5956\n",
      "     15        \u001b[36m1.0088\u001b[0m        \u001b[32m0.9690\u001b[0m  1.6301\n",
      "     16        1.0092        0.9691  1.7200\n",
      "     17        1.0090        \u001b[32m0.9688\u001b[0m  1.5837\n",
      "     18        1.0094        0.9698  1.5995\n",
      "     19        1.0104        0.9699  1.5875\n",
      "     20        \u001b[36m1.0086\u001b[0m        \u001b[32m0.9686\u001b[0m  1.6751\n"
     ]
    },
    {
     "name": "stderr",
     "output_type": "stream",
     "text": [
      "<ipython-input-9-bb6654121bf9>:51: UserWarning: Implicit dimension choice for log_softmax has been deprecated. Change the call to include dim=X as an argument.\n",
      "  out = self.Last(out)\n"
     ]
    },
    {
     "name": "stdout",
     "output_type": "stream",
     "text": [
      "  epoch    train_loss    valid_loss     dur\n",
      "-------  ------------  ------------  ------\n",
      "      1        \u001b[36m1.7295\u001b[0m        \u001b[32m1.0604\u001b[0m  1.8300\n",
      "      2        \u001b[36m1.0481\u001b[0m        \u001b[32m0.9832\u001b[0m  1.6875\n",
      "      3        \u001b[36m1.0210\u001b[0m        \u001b[32m0.9731\u001b[0m  1.7068\n",
      "      4        \u001b[36m1.0176\u001b[0m        \u001b[32m0.9699\u001b[0m  1.7654\n",
      "      5        \u001b[36m1.0162\u001b[0m        0.9707  1.6481\n",
      "      6        \u001b[36m1.0137\u001b[0m        \u001b[32m0.9672\u001b[0m  1.6818\n",
      "      7        \u001b[36m1.0128\u001b[0m        0.9674  1.6719\n",
      "      8        \u001b[36m1.0116\u001b[0m        \u001b[32m0.9669\u001b[0m  1.6116\n",
      "      9        \u001b[36m1.0110\u001b[0m        0.9669  1.5890\n",
      "     10        1.0111        \u001b[32m0.9659\u001b[0m  1.6389\n",
      "     11        \u001b[36m1.0092\u001b[0m        \u001b[32m0.9656\u001b[0m  1.5429\n",
      "     12        \u001b[36m1.0088\u001b[0m        0.9665  1.5746\n",
      "     13        1.0092        0.9661  1.5692\n",
      "     14        \u001b[36m1.0084\u001b[0m        \u001b[32m0.9651\u001b[0m  1.5682\n",
      "     15        \u001b[36m1.0082\u001b[0m        0.9652  1.5239\n",
      "     16        1.0084        0.9657  1.4906\n",
      "     17        1.0083        \u001b[32m0.9645\u001b[0m  1.4728\n",
      "     18        \u001b[36m1.0077\u001b[0m        0.9647  1.4798\n",
      "     19        \u001b[36m1.0076\u001b[0m        0.9651  1.4975\n",
      "     20        \u001b[36m1.0067\u001b[0m        \u001b[32m0.9641\u001b[0m  1.5197\n"
     ]
    },
    {
     "name": "stderr",
     "output_type": "stream",
     "text": [
      "<ipython-input-9-bb6654121bf9>:51: UserWarning: Implicit dimension choice for log_softmax has been deprecated. Change the call to include dim=X as an argument.\n",
      "  out = self.Last(out)\n"
     ]
    },
    {
     "name": "stdout",
     "output_type": "stream",
     "text": [
      "  epoch    train_loss    valid_loss     dur\n",
      "-------  ------------  ------------  ------\n",
      "      1        \u001b[36m1.7377\u001b[0m        \u001b[32m1.1173\u001b[0m  1.6827\n",
      "      2        \u001b[36m1.0645\u001b[0m        \u001b[32m1.0338\u001b[0m  1.5745\n",
      "      3        \u001b[36m1.0360\u001b[0m        \u001b[32m1.0190\u001b[0m  1.5970\n",
      "      4        \u001b[36m1.0299\u001b[0m        \u001b[32m1.0160\u001b[0m  1.5816\n",
      "      5        \u001b[36m1.0295\u001b[0m        1.0167  1.6856\n",
      "      6        \u001b[36m1.0262\u001b[0m        1.0184  1.6609\n",
      "      7        \u001b[36m1.0255\u001b[0m        1.0179  1.6685\n",
      "      8        \u001b[36m1.0254\u001b[0m        \u001b[32m1.0120\u001b[0m  1.6093\n",
      "      9        \u001b[36m1.0236\u001b[0m        1.0148  1.6201\n",
      "     10        \u001b[36m1.0224\u001b[0m        1.0128  1.5953\n",
      "     11        1.0227        \u001b[32m1.0090\u001b[0m  1.6043\n",
      "     12        \u001b[36m1.0215\u001b[0m        1.0178  1.5984\n",
      "     13        1.0228        \u001b[32m1.0082\u001b[0m  1.6156\n",
      "     14        \u001b[36m1.0208\u001b[0m        \u001b[32m1.0080\u001b[0m  1.5627\n",
      "     15        \u001b[36m1.0204\u001b[0m        1.0134  1.6335\n",
      "     16        1.0213        1.0132  1.6385\n",
      "     17        1.0207        1.0084  1.6121\n",
      "     18        1.0217        1.0090  1.6266\n",
      "     19        \u001b[36m1.0203\u001b[0m        1.0095  1.6586\n",
      "     20        \u001b[36m1.0202\u001b[0m        1.0121  1.5847\n"
     ]
    },
    {
     "name": "stderr",
     "output_type": "stream",
     "text": [
      "<ipython-input-9-bb6654121bf9>:51: UserWarning: Implicit dimension choice for log_softmax has been deprecated. Change the call to include dim=X as an argument.\n",
      "  out = self.Last(out)\n"
     ]
    },
    {
     "name": "stdout",
     "output_type": "stream",
     "text": [
      "  epoch    train_loss    valid_loss     dur\n",
      "-------  ------------  ------------  ------\n",
      "      1        \u001b[36m0.9545\u001b[0m        \u001b[32m0.4285\u001b[0m  1.7066\n",
      "      2        \u001b[36m0.3521\u001b[0m        \u001b[32m0.3374\u001b[0m  1.6254\n",
      "      3        \u001b[36m0.2768\u001b[0m        \u001b[32m0.2829\u001b[0m  1.6183\n",
      "      4        \u001b[36m0.2284\u001b[0m        \u001b[32m0.2479\u001b[0m  1.6163\n",
      "      5        \u001b[36m0.1933\u001b[0m        \u001b[32m0.2145\u001b[0m  1.5802\n",
      "      6        \u001b[36m0.1667\u001b[0m        \u001b[32m0.1910\u001b[0m  1.6194\n",
      "      7        \u001b[36m0.1496\u001b[0m        \u001b[32m0.1685\u001b[0m  1.6119\n",
      "      8        \u001b[36m0.1343\u001b[0m        \u001b[32m0.1581\u001b[0m  1.6239\n",
      "      9        \u001b[36m0.1220\u001b[0m        \u001b[32m0.1446\u001b[0m  1.6561\n",
      "     10        \u001b[36m0.1120\u001b[0m        0.1449  1.6067\n",
      "     11        \u001b[36m0.1043\u001b[0m        \u001b[32m0.1357\u001b[0m  1.5881\n",
      "     12        \u001b[36m0.0972\u001b[0m        \u001b[32m0.1258\u001b[0m  1.5529\n",
      "     13        \u001b[36m0.0912\u001b[0m        \u001b[32m0.1205\u001b[0m  1.5866\n",
      "     14        \u001b[36m0.0859\u001b[0m        \u001b[32m0.1183\u001b[0m  1.5126\n",
      "     15        \u001b[36m0.0800\u001b[0m        \u001b[32m0.1151\u001b[0m  1.5287\n",
      "     16        \u001b[36m0.0769\u001b[0m        \u001b[32m0.1125\u001b[0m  1.5578\n",
      "     17        \u001b[36m0.0727\u001b[0m        \u001b[32m0.1123\u001b[0m  1.5268\n",
      "     18        \u001b[36m0.0706\u001b[0m        \u001b[32m0.1044\u001b[0m  1.5040\n",
      "     19        \u001b[36m0.0672\u001b[0m        \u001b[32m0.1022\u001b[0m  1.4971\n",
      "     20        \u001b[36m0.0644\u001b[0m        0.1024  1.4892\n"
     ]
    },
    {
     "name": "stderr",
     "output_type": "stream",
     "text": [
      "<ipython-input-9-bb6654121bf9>:51: UserWarning: Implicit dimension choice for log_softmax has been deprecated. Change the call to include dim=X as an argument.\n",
      "  out = self.Last(out)\n"
     ]
    },
    {
     "name": "stdout",
     "output_type": "stream",
     "text": [
      "  epoch    train_loss    valid_loss     dur\n",
      "-------  ------------  ------------  ------\n",
      "      1        \u001b[36m0.8940\u001b[0m        \u001b[32m0.4056\u001b[0m  1.4937\n",
      "      2        \u001b[36m0.3404\u001b[0m        \u001b[32m0.3008\u001b[0m  1.4981\n",
      "      3        \u001b[36m0.2648\u001b[0m        \u001b[32m0.2537\u001b[0m  1.5270\n",
      "      4        \u001b[36m0.2202\u001b[0m        \u001b[32m0.2221\u001b[0m  1.5395\n",
      "      5        \u001b[36m0.1870\u001b[0m        \u001b[32m0.1965\u001b[0m  1.5951\n",
      "      6        \u001b[36m0.1632\u001b[0m        \u001b[32m0.1739\u001b[0m  1.5971\n",
      "      7        \u001b[36m0.1440\u001b[0m        \u001b[32m0.1594\u001b[0m  1.6116\n",
      "      8        \u001b[36m0.1304\u001b[0m        \u001b[32m0.1411\u001b[0m  1.6610\n",
      "      9        \u001b[36m0.1182\u001b[0m        \u001b[32m0.1341\u001b[0m  1.6780\n",
      "     10        \u001b[36m0.1079\u001b[0m        \u001b[32m0.1306\u001b[0m  1.7017\n",
      "     11        \u001b[36m0.1001\u001b[0m        \u001b[32m0.1233\u001b[0m  1.6417\n",
      "     12        \u001b[36m0.0940\u001b[0m        \u001b[32m0.1193\u001b[0m  1.6034\n",
      "     13        \u001b[36m0.0873\u001b[0m        \u001b[32m0.1152\u001b[0m  1.6795\n",
      "     14        \u001b[36m0.0833\u001b[0m        \u001b[32m0.1150\u001b[0m  1.6144\n",
      "     15        \u001b[36m0.0783\u001b[0m        \u001b[32m0.1109\u001b[0m  1.6733\n",
      "     16        \u001b[36m0.0745\u001b[0m        \u001b[32m0.1076\u001b[0m  1.5938\n",
      "     17        \u001b[36m0.0720\u001b[0m        \u001b[32m0.1042\u001b[0m  1.6908\n",
      "     18        \u001b[36m0.0693\u001b[0m        0.1049  1.6401\n",
      "     19        \u001b[36m0.0670\u001b[0m        \u001b[32m0.1015\u001b[0m  1.5920\n",
      "     20        \u001b[36m0.0633\u001b[0m        \u001b[32m0.1004\u001b[0m  1.6195\n"
     ]
    },
    {
     "name": "stderr",
     "output_type": "stream",
     "text": [
      "<ipython-input-9-bb6654121bf9>:51: UserWarning: Implicit dimension choice for log_softmax has been deprecated. Change the call to include dim=X as an argument.\n",
      "  out = self.Last(out)\n"
     ]
    },
    {
     "name": "stdout",
     "output_type": "stream",
     "text": [
      "  epoch    train_loss    valid_loss     dur\n",
      "-------  ------------  ------------  ------\n",
      "      1        \u001b[36m0.8869\u001b[0m        \u001b[32m0.4048\u001b[0m  1.6560\n",
      "      2        \u001b[36m0.3424\u001b[0m        \u001b[32m0.3058\u001b[0m  1.6467\n",
      "      3        \u001b[36m0.2697\u001b[0m        \u001b[32m0.2499\u001b[0m  1.6177\n",
      "      4        \u001b[36m0.2217\u001b[0m        \u001b[32m0.2236\u001b[0m  1.6468\n",
      "      5        \u001b[36m0.1854\u001b[0m        \u001b[32m0.1891\u001b[0m  1.6245\n",
      "      6        \u001b[36m0.1612\u001b[0m        \u001b[32m0.1708\u001b[0m  1.5979\n",
      "      7        \u001b[36m0.1412\u001b[0m        \u001b[32m0.1503\u001b[0m  1.6081\n",
      "      8        \u001b[36m0.1280\u001b[0m        \u001b[32m0.1426\u001b[0m  1.7254\n",
      "      9        \u001b[36m0.1149\u001b[0m        \u001b[32m0.1324\u001b[0m  1.6066\n",
      "     10        \u001b[36m0.1069\u001b[0m        \u001b[32m0.1273\u001b[0m  1.5601\n",
      "     11        \u001b[36m0.0994\u001b[0m        \u001b[32m0.1234\u001b[0m  1.6790\n",
      "     12        \u001b[36m0.0929\u001b[0m        \u001b[32m0.1160\u001b[0m  1.7168\n",
      "     13        \u001b[36m0.0872\u001b[0m        \u001b[32m0.1120\u001b[0m  1.6298\n",
      "     14        \u001b[36m0.0810\u001b[0m        \u001b[32m0.1077\u001b[0m  1.6389\n",
      "     15        \u001b[36m0.0766\u001b[0m        \u001b[32m0.1045\u001b[0m  1.6395\n",
      "     16        \u001b[36m0.0729\u001b[0m        \u001b[32m0.1021\u001b[0m  1.5884\n",
      "     17        \u001b[36m0.0696\u001b[0m        \u001b[32m0.1009\u001b[0m  1.6623\n",
      "     18        \u001b[36m0.0661\u001b[0m        \u001b[32m0.0986\u001b[0m  1.5558\n",
      "     19        \u001b[36m0.0630\u001b[0m        \u001b[32m0.0972\u001b[0m  1.5367\n",
      "     20        \u001b[36m0.0605\u001b[0m        \u001b[32m0.0963\u001b[0m  1.5451\n"
     ]
    },
    {
     "name": "stderr",
     "output_type": "stream",
     "text": [
      "<ipython-input-9-bb6654121bf9>:51: UserWarning: Implicit dimension choice for log_softmax has been deprecated. Change the call to include dim=X as an argument.\n",
      "  out = self.Last(out)\n"
     ]
    },
    {
     "name": "stdout",
     "output_type": "stream",
     "text": [
      "  epoch    train_loss    valid_loss     dur\n",
      "-------  ------------  ------------  ------\n",
      "      1        \u001b[36m0.9223\u001b[0m        \u001b[32m0.4099\u001b[0m  1.5873\n",
      "      2        \u001b[36m0.3426\u001b[0m        \u001b[32m0.3032\u001b[0m  1.5548\n",
      "      3        \u001b[36m0.2656\u001b[0m        \u001b[32m0.2487\u001b[0m  1.5247\n",
      "      4        \u001b[36m0.2175\u001b[0m        \u001b[32m0.2176\u001b[0m  1.5196\n",
      "      5        \u001b[36m0.1835\u001b[0m        \u001b[32m0.1894\u001b[0m  1.4459\n",
      "      6        \u001b[36m0.1590\u001b[0m        \u001b[32m0.1681\u001b[0m  1.4572\n",
      "      7        \u001b[36m0.1401\u001b[0m        \u001b[32m0.1522\u001b[0m  1.5258\n",
      "      8        \u001b[36m0.1255\u001b[0m        \u001b[32m0.1393\u001b[0m  1.4785\n",
      "      9        \u001b[36m0.1141\u001b[0m        \u001b[32m0.1356\u001b[0m  1.4874\n",
      "     10        \u001b[36m0.1044\u001b[0m        \u001b[32m0.1219\u001b[0m  1.5079\n",
      "     11        \u001b[36m0.0967\u001b[0m        \u001b[32m0.1184\u001b[0m  1.5143\n",
      "     12        \u001b[36m0.0901\u001b[0m        0.1190  1.5436\n",
      "     13        \u001b[36m0.0849\u001b[0m        \u001b[32m0.1097\u001b[0m  1.5261\n",
      "     14        \u001b[36m0.0802\u001b[0m        \u001b[32m0.1067\u001b[0m  1.5989\n",
      "     15        \u001b[36m0.0743\u001b[0m        \u001b[32m0.1063\u001b[0m  1.5655\n",
      "     16        \u001b[36m0.0708\u001b[0m        \u001b[32m0.1008\u001b[0m  1.6554\n",
      "     17        \u001b[36m0.0688\u001b[0m        \u001b[32m0.1008\u001b[0m  1.6749\n",
      "     18        \u001b[36m0.0665\u001b[0m        \u001b[32m0.0972\u001b[0m  1.7557\n",
      "     19        \u001b[36m0.0630\u001b[0m        \u001b[32m0.0958\u001b[0m  1.9461\n",
      "     20        \u001b[36m0.0609\u001b[0m        \u001b[32m0.0931\u001b[0m  1.6811\n"
     ]
    },
    {
     "name": "stderr",
     "output_type": "stream",
     "text": [
      "<ipython-input-9-bb6654121bf9>:51: UserWarning: Implicit dimension choice for log_softmax has been deprecated. Change the call to include dim=X as an argument.\n",
      "  out = self.Last(out)\n"
     ]
    },
    {
     "name": "stdout",
     "output_type": "stream",
     "text": [
      "  epoch    train_loss    valid_loss     dur\n",
      "-------  ------------  ------------  ------\n",
      "      1        \u001b[36m0.9267\u001b[0m        \u001b[32m0.4049\u001b[0m  1.5849\n",
      "      2        \u001b[36m0.3507\u001b[0m        \u001b[32m0.2952\u001b[0m  1.6249\n",
      "      3        \u001b[36m0.2726\u001b[0m        \u001b[32m0.2420\u001b[0m  1.5914\n",
      "      4        \u001b[36m0.2280\u001b[0m        \u001b[32m0.2051\u001b[0m  1.6284\n",
      "      5        \u001b[36m0.1937\u001b[0m        \u001b[32m0.1815\u001b[0m  1.6961\n",
      "      6        \u001b[36m0.1703\u001b[0m        \u001b[32m0.1645\u001b[0m  1.6491\n",
      "      7        \u001b[36m0.1512\u001b[0m        \u001b[32m0.1497\u001b[0m  1.6250\n",
      "      8        \u001b[36m0.1367\u001b[0m        \u001b[32m0.1406\u001b[0m  1.6376\n",
      "      9        \u001b[36m0.1249\u001b[0m        \u001b[32m0.1329\u001b[0m  1.6631\n",
      "     10        \u001b[36m0.1150\u001b[0m        \u001b[32m0.1251\u001b[0m  1.6619\n",
      "     11        \u001b[36m0.1041\u001b[0m        \u001b[32m0.1215\u001b[0m  1.6398\n",
      "     12        \u001b[36m0.0973\u001b[0m        \u001b[32m0.1152\u001b[0m  1.6140\n",
      "     13        \u001b[36m0.0913\u001b[0m        \u001b[32m0.1125\u001b[0m  1.6055\n",
      "     14        \u001b[36m0.0858\u001b[0m        \u001b[32m0.1093\u001b[0m  1.6464\n",
      "     15        \u001b[36m0.0817\u001b[0m        \u001b[32m0.1053\u001b[0m  1.6951\n",
      "     16        \u001b[36m0.0776\u001b[0m        \u001b[32m0.1051\u001b[0m  1.6193\n",
      "     17        \u001b[36m0.0730\u001b[0m        \u001b[32m0.1024\u001b[0m  1.6474\n",
      "     18        \u001b[36m0.0707\u001b[0m        \u001b[32m0.1007\u001b[0m  1.6174\n",
      "     19        \u001b[36m0.0681\u001b[0m        \u001b[32m0.0978\u001b[0m  1.6185\n",
      "     20        \u001b[36m0.0639\u001b[0m        \u001b[32m0.0966\u001b[0m  1.9770\n"
     ]
    },
    {
     "name": "stderr",
     "output_type": "stream",
     "text": [
      "<ipython-input-9-bb6654121bf9>:51: UserWarning: Implicit dimension choice for log_softmax has been deprecated. Change the call to include dim=X as an argument.\n",
      "  out = self.Last(out)\n"
     ]
    },
    {
     "name": "stdout",
     "output_type": "stream",
     "text": [
      "  epoch    train_loss    valid_loss     dur\n",
      "-------  ------------  ------------  ------\n",
      "      1        \u001b[36m1.7514\u001b[0m        \u001b[32m1.1125\u001b[0m  1.7441\n",
      "      2        \u001b[36m1.0615\u001b[0m        \u001b[32m1.0159\u001b[0m  1.7357\n",
      "      3        \u001b[36m1.0258\u001b[0m        \u001b[32m1.0027\u001b[0m  1.5568\n",
      "      4        \u001b[36m1.0186\u001b[0m        \u001b[32m1.0004\u001b[0m  1.4771\n",
      "      5        \u001b[36m1.0159\u001b[0m        \u001b[32m0.9983\u001b[0m  1.4537\n",
      "      6        \u001b[36m1.0144\u001b[0m        \u001b[32m0.9970\u001b[0m  1.4671\n",
      "      7        \u001b[36m1.0127\u001b[0m        \u001b[32m0.9955\u001b[0m  1.4651\n",
      "      8        \u001b[36m1.0111\u001b[0m        \u001b[32m0.9953\u001b[0m  1.4446\n",
      "      9        \u001b[36m1.0101\u001b[0m        \u001b[32m0.9952\u001b[0m  1.5245\n",
      "     10        1.0103        \u001b[32m0.9944\u001b[0m  1.4887\n",
      "     11        \u001b[36m1.0092\u001b[0m        0.9945  1.4565\n",
      "     12        \u001b[36m1.0090\u001b[0m        \u001b[32m0.9937\u001b[0m  1.3827\n",
      "     13        \u001b[36m1.0078\u001b[0m        0.9938  1.3863\n",
      "     14        1.0086        \u001b[32m0.9936\u001b[0m  1.3245\n",
      "     15        \u001b[36m1.0073\u001b[0m        0.9941  1.3539\n",
      "     16        1.0076        \u001b[32m0.9932\u001b[0m  1.3557\n",
      "     17        \u001b[36m1.0069\u001b[0m        \u001b[32m0.9930\u001b[0m  1.3143\n",
      "     18        1.0079        0.9932  1.3330\n",
      "     19        1.0070        \u001b[32m0.9923\u001b[0m  1.3265\n",
      "     20        1.0076        0.9931  1.3627\n"
     ]
    },
    {
     "name": "stderr",
     "output_type": "stream",
     "text": [
      "<ipython-input-9-bb6654121bf9>:51: UserWarning: Implicit dimension choice for log_softmax has been deprecated. Change the call to include dim=X as an argument.\n",
      "  out = self.Last(out)\n"
     ]
    },
    {
     "name": "stdout",
     "output_type": "stream",
     "text": [
      "  epoch    train_loss    valid_loss     dur\n",
      "-------  ------------  ------------  ------\n",
      "      1        \u001b[36m1.6368\u001b[0m        \u001b[32m1.0367\u001b[0m  1.4821\n",
      "      2        \u001b[36m1.0441\u001b[0m        \u001b[32m0.9851\u001b[0m  1.4368\n",
      "      3        \u001b[36m1.0255\u001b[0m        \u001b[32m0.9774\u001b[0m  1.4270\n",
      "      4        \u001b[36m1.0187\u001b[0m        \u001b[32m0.9723\u001b[0m  1.4753\n",
      "      5        \u001b[36m1.0166\u001b[0m        \u001b[32m0.9722\u001b[0m  1.3953\n",
      "      6        \u001b[36m1.0148\u001b[0m        \u001b[32m0.9696\u001b[0m  1.4572\n",
      "      7        \u001b[36m1.0133\u001b[0m        0.9698  1.4752\n",
      "      8        1.0136        \u001b[32m0.9687\u001b[0m  1.5000\n",
      "      9        \u001b[36m1.0118\u001b[0m        \u001b[32m0.9687\u001b[0m  1.5158\n",
      "     10        1.0120        \u001b[32m0.9687\u001b[0m  1.5379\n",
      "     11        \u001b[36m1.0104\u001b[0m        \u001b[32m0.9682\u001b[0m  1.4759\n",
      "     12        1.0107        \u001b[32m0.9682\u001b[0m  1.4373\n",
      "     13        \u001b[36m1.0097\u001b[0m        \u001b[32m0.9677\u001b[0m  1.4711\n",
      "     14        \u001b[36m1.0094\u001b[0m        \u001b[32m0.9674\u001b[0m  1.5088\n",
      "     15        \u001b[36m1.0090\u001b[0m        \u001b[32m0.9670\u001b[0m  1.5116\n",
      "     16        1.0097        \u001b[32m0.9670\u001b[0m  1.4992\n",
      "     17        \u001b[36m1.0086\u001b[0m        \u001b[32m0.9667\u001b[0m  1.4476\n",
      "     18        \u001b[36m1.0081\u001b[0m        \u001b[32m0.9658\u001b[0m  1.4453\n",
      "     19        \u001b[36m1.0080\u001b[0m        0.9676  1.4766\n",
      "     20        \u001b[36m1.0075\u001b[0m        0.9670  1.4374\n"
     ]
    },
    {
     "name": "stderr",
     "output_type": "stream",
     "text": [
      "<ipython-input-9-bb6654121bf9>:51: UserWarning: Implicit dimension choice for log_softmax has been deprecated. Change the call to include dim=X as an argument.\n",
      "  out = self.Last(out)\n"
     ]
    },
    {
     "name": "stdout",
     "output_type": "stream",
     "text": [
      "  epoch    train_loss    valid_loss     dur\n",
      "-------  ------------  ------------  ------\n",
      "      1        \u001b[36m1.8542\u001b[0m        \u001b[32m1.3114\u001b[0m  1.5935\n",
      "      2        \u001b[36m1.2919\u001b[0m        \u001b[32m1.2108\u001b[0m  1.5668\n",
      "      3        \u001b[36m1.1321\u001b[0m        \u001b[32m1.0039\u001b[0m  1.4872\n",
      "      4        \u001b[36m1.0331\u001b[0m        \u001b[32m0.9843\u001b[0m  1.5169\n",
      "      5        \u001b[36m1.0222\u001b[0m        \u001b[32m0.9764\u001b[0m  1.4747\n",
      "      6        \u001b[36m1.0177\u001b[0m        \u001b[32m0.9744\u001b[0m  1.5222\n",
      "      7        \u001b[36m1.0157\u001b[0m        \u001b[32m0.9723\u001b[0m  1.4538\n",
      "      8        \u001b[36m1.0145\u001b[0m        \u001b[32m0.9707\u001b[0m  1.4458\n",
      "      9        \u001b[36m1.0125\u001b[0m        0.9710  1.4866\n",
      "     10        1.0126        0.9708  1.5083\n",
      "     11        \u001b[36m1.0123\u001b[0m        0.9712  1.4686\n",
      "     12        \u001b[36m1.0113\u001b[0m        0.9711  1.4132\n",
      "     13        \u001b[36m1.0106\u001b[0m        \u001b[32m0.9695\u001b[0m  1.4890\n",
      "     14        1.0111        0.9708  1.4536\n",
      "     15        \u001b[36m1.0090\u001b[0m        0.9700  1.4766\n",
      "     16        1.0093        0.9700  1.4388\n",
      "     17        \u001b[36m1.0087\u001b[0m        \u001b[32m0.9687\u001b[0m  1.4449\n",
      "     18        1.0090        0.9693  1.3973\n",
      "     19        \u001b[36m1.0082\u001b[0m        \u001b[32m0.9686\u001b[0m  1.4353\n",
      "     20        1.0091        \u001b[32m0.9681\u001b[0m  1.4182\n"
     ]
    },
    {
     "name": "stderr",
     "output_type": "stream",
     "text": [
      "<ipython-input-9-bb6654121bf9>:51: UserWarning: Implicit dimension choice for log_softmax has been deprecated. Change the call to include dim=X as an argument.\n",
      "  out = self.Last(out)\n"
     ]
    },
    {
     "name": "stdout",
     "output_type": "stream",
     "text": [
      "  epoch    train_loss    valid_loss     dur\n",
      "-------  ------------  ------------  ------\n",
      "      1        \u001b[36m1.9179\u001b[0m        \u001b[32m1.3763\u001b[0m  1.5856\n",
      "      2        \u001b[36m1.1627\u001b[0m        \u001b[32m0.9950\u001b[0m  1.4749\n",
      "      3        \u001b[36m1.0299\u001b[0m        \u001b[32m0.9754\u001b[0m  1.4425\n",
      "      4        \u001b[36m1.0178\u001b[0m        \u001b[32m0.9721\u001b[0m  1.5406\n",
      "      5        \u001b[36m1.0147\u001b[0m        \u001b[32m0.9685\u001b[0m  1.4170\n",
      "      6        \u001b[36m1.0132\u001b[0m        \u001b[32m0.9659\u001b[0m  1.3417\n",
      "      7        \u001b[36m1.0100\u001b[0m        \u001b[32m0.9646\u001b[0m  1.3542\n",
      "      8        \u001b[36m1.0095\u001b[0m        0.9650  1.3338\n",
      "      9        \u001b[36m1.0084\u001b[0m        \u001b[32m0.9632\u001b[0m  1.3561\n",
      "     10        1.0086        0.9645  1.3879\n",
      "     11        \u001b[36m1.0081\u001b[0m        0.9647  1.3768\n",
      "     12        \u001b[36m1.0078\u001b[0m        0.9637  1.3442\n",
      "     13        \u001b[36m1.0069\u001b[0m        \u001b[32m0.9629\u001b[0m  1.2877\n",
      "     14        \u001b[36m1.0063\u001b[0m        0.9635  1.3645\n",
      "     15        1.0068        0.9650  1.3605\n",
      "     16        \u001b[36m1.0062\u001b[0m        0.9639  1.3262\n",
      "     17        1.0067        \u001b[32m0.9620\u001b[0m  1.3112\n",
      "     18        \u001b[36m1.0055\u001b[0m        0.9623  1.3670\n",
      "     19        \u001b[36m1.0053\u001b[0m        0.9625  1.3503\n",
      "     20        1.0054        0.9622  1.3558\n"
     ]
    },
    {
     "name": "stderr",
     "output_type": "stream",
     "text": [
      "<ipython-input-9-bb6654121bf9>:51: UserWarning: Implicit dimension choice for log_softmax has been deprecated. Change the call to include dim=X as an argument.\n",
      "  out = self.Last(out)\n"
     ]
    },
    {
     "name": "stdout",
     "output_type": "stream",
     "text": [
      "  epoch    train_loss    valid_loss     dur\n",
      "-------  ------------  ------------  ------\n",
      "      1        \u001b[36m1.6844\u001b[0m        \u001b[32m1.1095\u001b[0m  1.4715\n",
      "      2        \u001b[36m1.0618\u001b[0m        \u001b[32m1.0331\u001b[0m  1.4567\n",
      "      3        \u001b[36m1.0351\u001b[0m        \u001b[32m1.0251\u001b[0m  1.4354\n",
      "      4        \u001b[36m1.0292\u001b[0m        \u001b[32m1.0182\u001b[0m  1.4547\n",
      "      5        \u001b[36m1.0261\u001b[0m        \u001b[32m1.0155\u001b[0m  1.5359\n",
      "      6        \u001b[36m1.0237\u001b[0m        \u001b[32m1.0142\u001b[0m  1.4970\n",
      "      7        1.0242        \u001b[32m1.0116\u001b[0m  1.5088\n",
      "      8        \u001b[36m1.0218\u001b[0m        \u001b[32m1.0102\u001b[0m  1.4759\n",
      "      9        1.0231        1.0126  1.4737\n",
      "     10        \u001b[36m1.0205\u001b[0m        1.0114  1.4669\n",
      "     11        \u001b[36m1.0200\u001b[0m        1.0104  1.5053\n",
      "     12        1.0204        \u001b[32m1.0091\u001b[0m  1.4668\n",
      "     13        \u001b[36m1.0199\u001b[0m        1.0095  1.4461\n",
      "     14        \u001b[36m1.0197\u001b[0m        \u001b[32m1.0083\u001b[0m  1.4683\n",
      "     15        1.0205        1.0114  1.4621\n",
      "     16        1.0211        1.0084  1.4452\n",
      "     17        1.0206        1.0105  1.4782\n",
      "     18        \u001b[36m1.0194\u001b[0m        1.0128  1.4618\n",
      "     19        \u001b[36m1.0192\u001b[0m        1.0094  1.4450\n",
      "     20        1.0197        \u001b[32m1.0073\u001b[0m  1.4959\n"
     ]
    },
    {
     "name": "stderr",
     "output_type": "stream",
     "text": [
      "<ipython-input-9-bb6654121bf9>:51: UserWarning: Implicit dimension choice for log_softmax has been deprecated. Change the call to include dim=X as an argument.\n",
      "  out = self.Last(out)\n"
     ]
    },
    {
     "name": "stdout",
     "output_type": "stream",
     "text": [
      "  epoch    train_loss    valid_loss     dur\n",
      "-------  ------------  ------------  ------\n",
      "      1        \u001b[36m2.3015\u001b[0m        \u001b[32m2.2970\u001b[0m  3.1433\n",
      "      2        \u001b[36m2.2917\u001b[0m        \u001b[32m2.2871\u001b[0m  3.1353\n",
      "      3        \u001b[36m2.2817\u001b[0m        \u001b[32m2.2766\u001b[0m  3.2834\n",
      "      4        \u001b[36m2.2706\u001b[0m        \u001b[32m2.2649\u001b[0m  3.1524\n",
      "      5        \u001b[36m2.2581\u001b[0m        \u001b[32m2.2516\u001b[0m  3.1933\n",
      "      6        \u001b[36m2.2439\u001b[0m        \u001b[32m2.2362\u001b[0m  3.2058\n",
      "      7        \u001b[36m2.2271\u001b[0m        \u001b[32m2.2181\u001b[0m  3.1238\n",
      "      8        \u001b[36m2.2075\u001b[0m        \u001b[32m2.1968\u001b[0m  3.1221\n",
      "      9        \u001b[36m2.1840\u001b[0m        \u001b[32m2.1715\u001b[0m  3.0299\n",
      "     10        \u001b[36m2.1562\u001b[0m        \u001b[32m2.1412\u001b[0m  3.0420\n",
      "     11        \u001b[36m2.1227\u001b[0m        \u001b[32m2.1051\u001b[0m  3.0912\n",
      "     12        \u001b[36m2.0830\u001b[0m        \u001b[32m2.0620\u001b[0m  3.0219\n",
      "     13        \u001b[36m2.0357\u001b[0m        \u001b[32m2.0111\u001b[0m  2.9798\n",
      "     14        \u001b[36m1.9799\u001b[0m        \u001b[32m1.9518\u001b[0m  2.8247\n",
      "     15        \u001b[36m1.9157\u001b[0m        \u001b[32m1.8839\u001b[0m  2.9295\n",
      "     16        \u001b[36m1.8432\u001b[0m        \u001b[32m1.8080\u001b[0m  2.9401\n",
      "     17        \u001b[36m1.7630\u001b[0m        \u001b[32m1.7249\u001b[0m  2.9091\n",
      "     18        \u001b[36m1.6767\u001b[0m        \u001b[32m1.6364\u001b[0m  2.9619\n",
      "     19        \u001b[36m1.5849\u001b[0m        \u001b[32m1.5441\u001b[0m  3.1228\n",
      "     20        \u001b[36m1.4912\u001b[0m        \u001b[32m1.4507\u001b[0m  3.0827\n"
     ]
    },
    {
     "name": "stderr",
     "output_type": "stream",
     "text": [
      "<ipython-input-9-bb6654121bf9>:51: UserWarning: Implicit dimension choice for log_softmax has been deprecated. Change the call to include dim=X as an argument.\n",
      "  out = self.Last(out)\n"
     ]
    },
    {
     "name": "stdout",
     "output_type": "stream",
     "text": [
      "  epoch    train_loss    valid_loss     dur\n",
      "-------  ------------  ------------  ------\n",
      "      1        \u001b[36m2.3013\u001b[0m        \u001b[32m2.2952\u001b[0m  3.1324\n",
      "      2        \u001b[36m2.2908\u001b[0m        \u001b[32m2.2842\u001b[0m  3.2249\n",
      "      3        \u001b[36m2.2803\u001b[0m        \u001b[32m2.2727\u001b[0m  3.0472\n",
      "      4        \u001b[36m2.2688\u001b[0m        \u001b[32m2.2601\u001b[0m  3.1635\n",
      "      5        \u001b[36m2.2560\u001b[0m        \u001b[32m2.2457\u001b[0m  3.1215\n",
      "      6        \u001b[36m2.2412\u001b[0m        \u001b[32m2.2292\u001b[0m  3.1914\n",
      "      7        \u001b[36m2.2238\u001b[0m        \u001b[32m2.2098\u001b[0m  3.1314\n",
      "      8        \u001b[36m2.2035\u001b[0m        \u001b[32m2.1871\u001b[0m  3.0924\n",
      "      9        \u001b[36m2.1796\u001b[0m        \u001b[32m2.1604\u001b[0m  3.1439\n",
      "     10        \u001b[36m2.1513\u001b[0m        \u001b[32m2.1289\u001b[0m  3.0629\n",
      "     11        \u001b[36m2.1178\u001b[0m        \u001b[32m2.0917\u001b[0m  3.0479\n",
      "     12        \u001b[36m2.0780\u001b[0m        \u001b[32m2.0480\u001b[0m  3.1091\n",
      "     13        \u001b[36m2.0322\u001b[0m        \u001b[32m1.9970\u001b[0m  3.0982\n",
      "     14        \u001b[36m1.9784\u001b[0m        \u001b[32m1.9380\u001b[0m  2.9904\n",
      "     15        \u001b[36m1.9160\u001b[0m        \u001b[32m1.8705\u001b[0m  3.0551\n",
      "     16        \u001b[36m1.8451\u001b[0m        \u001b[32m1.7943\u001b[0m  2.9772\n",
      "     17        \u001b[36m1.7660\u001b[0m        \u001b[32m1.7101\u001b[0m  2.9370\n",
      "     18        \u001b[36m1.6794\u001b[0m        \u001b[32m1.6195\u001b[0m  2.9499\n",
      "     19        \u001b[36m1.5876\u001b[0m        \u001b[32m1.5247\u001b[0m  3.0184\n",
      "     20        \u001b[36m1.4924\u001b[0m        \u001b[32m1.4290\u001b[0m  2.9775\n"
     ]
    },
    {
     "name": "stderr",
     "output_type": "stream",
     "text": [
      "<ipython-input-9-bb6654121bf9>:51: UserWarning: Implicit dimension choice for log_softmax has been deprecated. Change the call to include dim=X as an argument.\n",
      "  out = self.Last(out)\n"
     ]
    },
    {
     "name": "stdout",
     "output_type": "stream",
     "text": [
      "  epoch    train_loss    valid_loss     dur\n",
      "-------  ------------  ------------  ------\n",
      "      1        \u001b[36m2.2983\u001b[0m        \u001b[32m2.2917\u001b[0m  3.1397\n",
      "      2        \u001b[36m2.2864\u001b[0m        \u001b[32m2.2792\u001b[0m  3.2491\n",
      "      3        \u001b[36m2.2739\u001b[0m        \u001b[32m2.2658\u001b[0m  3.1668\n",
      "      4        \u001b[36m2.2601\u001b[0m        \u001b[32m2.2509\u001b[0m  3.2422\n",
      "      5        \u001b[36m2.2446\u001b[0m        \u001b[32m2.2338\u001b[0m  3.1301\n",
      "      6        \u001b[36m2.2268\u001b[0m        \u001b[32m2.2141\u001b[0m  3.1208\n",
      "      7        \u001b[36m2.2061\u001b[0m        \u001b[32m2.1909\u001b[0m  3.1543\n",
      "      8        \u001b[36m2.1815\u001b[0m        \u001b[32m2.1635\u001b[0m  3.2133\n",
      "      9        \u001b[36m2.1523\u001b[0m        \u001b[32m2.1312\u001b[0m  3.1105\n",
      "     10        \u001b[36m2.1179\u001b[0m        \u001b[32m2.0928\u001b[0m  3.0607\n",
      "     11        \u001b[36m2.0772\u001b[0m        \u001b[32m2.0473\u001b[0m  3.2061\n",
      "     12        \u001b[36m2.0287\u001b[0m        \u001b[32m1.9935\u001b[0m  2.9810\n",
      "     13        \u001b[36m1.9717\u001b[0m        \u001b[32m1.9310\u001b[0m  3.0464\n",
      "     14        \u001b[36m1.9061\u001b[0m        \u001b[32m1.8596\u001b[0m  2.9421\n",
      "     15        \u001b[36m1.8316\u001b[0m        \u001b[32m1.7796\u001b[0m  2.9612\n",
      "     16        \u001b[36m1.7492\u001b[0m        \u001b[32m1.6923\u001b[0m  2.8269\n",
      "     17        \u001b[36m1.6596\u001b[0m        \u001b[32m1.5993\u001b[0m  2.9325\n",
      "     18        \u001b[36m1.5651\u001b[0m        \u001b[32m1.5032\u001b[0m  3.0537\n",
      "     19        \u001b[36m1.4699\u001b[0m        \u001b[32m1.4069\u001b[0m  3.1748\n",
      "     20        \u001b[36m1.3743\u001b[0m        \u001b[32m1.3135\u001b[0m  3.1396\n"
     ]
    },
    {
     "name": "stderr",
     "output_type": "stream",
     "text": [
      "<ipython-input-9-bb6654121bf9>:51: UserWarning: Implicit dimension choice for log_softmax has been deprecated. Change the call to include dim=X as an argument.\n",
      "  out = self.Last(out)\n"
     ]
    },
    {
     "name": "stdout",
     "output_type": "stream",
     "text": [
      "  epoch    train_loss    valid_loss     dur\n",
      "-------  ------------  ------------  ------\n",
      "      1        \u001b[36m2.3004\u001b[0m        \u001b[32m2.2949\u001b[0m  3.1649\n",
      "      2        \u001b[36m2.2898\u001b[0m        \u001b[32m2.2837\u001b[0m  3.1121\n",
      "      3        \u001b[36m2.2787\u001b[0m        \u001b[32m2.2715\u001b[0m  3.1437\n",
      "      4        \u001b[36m2.2662\u001b[0m        \u001b[32m2.2578\u001b[0m  3.1510\n",
      "      5        \u001b[36m2.2520\u001b[0m        \u001b[32m2.2419\u001b[0m  3.1205\n",
      "      6        \u001b[36m2.2355\u001b[0m        \u001b[32m2.2233\u001b[0m  3.1338\n",
      "      7        \u001b[36m2.2159\u001b[0m        \u001b[32m2.2014\u001b[0m  3.1657\n",
      "      8        \u001b[36m2.1928\u001b[0m        \u001b[32m2.1756\u001b[0m  3.0599\n",
      "      9        \u001b[36m2.1655\u001b[0m        \u001b[32m2.1450\u001b[0m  3.0819\n",
      "     10        \u001b[36m2.1333\u001b[0m        \u001b[32m2.1090\u001b[0m  3.1254\n",
      "     11        \u001b[36m2.0952\u001b[0m        \u001b[32m2.0665\u001b[0m  3.0940\n",
      "     12        \u001b[36m2.0503\u001b[0m        \u001b[32m2.0167\u001b[0m  2.9551\n",
      "     13        \u001b[36m1.9972\u001b[0m        \u001b[32m1.9585\u001b[0m  3.0676\n",
      "     14        \u001b[36m1.9360\u001b[0m        \u001b[32m1.8912\u001b[0m  3.0913\n",
      "     15        \u001b[36m1.8652\u001b[0m        \u001b[32m1.8147\u001b[0m  3.0705\n",
      "     16        \u001b[36m1.7860\u001b[0m        \u001b[32m1.7296\u001b[0m  2.9581\n",
      "     17        \u001b[36m1.6981\u001b[0m        \u001b[32m1.6374\u001b[0m  3.0518\n",
      "     18        \u001b[36m1.6041\u001b[0m        \u001b[32m1.5406\u001b[0m  3.1225\n",
      "     19        \u001b[36m1.5072\u001b[0m        \u001b[32m1.4427\u001b[0m  3.1266\n",
      "     20        \u001b[36m1.4111\u001b[0m        \u001b[32m1.3470\u001b[0m  3.1130\n"
     ]
    },
    {
     "name": "stderr",
     "output_type": "stream",
     "text": [
      "<ipython-input-9-bb6654121bf9>:51: UserWarning: Implicit dimension choice for log_softmax has been deprecated. Change the call to include dim=X as an argument.\n",
      "  out = self.Last(out)\n"
     ]
    },
    {
     "name": "stdout",
     "output_type": "stream",
     "text": [
      "  epoch    train_loss    valid_loss     dur\n",
      "-------  ------------  ------------  ------\n",
      "      1        \u001b[36m2.3001\u001b[0m        \u001b[32m2.2938\u001b[0m  3.1061\n",
      "      2        \u001b[36m2.2894\u001b[0m        \u001b[32m2.2826\u001b[0m  3.1329\n",
      "      3        \u001b[36m2.2782\u001b[0m        \u001b[32m2.2706\u001b[0m  3.2480\n",
      "      4        \u001b[36m2.2663\u001b[0m        \u001b[32m2.2574\u001b[0m  3.1448\n",
      "      5        \u001b[36m2.2529\u001b[0m        \u001b[32m2.2425\u001b[0m  3.1378\n",
      "      6        \u001b[36m2.2374\u001b[0m        \u001b[32m2.2252\u001b[0m  3.1348\n",
      "      7        \u001b[36m2.2195\u001b[0m        \u001b[32m2.2049\u001b[0m  3.0761\n",
      "      8        \u001b[36m2.1981\u001b[0m        \u001b[32m2.1808\u001b[0m  2.9031\n",
      "      9        \u001b[36m2.1727\u001b[0m        \u001b[32m2.1523\u001b[0m  2.9339\n",
      "     10        \u001b[36m2.1426\u001b[0m        \u001b[32m2.1186\u001b[0m  3.1160\n",
      "     11        \u001b[36m2.1075\u001b[0m        \u001b[32m2.0789\u001b[0m  2.9926\n",
      "     12        \u001b[36m2.0654\u001b[0m        \u001b[32m2.0322\u001b[0m  2.9547\n",
      "     13        \u001b[36m2.0164\u001b[0m        \u001b[32m1.9780\u001b[0m  3.2164\n",
      "     14        \u001b[36m1.9593\u001b[0m        \u001b[32m1.9155\u001b[0m  3.0728\n",
      "     15        \u001b[36m1.8946\u001b[0m        \u001b[32m1.8448\u001b[0m  3.1020\n",
      "     16        \u001b[36m1.8217\u001b[0m        \u001b[32m1.7663\u001b[0m  3.2983\n",
      "     17        \u001b[36m1.7410\u001b[0m        \u001b[32m1.6809\u001b[0m  3.2351\n",
      "     18        \u001b[36m1.6548\u001b[0m        \u001b[32m1.5904\u001b[0m  3.2687\n",
      "     19        \u001b[36m1.5646\u001b[0m        \u001b[32m1.4968\u001b[0m  3.1183\n",
      "     20        \u001b[36m1.4716\u001b[0m        \u001b[32m1.4029\u001b[0m  3.0786\n"
     ]
    },
    {
     "name": "stderr",
     "output_type": "stream",
     "text": [
      "<ipython-input-9-bb6654121bf9>:51: UserWarning: Implicit dimension choice for log_softmax has been deprecated. Change the call to include dim=X as an argument.\n",
      "  out = self.Last(out)\n"
     ]
    },
    {
     "name": "stdout",
     "output_type": "stream",
     "text": [
      "  epoch    train_loss    valid_loss     dur\n",
      "-------  ------------  ------------  ------\n",
      "      1        \u001b[36m2.2975\u001b[0m        \u001b[32m2.2935\u001b[0m  3.0698\n",
      "      2        \u001b[36m2.2895\u001b[0m        \u001b[32m2.2861\u001b[0m  3.1833\n",
      "      3        \u001b[36m2.2825\u001b[0m        \u001b[32m2.2795\u001b[0m  3.0525\n",
      "      4        \u001b[36m2.2763\u001b[0m        \u001b[32m2.2733\u001b[0m  3.0609\n",
      "      5        \u001b[36m2.2704\u001b[0m        \u001b[32m2.2675\u001b[0m  3.0052\n",
      "      6        \u001b[36m2.2647\u001b[0m        \u001b[32m2.2621\u001b[0m  2.8531\n",
      "      7        \u001b[36m2.2593\u001b[0m        \u001b[32m2.2568\u001b[0m  2.8656\n",
      "      8        \u001b[36m2.2542\u001b[0m        \u001b[32m2.2517\u001b[0m  2.8164\n",
      "      9        \u001b[36m2.2492\u001b[0m        \u001b[32m2.2468\u001b[0m  2.9506\n",
      "     10        \u001b[36m2.2443\u001b[0m        \u001b[32m2.2419\u001b[0m  2.9635\n",
      "     11        \u001b[36m2.2393\u001b[0m        \u001b[32m2.2371\u001b[0m  3.0476\n",
      "     12        \u001b[36m2.2346\u001b[0m        \u001b[32m2.2322\u001b[0m  3.1135\n",
      "     13        \u001b[36m2.2295\u001b[0m        \u001b[32m2.2273\u001b[0m  3.1004\n",
      "     14        \u001b[36m2.2246\u001b[0m        \u001b[32m2.2224\u001b[0m  3.1188\n",
      "     15        \u001b[36m2.2195\u001b[0m        \u001b[32m2.2173\u001b[0m  3.1500\n",
      "     16        \u001b[36m2.2143\u001b[0m        \u001b[32m2.2121\u001b[0m  3.1877\n",
      "     17        \u001b[36m2.2088\u001b[0m        \u001b[32m2.2066\u001b[0m  3.1030\n",
      "     18        \u001b[36m2.2031\u001b[0m        \u001b[32m2.2009\u001b[0m  3.0743\n",
      "     19        \u001b[36m2.1971\u001b[0m        \u001b[32m2.1949\u001b[0m  3.1212\n",
      "     20        \u001b[36m2.1909\u001b[0m        \u001b[32m2.1884\u001b[0m  3.0627\n"
     ]
    },
    {
     "name": "stderr",
     "output_type": "stream",
     "text": [
      "<ipython-input-9-bb6654121bf9>:51: UserWarning: Implicit dimension choice for log_softmax has been deprecated. Change the call to include dim=X as an argument.\n",
      "  out = self.Last(out)\n"
     ]
    },
    {
     "name": "stdout",
     "output_type": "stream",
     "text": [
      "  epoch    train_loss    valid_loss     dur\n",
      "-------  ------------  ------------  ------\n",
      "      1        \u001b[36m2.2968\u001b[0m        \u001b[32m2.2913\u001b[0m  3.1359\n",
      "      2        \u001b[36m2.2886\u001b[0m        \u001b[32m2.2836\u001b[0m  3.2573\n",
      "      3        \u001b[36m2.2817\u001b[0m        \u001b[32m2.2769\u001b[0m  3.1252\n",
      "      4        \u001b[36m2.2755\u001b[0m        \u001b[32m2.2709\u001b[0m  3.1961\n",
      "      5        \u001b[36m2.2698\u001b[0m        \u001b[32m2.2653\u001b[0m  3.2038\n",
      "      6        \u001b[36m2.2644\u001b[0m        \u001b[32m2.2599\u001b[0m  3.1307\n",
      "      7        \u001b[36m2.2593\u001b[0m        \u001b[32m2.2548\u001b[0m  3.0804\n",
      "      8        \u001b[36m2.2545\u001b[0m        \u001b[32m2.2498\u001b[0m  3.0051\n",
      "      9        \u001b[36m2.2496\u001b[0m        \u001b[32m2.2450\u001b[0m  2.9189\n",
      "     10        \u001b[36m2.2449\u001b[0m        \u001b[32m2.2403\u001b[0m  3.0413\n",
      "     11        \u001b[36m2.2403\u001b[0m        \u001b[32m2.2357\u001b[0m  3.0668\n",
      "     12        \u001b[36m2.2358\u001b[0m        \u001b[32m2.2312\u001b[0m  2.9512\n",
      "     13        \u001b[36m2.2312\u001b[0m        \u001b[32m2.2266\u001b[0m  3.0136\n",
      "     14        \u001b[36m2.2267\u001b[0m        \u001b[32m2.2220\u001b[0m  3.0763\n",
      "     15        \u001b[36m2.2222\u001b[0m        \u001b[32m2.2173\u001b[0m  3.1632\n",
      "     16        \u001b[36m2.2174\u001b[0m        \u001b[32m2.2125\u001b[0m  3.1458\n",
      "     17        \u001b[36m2.2125\u001b[0m        \u001b[32m2.2075\u001b[0m  3.1408\n",
      "     18        \u001b[36m2.2075\u001b[0m        \u001b[32m2.2023\u001b[0m  3.1721\n",
      "     19        \u001b[36m2.2022\u001b[0m        \u001b[32m2.1968\u001b[0m  3.0913\n",
      "     20        \u001b[36m2.1967\u001b[0m        \u001b[32m2.1910\u001b[0m  3.1142\n"
     ]
    },
    {
     "name": "stderr",
     "output_type": "stream",
     "text": [
      "<ipython-input-9-bb6654121bf9>:51: UserWarning: Implicit dimension choice for log_softmax has been deprecated. Change the call to include dim=X as an argument.\n",
      "  out = self.Last(out)\n"
     ]
    },
    {
     "name": "stdout",
     "output_type": "stream",
     "text": [
      "  epoch    train_loss    valid_loss     dur\n",
      "-------  ------------  ------------  ------\n",
      "      1        \u001b[36m2.3009\u001b[0m        \u001b[32m2.2960\u001b[0m  3.1964\n",
      "      2        \u001b[36m2.2909\u001b[0m        \u001b[32m2.2866\u001b[0m  3.1249\n",
      "      3        \u001b[36m2.2825\u001b[0m        \u001b[32m2.2786\u001b[0m  3.0831\n",
      "      4        \u001b[36m2.2752\u001b[0m        \u001b[32m2.2714\u001b[0m  3.0712\n",
      "      5        \u001b[36m2.2686\u001b[0m        \u001b[32m2.2647\u001b[0m  3.1259\n",
      "      6        \u001b[36m2.2625\u001b[0m        \u001b[32m2.2585\u001b[0m  3.0033\n",
      "      7        \u001b[36m2.2566\u001b[0m        \u001b[32m2.2526\u001b[0m  2.9622\n",
      "      8        \u001b[36m2.2510\u001b[0m        \u001b[32m2.2469\u001b[0m  2.9139\n",
      "      9        \u001b[36m2.2455\u001b[0m        \u001b[32m2.2413\u001b[0m  2.9240\n",
      "     10        \u001b[36m2.2401\u001b[0m        \u001b[32m2.2359\u001b[0m  2.9802\n",
      "     11        \u001b[36m2.2348\u001b[0m        \u001b[32m2.2305\u001b[0m  3.1122\n",
      "     12        \u001b[36m2.2296\u001b[0m        \u001b[32m2.2250\u001b[0m  3.2728\n",
      "     13        \u001b[36m2.2241\u001b[0m        \u001b[32m2.2195\u001b[0m  3.1919\n",
      "     14        \u001b[36m2.2186\u001b[0m        \u001b[32m2.2137\u001b[0m  3.0375\n",
      "     15        \u001b[36m2.2129\u001b[0m        \u001b[32m2.2078\u001b[0m  3.1651\n",
      "     16        \u001b[36m2.2068\u001b[0m        \u001b[32m2.2015\u001b[0m  3.1190\n",
      "     17        \u001b[36m2.2004\u001b[0m        \u001b[32m2.1948\u001b[0m  3.1034\n",
      "     18        \u001b[36m2.1937\u001b[0m        \u001b[32m2.1877\u001b[0m  3.1153\n",
      "     19        \u001b[36m2.1863\u001b[0m        \u001b[32m2.1799\u001b[0m  3.0479\n",
      "     20        \u001b[36m2.1784\u001b[0m        \u001b[32m2.1716\u001b[0m  3.0893\n"
     ]
    },
    {
     "name": "stderr",
     "output_type": "stream",
     "text": [
      "<ipython-input-9-bb6654121bf9>:51: UserWarning: Implicit dimension choice for log_softmax has been deprecated. Change the call to include dim=X as an argument.\n",
      "  out = self.Last(out)\n"
     ]
    },
    {
     "name": "stdout",
     "output_type": "stream",
     "text": [
      "  epoch    train_loss    valid_loss     dur\n",
      "-------  ------------  ------------  ------\n",
      "      1        \u001b[36m2.2988\u001b[0m        \u001b[32m2.2936\u001b[0m  3.1212\n",
      "      2        \u001b[36m2.2899\u001b[0m        \u001b[32m2.2854\u001b[0m  3.1305\n",
      "      3        \u001b[36m2.2825\u001b[0m        \u001b[32m2.2783\u001b[0m  3.0988\n",
      "      4        \u001b[36m2.2761\u001b[0m        \u001b[32m2.2720\u001b[0m  3.1544\n",
      "      5        \u001b[36m2.2703\u001b[0m        \u001b[32m2.2663\u001b[0m  3.0507\n",
      "      6        \u001b[36m2.2649\u001b[0m        \u001b[32m2.2609\u001b[0m  3.1808\n",
      "      7        \u001b[36m2.2597\u001b[0m        \u001b[32m2.2557\u001b[0m  3.0420\n",
      "      8        \u001b[36m2.2549\u001b[0m        \u001b[32m2.2508\u001b[0m  3.1578\n",
      "      9        \u001b[36m2.2502\u001b[0m        \u001b[32m2.2461\u001b[0m  3.0227\n",
      "     10        \u001b[36m2.2456\u001b[0m        \u001b[32m2.2415\u001b[0m  3.0632\n",
      "     11        \u001b[36m2.2411\u001b[0m        \u001b[32m2.2370\u001b[0m  2.8478\n",
      "     12        \u001b[36m2.2367\u001b[0m        \u001b[32m2.2324\u001b[0m  2.8217\n",
      "     13        \u001b[36m2.2321\u001b[0m        \u001b[32m2.2279\u001b[0m  2.8924\n",
      "     14        \u001b[36m2.2275\u001b[0m        \u001b[32m2.2232\u001b[0m  2.8279\n",
      "     15        \u001b[36m2.2229\u001b[0m        \u001b[32m2.2185\u001b[0m  2.8370\n",
      "     16        \u001b[36m2.2181\u001b[0m        \u001b[32m2.2136\u001b[0m  2.9336\n",
      "     17        \u001b[36m2.2135\u001b[0m        \u001b[32m2.2086\u001b[0m  2.9830\n",
      "     18        \u001b[36m2.2084\u001b[0m        \u001b[32m2.2034\u001b[0m  3.1136\n",
      "     19        \u001b[36m2.2031\u001b[0m        \u001b[32m2.1978\u001b[0m  3.0892\n",
      "     20        \u001b[36m2.1975\u001b[0m        \u001b[32m2.1920\u001b[0m  3.0966\n"
     ]
    },
    {
     "name": "stderr",
     "output_type": "stream",
     "text": [
      "<ipython-input-9-bb6654121bf9>:51: UserWarning: Implicit dimension choice for log_softmax has been deprecated. Change the call to include dim=X as an argument.\n",
      "  out = self.Last(out)\n"
     ]
    },
    {
     "name": "stdout",
     "output_type": "stream",
     "text": [
      "  epoch    train_loss    valid_loss     dur\n",
      "-------  ------------  ------------  ------\n",
      "      1        \u001b[36m2.2983\u001b[0m        \u001b[32m2.2937\u001b[0m  3.1534\n",
      "      2        \u001b[36m2.2904\u001b[0m        \u001b[32m2.2860\u001b[0m  3.1313\n",
      "      3        \u001b[36m2.2836\u001b[0m        \u001b[32m2.2793\u001b[0m  3.0920\n",
      "      4        \u001b[36m2.2776\u001b[0m        \u001b[32m2.2734\u001b[0m  3.1421\n",
      "      5        \u001b[36m2.2721\u001b[0m        \u001b[32m2.2679\u001b[0m  3.1307\n",
      "      6        \u001b[36m2.2672\u001b[0m        \u001b[32m2.2629\u001b[0m  3.1256\n",
      "      7        \u001b[36m2.2624\u001b[0m        \u001b[32m2.2581\u001b[0m  3.1929\n",
      "      8        \u001b[36m2.2578\u001b[0m        \u001b[32m2.2534\u001b[0m  3.1129\n",
      "      9        \u001b[36m2.2533\u001b[0m        \u001b[32m2.2489\u001b[0m  3.1923\n",
      "     10        \u001b[36m2.2490\u001b[0m        \u001b[32m2.2445\u001b[0m  3.2724\n",
      "     11        \u001b[36m2.2446\u001b[0m        \u001b[32m2.2400\u001b[0m  3.2171\n",
      "     12        \u001b[36m2.2402\u001b[0m        \u001b[32m2.2355\u001b[0m  3.1778\n",
      "     13        \u001b[36m2.2359\u001b[0m        \u001b[32m2.2310\u001b[0m  3.1442\n",
      "     14        \u001b[36m2.2314\u001b[0m        \u001b[32m2.2264\u001b[0m  3.1654\n",
      "     15        \u001b[36m2.2269\u001b[0m        \u001b[32m2.2217\u001b[0m  3.1418\n",
      "     16        \u001b[36m2.2222\u001b[0m        \u001b[32m2.2168\u001b[0m  3.2569\n",
      "     17        \u001b[36m2.2173\u001b[0m        \u001b[32m2.2117\u001b[0m  3.0290\n",
      "     18        \u001b[36m2.2121\u001b[0m        \u001b[32m2.2064\u001b[0m  3.1255\n",
      "     19        \u001b[36m2.2067\u001b[0m        \u001b[32m2.2006\u001b[0m  3.1550\n",
      "     20        \u001b[36m2.2008\u001b[0m        \u001b[32m2.1945\u001b[0m  3.0636\n"
     ]
    },
    {
     "name": "stderr",
     "output_type": "stream",
     "text": [
      "<ipython-input-9-bb6654121bf9>:51: UserWarning: Implicit dimension choice for log_softmax has been deprecated. Change the call to include dim=X as an argument.\n",
      "  out = self.Last(out)\n"
     ]
    },
    {
     "name": "stdout",
     "output_type": "stream",
     "text": [
      "  epoch    train_loss    valid_loss     dur\n",
      "-------  ------------  ------------  ------\n",
      "      1        \u001b[36m2.3057\u001b[0m        \u001b[32m2.3010\u001b[0m  2.8666\n",
      "      2        \u001b[36m2.2969\u001b[0m        \u001b[32m2.2920\u001b[0m  2.8623\n",
      "      3        \u001b[36m2.2877\u001b[0m        \u001b[32m2.2822\u001b[0m  2.8898\n",
      "      4        \u001b[36m2.2773\u001b[0m        \u001b[32m2.2709\u001b[0m  2.7537\n",
      "      5        \u001b[36m2.2652\u001b[0m        \u001b[32m2.2580\u001b[0m  2.8407\n",
      "      6        \u001b[36m2.2514\u001b[0m        \u001b[32m2.2432\u001b[0m  2.7756\n",
      "      7        \u001b[36m2.2355\u001b[0m        \u001b[32m2.2263\u001b[0m  2.7069\n",
      "      8        \u001b[36m2.2173\u001b[0m        \u001b[32m2.2068\u001b[0m  2.6993\n",
      "      9        \u001b[36m2.1961\u001b[0m        \u001b[32m2.1841\u001b[0m  2.6568\n",
      "     10        \u001b[36m2.1711\u001b[0m        \u001b[32m2.1574\u001b[0m  2.7128\n",
      "     11        \u001b[36m2.1421\u001b[0m        \u001b[32m2.1259\u001b[0m  2.7526\n",
      "     12        \u001b[36m2.1077\u001b[0m        \u001b[32m2.0886\u001b[0m  2.7355\n",
      "     13        \u001b[36m2.0670\u001b[0m        \u001b[32m2.0445\u001b[0m  2.8406\n",
      "     14        \u001b[36m2.0191\u001b[0m        \u001b[32m1.9930\u001b[0m  2.9482\n",
      "     15        \u001b[36m1.9634\u001b[0m        \u001b[32m1.9339\u001b[0m  3.0318\n",
      "     16        \u001b[36m1.9001\u001b[0m        \u001b[32m1.8674\u001b[0m  2.9124\n",
      "     17        \u001b[36m1.8297\u001b[0m        \u001b[32m1.7939\u001b[0m  2.9420\n",
      "     18        \u001b[36m1.7526\u001b[0m        \u001b[32m1.7139\u001b[0m  2.9029\n",
      "     19        \u001b[36m1.6701\u001b[0m        \u001b[32m1.6287\u001b[0m  2.9428\n",
      "     20        \u001b[36m1.5821\u001b[0m        \u001b[32m1.5397\u001b[0m  2.9432\n"
     ]
    },
    {
     "name": "stderr",
     "output_type": "stream",
     "text": [
      "<ipython-input-9-bb6654121bf9>:51: UserWarning: Implicit dimension choice for log_softmax has been deprecated. Change the call to include dim=X as an argument.\n",
      "  out = self.Last(out)\n"
     ]
    },
    {
     "name": "stdout",
     "output_type": "stream",
     "text": [
      "  epoch    train_loss    valid_loss     dur\n",
      "-------  ------------  ------------  ------\n",
      "      1        \u001b[36m2.2959\u001b[0m        \u001b[32m2.2894\u001b[0m  2.8949\n",
      "      2        \u001b[36m2.2845\u001b[0m        \u001b[32m2.2773\u001b[0m  2.9198\n",
      "      3        \u001b[36m2.2725\u001b[0m        \u001b[32m2.2643\u001b[0m  2.8971\n",
      "      4        \u001b[36m2.2594\u001b[0m        \u001b[32m2.2501\u001b[0m  2.8585\n",
      "      5        \u001b[36m2.2447\u001b[0m        \u001b[32m2.2340\u001b[0m  2.9038\n",
      "      6        \u001b[36m2.2277\u001b[0m        \u001b[32m2.2155\u001b[0m  2.8262\n",
      "      7        \u001b[36m2.2086\u001b[0m        \u001b[32m2.1943\u001b[0m  2.9727\n",
      "      8        \u001b[36m2.1863\u001b[0m        \u001b[32m2.1698\u001b[0m  2.8668\n",
      "      9        \u001b[36m2.1604\u001b[0m        \u001b[32m2.1413\u001b[0m  2.9182\n",
      "     10        \u001b[36m2.1300\u001b[0m        \u001b[32m2.1078\u001b[0m  2.8988\n",
      "     11        \u001b[36m2.0945\u001b[0m        \u001b[32m2.0683\u001b[0m  2.9520\n",
      "     12        \u001b[36m2.0524\u001b[0m        \u001b[32m2.0220\u001b[0m  3.0181\n",
      "     13        \u001b[36m2.0038\u001b[0m        \u001b[32m1.9685\u001b[0m  2.8728\n",
      "     14        \u001b[36m1.9472\u001b[0m        \u001b[32m1.9076\u001b[0m  3.1811\n",
      "     15        \u001b[36m1.8838\u001b[0m        \u001b[32m1.8394\u001b[0m  3.0435\n",
      "     16        \u001b[36m1.8124\u001b[0m        \u001b[32m1.7637\u001b[0m  2.8609\n",
      "     17        \u001b[36m1.7339\u001b[0m        \u001b[32m1.6813\u001b[0m  2.8538\n",
      "     18        \u001b[36m1.6498\u001b[0m        \u001b[32m1.5934\u001b[0m  2.6683\n",
      "     19        \u001b[36m1.5610\u001b[0m        \u001b[32m1.5025\u001b[0m  2.7089\n",
      "     20        \u001b[36m1.4700\u001b[0m        \u001b[32m1.4115\u001b[0m  2.8310\n"
     ]
    },
    {
     "name": "stderr",
     "output_type": "stream",
     "text": [
      "<ipython-input-9-bb6654121bf9>:51: UserWarning: Implicit dimension choice for log_softmax has been deprecated. Change the call to include dim=X as an argument.\n",
      "  out = self.Last(out)\n"
     ]
    },
    {
     "name": "stdout",
     "output_type": "stream",
     "text": [
      "  epoch    train_loss    valid_loss     dur\n",
      "-------  ------------  ------------  ------\n",
      "      1        \u001b[36m2.2988\u001b[0m        \u001b[32m2.2917\u001b[0m  2.9225\n",
      "      2        \u001b[36m2.2879\u001b[0m        \u001b[32m2.2801\u001b[0m  2.8621\n",
      "      3        \u001b[36m2.2760\u001b[0m        \u001b[32m2.2674\u001b[0m  2.9182\n",
      "      4        \u001b[36m2.2630\u001b[0m        \u001b[32m2.2532\u001b[0m  2.9393\n",
      "      5        \u001b[36m2.2482\u001b[0m        \u001b[32m2.2374\u001b[0m  3.0149\n",
      "      6        \u001b[36m2.2315\u001b[0m        \u001b[32m2.2194\u001b[0m  2.8629\n",
      "      7        \u001b[36m2.2127\u001b[0m        \u001b[32m2.1988\u001b[0m  2.9201\n",
      "      8        \u001b[36m2.1909\u001b[0m        \u001b[32m2.1751\u001b[0m  2.9096\n",
      "      9        \u001b[36m2.1656\u001b[0m        \u001b[32m2.1475\u001b[0m  2.8680\n",
      "     10        \u001b[36m2.1364\u001b[0m        \u001b[32m2.1157\u001b[0m  2.9834\n",
      "     11        \u001b[36m2.1026\u001b[0m        \u001b[32m2.0790\u001b[0m  2.9401\n",
      "     12        \u001b[36m2.0640\u001b[0m        \u001b[32m2.0373\u001b[0m  2.9639\n",
      "     13        \u001b[36m2.0203\u001b[0m        \u001b[32m1.9900\u001b[0m  2.9753\n",
      "     14        \u001b[36m1.9702\u001b[0m        \u001b[32m1.9366\u001b[0m  2.9407\n",
      "     15        \u001b[36m1.9154\u001b[0m        \u001b[32m1.8772\u001b[0m  2.8774\n",
      "     16        \u001b[36m1.8531\u001b[0m        \u001b[32m1.8115\u001b[0m  2.9077\n",
      "     17        \u001b[36m1.7844\u001b[0m        \u001b[32m1.7392\u001b[0m  2.9006\n",
      "     18        \u001b[36m1.7103\u001b[0m        \u001b[32m1.6605\u001b[0m  2.9613\n",
      "     19        \u001b[36m1.6293\u001b[0m        \u001b[32m1.5757\u001b[0m  2.8610\n",
      "     20        \u001b[36m1.5422\u001b[0m        \u001b[32m1.4859\u001b[0m  2.9199\n"
     ]
    },
    {
     "name": "stderr",
     "output_type": "stream",
     "text": [
      "<ipython-input-9-bb6654121bf9>:51: UserWarning: Implicit dimension choice for log_softmax has been deprecated. Change the call to include dim=X as an argument.\n",
      "  out = self.Last(out)\n"
     ]
    },
    {
     "name": "stdout",
     "output_type": "stream",
     "text": [
      "  epoch    train_loss    valid_loss     dur\n",
      "-------  ------------  ------------  ------\n",
      "      1        \u001b[36m2.2984\u001b[0m        \u001b[32m2.2927\u001b[0m  2.9248\n",
      "      2        \u001b[36m2.2873\u001b[0m        \u001b[32m2.2806\u001b[0m  2.7850\n",
      "      3        \u001b[36m2.2750\u001b[0m        \u001b[32m2.2668\u001b[0m  2.8460\n",
      "      4        \u001b[36m2.2608\u001b[0m        \u001b[32m2.2510\u001b[0m  2.7580\n",
      "      5        \u001b[36m2.2445\u001b[0m        \u001b[32m2.2331\u001b[0m  2.7171\n",
      "      6        \u001b[36m2.2258\u001b[0m        \u001b[32m2.2126\u001b[0m  2.6160\n",
      "      7        \u001b[36m2.2046\u001b[0m        \u001b[32m2.1890\u001b[0m  2.6881\n",
      "      8        \u001b[36m2.1799\u001b[0m        \u001b[32m2.1618\u001b[0m  2.7707\n",
      "      9        \u001b[36m2.1513\u001b[0m        \u001b[32m2.1301\u001b[0m  2.7904\n",
      "     10        \u001b[36m2.1178\u001b[0m        \u001b[32m2.0932\u001b[0m  2.8324\n",
      "     11        \u001b[36m2.0788\u001b[0m        \u001b[32m2.0500\u001b[0m  2.9538\n",
      "     12        \u001b[36m2.0334\u001b[0m        \u001b[32m1.9995\u001b[0m  2.9503\n",
      "     13        \u001b[36m1.9800\u001b[0m        \u001b[32m1.9407\u001b[0m  2.8773\n",
      "     14        \u001b[36m1.9182\u001b[0m        \u001b[32m1.8729\u001b[0m  2.9393\n",
      "     15        \u001b[36m1.8474\u001b[0m        \u001b[32m1.7962\u001b[0m  2.8998\n",
      "     16        \u001b[36m1.7686\u001b[0m        \u001b[32m1.7115\u001b[0m  2.9105\n",
      "     17        \u001b[36m1.6825\u001b[0m        \u001b[32m1.6206\u001b[0m  2.9450\n",
      "     18        \u001b[36m1.5906\u001b[0m        \u001b[32m1.5262\u001b[0m  2.8944\n",
      "     19        \u001b[36m1.4964\u001b[0m        \u001b[32m1.4316\u001b[0m  2.9594\n",
      "     20        \u001b[36m1.4041\u001b[0m        \u001b[32m1.3401\u001b[0m  2.8995\n"
     ]
    },
    {
     "name": "stderr",
     "output_type": "stream",
     "text": [
      "<ipython-input-9-bb6654121bf9>:51: UserWarning: Implicit dimension choice for log_softmax has been deprecated. Change the call to include dim=X as an argument.\n",
      "  out = self.Last(out)\n"
     ]
    },
    {
     "name": "stdout",
     "output_type": "stream",
     "text": [
      "  epoch    train_loss    valid_loss     dur\n",
      "-------  ------------  ------------  ------\n",
      "      1        \u001b[36m2.3038\u001b[0m        \u001b[32m2.2977\u001b[0m  2.9292\n",
      "      2        \u001b[36m2.2927\u001b[0m        \u001b[32m2.2855\u001b[0m  2.9901\n",
      "      3        \u001b[36m2.2808\u001b[0m        \u001b[32m2.2726\u001b[0m  3.0046\n",
      "      4        \u001b[36m2.2678\u001b[0m        \u001b[32m2.2585\u001b[0m  2.9155\n",
      "      5        \u001b[36m2.2535\u001b[0m        \u001b[32m2.2428\u001b[0m  2.8819\n",
      "      6        \u001b[36m2.2373\u001b[0m        \u001b[32m2.2250\u001b[0m  2.8738\n",
      "      7        \u001b[36m2.2188\u001b[0m        \u001b[32m2.2045\u001b[0m  2.8380\n",
      "      8        \u001b[36m2.1975\u001b[0m        \u001b[32m2.1809\u001b[0m  2.9652\n",
      "      9        \u001b[36m2.1728\u001b[0m        \u001b[32m2.1536\u001b[0m  2.9230\n",
      "     10        \u001b[36m2.1442\u001b[0m        \u001b[32m2.1217\u001b[0m  2.9214\n",
      "     11        \u001b[36m2.1106\u001b[0m        \u001b[32m2.0845\u001b[0m  2.7388\n",
      "     12        \u001b[36m2.0714\u001b[0m        \u001b[32m2.0411\u001b[0m  2.8812\n",
      "     13        \u001b[36m2.0259\u001b[0m        \u001b[32m1.9908\u001b[0m  2.7583\n",
      "     14        \u001b[36m1.9731\u001b[0m        \u001b[32m1.9330\u001b[0m  2.7419\n",
      "     15        \u001b[36m1.9131\u001b[0m        \u001b[32m1.8675\u001b[0m  2.7698\n",
      "     16        \u001b[36m1.8452\u001b[0m        \u001b[32m1.7945\u001b[0m  2.7254\n",
      "     17        \u001b[36m1.7705\u001b[0m        \u001b[32m1.7151\u001b[0m  2.8737\n",
      "     18        \u001b[36m1.6906\u001b[0m        \u001b[32m1.6310\u001b[0m  2.9013\n",
      "     19        \u001b[36m1.6054\u001b[0m        \u001b[32m1.5440\u001b[0m  2.9489\n",
      "     20        \u001b[36m1.5190\u001b[0m        \u001b[32m1.4566\u001b[0m  2.8886\n"
     ]
    },
    {
     "name": "stderr",
     "output_type": "stream",
     "text": [
      "<ipython-input-9-bb6654121bf9>:51: UserWarning: Implicit dimension choice for log_softmax has been deprecated. Change the call to include dim=X as an argument.\n",
      "  out = self.Last(out)\n"
     ]
    },
    {
     "name": "stdout",
     "output_type": "stream",
     "text": [
      "  epoch    train_loss    valid_loss     dur\n",
      "-------  ------------  ------------  ------\n",
      "      1        \u001b[36m2.3035\u001b[0m        \u001b[32m2.2983\u001b[0m  2.9856\n",
      "      2        \u001b[36m2.2947\u001b[0m        \u001b[32m2.2901\u001b[0m  2.9112\n",
      "      3        \u001b[36m2.2869\u001b[0m        \u001b[32m2.2826\u001b[0m  2.9249\n",
      "      4        \u001b[36m2.2798\u001b[0m        \u001b[32m2.2758\u001b[0m  2.9775\n",
      "      5        \u001b[36m2.2732\u001b[0m        \u001b[32m2.2696\u001b[0m  2.8980\n",
      "      6        \u001b[36m2.2672\u001b[0m        \u001b[32m2.2639\u001b[0m  2.8979\n",
      "      7        \u001b[36m2.2617\u001b[0m        \u001b[32m2.2585\u001b[0m  2.8590\n",
      "      8        \u001b[36m2.2563\u001b[0m        \u001b[32m2.2535\u001b[0m  2.8688\n",
      "      9        \u001b[36m2.2515\u001b[0m        \u001b[32m2.2487\u001b[0m  2.8406\n",
      "     10        \u001b[36m2.2466\u001b[0m        \u001b[32m2.2442\u001b[0m  2.9672\n",
      "     11        \u001b[36m2.2420\u001b[0m        \u001b[32m2.2398\u001b[0m  2.9290\n",
      "     12        \u001b[36m2.2376\u001b[0m        \u001b[32m2.2354\u001b[0m  2.9169\n",
      "     13        \u001b[36m2.2330\u001b[0m        \u001b[32m2.2310\u001b[0m  2.8210\n",
      "     14        \u001b[36m2.2284\u001b[0m        \u001b[32m2.2264\u001b[0m  2.8106\n",
      "     15        \u001b[36m2.2238\u001b[0m        \u001b[32m2.2217\u001b[0m  2.8505\n",
      "     16        \u001b[36m2.2187\u001b[0m        \u001b[32m2.2167\u001b[0m  2.6235\n",
      "     17        \u001b[36m2.2136\u001b[0m        \u001b[32m2.2115\u001b[0m  2.6690\n",
      "     18        \u001b[36m2.2081\u001b[0m        \u001b[32m2.2059\u001b[0m  2.6912\n",
      "     19        \u001b[36m2.2021\u001b[0m        \u001b[32m2.1999\u001b[0m  2.6575\n",
      "     20        \u001b[36m2.1958\u001b[0m        \u001b[32m2.1935\u001b[0m  2.6508\n"
     ]
    },
    {
     "name": "stderr",
     "output_type": "stream",
     "text": [
      "<ipython-input-9-bb6654121bf9>:51: UserWarning: Implicit dimension choice for log_softmax has been deprecated. Change the call to include dim=X as an argument.\n",
      "  out = self.Last(out)\n"
     ]
    },
    {
     "name": "stdout",
     "output_type": "stream",
     "text": [
      "  epoch    train_loss    valid_loss     dur\n",
      "-------  ------------  ------------  ------\n",
      "      1        \u001b[36m2.2980\u001b[0m        \u001b[32m2.2936\u001b[0m  2.7340\n",
      "      2        \u001b[36m2.2905\u001b[0m        \u001b[32m2.2864\u001b[0m  2.8179\n",
      "      3        \u001b[36m2.2839\u001b[0m        \u001b[32m2.2802\u001b[0m  2.9071\n",
      "      4        \u001b[36m2.2781\u001b[0m        \u001b[32m2.2744\u001b[0m  2.9867\n",
      "      5        \u001b[36m2.2727\u001b[0m        \u001b[32m2.2690\u001b[0m  2.9697\n",
      "      6        \u001b[36m2.2677\u001b[0m        \u001b[32m2.2639\u001b[0m  2.9753\n",
      "      7        \u001b[36m2.2627\u001b[0m        \u001b[32m2.2591\u001b[0m  3.0067\n",
      "      8        \u001b[36m2.2582\u001b[0m        \u001b[32m2.2546\u001b[0m  2.9045\n",
      "      9        \u001b[36m2.2540\u001b[0m        \u001b[32m2.2503\u001b[0m  2.8565\n",
      "     10        \u001b[36m2.2499\u001b[0m        \u001b[32m2.2461\u001b[0m  2.9024\n",
      "     11        \u001b[36m2.2458\u001b[0m        \u001b[32m2.2420\u001b[0m  2.8764\n",
      "     12        \u001b[36m2.2416\u001b[0m        \u001b[32m2.2378\u001b[0m  2.9416\n",
      "     13        \u001b[36m2.2375\u001b[0m        \u001b[32m2.2335\u001b[0m  2.9329\n",
      "     14        \u001b[36m2.2331\u001b[0m        \u001b[32m2.2290\u001b[0m  2.9327\n",
      "     15        \u001b[36m2.2288\u001b[0m        \u001b[32m2.2244\u001b[0m  2.9015\n",
      "     16        \u001b[36m2.2240\u001b[0m        \u001b[32m2.2196\u001b[0m  2.9635\n",
      "     17        \u001b[36m2.2193\u001b[0m        \u001b[32m2.2145\u001b[0m  3.0007\n",
      "     18        \u001b[36m2.2141\u001b[0m        \u001b[32m2.2092\u001b[0m  2.8817\n",
      "     19        \u001b[36m2.2087\u001b[0m        \u001b[32m2.2036\u001b[0m  2.9217\n",
      "     20        \u001b[36m2.2031\u001b[0m        \u001b[32m2.1977\u001b[0m  2.9415\n"
     ]
    },
    {
     "name": "stderr",
     "output_type": "stream",
     "text": [
      "<ipython-input-9-bb6654121bf9>:51: UserWarning: Implicit dimension choice for log_softmax has been deprecated. Change the call to include dim=X as an argument.\n",
      "  out = self.Last(out)\n"
     ]
    },
    {
     "name": "stdout",
     "output_type": "stream",
     "text": [
      "  epoch    train_loss    valid_loss     dur\n",
      "-------  ------------  ------------  ------\n",
      "      1        \u001b[36m2.3029\u001b[0m        \u001b[32m2.2978\u001b[0m  3.0072\n",
      "      2        \u001b[36m2.2939\u001b[0m        \u001b[32m2.2891\u001b[0m  2.7997\n",
      "      3        \u001b[36m2.2860\u001b[0m        \u001b[32m2.2813\u001b[0m  2.8452\n",
      "      4        \u001b[36m2.2787\u001b[0m        \u001b[32m2.2742\u001b[0m  2.6191\n",
      "      5        \u001b[36m2.2720\u001b[0m        \u001b[32m2.2676\u001b[0m  2.6491\n",
      "      6        \u001b[36m2.2659\u001b[0m        \u001b[32m2.2617\u001b[0m  2.6503\n",
      "      7        \u001b[36m2.2602\u001b[0m        \u001b[32m2.2561\u001b[0m  2.7294\n",
      "      8        \u001b[36m2.2550\u001b[0m        \u001b[32m2.2510\u001b[0m  2.7633\n",
      "      9        \u001b[36m2.2501\u001b[0m        \u001b[32m2.2461\u001b[0m  3.1193\n",
      "     10        \u001b[36m2.2452\u001b[0m        \u001b[32m2.2413\u001b[0m  3.3368\n",
      "     11        \u001b[36m2.2406\u001b[0m        \u001b[32m2.2367\u001b[0m  2.9615\n",
      "     12        \u001b[36m2.2360\u001b[0m        \u001b[32m2.2321\u001b[0m  2.9111\n",
      "     13        \u001b[36m2.2315\u001b[0m        \u001b[32m2.2275\u001b[0m  2.9931\n",
      "     14        \u001b[36m2.2269\u001b[0m        \u001b[32m2.2228\u001b[0m  3.0044\n",
      "     15        \u001b[36m2.2224\u001b[0m        \u001b[32m2.2181\u001b[0m  3.1031\n",
      "     16        \u001b[36m2.2175\u001b[0m        \u001b[32m2.2131\u001b[0m  3.0336\n",
      "     17        \u001b[36m2.2126\u001b[0m        \u001b[32m2.2080\u001b[0m  2.9340\n",
      "     18        \u001b[36m2.2074\u001b[0m        \u001b[32m2.2025\u001b[0m  2.9639\n",
      "     19        \u001b[36m2.2019\u001b[0m        \u001b[32m2.1968\u001b[0m  2.9218\n",
      "     20        \u001b[36m2.1963\u001b[0m        \u001b[32m2.1907\u001b[0m  3.0376\n"
     ]
    },
    {
     "name": "stderr",
     "output_type": "stream",
     "text": [
      "<ipython-input-9-bb6654121bf9>:51: UserWarning: Implicit dimension choice for log_softmax has been deprecated. Change the call to include dim=X as an argument.\n",
      "  out = self.Last(out)\n"
     ]
    },
    {
     "name": "stdout",
     "output_type": "stream",
     "text": [
      "  epoch    train_loss    valid_loss     dur\n",
      "-------  ------------  ------------  ------\n",
      "      1        \u001b[36m2.3004\u001b[0m        \u001b[32m2.2955\u001b[0m  2.9951\n",
      "      2        \u001b[36m2.2914\u001b[0m        \u001b[32m2.2870\u001b[0m  2.9081\n",
      "      3        \u001b[36m2.2836\u001b[0m        \u001b[32m2.2794\u001b[0m  2.9403\n",
      "      4        \u001b[36m2.2766\u001b[0m        \u001b[32m2.2725\u001b[0m  2.9198\n",
      "      5        \u001b[36m2.2701\u001b[0m        \u001b[32m2.2662\u001b[0m  2.9559\n",
      "      6        \u001b[36m2.2641\u001b[0m        \u001b[32m2.2602\u001b[0m  3.0317\n",
      "      7        \u001b[36m2.2587\u001b[0m        \u001b[32m2.2546\u001b[0m  2.8910\n",
      "      8        \u001b[36m2.2531\u001b[0m        \u001b[32m2.2491\u001b[0m  2.9009\n",
      "      9        \u001b[36m2.2479\u001b[0m        \u001b[32m2.2437\u001b[0m  2.9000\n",
      "     10        \u001b[36m2.2425\u001b[0m        \u001b[32m2.2382\u001b[0m  2.8375\n",
      "     11        \u001b[36m2.2372\u001b[0m        \u001b[32m2.2328\u001b[0m  2.7175\n",
      "     12        \u001b[36m2.2319\u001b[0m        \u001b[32m2.2272\u001b[0m  2.7089\n",
      "     13        \u001b[36m2.2263\u001b[0m        \u001b[32m2.2214\u001b[0m  2.7093\n",
      "     14        \u001b[36m2.2205\u001b[0m        \u001b[32m2.2154\u001b[0m  2.7476\n",
      "     15        \u001b[36m2.2144\u001b[0m        \u001b[32m2.2091\u001b[0m  2.6602\n",
      "     16        \u001b[36m2.2082\u001b[0m        \u001b[32m2.2024\u001b[0m  2.6488\n",
      "     17        \u001b[36m2.2014\u001b[0m        \u001b[32m2.1952\u001b[0m  2.6564\n",
      "     18        \u001b[36m2.1941\u001b[0m        \u001b[32m2.1876\u001b[0m  2.6877\n",
      "     19        \u001b[36m2.1863\u001b[0m        \u001b[32m2.1793\u001b[0m  2.7546\n",
      "     20        \u001b[36m2.1779\u001b[0m        \u001b[32m2.1704\u001b[0m  2.8569\n"
     ]
    },
    {
     "name": "stderr",
     "output_type": "stream",
     "text": [
      "<ipython-input-9-bb6654121bf9>:51: UserWarning: Implicit dimension choice for log_softmax has been deprecated. Change the call to include dim=X as an argument.\n",
      "  out = self.Last(out)\n"
     ]
    },
    {
     "name": "stdout",
     "output_type": "stream",
     "text": [
      "  epoch    train_loss    valid_loss     dur\n",
      "-------  ------------  ------------  ------\n",
      "      1        \u001b[36m2.3024\u001b[0m        \u001b[32m2.2968\u001b[0m  2.9166\n",
      "      2        \u001b[36m2.2938\u001b[0m        \u001b[32m2.2890\u001b[0m  3.0009\n",
      "      3        \u001b[36m2.2870\u001b[0m        \u001b[32m2.2825\u001b[0m  2.9742\n",
      "      4        \u001b[36m2.2810\u001b[0m        \u001b[32m2.2767\u001b[0m  2.9765\n",
      "      5        \u001b[36m2.2754\u001b[0m        \u001b[32m2.2713\u001b[0m  2.9946\n",
      "      6        \u001b[36m2.2704\u001b[0m        \u001b[32m2.2662\u001b[0m  2.9304\n",
      "      7        \u001b[36m2.2655\u001b[0m        \u001b[32m2.2614\u001b[0m  2.9532\n",
      "      8        \u001b[36m2.2608\u001b[0m        \u001b[32m2.2568\u001b[0m  2.9191\n",
      "      9        \u001b[36m2.2563\u001b[0m        \u001b[32m2.2523\u001b[0m  2.9580\n",
      "     10        \u001b[36m2.2519\u001b[0m        \u001b[32m2.2479\u001b[0m  2.9047\n",
      "     11        \u001b[36m2.2477\u001b[0m        \u001b[32m2.2437\u001b[0m  2.9232\n",
      "     12        \u001b[36m2.2437\u001b[0m        \u001b[32m2.2397\u001b[0m  2.8822\n",
      "     13        \u001b[36m2.2397\u001b[0m        \u001b[32m2.2357\u001b[0m  2.9337\n",
      "     14        \u001b[36m2.2358\u001b[0m        \u001b[32m2.2318\u001b[0m  2.9297\n",
      "     15        \u001b[36m2.2317\u001b[0m        \u001b[32m2.2277\u001b[0m  2.9352\n",
      "     16        \u001b[36m2.2277\u001b[0m        \u001b[32m2.2236\u001b[0m  2.9335\n",
      "     17        \u001b[36m2.2236\u001b[0m        \u001b[32m2.2193\u001b[0m  2.8557\n",
      "     18        \u001b[36m2.2194\u001b[0m        \u001b[32m2.2149\u001b[0m  2.8929\n",
      "     19        \u001b[36m2.2150\u001b[0m        \u001b[32m2.2103\u001b[0m  2.7051\n",
      "     20        \u001b[36m2.2103\u001b[0m        \u001b[32m2.2054\u001b[0m  2.9216\n"
     ]
    },
    {
     "name": "stderr",
     "output_type": "stream",
     "text": [
      "<ipython-input-9-bb6654121bf9>:51: UserWarning: Implicit dimension choice for log_softmax has been deprecated. Change the call to include dim=X as an argument.\n",
      "  out = self.Last(out)\n"
     ]
    },
    {
     "name": "stdout",
     "output_type": "stream",
     "text": [
      "  epoch    train_loss    valid_loss     dur\n",
      "-------  ------------  ------------  ------\n",
      "      1        \u001b[36m2.2961\u001b[0m        \u001b[32m2.2905\u001b[0m  1.7463\n",
      "      2        \u001b[36m2.2863\u001b[0m        \u001b[32m2.2803\u001b[0m  1.7828\n",
      "      3        \u001b[36m2.2756\u001b[0m        \u001b[32m2.2692\u001b[0m  1.7396\n",
      "      4        \u001b[36m2.2637\u001b[0m        \u001b[32m2.2565\u001b[0m  1.7869\n",
      "      5        \u001b[36m2.2504\u001b[0m        \u001b[32m2.2420\u001b[0m  1.7505\n",
      "      6        \u001b[36m2.2348\u001b[0m        \u001b[32m2.2252\u001b[0m  1.7834\n",
      "      7        \u001b[36m2.2166\u001b[0m        \u001b[32m2.2056\u001b[0m  1.7958\n",
      "      8        \u001b[36m2.1953\u001b[0m        \u001b[32m2.1827\u001b[0m  1.8703\n",
      "      9        \u001b[36m2.1703\u001b[0m        \u001b[32m2.1558\u001b[0m  1.8112\n",
      "     10        \u001b[36m2.1411\u001b[0m        \u001b[32m2.1242\u001b[0m  1.8757\n",
      "     11        \u001b[36m2.1066\u001b[0m        \u001b[32m2.0873\u001b[0m  2.0097\n",
      "     12        \u001b[36m2.0668\u001b[0m        \u001b[32m2.0445\u001b[0m  2.0500\n",
      "     13        \u001b[36m2.0208\u001b[0m        \u001b[32m1.9952\u001b[0m  1.8919\n",
      "     14        \u001b[36m1.9676\u001b[0m        \u001b[32m1.9388\u001b[0m  1.8842\n",
      "     15        \u001b[36m1.9074\u001b[0m        \u001b[32m1.8751\u001b[0m  1.8617\n",
      "     16        \u001b[36m1.8404\u001b[0m        \u001b[32m1.8040\u001b[0m  1.9017\n",
      "     17        \u001b[36m1.7652\u001b[0m        \u001b[32m1.7257\u001b[0m  1.8632\n",
      "     18        \u001b[36m1.6839\u001b[0m        \u001b[32m1.6411\u001b[0m  1.8197\n",
      "     19        \u001b[36m1.5960\u001b[0m        \u001b[32m1.5514\u001b[0m  1.8405\n",
      "     20        \u001b[36m1.5046\u001b[0m        \u001b[32m1.4590\u001b[0m  1.9226\n"
     ]
    },
    {
     "name": "stderr",
     "output_type": "stream",
     "text": [
      "<ipython-input-9-bb6654121bf9>:51: UserWarning: Implicit dimension choice for log_softmax has been deprecated. Change the call to include dim=X as an argument.\n",
      "  out = self.Last(out)\n"
     ]
    },
    {
     "name": "stdout",
     "output_type": "stream",
     "text": [
      "  epoch    train_loss    valid_loss     dur\n",
      "-------  ------------  ------------  ------\n",
      "      1        \u001b[36m2.3035\u001b[0m        \u001b[32m2.2984\u001b[0m  1.9115\n",
      "      2        \u001b[36m2.2946\u001b[0m        \u001b[32m2.2893\u001b[0m  1.8380\n",
      "      3        \u001b[36m2.2857\u001b[0m        \u001b[32m2.2799\u001b[0m  1.9088\n",
      "      4        \u001b[36m2.2763\u001b[0m        \u001b[32m2.2698\u001b[0m  1.9832\n",
      "      5        \u001b[36m2.2660\u001b[0m        \u001b[32m2.2584\u001b[0m  1.8935\n",
      "      6        \u001b[36m2.2541\u001b[0m        \u001b[32m2.2451\u001b[0m  1.8605\n",
      "      7        \u001b[36m2.2403\u001b[0m        \u001b[32m2.2295\u001b[0m  1.8924\n",
      "      8        \u001b[36m2.2237\u001b[0m        \u001b[32m2.2108\u001b[0m  1.8913\n",
      "      9        \u001b[36m2.2041\u001b[0m        \u001b[32m2.1886\u001b[0m  1.8394\n",
      "     10        \u001b[36m2.1806\u001b[0m        \u001b[32m2.1621\u001b[0m  1.8114\n",
      "     11        \u001b[36m2.1526\u001b[0m        \u001b[32m2.1305\u001b[0m  1.8212\n",
      "     12        \u001b[36m2.1193\u001b[0m        \u001b[32m2.0929\u001b[0m  1.8719\n",
      "     13        \u001b[36m2.0795\u001b[0m        \u001b[32m2.0482\u001b[0m  1.8645\n",
      "     14        \u001b[36m2.0326\u001b[0m        \u001b[32m1.9959\u001b[0m  1.7745\n",
      "     15        \u001b[36m1.9776\u001b[0m        \u001b[32m1.9353\u001b[0m  1.7611\n",
      "     16        \u001b[36m1.9141\u001b[0m        \u001b[32m1.8663\u001b[0m  1.6887\n",
      "     17        \u001b[36m1.8428\u001b[0m        \u001b[32m1.7894\u001b[0m  1.6015\n",
      "     18        \u001b[36m1.7642\u001b[0m        \u001b[32m1.7058\u001b[0m  1.6781\n",
      "     19        \u001b[36m1.6787\u001b[0m        \u001b[32m1.6170\u001b[0m  1.6130\n",
      "     20        \u001b[36m1.5897\u001b[0m        \u001b[32m1.5253\u001b[0m  1.6819\n"
     ]
    },
    {
     "name": "stderr",
     "output_type": "stream",
     "text": [
      "<ipython-input-9-bb6654121bf9>:51: UserWarning: Implicit dimension choice for log_softmax has been deprecated. Change the call to include dim=X as an argument.\n",
      "  out = self.Last(out)\n"
     ]
    },
    {
     "name": "stdout",
     "output_type": "stream",
     "text": [
      "  epoch    train_loss    valid_loss     dur\n",
      "-------  ------------  ------------  ------\n",
      "      1        \u001b[36m2.2987\u001b[0m        \u001b[32m2.2944\u001b[0m  1.6768\n",
      "      2        \u001b[36m2.2904\u001b[0m        \u001b[32m2.2856\u001b[0m  1.6888\n",
      "      3        \u001b[36m2.2818\u001b[0m        \u001b[32m2.2764\u001b[0m  1.6506\n",
      "      4        \u001b[36m2.2726\u001b[0m        \u001b[32m2.2664\u001b[0m  1.7574\n",
      "      5        \u001b[36m2.2623\u001b[0m        \u001b[32m2.2552\u001b[0m  1.7111\n",
      "      6        \u001b[36m2.2507\u001b[0m        \u001b[32m2.2426\u001b[0m  1.7921\n",
      "      7        \u001b[36m2.2375\u001b[0m        \u001b[32m2.2280\u001b[0m  1.7872\n",
      "      8        \u001b[36m2.2224\u001b[0m        \u001b[32m2.2113\u001b[0m  1.8191\n",
      "      9        \u001b[36m2.2049\u001b[0m        \u001b[32m2.1917\u001b[0m  1.8880\n",
      "     10        \u001b[36m2.1841\u001b[0m        \u001b[32m2.1687\u001b[0m  1.9156\n",
      "     11        \u001b[36m2.1598\u001b[0m        \u001b[32m2.1414\u001b[0m  1.8721\n",
      "     12        \u001b[36m2.1308\u001b[0m        \u001b[32m2.1089\u001b[0m  1.8413\n",
      "     13        \u001b[36m2.0961\u001b[0m        \u001b[32m2.0700\u001b[0m  1.8721\n",
      "     14        \u001b[36m2.0545\u001b[0m        \u001b[32m2.0236\u001b[0m  1.8630\n",
      "     15        \u001b[36m2.0059\u001b[0m        \u001b[32m1.9689\u001b[0m  1.8201\n",
      "     16        \u001b[36m1.9477\u001b[0m        \u001b[32m1.9049\u001b[0m  1.8595\n",
      "     17        \u001b[36m1.8810\u001b[0m        \u001b[32m1.8315\u001b[0m  1.8935\n",
      "     18        \u001b[36m1.8050\u001b[0m        \u001b[32m1.7492\u001b[0m  1.8813\n",
      "     19        \u001b[36m1.7199\u001b[0m        \u001b[32m1.6591\u001b[0m  1.8692\n",
      "     20        \u001b[36m1.6287\u001b[0m        \u001b[32m1.5635\u001b[0m  1.8749\n"
     ]
    },
    {
     "name": "stderr",
     "output_type": "stream",
     "text": [
      "<ipython-input-9-bb6654121bf9>:51: UserWarning: Implicit dimension choice for log_softmax has been deprecated. Change the call to include dim=X as an argument.\n",
      "  out = self.Last(out)\n"
     ]
    },
    {
     "name": "stdout",
     "output_type": "stream",
     "text": [
      "  epoch    train_loss    valid_loss     dur\n",
      "-------  ------------  ------------  ------\n",
      "      1        \u001b[36m2.3019\u001b[0m        \u001b[32m2.2972\u001b[0m  1.8891\n",
      "      2        \u001b[36m2.2931\u001b[0m        \u001b[32m2.2882\u001b[0m  1.9033\n",
      "      3        \u001b[36m2.2842\u001b[0m        \u001b[32m2.2787\u001b[0m  1.8498\n",
      "      4        \u001b[36m2.2745\u001b[0m        \u001b[32m2.2682\u001b[0m  1.8390\n",
      "      5        \u001b[36m2.2637\u001b[0m        \u001b[32m2.2562\u001b[0m  1.8458\n",
      "      6        \u001b[36m2.2510\u001b[0m        \u001b[32m2.2423\u001b[0m  1.9069\n",
      "      7        \u001b[36m2.2363\u001b[0m        \u001b[32m2.2257\u001b[0m  1.8582\n",
      "      8        \u001b[36m2.2187\u001b[0m        \u001b[32m2.2059\u001b[0m  1.8326\n",
      "      9        \u001b[36m2.1981\u001b[0m        \u001b[32m2.1824\u001b[0m  1.8089\n",
      "     10        \u001b[36m2.1732\u001b[0m        \u001b[32m2.1544\u001b[0m  1.7965\n",
      "     11        \u001b[36m2.1431\u001b[0m        \u001b[32m2.1211\u001b[0m  1.7803\n",
      "     12        \u001b[36m2.1080\u001b[0m        \u001b[32m2.0820\u001b[0m  1.7927\n",
      "     13        \u001b[36m2.0671\u001b[0m        \u001b[32m2.0361\u001b[0m  1.7963\n",
      "     14        \u001b[36m2.0185\u001b[0m        \u001b[32m1.9826\u001b[0m  1.6942\n",
      "     15        \u001b[36m1.9625\u001b[0m        \u001b[32m1.9211\u001b[0m  1.7018\n",
      "     16        \u001b[36m1.8986\u001b[0m        \u001b[32m1.8512\u001b[0m  1.6898\n",
      "     17        \u001b[36m1.8263\u001b[0m        \u001b[32m1.7732\u001b[0m  1.7388\n",
      "     18        \u001b[36m1.7455\u001b[0m        \u001b[32m1.6879\u001b[0m  1.6876\n",
      "     19        \u001b[36m1.6583\u001b[0m        \u001b[32m1.5969\u001b[0m  1.6887\n",
      "     20        \u001b[36m1.5676\u001b[0m        \u001b[32m1.5029\u001b[0m  1.6761\n"
     ]
    },
    {
     "name": "stderr",
     "output_type": "stream",
     "text": [
      "<ipython-input-9-bb6654121bf9>:51: UserWarning: Implicit dimension choice for log_softmax has been deprecated. Change the call to include dim=X as an argument.\n",
      "  out = self.Last(out)\n"
     ]
    },
    {
     "name": "stdout",
     "output_type": "stream",
     "text": [
      "  epoch    train_loss    valid_loss     dur\n",
      "-------  ------------  ------------  ------\n",
      "      1        \u001b[36m2.2985\u001b[0m        \u001b[32m2.2935\u001b[0m  1.7299\n",
      "      2        \u001b[36m2.2887\u001b[0m        \u001b[32m2.2828\u001b[0m  1.7171\n",
      "      3        \u001b[36m2.2782\u001b[0m        \u001b[32m2.2712\u001b[0m  1.7770\n",
      "      4        \u001b[36m2.2665\u001b[0m        \u001b[32m2.2581\u001b[0m  1.7709\n",
      "      5        \u001b[36m2.2533\u001b[0m        \u001b[32m2.2431\u001b[0m  1.7762\n",
      "      6        \u001b[36m2.2378\u001b[0m        \u001b[32m2.2258\u001b[0m  1.8191\n",
      "      7        \u001b[36m2.2203\u001b[0m        \u001b[32m2.2056\u001b[0m  1.8673\n",
      "      8        \u001b[36m2.1993\u001b[0m        \u001b[32m2.1820\u001b[0m  1.8801\n",
      "      9        \u001b[36m2.1747\u001b[0m        \u001b[32m2.1541\u001b[0m  1.9104\n",
      "     10        \u001b[36m2.1455\u001b[0m        \u001b[32m2.1209\u001b[0m  1.9222\n",
      "     11        \u001b[36m2.1109\u001b[0m        \u001b[32m2.0813\u001b[0m  1.8708\n",
      "     12        \u001b[36m2.0695\u001b[0m        \u001b[32m2.0344\u001b[0m  1.8367\n",
      "     13        \u001b[36m2.0204\u001b[0m        \u001b[32m1.9789\u001b[0m  1.9630\n",
      "     14        \u001b[36m1.9622\u001b[0m        \u001b[32m1.9140\u001b[0m  1.8947\n",
      "     15        \u001b[36m1.8952\u001b[0m        \u001b[32m1.8398\u001b[0m  1.8631\n",
      "     16        \u001b[36m1.8188\u001b[0m        \u001b[32m1.7568\u001b[0m  1.8193\n",
      "     17        \u001b[36m1.7349\u001b[0m        \u001b[32m1.6670\u001b[0m  1.8417\n",
      "     18        \u001b[36m1.6457\u001b[0m        \u001b[32m1.5733\u001b[0m  1.8800\n",
      "     19        \u001b[36m1.5533\u001b[0m        \u001b[32m1.4789\u001b[0m  1.7747\n",
      "     20        \u001b[36m1.4618\u001b[0m        \u001b[32m1.3872\u001b[0m  1.8002\n"
     ]
    },
    {
     "name": "stderr",
     "output_type": "stream",
     "text": [
      "<ipython-input-9-bb6654121bf9>:51: UserWarning: Implicit dimension choice for log_softmax has been deprecated. Change the call to include dim=X as an argument.\n",
      "  out = self.Last(out)\n"
     ]
    },
    {
     "name": "stdout",
     "output_type": "stream",
     "text": [
      "  epoch    train_loss    valid_loss     dur\n",
      "-------  ------------  ------------  ------\n",
      "      1        \u001b[36m2.2995\u001b[0m        \u001b[32m2.2965\u001b[0m  1.8817\n",
      "      2        \u001b[36m2.2937\u001b[0m        \u001b[32m2.2912\u001b[0m  1.9022\n",
      "      3        \u001b[36m2.2889\u001b[0m        \u001b[32m2.2866\u001b[0m  1.8645\n",
      "      4        \u001b[36m2.2846\u001b[0m        \u001b[32m2.2824\u001b[0m  1.8601\n",
      "      5        \u001b[36m2.2806\u001b[0m        \u001b[32m2.2786\u001b[0m  1.8607\n",
      "      6        \u001b[36m2.2770\u001b[0m        \u001b[32m2.2749\u001b[0m  1.9220\n",
      "      7        \u001b[36m2.2735\u001b[0m        \u001b[32m2.2715\u001b[0m  1.8902\n",
      "      8        \u001b[36m2.2701\u001b[0m        \u001b[32m2.2682\u001b[0m  1.8691\n",
      "      9        \u001b[36m2.2670\u001b[0m        \u001b[32m2.2650\u001b[0m  1.8271\n",
      "     10        \u001b[36m2.2638\u001b[0m        \u001b[32m2.2620\u001b[0m  1.7446\n",
      "     11        \u001b[36m2.2608\u001b[0m        \u001b[32m2.2590\u001b[0m  1.7502\n",
      "     12        \u001b[36m2.2579\u001b[0m        \u001b[32m2.2562\u001b[0m  1.6911\n",
      "     13        \u001b[36m2.2552\u001b[0m        \u001b[32m2.2534\u001b[0m  1.6493\n",
      "     14        \u001b[36m2.2525\u001b[0m        \u001b[32m2.2506\u001b[0m  1.6875\n",
      "     15        \u001b[36m2.2497\u001b[0m        \u001b[32m2.2479\u001b[0m  1.7107\n",
      "     16        \u001b[36m2.2470\u001b[0m        \u001b[32m2.2452\u001b[0m  1.6887\n",
      "     17        \u001b[36m2.2443\u001b[0m        \u001b[32m2.2424\u001b[0m  1.6718\n",
      "     18        \u001b[36m2.2414\u001b[0m        \u001b[32m2.2396\u001b[0m  1.7280\n",
      "     19        \u001b[36m2.2385\u001b[0m        \u001b[32m2.2367\u001b[0m  1.6472\n",
      "     20        \u001b[36m2.2356\u001b[0m        \u001b[32m2.2337\u001b[0m  1.6987\n"
     ]
    },
    {
     "name": "stderr",
     "output_type": "stream",
     "text": [
      "<ipython-input-9-bb6654121bf9>:51: UserWarning: Implicit dimension choice for log_softmax has been deprecated. Change the call to include dim=X as an argument.\n",
      "  out = self.Last(out)\n"
     ]
    },
    {
     "name": "stdout",
     "output_type": "stream",
     "text": [
      "  epoch    train_loss    valid_loss     dur\n",
      "-------  ------------  ------------  ------\n",
      "      1        \u001b[36m2.2993\u001b[0m        \u001b[32m2.2941\u001b[0m  1.7297\n",
      "      2        \u001b[36m2.2909\u001b[0m        \u001b[32m2.2863\u001b[0m  1.7242\n",
      "      3        \u001b[36m2.2840\u001b[0m        \u001b[32m2.2798\u001b[0m  1.8560\n",
      "      4        \u001b[36m2.2782\u001b[0m        \u001b[32m2.2743\u001b[0m  1.8290\n",
      "      5        \u001b[36m2.2732\u001b[0m        \u001b[32m2.2694\u001b[0m  1.8055\n",
      "      6        \u001b[36m2.2686\u001b[0m        \u001b[32m2.2651\u001b[0m  1.8828\n",
      "      7        \u001b[36m2.2646\u001b[0m        \u001b[32m2.2610\u001b[0m  1.8705\n",
      "      8        \u001b[36m2.2607\u001b[0m        \u001b[32m2.2572\u001b[0m  1.9085\n",
      "      9        \u001b[36m2.2569\u001b[0m        \u001b[32m2.2535\u001b[0m  1.8469\n",
      "     10        \u001b[36m2.2534\u001b[0m        \u001b[32m2.2499\u001b[0m  1.8995\n",
      "     11        \u001b[36m2.2498\u001b[0m        \u001b[32m2.2464\u001b[0m  1.8604\n",
      "     12        \u001b[36m2.2464\u001b[0m        \u001b[32m2.2429\u001b[0m  1.8928\n",
      "     13        \u001b[36m2.2429\u001b[0m        \u001b[32m2.2394\u001b[0m  1.8258\n",
      "     14        \u001b[36m2.2396\u001b[0m        \u001b[32m2.2358\u001b[0m  1.8805\n",
      "     15        \u001b[36m2.2361\u001b[0m        \u001b[32m2.2322\u001b[0m  1.8802\n",
      "     16        \u001b[36m2.2324\u001b[0m        \u001b[32m2.2285\u001b[0m  1.8682\n",
      "     17        \u001b[36m2.2287\u001b[0m        \u001b[32m2.2246\u001b[0m  1.8483\n",
      "     18        \u001b[36m2.2249\u001b[0m        \u001b[32m2.2206\u001b[0m  1.8203\n",
      "     19        \u001b[36m2.2208\u001b[0m        \u001b[32m2.2163\u001b[0m  1.9127\n",
      "     20        \u001b[36m2.2165\u001b[0m        \u001b[32m2.2118\u001b[0m  1.8420\n"
     ]
    },
    {
     "name": "stderr",
     "output_type": "stream",
     "text": [
      "<ipython-input-9-bb6654121bf9>:51: UserWarning: Implicit dimension choice for log_softmax has been deprecated. Change the call to include dim=X as an argument.\n",
      "  out = self.Last(out)\n"
     ]
    },
    {
     "name": "stdout",
     "output_type": "stream",
     "text": [
      "  epoch    train_loss    valid_loss     dur\n",
      "-------  ------------  ------------  ------\n",
      "      1        \u001b[36m2.3010\u001b[0m        \u001b[32m2.2966\u001b[0m  1.8790\n",
      "      2        \u001b[36m2.2931\u001b[0m        \u001b[32m2.2891\u001b[0m  1.9379\n",
      "      3        \u001b[36m2.2864\u001b[0m        \u001b[32m2.2826\u001b[0m  1.8800\n",
      "      4        \u001b[36m2.2803\u001b[0m        \u001b[32m2.2766\u001b[0m  1.8385\n",
      "      5        \u001b[36m2.2748\u001b[0m        \u001b[32m2.2710\u001b[0m  1.7751\n",
      "      6        \u001b[36m2.2696\u001b[0m        \u001b[32m2.2657\u001b[0m  1.7730\n",
      "      7        \u001b[36m2.2645\u001b[0m        \u001b[32m2.2606\u001b[0m  1.6564\n",
      "      8        \u001b[36m2.2596\u001b[0m        \u001b[32m2.2556\u001b[0m  1.6772\n",
      "      9        \u001b[36m2.2549\u001b[0m        \u001b[32m2.2506\u001b[0m  1.6453\n",
      "     10        \u001b[36m2.2500\u001b[0m        \u001b[32m2.2457\u001b[0m  1.6062\n",
      "     11        \u001b[36m2.2453\u001b[0m        \u001b[32m2.2407\u001b[0m  1.7172\n",
      "     12        \u001b[36m2.2404\u001b[0m        \u001b[32m2.2357\u001b[0m  1.6982\n",
      "     13        \u001b[36m2.2354\u001b[0m        \u001b[32m2.2305\u001b[0m  1.6882\n",
      "     14        \u001b[36m2.2303\u001b[0m        \u001b[32m2.2252\u001b[0m  1.7584\n",
      "     15        \u001b[36m2.2250\u001b[0m        \u001b[32m2.2197\u001b[0m  1.7682\n",
      "     16        \u001b[36m2.2196\u001b[0m        \u001b[32m2.2139\u001b[0m  1.8115\n",
      "     17        \u001b[36m2.2137\u001b[0m        \u001b[32m2.2079\u001b[0m  1.9017\n",
      "     18        \u001b[36m2.2078\u001b[0m        \u001b[32m2.2015\u001b[0m  1.8338\n",
      "     19        \u001b[36m2.2013\u001b[0m        \u001b[32m2.1948\u001b[0m  1.8189\n",
      "     20        \u001b[36m2.1945\u001b[0m        \u001b[32m2.1876\u001b[0m  1.8650\n"
     ]
    },
    {
     "name": "stderr",
     "output_type": "stream",
     "text": [
      "<ipython-input-9-bb6654121bf9>:51: UserWarning: Implicit dimension choice for log_softmax has been deprecated. Change the call to include dim=X as an argument.\n",
      "  out = self.Last(out)\n"
     ]
    },
    {
     "name": "stdout",
     "output_type": "stream",
     "text": [
      "  epoch    train_loss    valid_loss     dur\n",
      "-------  ------------  ------------  ------\n",
      "      1        \u001b[36m2.3015\u001b[0m        \u001b[32m2.2967\u001b[0m  1.8506\n",
      "      2        \u001b[36m2.2931\u001b[0m        \u001b[32m2.2890\u001b[0m  1.8616\n",
      "      3        \u001b[36m2.2863\u001b[0m        \u001b[32m2.2824\u001b[0m  1.9623\n",
      "      4        \u001b[36m2.2802\u001b[0m        \u001b[32m2.2765\u001b[0m  1.9189\n",
      "      5        \u001b[36m2.2749\u001b[0m        \u001b[32m2.2711\u001b[0m  1.9001\n",
      "      6        \u001b[36m2.2698\u001b[0m        \u001b[32m2.2660\u001b[0m  1.8841\n",
      "      7        \u001b[36m2.2650\u001b[0m        \u001b[32m2.2610\u001b[0m  1.9218\n",
      "      8        \u001b[36m2.2604\u001b[0m        \u001b[32m2.2562\u001b[0m  1.8393\n",
      "      9        \u001b[36m2.2556\u001b[0m        \u001b[32m2.2514\u001b[0m  1.8873\n",
      "     10        \u001b[36m2.2511\u001b[0m        \u001b[32m2.2466\u001b[0m  1.8732\n",
      "     11        \u001b[36m2.2465\u001b[0m        \u001b[32m2.2418\u001b[0m  1.8931\n",
      "     12        \u001b[36m2.2418\u001b[0m        \u001b[32m2.2369\u001b[0m  1.8376\n",
      "     13        \u001b[36m2.2371\u001b[0m        \u001b[32m2.2319\u001b[0m  1.9109\n",
      "     14        \u001b[36m2.2321\u001b[0m        \u001b[32m2.2269\u001b[0m  1.8492\n",
      "     15        \u001b[36m2.2271\u001b[0m        \u001b[32m2.2216\u001b[0m  1.8206\n",
      "     16        \u001b[36m2.2219\u001b[0m        \u001b[32m2.2162\u001b[0m  1.7913\n",
      "     17        \u001b[36m2.2165\u001b[0m        \u001b[32m2.2105\u001b[0m  1.7156\n",
      "     18        \u001b[36m2.2110\u001b[0m        \u001b[32m2.2045\u001b[0m  1.7104\n",
      "     19        \u001b[36m2.2049\u001b[0m        \u001b[32m2.1982\u001b[0m  1.6582\n",
      "     20        \u001b[36m2.1984\u001b[0m        \u001b[32m2.1914\u001b[0m  1.6675\n"
     ]
    },
    {
     "name": "stderr",
     "output_type": "stream",
     "text": [
      "<ipython-input-9-bb6654121bf9>:51: UserWarning: Implicit dimension choice for log_softmax has been deprecated. Change the call to include dim=X as an argument.\n",
      "  out = self.Last(out)\n"
     ]
    },
    {
     "name": "stdout",
     "output_type": "stream",
     "text": [
      "  epoch    train_loss    valid_loss     dur\n",
      "-------  ------------  ------------  ------\n",
      "      1        \u001b[36m2.2982\u001b[0m        \u001b[32m2.2946\u001b[0m  1.6808\n",
      "      2        \u001b[36m2.2905\u001b[0m        \u001b[32m2.2870\u001b[0m  1.6301\n",
      "      3        \u001b[36m2.2836\u001b[0m        \u001b[32m2.2802\u001b[0m  1.7078\n",
      "      4        \u001b[36m2.2775\u001b[0m        \u001b[32m2.2740\u001b[0m  1.7851\n",
      "      5        \u001b[36m2.2717\u001b[0m        \u001b[32m2.2682\u001b[0m  1.6599\n",
      "      6        \u001b[36m2.2663\u001b[0m        \u001b[32m2.2625\u001b[0m  1.7060\n",
      "      7        \u001b[36m2.2609\u001b[0m        \u001b[32m2.2570\u001b[0m  1.7144\n",
      "      8        \u001b[36m2.2557\u001b[0m        \u001b[32m2.2515\u001b[0m  1.7730\n",
      "      9        \u001b[36m2.2503\u001b[0m        \u001b[32m2.2460\u001b[0m  1.8131\n",
      "     10        \u001b[36m2.2450\u001b[0m        \u001b[32m2.2405\u001b[0m  1.7674\n",
      "     11        \u001b[36m2.2395\u001b[0m        \u001b[32m2.2347\u001b[0m  1.8268\n",
      "     12        \u001b[36m2.2340\u001b[0m        \u001b[32m2.2288\u001b[0m  1.8371\n",
      "     13        \u001b[36m2.2282\u001b[0m        \u001b[32m2.2227\u001b[0m  1.8941\n",
      "     14        \u001b[36m2.2220\u001b[0m        \u001b[32m2.2162\u001b[0m  1.8415\n",
      "     15        \u001b[36m2.2158\u001b[0m        \u001b[32m2.2095\u001b[0m  1.8585\n",
      "     16        \u001b[36m2.2090\u001b[0m        \u001b[32m2.2023\u001b[0m  1.8842\n",
      "     17        \u001b[36m2.2018\u001b[0m        \u001b[32m2.1947\u001b[0m  1.8488\n",
      "     18        \u001b[36m2.1942\u001b[0m        \u001b[32m2.1866\u001b[0m  1.8291\n",
      "     19        \u001b[36m2.1860\u001b[0m        \u001b[32m2.1781\u001b[0m  1.8432\n",
      "     20        \u001b[36m2.1775\u001b[0m        \u001b[32m2.1690\u001b[0m  1.9180\n"
     ]
    },
    {
     "name": "stderr",
     "output_type": "stream",
     "text": [
      "<ipython-input-9-bb6654121bf9>:51: UserWarning: Implicit dimension choice for log_softmax has been deprecated. Change the call to include dim=X as an argument.\n",
      "  out = self.Last(out)\n"
     ]
    },
    {
     "name": "stdout",
     "output_type": "stream",
     "text": [
      "  epoch    train_loss    valid_loss     dur\n",
      "-------  ------------  ------------  ------\n",
      "      1        \u001b[36m2.3015\u001b[0m        \u001b[32m2.2968\u001b[0m  1.6590\n",
      "      2        \u001b[36m2.2934\u001b[0m        \u001b[32m2.2883\u001b[0m  1.5907\n",
      "      3        \u001b[36m2.2846\u001b[0m        \u001b[32m2.2793\u001b[0m  1.6674\n",
      "      4        \u001b[36m2.2753\u001b[0m        \u001b[32m2.2695\u001b[0m  1.6797\n",
      "      5        \u001b[36m2.2651\u001b[0m        \u001b[32m2.2587\u001b[0m  1.6538\n",
      "      6        \u001b[36m2.2536\u001b[0m        \u001b[32m2.2463\u001b[0m  1.6983\n",
      "      7        \u001b[36m2.2403\u001b[0m        \u001b[32m2.2320\u001b[0m  1.6611\n",
      "      8        \u001b[36m2.2250\u001b[0m        \u001b[32m2.2153\u001b[0m  1.6861\n",
      "      9        \u001b[36m2.2068\u001b[0m        \u001b[32m2.1958\u001b[0m  1.6837\n",
      "     10        \u001b[36m2.1857\u001b[0m        \u001b[32m2.1727\u001b[0m  1.6382\n",
      "     11        \u001b[36m2.1604\u001b[0m        \u001b[32m2.1454\u001b[0m  1.6779\n",
      "     12        \u001b[36m2.1306\u001b[0m        \u001b[32m2.1131\u001b[0m  1.6455\n",
      "     13        \u001b[36m2.0952\u001b[0m        \u001b[32m2.0750\u001b[0m  1.6091\n",
      "     14        \u001b[36m2.0537\u001b[0m        \u001b[32m2.0301\u001b[0m  1.5639\n",
      "     15        \u001b[36m2.0045\u001b[0m        \u001b[32m1.9775\u001b[0m  1.5322\n",
      "     16        \u001b[36m1.9479\u001b[0m        \u001b[32m1.9166\u001b[0m  1.4768\n",
      "     17        \u001b[36m1.8821\u001b[0m        \u001b[32m1.8468\u001b[0m  1.4571\n",
      "     18        \u001b[36m1.8070\u001b[0m        \u001b[32m1.7685\u001b[0m  1.5279\n",
      "     19        \u001b[36m1.7248\u001b[0m        \u001b[32m1.6831\u001b[0m  1.4850\n",
      "     20        \u001b[36m1.6362\u001b[0m        \u001b[32m1.5931\u001b[0m  1.4873\n"
     ]
    },
    {
     "name": "stderr",
     "output_type": "stream",
     "text": [
      "<ipython-input-9-bb6654121bf9>:51: UserWarning: Implicit dimension choice for log_softmax has been deprecated. Change the call to include dim=X as an argument.\n",
      "  out = self.Last(out)\n"
     ]
    },
    {
     "name": "stdout",
     "output_type": "stream",
     "text": [
      "  epoch    train_loss    valid_loss     dur\n",
      "-------  ------------  ------------  ------\n",
      "      1        \u001b[36m2.3051\u001b[0m        \u001b[32m2.3003\u001b[0m  1.5277\n",
      "      2        \u001b[36m2.2969\u001b[0m        \u001b[32m2.2920\u001b[0m  1.4848\n",
      "      3        \u001b[36m2.2887\u001b[0m        \u001b[32m2.2835\u001b[0m  1.5672\n",
      "      4        \u001b[36m2.2800\u001b[0m        \u001b[32m2.2741\u001b[0m  1.4641\n",
      "      5        \u001b[36m2.2703\u001b[0m        \u001b[32m2.2634\u001b[0m  1.6096\n",
      "      6        \u001b[36m2.2591\u001b[0m        \u001b[32m2.2510\u001b[0m  1.5373\n",
      "      7        \u001b[36m2.2462\u001b[0m        \u001b[32m2.2367\u001b[0m  1.5645\n",
      "      8        \u001b[36m2.2313\u001b[0m        \u001b[32m2.2202\u001b[0m  1.6191\n",
      "      9        \u001b[36m2.2140\u001b[0m        \u001b[32m2.2012\u001b[0m  1.6139\n",
      "     10        \u001b[36m2.1940\u001b[0m        \u001b[32m2.1791\u001b[0m  1.6569\n",
      "     11        \u001b[36m2.1708\u001b[0m        \u001b[32m2.1535\u001b[0m  1.6910\n",
      "     12        \u001b[36m2.1434\u001b[0m        \u001b[32m2.1234\u001b[0m  1.7374\n",
      "     13        \u001b[36m2.1116\u001b[0m        \u001b[32m2.0882\u001b[0m  1.8943\n",
      "     14        \u001b[36m2.0743\u001b[0m        \u001b[32m2.0472\u001b[0m  1.6428\n",
      "     15        \u001b[36m2.0311\u001b[0m        \u001b[32m1.9995\u001b[0m  1.6207\n",
      "     16        \u001b[36m1.9807\u001b[0m        \u001b[32m1.9446\u001b[0m  1.6168\n",
      "     17        \u001b[36m1.9228\u001b[0m        \u001b[32m1.8820\u001b[0m  1.7101\n",
      "     18        \u001b[36m1.8577\u001b[0m        \u001b[32m1.8119\u001b[0m  1.6500\n",
      "     19        \u001b[36m1.7846\u001b[0m        \u001b[32m1.7347\u001b[0m  1.6573\n",
      "     20        \u001b[36m1.7061\u001b[0m        \u001b[32m1.6516\u001b[0m  1.6285\n"
     ]
    },
    {
     "name": "stderr",
     "output_type": "stream",
     "text": [
      "<ipython-input-9-bb6654121bf9>:51: UserWarning: Implicit dimension choice for log_softmax has been deprecated. Change the call to include dim=X as an argument.\n",
      "  out = self.Last(out)\n"
     ]
    },
    {
     "name": "stdout",
     "output_type": "stream",
     "text": [
      "  epoch    train_loss    valid_loss     dur\n",
      "-------  ------------  ------------  ------\n",
      "      1        \u001b[36m2.3013\u001b[0m        \u001b[32m2.2965\u001b[0m  1.6688\n",
      "      2        \u001b[36m2.2921\u001b[0m        \u001b[32m2.2866\u001b[0m  1.6693\n",
      "      3        \u001b[36m2.2821\u001b[0m        \u001b[32m2.2755\u001b[0m  1.6341\n",
      "      4        \u001b[36m2.2707\u001b[0m        \u001b[32m2.2632\u001b[0m  1.6147\n",
      "      5        \u001b[36m2.2580\u001b[0m        \u001b[32m2.2494\u001b[0m  1.6995\n",
      "      6        \u001b[36m2.2435\u001b[0m        \u001b[32m2.2337\u001b[0m  1.6700\n",
      "      7        \u001b[36m2.2269\u001b[0m        \u001b[32m2.2157\u001b[0m  1.6056\n",
      "      8        \u001b[36m2.2077\u001b[0m        \u001b[32m2.1946\u001b[0m  1.6785\n",
      "      9        \u001b[36m2.1852\u001b[0m        \u001b[32m2.1700\u001b[0m  1.5741\n",
      "     10        \u001b[36m2.1589\u001b[0m        \u001b[32m2.1412\u001b[0m  1.6473\n",
      "     11        \u001b[36m2.1284\u001b[0m        \u001b[32m2.1076\u001b[0m  1.6379\n",
      "     12        \u001b[36m2.0925\u001b[0m        \u001b[32m2.0685\u001b[0m  1.6036\n",
      "     13        \u001b[36m2.0513\u001b[0m        \u001b[32m2.0235\u001b[0m  1.5706\n",
      "     14        \u001b[36m2.0038\u001b[0m        \u001b[32m1.9720\u001b[0m  1.5340\n",
      "     15        \u001b[36m1.9496\u001b[0m        \u001b[32m1.9135\u001b[0m  1.5465\n",
      "     16        \u001b[36m1.8883\u001b[0m        \u001b[32m1.8479\u001b[0m  1.4650\n",
      "     17        \u001b[36m1.8198\u001b[0m        \u001b[32m1.7751\u001b[0m  1.4744\n",
      "     18        \u001b[36m1.7444\u001b[0m        \u001b[32m1.6953\u001b[0m  1.4344\n",
      "     19        \u001b[36m1.6632\u001b[0m        \u001b[32m1.6099\u001b[0m  1.5184\n",
      "     20        \u001b[36m1.5764\u001b[0m        \u001b[32m1.5207\u001b[0m  1.4661\n"
     ]
    },
    {
     "name": "stderr",
     "output_type": "stream",
     "text": [
      "<ipython-input-9-bb6654121bf9>:51: UserWarning: Implicit dimension choice for log_softmax has been deprecated. Change the call to include dim=X as an argument.\n",
      "  out = self.Last(out)\n"
     ]
    },
    {
     "name": "stdout",
     "output_type": "stream",
     "text": [
      "  epoch    train_loss    valid_loss     dur\n",
      "-------  ------------  ------------  ------\n",
      "      1        \u001b[36m2.3054\u001b[0m        \u001b[32m2.2999\u001b[0m  1.4771\n",
      "      2        \u001b[36m2.2980\u001b[0m        \u001b[32m2.2924\u001b[0m  1.5458\n",
      "      3        \u001b[36m2.2908\u001b[0m        \u001b[32m2.2847\u001b[0m  1.4859\n",
      "      4        \u001b[36m2.2832\u001b[0m        \u001b[32m2.2765\u001b[0m  1.7233\n",
      "      5        \u001b[36m2.2749\u001b[0m        \u001b[32m2.2672\u001b[0m  1.6735\n",
      "      6        \u001b[36m2.2654\u001b[0m        \u001b[32m2.2563\u001b[0m  1.5990\n",
      "      7        \u001b[36m2.2540\u001b[0m        \u001b[32m2.2434\u001b[0m  1.5880\n",
      "      8        \u001b[36m2.2407\u001b[0m        \u001b[32m2.2281\u001b[0m  1.5987\n",
      "      9        \u001b[36m2.2249\u001b[0m        \u001b[32m2.2101\u001b[0m  1.6293\n",
      "     10        \u001b[36m2.2063\u001b[0m        \u001b[32m2.1891\u001b[0m  1.6482\n",
      "     11        \u001b[36m2.1840\u001b[0m        \u001b[32m2.1645\u001b[0m  1.6385\n",
      "     12        \u001b[36m2.1583\u001b[0m        \u001b[32m2.1354\u001b[0m  1.6445\n",
      "     13        \u001b[36m2.1279\u001b[0m        \u001b[32m2.1010\u001b[0m  1.6422\n",
      "     14        \u001b[36m2.0910\u001b[0m        \u001b[32m2.0600\u001b[0m  1.7121\n",
      "     15        \u001b[36m2.0481\u001b[0m        \u001b[32m2.0116\u001b[0m  1.6276\n",
      "     16        \u001b[36m1.9971\u001b[0m        \u001b[32m1.9553\u001b[0m  1.6650\n",
      "     17        \u001b[36m1.9382\u001b[0m        \u001b[32m1.8910\u001b[0m  1.6292\n",
      "     18        \u001b[36m1.8716\u001b[0m        \u001b[32m1.8185\u001b[0m  1.6688\n",
      "     19        \u001b[36m1.7967\u001b[0m        \u001b[32m1.7386\u001b[0m  1.6782\n",
      "     20        \u001b[36m1.7160\u001b[0m        \u001b[32m1.6529\u001b[0m  1.6602\n"
     ]
    },
    {
     "name": "stderr",
     "output_type": "stream",
     "text": [
      "<ipython-input-9-bb6654121bf9>:51: UserWarning: Implicit dimension choice for log_softmax has been deprecated. Change the call to include dim=X as an argument.\n",
      "  out = self.Last(out)\n"
     ]
    },
    {
     "name": "stdout",
     "output_type": "stream",
     "text": [
      "  epoch    train_loss    valid_loss     dur\n",
      "-------  ------------  ------------  ------\n",
      "      1        \u001b[36m2.2974\u001b[0m        \u001b[32m2.2913\u001b[0m  1.6494\n",
      "      2        \u001b[36m2.2869\u001b[0m        \u001b[32m2.2800\u001b[0m  1.7073\n",
      "      3        \u001b[36m2.2757\u001b[0m        \u001b[32m2.2677\u001b[0m  1.6869\n",
      "      4        \u001b[36m2.2631\u001b[0m        \u001b[32m2.2535\u001b[0m  1.6590\n",
      "      5        \u001b[36m2.2485\u001b[0m        \u001b[32m2.2371\u001b[0m  1.6566\n",
      "      6        \u001b[36m2.2316\u001b[0m        \u001b[32m2.2181\u001b[0m  1.7028\n",
      "      7        \u001b[36m2.2121\u001b[0m        \u001b[32m2.1964\u001b[0m  1.6311\n",
      "      8        \u001b[36m2.1898\u001b[0m        \u001b[32m2.1716\u001b[0m  1.6888\n",
      "      9        \u001b[36m2.1646\u001b[0m        \u001b[32m2.1436\u001b[0m  1.6281\n",
      "     10        \u001b[36m2.1355\u001b[0m        \u001b[32m2.1120\u001b[0m  1.6437\n",
      "     11        \u001b[36m2.1029\u001b[0m        \u001b[32m2.0762\u001b[0m  1.6262\n",
      "     12        \u001b[36m2.0665\u001b[0m        \u001b[32m2.0362\u001b[0m  1.6288\n",
      "     13        \u001b[36m2.0255\u001b[0m        \u001b[32m1.9916\u001b[0m  1.6301\n",
      "     14        \u001b[36m1.9799\u001b[0m        \u001b[32m1.9418\u001b[0m  1.5592\n",
      "     15        \u001b[36m1.9286\u001b[0m        \u001b[32m1.8859\u001b[0m  1.6386\n",
      "     16        \u001b[36m1.8708\u001b[0m        \u001b[32m1.8233\u001b[0m  1.6017\n",
      "     17        \u001b[36m1.8061\u001b[0m        \u001b[32m1.7535\u001b[0m  1.5609\n",
      "     18        \u001b[36m1.7355\u001b[0m        \u001b[32m1.6774\u001b[0m  1.4745\n",
      "     19        \u001b[36m1.6587\u001b[0m        \u001b[32m1.5959\u001b[0m  1.4858\n",
      "     20        \u001b[36m1.5770\u001b[0m        \u001b[32m1.5109\u001b[0m  1.4550\n"
     ]
    },
    {
     "name": "stderr",
     "output_type": "stream",
     "text": [
      "<ipython-input-9-bb6654121bf9>:51: UserWarning: Implicit dimension choice for log_softmax has been deprecated. Change the call to include dim=X as an argument.\n",
      "  out = self.Last(out)\n"
     ]
    },
    {
     "name": "stdout",
     "output_type": "stream",
     "text": [
      "  epoch    train_loss    valid_loss     dur\n",
      "-------  ------------  ------------  ------\n",
      "      1        \u001b[36m2.3006\u001b[0m        \u001b[32m2.2971\u001b[0m  1.5412\n",
      "      2        \u001b[36m2.2938\u001b[0m        \u001b[32m2.2908\u001b[0m  1.5172\n",
      "      3        \u001b[36m2.2881\u001b[0m        \u001b[32m2.2854\u001b[0m  1.5056\n",
      "      4        \u001b[36m2.2830\u001b[0m        \u001b[32m2.2806\u001b[0m  1.4965\n",
      "      5        \u001b[36m2.2783\u001b[0m        \u001b[32m2.2762\u001b[0m  1.5041\n",
      "      6        \u001b[36m2.2742\u001b[0m        \u001b[32m2.2722\u001b[0m  1.4972\n",
      "      7        \u001b[36m2.2703\u001b[0m        \u001b[32m2.2685\u001b[0m  1.5594\n",
      "      8        \u001b[36m2.2666\u001b[0m        \u001b[32m2.2649\u001b[0m  1.5507\n",
      "      9        \u001b[36m2.2632\u001b[0m        \u001b[32m2.2616\u001b[0m  1.5152\n",
      "     10        \u001b[36m2.2600\u001b[0m        \u001b[32m2.2584\u001b[0m  1.5236\n",
      "     11        \u001b[36m2.2567\u001b[0m        \u001b[32m2.2553\u001b[0m  1.5920\n",
      "     12        \u001b[36m2.2538\u001b[0m        \u001b[32m2.2524\u001b[0m  1.5975\n",
      "     13        \u001b[36m2.2508\u001b[0m        \u001b[32m2.2495\u001b[0m  1.5546\n",
      "     14        \u001b[36m2.2480\u001b[0m        \u001b[32m2.2467\u001b[0m  1.6361\n",
      "     15        \u001b[36m2.2451\u001b[0m        \u001b[32m2.2439\u001b[0m  1.7170\n",
      "     16        \u001b[36m2.2423\u001b[0m        \u001b[32m2.2412\u001b[0m  1.8827\n",
      "     17        \u001b[36m2.2395\u001b[0m        \u001b[32m2.2384\u001b[0m  1.6680\n",
      "     18        \u001b[36m2.2368\u001b[0m        \u001b[32m2.2357\u001b[0m  1.6504\n",
      "     19        \u001b[36m2.2339\u001b[0m        \u001b[32m2.2329\u001b[0m  1.7040\n",
      "     20        \u001b[36m2.2310\u001b[0m        \u001b[32m2.2300\u001b[0m  1.6823\n"
     ]
    },
    {
     "name": "stderr",
     "output_type": "stream",
     "text": [
      "<ipython-input-9-bb6654121bf9>:51: UserWarning: Implicit dimension choice for log_softmax has been deprecated. Change the call to include dim=X as an argument.\n",
      "  out = self.Last(out)\n"
     ]
    },
    {
     "name": "stdout",
     "output_type": "stream",
     "text": [
      "  epoch    train_loss    valid_loss     dur\n",
      "-------  ------------  ------------  ------\n",
      "      1        \u001b[36m2.3006\u001b[0m        \u001b[32m2.2955\u001b[0m  1.6901\n",
      "      2        \u001b[36m2.2941\u001b[0m        \u001b[32m2.2894\u001b[0m  1.6364\n",
      "      3        \u001b[36m2.2883\u001b[0m        \u001b[32m2.2839\u001b[0m  1.6699\n",
      "      4        \u001b[36m2.2831\u001b[0m        \u001b[32m2.2788\u001b[0m  1.6679\n",
      "      5        \u001b[36m2.2782\u001b[0m        \u001b[32m2.2739\u001b[0m  1.6682\n",
      "      6        \u001b[36m2.2736\u001b[0m        \u001b[32m2.2693\u001b[0m  1.6278\n",
      "      7        \u001b[36m2.2692\u001b[0m        \u001b[32m2.2650\u001b[0m  1.5954\n",
      "      8        \u001b[36m2.2650\u001b[0m        \u001b[32m2.2610\u001b[0m  1.5952\n",
      "      9        \u001b[36m2.2612\u001b[0m        \u001b[32m2.2572\u001b[0m  1.6893\n",
      "     10        \u001b[36m2.2574\u001b[0m        \u001b[32m2.2534\u001b[0m  1.6507\n",
      "     11        \u001b[36m2.2536\u001b[0m        \u001b[32m2.2498\u001b[0m  1.6357\n",
      "     12        \u001b[36m2.2500\u001b[0m        \u001b[32m2.2461\u001b[0m  1.6359\n",
      "     13        \u001b[36m2.2464\u001b[0m        \u001b[32m2.2425\u001b[0m  1.6253\n",
      "     14        \u001b[36m2.2427\u001b[0m        \u001b[32m2.2388\u001b[0m  1.6519\n",
      "     15        \u001b[36m2.2390\u001b[0m        \u001b[32m2.2350\u001b[0m  1.6556\n",
      "     16        \u001b[36m2.2351\u001b[0m        \u001b[32m2.2311\u001b[0m  1.6279\n",
      "     17        \u001b[36m2.2311\u001b[0m        \u001b[32m2.2271\u001b[0m  1.6469\n",
      "     18        \u001b[36m2.2270\u001b[0m        \u001b[32m2.2228\u001b[0m  1.6510\n",
      "     19        \u001b[36m2.2228\u001b[0m        \u001b[32m2.2183\u001b[0m  1.5669\n",
      "     20        \u001b[36m2.2181\u001b[0m        \u001b[32m2.2135\u001b[0m  1.5591\n"
     ]
    },
    {
     "name": "stderr",
     "output_type": "stream",
     "text": [
      "<ipython-input-9-bb6654121bf9>:51: UserWarning: Implicit dimension choice for log_softmax has been deprecated. Change the call to include dim=X as an argument.\n",
      "  out = self.Last(out)\n"
     ]
    },
    {
     "name": "stdout",
     "output_type": "stream",
     "text": [
      "  epoch    train_loss    valid_loss     dur\n",
      "-------  ------------  ------------  ------\n",
      "      1        \u001b[36m2.2972\u001b[0m        \u001b[32m2.2943\u001b[0m  1.5557\n",
      "      2        \u001b[36m2.2910\u001b[0m        \u001b[32m2.2880\u001b[0m  1.5315\n",
      "      3        \u001b[36m2.2852\u001b[0m        \u001b[32m2.2822\u001b[0m  1.5468\n",
      "      4        \u001b[36m2.2797\u001b[0m        \u001b[32m2.2768\u001b[0m  1.5277\n",
      "      5        \u001b[36m2.2746\u001b[0m        \u001b[32m2.2715\u001b[0m  1.4929\n",
      "      6        \u001b[36m2.2695\u001b[0m        \u001b[32m2.2664\u001b[0m  1.4860\n",
      "      7        \u001b[36m2.2647\u001b[0m        \u001b[32m2.2615\u001b[0m  1.5270\n",
      "      8        \u001b[36m2.2601\u001b[0m        \u001b[32m2.2567\u001b[0m  1.4940\n",
      "      9        \u001b[36m2.2553\u001b[0m        \u001b[32m2.2520\u001b[0m  1.5197\n",
      "     10        \u001b[36m2.2507\u001b[0m        \u001b[32m2.2474\u001b[0m  1.4893\n",
      "     11        \u001b[36m2.2462\u001b[0m        \u001b[32m2.2427\u001b[0m  1.5578\n",
      "     12        \u001b[36m2.2417\u001b[0m        \u001b[32m2.2381\u001b[0m  1.5146\n",
      "     13        \u001b[36m2.2369\u001b[0m        \u001b[32m2.2334\u001b[0m  1.6181\n",
      "     14        \u001b[36m2.2323\u001b[0m        \u001b[32m2.2286\u001b[0m  1.6169\n",
      "     15        \u001b[36m2.2275\u001b[0m        \u001b[32m2.2236\u001b[0m  1.5856\n",
      "     16        \u001b[36m2.2225\u001b[0m        \u001b[32m2.2184\u001b[0m  1.6757\n",
      "     17        \u001b[36m2.2172\u001b[0m        \u001b[32m2.2129\u001b[0m  1.6993\n",
      "     18        \u001b[36m2.2117\u001b[0m        \u001b[32m2.2072\u001b[0m  1.6720\n",
      "     19        \u001b[36m2.2060\u001b[0m        \u001b[32m2.2012\u001b[0m  1.6655\n",
      "     20        \u001b[36m2.1999\u001b[0m        \u001b[32m2.1949\u001b[0m  1.6248\n"
     ]
    },
    {
     "name": "stderr",
     "output_type": "stream",
     "text": [
      "<ipython-input-9-bb6654121bf9>:51: UserWarning: Implicit dimension choice for log_softmax has been deprecated. Change the call to include dim=X as an argument.\n",
      "  out = self.Last(out)\n"
     ]
    },
    {
     "name": "stdout",
     "output_type": "stream",
     "text": [
      "  epoch    train_loss    valid_loss     dur\n",
      "-------  ------------  ------------  ------\n",
      "      1        \u001b[36m2.3022\u001b[0m        \u001b[32m2.2991\u001b[0m  1.6481\n",
      "      2        \u001b[36m2.2965\u001b[0m        \u001b[32m2.2936\u001b[0m  1.6255\n",
      "      3        \u001b[36m2.2916\u001b[0m        \u001b[32m2.2889\u001b[0m  1.7013\n",
      "      4        \u001b[36m2.2874\u001b[0m        \u001b[32m2.2848\u001b[0m  1.6487\n",
      "      5        \u001b[36m2.2837\u001b[0m        \u001b[32m2.2812\u001b[0m  1.6047\n",
      "      6        \u001b[36m2.2803\u001b[0m        \u001b[32m2.2779\u001b[0m  1.7284\n",
      "      7        \u001b[36m2.2773\u001b[0m        \u001b[32m2.2749\u001b[0m  1.6803\n",
      "      8        \u001b[36m2.2743\u001b[0m        \u001b[32m2.2719\u001b[0m  1.6573\n",
      "      9        \u001b[36m2.2716\u001b[0m        \u001b[32m2.2691\u001b[0m  1.5835\n",
      "     10        \u001b[36m2.2688\u001b[0m        \u001b[32m2.2663\u001b[0m  1.6429\n",
      "     11        \u001b[36m2.2661\u001b[0m        \u001b[32m2.2635\u001b[0m  1.6586\n",
      "     12        \u001b[36m2.2634\u001b[0m        \u001b[32m2.2608\u001b[0m  1.6577\n",
      "     13        \u001b[36m2.2608\u001b[0m        \u001b[32m2.2581\u001b[0m  1.6605\n",
      "     14        \u001b[36m2.2581\u001b[0m        \u001b[32m2.2554\u001b[0m  1.6499\n",
      "     15        \u001b[36m2.2555\u001b[0m        \u001b[32m2.2527\u001b[0m  1.6011\n",
      "     16        \u001b[36m2.2528\u001b[0m        \u001b[32m2.2500\u001b[0m  1.6068\n",
      "     17        \u001b[36m2.2501\u001b[0m        \u001b[32m2.2472\u001b[0m  1.5060\n",
      "     18        \u001b[36m2.2472\u001b[0m        \u001b[32m2.2443\u001b[0m  1.5168\n",
      "     19        \u001b[36m2.2443\u001b[0m        \u001b[32m2.2414\u001b[0m  1.4876\n",
      "     20        \u001b[36m2.2413\u001b[0m        \u001b[32m2.2383\u001b[0m  1.4941\n"
     ]
    },
    {
     "name": "stderr",
     "output_type": "stream",
     "text": [
      "<ipython-input-9-bb6654121bf9>:51: UserWarning: Implicit dimension choice for log_softmax has been deprecated. Change the call to include dim=X as an argument.\n",
      "  out = self.Last(out)\n"
     ]
    },
    {
     "name": "stdout",
     "output_type": "stream",
     "text": [
      "  epoch    train_loss    valid_loss     dur\n",
      "-------  ------------  ------------  ------\n",
      "      1        \u001b[36m2.3060\u001b[0m        \u001b[32m2.3012\u001b[0m  1.4941\n",
      "      2        \u001b[36m2.2977\u001b[0m        \u001b[32m2.2935\u001b[0m  1.4742\n",
      "      3        \u001b[36m2.2909\u001b[0m        \u001b[32m2.2870\u001b[0m  1.4873\n",
      "      4        \u001b[36m2.2851\u001b[0m        \u001b[32m2.2815\u001b[0m  1.4359\n",
      "      5        \u001b[36m2.2800\u001b[0m        \u001b[32m2.2766\u001b[0m  1.5698\n",
      "      6        \u001b[36m2.2755\u001b[0m        \u001b[32m2.2721\u001b[0m  1.5058\n",
      "      7        \u001b[36m2.2713\u001b[0m        \u001b[32m2.2679\u001b[0m  1.4819\n",
      "      8        \u001b[36m2.2674\u001b[0m        \u001b[32m2.2639\u001b[0m  1.5448\n",
      "      9        \u001b[36m2.2635\u001b[0m        \u001b[32m2.2600\u001b[0m  1.5345\n",
      "     10        \u001b[36m2.2598\u001b[0m        \u001b[32m2.2562\u001b[0m  1.6712\n",
      "     11        \u001b[36m2.2563\u001b[0m        \u001b[32m2.2526\u001b[0m  1.6734\n",
      "     12        \u001b[36m2.2528\u001b[0m        \u001b[32m2.2491\u001b[0m  1.6082\n",
      "     13        \u001b[36m2.2495\u001b[0m        \u001b[32m2.2457\u001b[0m  1.6261\n",
      "     14        \u001b[36m2.2461\u001b[0m        \u001b[32m2.2422\u001b[0m  1.6560\n",
      "     15        \u001b[36m2.2428\u001b[0m        \u001b[32m2.2388\u001b[0m  1.6548\n",
      "     16        \u001b[36m2.2393\u001b[0m        \u001b[32m2.2353\u001b[0m  1.6498\n",
      "     17        \u001b[36m2.2360\u001b[0m        \u001b[32m2.2317\u001b[0m  1.7034\n",
      "     18        \u001b[36m2.2323\u001b[0m        \u001b[32m2.2280\u001b[0m  1.5940\n",
      "     19        \u001b[36m2.2286\u001b[0m        \u001b[32m2.2241\u001b[0m  1.6374\n",
      "     20        \u001b[36m2.2248\u001b[0m        \u001b[32m2.2201\u001b[0m  1.6136\n"
     ]
    },
    {
     "name": "stderr",
     "output_type": "stream",
     "text": [
      "<ipython-input-9-bb6654121bf9>:51: UserWarning: Implicit dimension choice for log_softmax has been deprecated. Change the call to include dim=X as an argument.\n",
      "  out = self.Last(out)\n"
     ]
    },
    {
     "name": "stdout",
     "output_type": "stream",
     "text": [
      "  epoch    train_loss    valid_loss     dur\n",
      "-------  ------------  ------------  ------\n",
      "      1        \u001b[36m0.8059\u001b[0m        \u001b[32m0.3585\u001b[0m  3.7507\n",
      "      2        \u001b[36m0.3072\u001b[0m        \u001b[32m0.2645\u001b[0m  3.9199\n",
      "      3        \u001b[36m0.2318\u001b[0m        \u001b[32m0.2139\u001b[0m  3.8832\n",
      "      4        \u001b[36m0.1859\u001b[0m        \u001b[32m0.1845\u001b[0m  3.9805\n",
      "      5        \u001b[36m0.1552\u001b[0m        \u001b[32m0.1596\u001b[0m  3.8423\n",
      "      6        \u001b[36m0.1341\u001b[0m        \u001b[32m0.1441\u001b[0m  3.6881\n",
      "      7        \u001b[36m0.1185\u001b[0m        \u001b[32m0.1326\u001b[0m  3.6692\n",
      "      8        \u001b[36m0.1065\u001b[0m        \u001b[32m0.1187\u001b[0m  3.5928\n",
      "      9        \u001b[36m0.0961\u001b[0m        \u001b[32m0.1141\u001b[0m  3.5038\n",
      "     10        \u001b[36m0.0883\u001b[0m        \u001b[32m0.1072\u001b[0m  3.7005\n",
      "     11        \u001b[36m0.0819\u001b[0m        \u001b[32m0.1014\u001b[0m  3.6699\n",
      "     12        \u001b[36m0.0757\u001b[0m        \u001b[32m0.0987\u001b[0m  3.8550\n",
      "     13        \u001b[36m0.0719\u001b[0m        \u001b[32m0.0964\u001b[0m  4.1255\n",
      "     14        \u001b[36m0.0674\u001b[0m        \u001b[32m0.0950\u001b[0m  4.0064\n",
      "     15        \u001b[36m0.0639\u001b[0m        \u001b[32m0.0895\u001b[0m  3.9249\n",
      "     16        \u001b[36m0.0611\u001b[0m        \u001b[32m0.0868\u001b[0m  3.9312\n",
      "     17        \u001b[36m0.0582\u001b[0m        \u001b[32m0.0860\u001b[0m  3.8800\n",
      "     18        \u001b[36m0.0561\u001b[0m        \u001b[32m0.0854\u001b[0m  3.8113\n",
      "     19        \u001b[36m0.0533\u001b[0m        \u001b[32m0.0848\u001b[0m  3.9613\n",
      "     20        \u001b[36m0.0513\u001b[0m        0.0854  3.9774\n"
     ]
    },
    {
     "data": {
      "text/plain": [
       "GridSearchCV(cv=5,\n",
       "             estimator=<class '__main__.RegularizedNet'>[initialized](\n",
       "  module_=MyModule(\n",
       "    (first): Linear(in_features=784, out_features=400, bias=True)\n",
       "    (relu): ReLU()\n",
       "    (second): Linear(in_features=400, out_features=150, bias=True)\n",
       "    (last): Linear(in_features=150, out_features=10, bias=True)\n",
       "    (Last): LogSoftmax(dim=None)\n",
       "    (dropout): Dropout(p=0.1, inplace=False)\n",
       "  ),\n",
       "),\n",
       "             param_grid={'lr': [0.01, 0.1, 0.001],\n",
       "                         'module__layer1size': [400, 200],\n",
       "                         'module__layer2size': [150, 70],\n",
       "                         'optimizer__weight_decay': [0.001, 0.1]},\n",
       "             scoring=<function my_scoring at 0x0000013B35DD9820>)"
      ]
     },
     "execution_count": 89,
     "metadata": {},
     "output_type": "execute_result"
    }
   ],
   "source": [
    "'''\n",
    "Finally fit\n",
    "'''\n",
    "gs.fit(X_train, y_train, epochs=20)\n",
    "\n"
   ]
  },
  {
   "cell_type": "code",
   "execution_count": 90,
   "metadata": {},
   "outputs": [
    {
     "name": "stdout",
     "output_type": "stream",
     "text": [
      "0.9710666666666666 {'lr': 0.1, 'module__layer1size': 400, 'module__layer2size': 150, 'optimizer__weight_decay': 0.001}\n"
     ]
    }
   ],
   "source": [
    "\n",
    "#Report Best Parameters\n",
    "print(gs.best_score_, gs.best_params_)"
   ]
  },
  {
   "cell_type": "code",
   "execution_count": null,
   "metadata": {},
   "outputs": [],
   "source": []
  },
  {
   "cell_type": "code",
   "execution_count": null,
   "metadata": {},
   "outputs": [],
   "source": []
  },
  {
   "cell_type": "code",
   "execution_count": null,
   "metadata": {},
   "outputs": [],
   "source": []
  },
  {
   "cell_type": "markdown",
   "metadata": {},
   "source": [
    "# Problem 5.2"
   ]
  },
  {
   "cell_type": "code",
   "execution_count": 59,
   "metadata": {},
   "outputs": [],
   "source": [
    "'''\n",
    "Step - Now we are going to train the network with L1 regularization instead of L2 and dropout,\n",
    "we are going to create a new network with a lambda1 parameter different than 0\n",
    "- Keep the rest of the parameters you used in the previous network but dropout and L2 parameters are 0 \n",
    "'''\n",
    "\n",
    "#module=MyModule, criterion=torch.nn.NLLLoss, \n",
    " #                       optimizer=torch.optim.SGD, lr = 0.13, lambda1 = 0,  module__dropout = 0.25,\n",
    "  #                      optimizer__weight_decay = 0, module__input_size = 784, module__layer1size = 400,\n",
    "   #                     module__layer2size = 150, module__num_classes = 10\n",
    "\n",
    "new_net_l1 = RegularizedNet(module=MyModule, criterion=torch.nn.NLLLoss, \n",
    "                        optimizer= torch.optim.SGD, lr = 0.1, lambda1 = 0.2,  module__dropout = 0,\n",
    "                        optimizer__weight_decay = 0, module__layer1size = 400, module__layer2size = 150,\n",
    "                        module__input_size = 784, module__num_classes = 10)"
   ]
  },
  {
   "cell_type": "code",
   "execution_count": 32,
   "metadata": {
    "colab": {},
    "colab_type": "code",
    "id": "Knz4An8-lvAt"
   },
   "outputs": [],
   "source": [
    "#Refer to https://skorch.readthedocs.io/en/stable/user/save_load.html\n",
    "\n",
    "import pickle\n"
   ]
  },
  {
   "cell_type": "code",
   "execution_count": 60,
   "metadata": {},
   "outputs": [],
   "source": [
    "#Transfer Learning - \n",
    "#The following code will transfer the weights from L2 trained networks to initialize the new network before L1 training\n",
    "\n",
    "'''\n",
    "\n",
    "Notes - I assumed you have trained your L2 network using Skorch's NeuralNetClassifier\n",
    "        I assume your trained model object is called \"new_net\"\n",
    "\n",
    "'''\n",
    "\n",
    "#Step - 1 - Save weights from L2 network\n",
    "\n",
    "new_net.save_params(f_params='some-file.pkl') #This comes after net.fit(). You are saving the model weights in a pickle\n",
    "#new_net_l1.save_params(f_params='some-file.pkl') #This comes after net.fit(). You are saving the model weights in a pickle\n",
    "\n"
   ]
  },
  {
   "cell_type": "code",
   "execution_count": 61,
   "metadata": {},
   "outputs": [],
   "source": [
    "\n",
    "#Step - 2\n",
    "\n",
    "new_net_l1.initialize()\n",
    "new_net_l1.load_params(f_params='some-file.pkl')"
   ]
  },
  {
   "cell_type": "code",
   "execution_count": null,
   "metadata": {},
   "outputs": [],
   "source": [
    "'''\n",
    "Step train the network with the weights transfered from new_net, and perform grid search for the lambda1 parameter\n",
    "'''"
   ]
  },
  {
   "cell_type": "code",
   "execution_count": 75,
   "metadata": {},
   "outputs": [],
   "source": [
    "grid1 = {\n",
    "    'lambda1': [0.01,0.001,0.0001]\n",
    "}"
   ]
  },
  {
   "cell_type": "code",
   "execution_count": 76,
   "metadata": {},
   "outputs": [],
   "source": [
    "gs1 = GridSearchCV(new_net_l1, grid1, refit=True, cv=5, scoring=my_scoring)"
   ]
  },
  {
   "cell_type": "code",
   "execution_count": 77,
   "metadata": {},
   "outputs": [
    {
     "name": "stderr",
     "output_type": "stream",
     "text": [
      "<ipython-input-9-bb6654121bf9>:51: UserWarning: Implicit dimension choice for log_softmax has been deprecated. Change the call to include dim=X as an argument.\n",
      "  out = self.Last(out)\n"
     ]
    },
    {
     "name": "stdout",
     "output_type": "stream",
     "text": [
      "  epoch    train_loss    valid_loss     dur\n",
      "-------  ------------  ------------  ------\n",
      "      1        \u001b[36m7.2924\u001b[0m        \u001b[32m4.1876\u001b[0m  2.0927\n",
      "      2        \u001b[36m4.1811\u001b[0m        \u001b[32m4.1874\u001b[0m  2.1407\n",
      "      3        \u001b[36m4.1811\u001b[0m        4.1875  2.1124\n",
      "      4        \u001b[36m4.1811\u001b[0m        4.1875  2.0674\n",
      "      5        4.1811        4.1874  2.2325\n",
      "      6        4.1811        \u001b[32m4.1874\u001b[0m  2.1393\n",
      "      7        4.1811        4.1875  2.1480\n",
      "      8        \u001b[36m4.1811\u001b[0m        4.1874  2.2938\n",
      "      9        4.1811        4.1875  2.2924\n",
      "     10        4.1811        4.1875  2.3309\n"
     ]
    },
    {
     "name": "stderr",
     "output_type": "stream",
     "text": [
      "<ipython-input-9-bb6654121bf9>:51: UserWarning: Implicit dimension choice for log_softmax has been deprecated. Change the call to include dim=X as an argument.\n",
      "  out = self.Last(out)\n"
     ]
    },
    {
     "name": "stdout",
     "output_type": "stream",
     "text": [
      "  epoch    train_loss    valid_loss     dur\n",
      "-------  ------------  ------------  ------\n",
      "      1        \u001b[36m7.3001\u001b[0m        \u001b[32m4.1906\u001b[0m  2.2757\n",
      "      2        \u001b[36m4.1811\u001b[0m        4.1906  2.3443\n",
      "      3        \u001b[36m4.1811\u001b[0m        4.1907  2.2794\n",
      "      4        \u001b[36m4.1811\u001b[0m        4.1907  2.3630\n",
      "      5        4.1811        4.1907  2.2978\n",
      "      6        4.1811        4.1907  2.4357\n",
      "      7        4.1811        4.1907  2.4016\n",
      "      8        4.1811        4.1906  2.3335\n",
      "      9        4.1811        \u001b[32m4.1906\u001b[0m  2.3540\n",
      "     10        \u001b[36m4.1811\u001b[0m        \u001b[32m4.1905\u001b[0m  2.4262\n"
     ]
    },
    {
     "name": "stderr",
     "output_type": "stream",
     "text": [
      "<ipython-input-9-bb6654121bf9>:51: UserWarning: Implicit dimension choice for log_softmax has been deprecated. Change the call to include dim=X as an argument.\n",
      "  out = self.Last(out)\n"
     ]
    },
    {
     "name": "stdout",
     "output_type": "stream",
     "text": [
      "  epoch    train_loss    valid_loss     dur\n",
      "-------  ------------  ------------  ------\n",
      "      1        \u001b[36m7.3008\u001b[0m        \u001b[32m4.1860\u001b[0m  2.3412\n",
      "      2        \u001b[36m4.1811\u001b[0m        4.1860  2.3758\n",
      "      3        4.1811        4.1860  2.3758\n",
      "      4        4.1811        \u001b[32m4.1860\u001b[0m  2.4053\n",
      "      5        \u001b[36m4.1811\u001b[0m        \u001b[32m4.1860\u001b[0m  2.3879\n",
      "      6        4.1811        4.1860  2.4135\n",
      "      7        4.1811        \u001b[32m4.1859\u001b[0m  2.3780\n",
      "      8        4.1811        \u001b[32m4.1859\u001b[0m  2.3390\n",
      "      9        4.1811        4.1859  2.2702\n",
      "     10        4.1811        \u001b[32m4.1859\u001b[0m  2.3669\n"
     ]
    },
    {
     "name": "stderr",
     "output_type": "stream",
     "text": [
      "<ipython-input-9-bb6654121bf9>:51: UserWarning: Implicit dimension choice for log_softmax has been deprecated. Change the call to include dim=X as an argument.\n",
      "  out = self.Last(out)\n"
     ]
    },
    {
     "name": "stdout",
     "output_type": "stream",
     "text": [
      "  epoch    train_loss    valid_loss     dur\n",
      "-------  ------------  ------------  ------\n",
      "      1        \u001b[36m7.2902\u001b[0m        \u001b[32m4.1883\u001b[0m  2.3680\n",
      "      2        \u001b[36m4.1811\u001b[0m        \u001b[32m4.1882\u001b[0m  2.5212\n",
      "      3        4.1811        \u001b[32m4.1882\u001b[0m  2.6081\n",
      "      4        \u001b[36m4.1811\u001b[0m        \u001b[32m4.1882\u001b[0m  2.5702\n",
      "      5        \u001b[36m4.1811\u001b[0m        4.1882  2.4300\n",
      "      6        4.1811        \u001b[32m4.1881\u001b[0m  2.5453\n",
      "      7        4.1811        \u001b[32m4.1880\u001b[0m  2.6074\n",
      "      8        4.1811        \u001b[32m4.1879\u001b[0m  2.5828\n",
      "      9        4.1811        \u001b[32m4.1879\u001b[0m  2.5867\n",
      "     10        4.1811        \u001b[32m4.1878\u001b[0m  2.5611\n"
     ]
    },
    {
     "name": "stderr",
     "output_type": "stream",
     "text": [
      "<ipython-input-9-bb6654121bf9>:51: UserWarning: Implicit dimension choice for log_softmax has been deprecated. Change the call to include dim=X as an argument.\n",
      "  out = self.Last(out)\n"
     ]
    },
    {
     "name": "stdout",
     "output_type": "stream",
     "text": [
      "  epoch    train_loss    valid_loss     dur\n",
      "-------  ------------  ------------  ------\n",
      "      1        \u001b[36m7.2974\u001b[0m        \u001b[32m4.1866\u001b[0m  2.6155\n",
      "      2        \u001b[36m4.1810\u001b[0m        \u001b[32m4.1866\u001b[0m  2.5489\n",
      "      3        \u001b[36m4.1810\u001b[0m        4.1866  2.5365\n",
      "      4        \u001b[36m4.1810\u001b[0m        \u001b[32m4.1866\u001b[0m  2.5907\n",
      "      5        4.1810        \u001b[32m4.1865\u001b[0m  2.6322\n",
      "      6        4.1810        \u001b[32m4.1864\u001b[0m  2.6318\n",
      "      7        4.1810        4.1864  2.5191\n",
      "      8        4.1810        \u001b[32m4.1864\u001b[0m  2.5005\n",
      "      9        4.1810        \u001b[32m4.1863\u001b[0m  2.4959\n",
      "     10        4.1810        4.1863  2.5045\n"
     ]
    },
    {
     "name": "stderr",
     "output_type": "stream",
     "text": [
      "<ipython-input-9-bb6654121bf9>:51: UserWarning: Implicit dimension choice for log_softmax has been deprecated. Change the call to include dim=X as an argument.\n",
      "  out = self.Last(out)\n"
     ]
    },
    {
     "name": "stdout",
     "output_type": "stream",
     "text": [
      "  epoch    train_loss    valid_loss     dur\n",
      "-------  ------------  ------------  ------\n",
      "      1        \u001b[36m4.5095\u001b[0m        \u001b[32m1.7339\u001b[0m  2.4865\n",
      "      2        \u001b[36m1.2725\u001b[0m        \u001b[32m1.0685\u001b[0m  2.5109\n",
      "      3        \u001b[36m0.9534\u001b[0m        \u001b[32m0.9097\u001b[0m  2.4929\n",
      "      4        \u001b[36m0.8354\u001b[0m        \u001b[32m0.8345\u001b[0m  2.4945\n",
      "      5        \u001b[36m0.7704\u001b[0m        \u001b[32m0.7888\u001b[0m  2.4631\n",
      "      6        \u001b[36m0.7273\u001b[0m        \u001b[32m0.7571\u001b[0m  2.5165\n",
      "      7        \u001b[36m0.6926\u001b[0m        \u001b[32m0.7343\u001b[0m  2.4963\n",
      "      8        \u001b[36m0.6644\u001b[0m        \u001b[32m0.7152\u001b[0m  2.5629\n",
      "      9        \u001b[36m0.6410\u001b[0m        \u001b[32m0.7023\u001b[0m  2.6763\n",
      "     10        \u001b[36m0.6222\u001b[0m        \u001b[32m0.6855\u001b[0m  2.5467\n"
     ]
    },
    {
     "name": "stderr",
     "output_type": "stream",
     "text": [
      "<ipython-input-9-bb6654121bf9>:51: UserWarning: Implicit dimension choice for log_softmax has been deprecated. Change the call to include dim=X as an argument.\n",
      "  out = self.Last(out)\n"
     ]
    },
    {
     "name": "stdout",
     "output_type": "stream",
     "text": [
      "  epoch    train_loss    valid_loss     dur\n",
      "-------  ------------  ------------  ------\n",
      "      1        \u001b[36m4.5063\u001b[0m        \u001b[32m1.7277\u001b[0m  2.5839\n",
      "      2        \u001b[36m1.2771\u001b[0m        \u001b[32m1.0466\u001b[0m  2.4846\n",
      "      3        \u001b[36m0.9426\u001b[0m        \u001b[32m0.8749\u001b[0m  2.5924\n",
      "      4        \u001b[36m0.8155\u001b[0m        \u001b[32m0.7913\u001b[0m  2.5466\n",
      "      5        \u001b[36m0.7467\u001b[0m        \u001b[32m0.7415\u001b[0m  2.6197\n",
      "      6        \u001b[36m0.7028\u001b[0m        \u001b[32m0.7089\u001b[0m  2.6150\n",
      "      7        \u001b[36m0.6721\u001b[0m        \u001b[32m0.6863\u001b[0m  2.6319\n",
      "      8        \u001b[36m0.6493\u001b[0m        \u001b[32m0.6669\u001b[0m  2.5961\n",
      "      9        \u001b[36m0.6311\u001b[0m        \u001b[32m0.6505\u001b[0m  2.6269\n",
      "     10        \u001b[36m0.6155\u001b[0m        \u001b[32m0.6354\u001b[0m  2.5262\n"
     ]
    },
    {
     "name": "stderr",
     "output_type": "stream",
     "text": [
      "<ipython-input-9-bb6654121bf9>:51: UserWarning: Implicit dimension choice for log_softmax has been deprecated. Change the call to include dim=X as an argument.\n",
      "  out = self.Last(out)\n"
     ]
    },
    {
     "name": "stdout",
     "output_type": "stream",
     "text": [
      "  epoch    train_loss    valid_loss     dur\n",
      "-------  ------------  ------------  ------\n",
      "      1        \u001b[36m4.4840\u001b[0m        \u001b[32m1.7482\u001b[0m  2.6024\n",
      "      2        \u001b[36m1.3086\u001b[0m        \u001b[32m1.0883\u001b[0m  2.5257\n",
      "      3        \u001b[36m0.9828\u001b[0m        \u001b[32m0.9176\u001b[0m  2.6361\n",
      "      4        \u001b[36m0.8552\u001b[0m        \u001b[32m0.8335\u001b[0m  2.6235\n",
      "      5        \u001b[36m0.7814\u001b[0m        \u001b[32m0.7817\u001b[0m  2.6360\n",
      "      6        \u001b[36m0.7317\u001b[0m        \u001b[32m0.7518\u001b[0m  2.6206\n",
      "      7        \u001b[36m0.6940\u001b[0m        \u001b[32m0.7292\u001b[0m  2.7140\n",
      "      8        \u001b[36m0.6638\u001b[0m        \u001b[32m0.7068\u001b[0m  2.6340\n",
      "      9        \u001b[36m0.6386\u001b[0m        \u001b[32m0.6887\u001b[0m  2.6615\n",
      "     10        \u001b[36m0.6191\u001b[0m        \u001b[32m0.6750\u001b[0m  2.7243\n"
     ]
    },
    {
     "name": "stderr",
     "output_type": "stream",
     "text": [
      "<ipython-input-9-bb6654121bf9>:51: UserWarning: Implicit dimension choice for log_softmax has been deprecated. Change the call to include dim=X as an argument.\n",
      "  out = self.Last(out)\n"
     ]
    },
    {
     "name": "stdout",
     "output_type": "stream",
     "text": [
      "  epoch    train_loss    valid_loss     dur\n",
      "-------  ------------  ------------  ------\n",
      "      1        \u001b[36m4.4914\u001b[0m        \u001b[32m1.7047\u001b[0m  2.7202\n",
      "      2        \u001b[36m1.2639\u001b[0m        \u001b[32m1.0532\u001b[0m  2.5691\n",
      "      3        \u001b[36m0.9604\u001b[0m        \u001b[32m0.8989\u001b[0m  2.5850\n",
      "      4        \u001b[36m0.8391\u001b[0m        \u001b[32m0.8108\u001b[0m  2.6250\n",
      "      5        \u001b[36m0.7626\u001b[0m        \u001b[32m0.7524\u001b[0m  2.6355\n",
      "      6        \u001b[36m0.7102\u001b[0m        \u001b[32m0.7153\u001b[0m  2.6702\n",
      "      7        \u001b[36m0.6745\u001b[0m        \u001b[32m0.6893\u001b[0m  2.7573\n",
      "      8        \u001b[36m0.6480\u001b[0m        \u001b[32m0.6686\u001b[0m  2.7055\n",
      "      9        \u001b[36m0.6277\u001b[0m        \u001b[32m0.6553\u001b[0m  2.7218\n",
      "     10        \u001b[36m0.6115\u001b[0m        \u001b[32m0.6452\u001b[0m  2.7676\n"
     ]
    },
    {
     "name": "stderr",
     "output_type": "stream",
     "text": [
      "<ipython-input-9-bb6654121bf9>:51: UserWarning: Implicit dimension choice for log_softmax has been deprecated. Change the call to include dim=X as an argument.\n",
      "  out = self.Last(out)\n"
     ]
    },
    {
     "name": "stdout",
     "output_type": "stream",
     "text": [
      "  epoch    train_loss    valid_loss     dur\n",
      "-------  ------------  ------------  ------\n",
      "      1        \u001b[36m4.5091\u001b[0m        \u001b[32m1.8180\u001b[0m  2.5796\n",
      "      2        \u001b[36m1.2742\u001b[0m        \u001b[32m1.0835\u001b[0m  2.6143\n",
      "      3        \u001b[36m0.9525\u001b[0m        \u001b[32m0.9003\u001b[0m  2.5904\n",
      "      4        \u001b[36m0.8323\u001b[0m        \u001b[32m0.8216\u001b[0m  2.5479\n",
      "      5        \u001b[36m0.7672\u001b[0m        \u001b[32m0.7702\u001b[0m  2.5453\n",
      "      6        \u001b[36m0.7241\u001b[0m        \u001b[32m0.7289\u001b[0m  2.5197\n",
      "      7        \u001b[36m0.6911\u001b[0m        \u001b[32m0.6956\u001b[0m  2.5630\n",
      "      8        \u001b[36m0.6655\u001b[0m        \u001b[32m0.6714\u001b[0m  2.5150\n",
      "      9        \u001b[36m0.6452\u001b[0m        \u001b[32m0.6543\u001b[0m  2.6225\n",
      "     10        \u001b[36m0.6283\u001b[0m        \u001b[32m0.6375\u001b[0m  2.6083\n"
     ]
    },
    {
     "name": "stderr",
     "output_type": "stream",
     "text": [
      "<ipython-input-9-bb6654121bf9>:51: UserWarning: Implicit dimension choice for log_softmax has been deprecated. Change the call to include dim=X as an argument.\n",
      "  out = self.Last(out)\n"
     ]
    },
    {
     "name": "stdout",
     "output_type": "stream",
     "text": [
      "  epoch    train_loss    valid_loss     dur\n",
      "-------  ------------  ------------  ------\n",
      "      1        \u001b[36m1.5417\u001b[0m        \u001b[32m1.0644\u001b[0m  2.5924\n",
      "      2        \u001b[36m0.9473\u001b[0m        \u001b[32m0.9041\u001b[0m  2.5411\n",
      "      3        \u001b[36m0.8091\u001b[0m        \u001b[32m0.7903\u001b[0m  2.8665\n",
      "      4        \u001b[36m0.7007\u001b[0m        \u001b[32m0.6992\u001b[0m  2.6180\n",
      "      5        \u001b[36m0.6120\u001b[0m        \u001b[32m0.6215\u001b[0m  2.6369\n",
      "      6        \u001b[36m0.5386\u001b[0m        \u001b[32m0.5531\u001b[0m  2.7108\n",
      "      7        \u001b[36m0.4775\u001b[0m        \u001b[32m0.4951\u001b[0m  2.7330\n",
      "      8        \u001b[36m0.4270\u001b[0m        \u001b[32m0.4461\u001b[0m  2.8908\n",
      "      9        \u001b[36m0.3856\u001b[0m        \u001b[32m0.4068\u001b[0m  2.8574\n",
      "     10        \u001b[36m0.3524\u001b[0m        \u001b[32m0.3753\u001b[0m  2.8786\n"
     ]
    },
    {
     "name": "stderr",
     "output_type": "stream",
     "text": [
      "<ipython-input-9-bb6654121bf9>:51: UserWarning: Implicit dimension choice for log_softmax has been deprecated. Change the call to include dim=X as an argument.\n",
      "  out = self.Last(out)\n"
     ]
    },
    {
     "name": "stdout",
     "output_type": "stream",
     "text": [
      "  epoch    train_loss    valid_loss     dur\n",
      "-------  ------------  ------------  ------\n",
      "      1        \u001b[36m1.5581\u001b[0m        \u001b[32m1.0495\u001b[0m  3.0188\n",
      "      2        \u001b[36m0.9460\u001b[0m        \u001b[32m0.8844\u001b[0m  3.0022\n",
      "      3        \u001b[36m0.8079\u001b[0m        \u001b[32m0.7716\u001b[0m  2.8210\n",
      "      4        \u001b[36m0.6994\u001b[0m        \u001b[32m0.6836\u001b[0m  2.6686\n",
      "      5        \u001b[36m0.6107\u001b[0m        \u001b[32m0.6109\u001b[0m  2.7767\n",
      "      6        \u001b[36m0.5374\u001b[0m        \u001b[32m0.5477\u001b[0m  2.8150\n",
      "      7        \u001b[36m0.4767\u001b[0m        \u001b[32m0.4950\u001b[0m  2.7698\n",
      "      8        \u001b[36m0.4266\u001b[0m        \u001b[32m0.4496\u001b[0m  2.6556\n",
      "      9        \u001b[36m0.3855\u001b[0m        \u001b[32m0.4130\u001b[0m  2.8358\n",
      "     10        \u001b[36m0.3525\u001b[0m        \u001b[32m0.3832\u001b[0m  2.6661\n"
     ]
    },
    {
     "name": "stderr",
     "output_type": "stream",
     "text": [
      "<ipython-input-9-bb6654121bf9>:51: UserWarning: Implicit dimension choice for log_softmax has been deprecated. Change the call to include dim=X as an argument.\n",
      "  out = self.Last(out)\n"
     ]
    },
    {
     "name": "stdout",
     "output_type": "stream",
     "text": [
      "  epoch    train_loss    valid_loss     dur\n",
      "-------  ------------  ------------  ------\n",
      "      1        \u001b[36m1.5495\u001b[0m        \u001b[32m1.0660\u001b[0m  2.6686\n",
      "      2        \u001b[36m0.9522\u001b[0m        \u001b[32m0.8945\u001b[0m  2.7102\n",
      "      3        \u001b[36m0.8101\u001b[0m        \u001b[32m0.7762\u001b[0m  2.7477\n",
      "      4        \u001b[36m0.6994\u001b[0m        \u001b[32m0.6831\u001b[0m  2.8185\n",
      "      5        \u001b[36m0.6098\u001b[0m        \u001b[32m0.6061\u001b[0m  2.8182\n",
      "      6        \u001b[36m0.5361\u001b[0m        \u001b[32m0.5409\u001b[0m  2.8396\n",
      "      7        \u001b[36m0.4753\u001b[0m        \u001b[32m0.4863\u001b[0m  2.7070\n",
      "      8        \u001b[36m0.4251\u001b[0m        \u001b[32m0.4417\u001b[0m  2.7047\n",
      "      9        \u001b[36m0.3839\u001b[0m        \u001b[32m0.4045\u001b[0m  2.6720\n",
      "     10        \u001b[36m0.3505\u001b[0m        \u001b[32m0.3750\u001b[0m  2.7216\n"
     ]
    },
    {
     "name": "stderr",
     "output_type": "stream",
     "text": [
      "<ipython-input-9-bb6654121bf9>:51: UserWarning: Implicit dimension choice for log_softmax has been deprecated. Change the call to include dim=X as an argument.\n",
      "  out = self.Last(out)\n"
     ]
    },
    {
     "name": "stdout",
     "output_type": "stream",
     "text": [
      "  epoch    train_loss    valid_loss     dur\n",
      "-------  ------------  ------------  ------\n",
      "      1        \u001b[36m1.5616\u001b[0m        \u001b[32m1.0547\u001b[0m  2.7491\n",
      "      2        \u001b[36m0.9466\u001b[0m        \u001b[32m0.8902\u001b[0m  2.6428\n",
      "      3        \u001b[36m0.8073\u001b[0m        \u001b[32m0.7747\u001b[0m  2.8095\n",
      "      4        \u001b[36m0.6977\u001b[0m        \u001b[32m0.6828\u001b[0m  2.7889\n",
      "      5        \u001b[36m0.6078\u001b[0m        \u001b[32m0.6067\u001b[0m  2.6982\n",
      "      6        \u001b[36m0.5339\u001b[0m        \u001b[32m0.5417\u001b[0m  2.9791\n",
      "      7        \u001b[36m0.4727\u001b[0m        \u001b[32m0.4871\u001b[0m  2.8526\n",
      "      8        \u001b[36m0.4223\u001b[0m        \u001b[32m0.4406\u001b[0m  2.6584\n",
      "      9        \u001b[36m0.3811\u001b[0m        \u001b[32m0.4042\u001b[0m  2.8100\n",
      "     10        \u001b[36m0.3480\u001b[0m        \u001b[32m0.3758\u001b[0m  2.7419\n"
     ]
    },
    {
     "name": "stderr",
     "output_type": "stream",
     "text": [
      "<ipython-input-9-bb6654121bf9>:51: UserWarning: Implicit dimension choice for log_softmax has been deprecated. Change the call to include dim=X as an argument.\n",
      "  out = self.Last(out)\n"
     ]
    },
    {
     "name": "stdout",
     "output_type": "stream",
     "text": [
      "  epoch    train_loss    valid_loss     dur\n",
      "-------  ------------  ------------  ------\n",
      "      1        \u001b[36m1.5655\u001b[0m        \u001b[32m1.0791\u001b[0m  2.8003\n",
      "      2        \u001b[36m0.9578\u001b[0m        \u001b[32m0.8885\u001b[0m  2.7682\n",
      "      3        \u001b[36m0.8151\u001b[0m        \u001b[32m0.7628\u001b[0m  3.1329\n",
      "      4        \u001b[36m0.7042\u001b[0m        \u001b[32m0.6661\u001b[0m  2.9126\n",
      "      5        \u001b[36m0.6142\u001b[0m        \u001b[32m0.5877\u001b[0m  2.8621\n",
      "      6        \u001b[36m0.5402\u001b[0m        \u001b[32m0.5228\u001b[0m  2.9683\n",
      "      7        \u001b[36m0.4790\u001b[0m        \u001b[32m0.4695\u001b[0m  2.9232\n",
      "      8        \u001b[36m0.4283\u001b[0m        \u001b[32m0.4257\u001b[0m  2.8494\n",
      "      9        \u001b[36m0.3866\u001b[0m        \u001b[32m0.3908\u001b[0m  2.7251\n",
      "     10        \u001b[36m0.3530\u001b[0m        \u001b[32m0.3634\u001b[0m  2.6480\n"
     ]
    },
    {
     "name": "stderr",
     "output_type": "stream",
     "text": [
      "<ipython-input-9-bb6654121bf9>:51: UserWarning: Implicit dimension choice for log_softmax has been deprecated. Change the call to include dim=X as an argument.\n",
      "  out = self.Last(out)\n"
     ]
    },
    {
     "name": "stdout",
     "output_type": "stream",
     "text": [
      "  epoch    train_loss    valid_loss     dur\n",
      "-------  ------------  ------------  ------\n",
      "      1        \u001b[36m1.4667\u001b[0m        \u001b[32m0.9962\u001b[0m  3.5622\n",
      "      2        \u001b[36m0.8967\u001b[0m        \u001b[32m0.8228\u001b[0m  3.5364\n",
      "      3        \u001b[36m0.7435\u001b[0m        \u001b[32m0.7008\u001b[0m  3.3850\n",
      "      4        \u001b[36m0.6259\u001b[0m        \u001b[32m0.6050\u001b[0m  3.3843\n",
      "      5        \u001b[36m0.5332\u001b[0m        \u001b[32m0.5241\u001b[0m  3.4136\n",
      "      6        \u001b[36m0.4598\u001b[0m        \u001b[32m0.4581\u001b[0m  3.5271\n",
      "      7        \u001b[36m0.4022\u001b[0m        \u001b[32m0.4061\u001b[0m  3.5933\n",
      "      8        \u001b[36m0.3576\u001b[0m        \u001b[32m0.3678\u001b[0m  3.4271\n",
      "      9        \u001b[36m0.3243\u001b[0m        \u001b[32m0.3395\u001b[0m  3.3720\n",
      "     10        \u001b[36m0.3005\u001b[0m        \u001b[32m0.3201\u001b[0m  3.3579\n"
     ]
    },
    {
     "data": {
      "text/plain": [
       "GridSearchCV(cv=5,\n",
       "             estimator=<class '__main__.RegularizedNet'>[initialized](\n",
       "  module_=MyModule(\n",
       "    (first): Linear(in_features=784, out_features=400, bias=True)\n",
       "    (relu): ReLU()\n",
       "    (second): Linear(in_features=400, out_features=150, bias=True)\n",
       "    (last): Linear(in_features=150, out_features=10, bias=True)\n",
       "    (Last): LogSoftmax(dim=None)\n",
       "    (dropout): Dropout(p=0, inplace=False)\n",
       "  ),\n",
       "),\n",
       "             param_grid={'lambda1': [0.01, 0.001, 0.0001]},\n",
       "             scoring=<function my_scoring at 0x0000013B35DD9820>)"
      ]
     },
     "execution_count": 77,
     "metadata": {},
     "output_type": "execute_result"
    }
   ],
   "source": [
    "gs1.fit(X_train, y_train)"
   ]
  },
  {
   "cell_type": "code",
   "execution_count": 78,
   "metadata": {},
   "outputs": [
    {
     "name": "stdout",
     "output_type": "stream",
     "text": [
      "0.9534833333333333 {'lambda1': 0.0001}\n"
     ]
    }
   ],
   "source": [
    "print(gs1.best_score_, gs1.best_params_)"
   ]
  },
  {
   "cell_type": "code",
   "execution_count": null,
   "metadata": {},
   "outputs": [],
   "source": []
  },
  {
   "cell_type": "code",
   "execution_count": 119,
   "metadata": {},
   "outputs": [],
   "source": [
    "'''\n",
    "Step train the network with default initialization parameters\n",
    "we can simply initialize with the same code as before (make sure to use the same parameters)\n",
    "\n",
    "perform grid search for the lambda1 parameter as in the previous cell\n",
    "'''\n",
    "\n",
    "#new_net_l1 = RegularizedNet(module=MyModule, criterion=torch.nn.NLLLoss, \n",
    " #                       optimizer= ..., lr = 0.001, lambda1 = ...,  module__dropout = 0,\n",
    "  #                      optimizer__weight_decay = 0)\n",
    "\n",
    "new_net_L1 = RegularizedNet(module=MyModule, criterion=torch.nn.NLLLoss, \n",
    "                        optimizer= torch.optim.SGD, lr = 0.1, lambda1 = 0.0001,  module__dropout = 0,\n",
    "                        optimizer__weight_decay = 0, module__layer1size = 400, module__layer2size = 150,\n",
    "                        module__input_size = 784, module__num_classes = 10)\n",
    "\n",
    "\n",
    "\n"
   ]
  },
  {
   "cell_type": "code",
   "execution_count": 120,
   "metadata": {},
   "outputs": [],
   "source": [
    "gsL = GridSearchCV(new_net_L1, grid1, refit=True, cv=5, scoring=my_scoring)"
   ]
  },
  {
   "cell_type": "code",
   "execution_count": 121,
   "metadata": {},
   "outputs": [
    {
     "name": "stderr",
     "output_type": "stream",
     "text": [
      "<ipython-input-9-bb6654121bf9>:51: UserWarning: Implicit dimension choice for log_softmax has been deprecated. Change the call to include dim=X as an argument.\n",
      "  out = self.Last(out)\n"
     ]
    },
    {
     "name": "stdout",
     "output_type": "stream",
     "text": [
      "  epoch    train_loss    valid_loss     dur\n",
      "-------  ------------  ------------  ------\n",
      "      1        \u001b[36m7.2935\u001b[0m        \u001b[32m4.1866\u001b[0m  2.2945\n",
      "      2        \u001b[36m4.1811\u001b[0m        \u001b[32m4.1865\u001b[0m  2.6494\n",
      "      3        \u001b[36m4.1811\u001b[0m        4.1865  2.5838\n",
      "      4        4.1811        \u001b[32m4.1865\u001b[0m  2.5092\n",
      "      5        4.1811        4.1866  2.3934\n",
      "      6        4.1811        4.1866  2.6351\n",
      "      7        4.1811        4.1866  2.4452\n",
      "      8        4.1811        4.1866  2.4056\n",
      "      9        4.1811        4.1866  2.5166\n",
      "     10        4.1811        4.1866  2.2657\n"
     ]
    },
    {
     "name": "stderr",
     "output_type": "stream",
     "text": [
      "<ipython-input-9-bb6654121bf9>:51: UserWarning: Implicit dimension choice for log_softmax has been deprecated. Change the call to include dim=X as an argument.\n",
      "  out = self.Last(out)\n"
     ]
    },
    {
     "name": "stdout",
     "output_type": "stream",
     "text": [
      "  epoch    train_loss    valid_loss     dur\n",
      "-------  ------------  ------------  ------\n",
      "      1        \u001b[36m7.2970\u001b[0m        \u001b[32m4.1864\u001b[0m  2.7059\n",
      "      2        \u001b[36m4.1811\u001b[0m        4.1864  2.5966\n",
      "      3        4.1811        4.1865  2.2601\n",
      "      4        \u001b[36m4.1811\u001b[0m        4.1865  2.2234\n",
      "      5        \u001b[36m4.1811\u001b[0m        4.1865  2.3745\n",
      "      6        4.1811        4.1866  2.6532\n",
      "      7        4.1811        4.1866  2.3174\n",
      "      8        4.1811        4.1867  2.6290\n",
      "      9        4.1811        4.1867  2.6722\n",
      "     10        \u001b[36m4.1811\u001b[0m        4.1868  2.7579\n"
     ]
    },
    {
     "name": "stderr",
     "output_type": "stream",
     "text": [
      "<ipython-input-9-bb6654121bf9>:51: UserWarning: Implicit dimension choice for log_softmax has been deprecated. Change the call to include dim=X as an argument.\n",
      "  out = self.Last(out)\n"
     ]
    },
    {
     "name": "stdout",
     "output_type": "stream",
     "text": [
      "  epoch    train_loss    valid_loss     dur\n",
      "-------  ------------  ------------  ------\n",
      "      1        \u001b[36m7.2946\u001b[0m        \u001b[32m4.1880\u001b[0m  2.6104\n",
      "      2        \u001b[36m4.1811\u001b[0m        \u001b[32m4.1880\u001b[0m  2.7468\n",
      "      3        \u001b[36m4.1811\u001b[0m        4.1880  2.6343\n",
      "      4        4.1811        4.1880  2.6470\n",
      "      5        4.1811        4.1880  2.6402\n",
      "      6        \u001b[36m4.1811\u001b[0m        \u001b[32m4.1880\u001b[0m  2.6462\n",
      "      7        4.1811        \u001b[32m4.1880\u001b[0m  3.1409\n",
      "      8        4.1811        \u001b[32m4.1879\u001b[0m  2.9807\n",
      "      9        4.1811        \u001b[32m4.1879\u001b[0m  2.6127\n",
      "     10        4.1811        \u001b[32m4.1879\u001b[0m  2.2539\n"
     ]
    },
    {
     "name": "stderr",
     "output_type": "stream",
     "text": [
      "<ipython-input-9-bb6654121bf9>:51: UserWarning: Implicit dimension choice for log_softmax has been deprecated. Change the call to include dim=X as an argument.\n",
      "  out = self.Last(out)\n"
     ]
    },
    {
     "name": "stdout",
     "output_type": "stream",
     "text": [
      "  epoch    train_loss    valid_loss     dur\n",
      "-------  ------------  ------------  ------\n",
      "      1        \u001b[36m7.2911\u001b[0m        \u001b[32m4.1859\u001b[0m  2.3232\n",
      "      2        \u001b[36m4.1811\u001b[0m        4.1859  2.2614\n",
      "      3        4.1811        4.1859  2.3317\n",
      "      4        \u001b[36m4.1811\u001b[0m        4.1860  2.2591\n",
      "      5        \u001b[36m4.1811\u001b[0m        4.1860  2.2961\n",
      "      6        4.1811        4.1861  2.2804\n",
      "      7        4.1811        4.1861  2.2758\n",
      "      8        4.1811        4.1862  2.3251\n",
      "      9        4.1811        4.1862  2.2997\n",
      "     10        4.1811        4.1863  2.3000\n"
     ]
    },
    {
     "name": "stderr",
     "output_type": "stream",
     "text": [
      "<ipython-input-9-bb6654121bf9>:51: UserWarning: Implicit dimension choice for log_softmax has been deprecated. Change the call to include dim=X as an argument.\n",
      "  out = self.Last(out)\n"
     ]
    },
    {
     "name": "stdout",
     "output_type": "stream",
     "text": [
      "  epoch    train_loss    valid_loss     dur\n",
      "-------  ------------  ------------  ------\n",
      "      1        \u001b[36m7.3008\u001b[0m        \u001b[32m4.1875\u001b[0m  2.3007\n",
      "      2        \u001b[36m4.1810\u001b[0m        \u001b[32m4.1874\u001b[0m  2.3371\n",
      "      3        4.1810        \u001b[32m4.1874\u001b[0m  2.3047\n",
      "      4        4.1810        \u001b[32m4.1873\u001b[0m  2.4195\n",
      "      5        4.1810        \u001b[32m4.1873\u001b[0m  2.9652\n",
      "      6        4.1810        4.1874  2.5760\n",
      "      7        4.1810        4.1874  2.4609\n",
      "      8        4.1810        4.1874  2.3667\n",
      "      9        4.1810        4.1874  2.3275\n",
      "     10        4.1810        4.1875  2.3577\n"
     ]
    },
    {
     "name": "stderr",
     "output_type": "stream",
     "text": [
      "<ipython-input-9-bb6654121bf9>:51: UserWarning: Implicit dimension choice for log_softmax has been deprecated. Change the call to include dim=X as an argument.\n",
      "  out = self.Last(out)\n"
     ]
    },
    {
     "name": "stdout",
     "output_type": "stream",
     "text": [
      "  epoch    train_loss    valid_loss     dur\n",
      "-------  ------------  ------------  ------\n",
      "      1        \u001b[36m4.4776\u001b[0m        \u001b[32m1.7326\u001b[0m  2.4267\n",
      "      2        \u001b[36m1.2631\u001b[0m        \u001b[32m1.0546\u001b[0m  2.2889\n",
      "      3        \u001b[36m0.9328\u001b[0m        \u001b[32m0.8875\u001b[0m  2.3219\n",
      "      4        \u001b[36m0.8106\u001b[0m        \u001b[32m0.8078\u001b[0m  2.4423\n",
      "      5        \u001b[36m0.7425\u001b[0m        \u001b[32m0.7605\u001b[0m  2.3778\n",
      "      6        \u001b[36m0.6968\u001b[0m        \u001b[32m0.7277\u001b[0m  2.5689\n",
      "      7        \u001b[36m0.6637\u001b[0m        \u001b[32m0.7050\u001b[0m  2.3961\n",
      "      8        \u001b[36m0.6386\u001b[0m        \u001b[32m0.6877\u001b[0m  2.4499\n",
      "      9        \u001b[36m0.6188\u001b[0m        \u001b[32m0.6688\u001b[0m  2.3834\n",
      "     10        \u001b[36m0.6032\u001b[0m        \u001b[32m0.6528\u001b[0m  2.3740\n"
     ]
    },
    {
     "name": "stderr",
     "output_type": "stream",
     "text": [
      "<ipython-input-9-bb6654121bf9>:51: UserWarning: Implicit dimension choice for log_softmax has been deprecated. Change the call to include dim=X as an argument.\n",
      "  out = self.Last(out)\n"
     ]
    },
    {
     "name": "stdout",
     "output_type": "stream",
     "text": [
      "  epoch    train_loss    valid_loss     dur\n",
      "-------  ------------  ------------  ------\n",
      "      1        \u001b[36m4.5113\u001b[0m        \u001b[32m1.7382\u001b[0m  2.3047\n",
      "      2        \u001b[36m1.2888\u001b[0m        \u001b[32m1.0653\u001b[0m  2.2922\n",
      "      3        \u001b[36m0.9557\u001b[0m        \u001b[32m0.8910\u001b[0m  2.3782\n",
      "      4        \u001b[36m0.8267\u001b[0m        \u001b[32m0.8097\u001b[0m  2.4571\n",
      "      5        \u001b[36m0.7581\u001b[0m        \u001b[32m0.7609\u001b[0m  2.6647\n",
      "      6        \u001b[36m0.7154\u001b[0m        \u001b[32m0.7280\u001b[0m  2.8308\n",
      "      7        \u001b[36m0.6844\u001b[0m        \u001b[32m0.7036\u001b[0m  2.7940\n",
      "      8        \u001b[36m0.6601\u001b[0m        \u001b[32m0.6836\u001b[0m  2.8547\n",
      "      9        \u001b[36m0.6398\u001b[0m        \u001b[32m0.6709\u001b[0m  2.5771\n",
      "     10        \u001b[36m0.6228\u001b[0m        \u001b[32m0.6576\u001b[0m  2.4876\n"
     ]
    },
    {
     "name": "stderr",
     "output_type": "stream",
     "text": [
      "<ipython-input-9-bb6654121bf9>:51: UserWarning: Implicit dimension choice for log_softmax has been deprecated. Change the call to include dim=X as an argument.\n",
      "  out = self.Last(out)\n"
     ]
    },
    {
     "name": "stdout",
     "output_type": "stream",
     "text": [
      "  epoch    train_loss    valid_loss     dur\n",
      "-------  ------------  ------------  ------\n",
      "      1        \u001b[36m4.5232\u001b[0m        \u001b[32m1.7402\u001b[0m  2.5350\n",
      "      2        \u001b[36m1.2867\u001b[0m        \u001b[32m1.0565\u001b[0m  2.3975\n",
      "      3        \u001b[36m0.9487\u001b[0m        \u001b[32m0.8757\u001b[0m  2.3929\n",
      "      4        \u001b[36m0.8178\u001b[0m        \u001b[32m0.7854\u001b[0m  2.4167\n",
      "      5        \u001b[36m0.7455\u001b[0m        \u001b[32m0.7342\u001b[0m  2.5637\n",
      "      6        \u001b[36m0.6974\u001b[0m        \u001b[32m0.6972\u001b[0m  2.6763\n",
      "      7        \u001b[36m0.6609\u001b[0m        \u001b[32m0.6718\u001b[0m  2.7685\n",
      "      8        \u001b[36m0.6342\u001b[0m        \u001b[32m0.6533\u001b[0m  2.6808\n",
      "      9        \u001b[36m0.6142\u001b[0m        \u001b[32m0.6405\u001b[0m  2.5898\n",
      "     10        \u001b[36m0.5981\u001b[0m        \u001b[32m0.6301\u001b[0m  2.6637\n"
     ]
    },
    {
     "name": "stderr",
     "output_type": "stream",
     "text": [
      "<ipython-input-9-bb6654121bf9>:51: UserWarning: Implicit dimension choice for log_softmax has been deprecated. Change the call to include dim=X as an argument.\n",
      "  out = self.Last(out)\n"
     ]
    },
    {
     "name": "stdout",
     "output_type": "stream",
     "text": [
      "  epoch    train_loss    valid_loss     dur\n",
      "-------  ------------  ------------  ------\n",
      "      1        \u001b[36m4.5042\u001b[0m        \u001b[32m1.7157\u001b[0m  2.7860\n",
      "      2        \u001b[36m1.2574\u001b[0m        \u001b[32m1.0351\u001b[0m  2.9125\n",
      "      3        \u001b[36m0.9312\u001b[0m        \u001b[32m0.8750\u001b[0m  2.9094\n",
      "      4        \u001b[36m0.8138\u001b[0m        \u001b[32m0.8012\u001b[0m  2.9933\n",
      "      5        \u001b[36m0.7507\u001b[0m        \u001b[32m0.7568\u001b[0m  3.0027\n",
      "      6        \u001b[36m0.7107\u001b[0m        \u001b[32m0.7313\u001b[0m  3.0576\n",
      "      7        \u001b[36m0.6821\u001b[0m        \u001b[32m0.7094\u001b[0m  3.0305\n",
      "      8        \u001b[36m0.6602\u001b[0m        \u001b[32m0.6941\u001b[0m  2.6909\n",
      "      9        \u001b[36m0.6424\u001b[0m        \u001b[32m0.6797\u001b[0m  2.7980\n",
      "     10        \u001b[36m0.6274\u001b[0m        \u001b[32m0.6717\u001b[0m  2.9691\n"
     ]
    },
    {
     "name": "stderr",
     "output_type": "stream",
     "text": [
      "<ipython-input-9-bb6654121bf9>:51: UserWarning: Implicit dimension choice for log_softmax has been deprecated. Change the call to include dim=X as an argument.\n",
      "  out = self.Last(out)\n"
     ]
    },
    {
     "name": "stdout",
     "output_type": "stream",
     "text": [
      "  epoch    train_loss    valid_loss     dur\n",
      "-------  ------------  ------------  ------\n",
      "      1        \u001b[36m4.4908\u001b[0m        \u001b[32m1.8491\u001b[0m  2.8488\n",
      "      2        \u001b[36m1.3066\u001b[0m        \u001b[32m1.1109\u001b[0m  2.5576\n",
      "      3        \u001b[36m0.9762\u001b[0m        \u001b[32m0.9207\u001b[0m  2.8140\n",
      "      4        \u001b[36m0.8504\u001b[0m        \u001b[32m0.8254\u001b[0m  2.7332\n",
      "      5        \u001b[36m0.7798\u001b[0m        \u001b[32m0.7656\u001b[0m  2.7828\n",
      "      6        \u001b[36m0.7322\u001b[0m        \u001b[32m0.7235\u001b[0m  2.6953\n",
      "      7        \u001b[36m0.6981\u001b[0m        \u001b[32m0.6903\u001b[0m  2.7848\n",
      "      8        \u001b[36m0.6732\u001b[0m        \u001b[32m0.6657\u001b[0m  2.5500\n",
      "      9        \u001b[36m0.6533\u001b[0m        \u001b[32m0.6465\u001b[0m  2.5984\n",
      "     10        \u001b[36m0.6360\u001b[0m        \u001b[32m0.6291\u001b[0m  2.6186\n"
     ]
    },
    {
     "name": "stderr",
     "output_type": "stream",
     "text": [
      "<ipython-input-9-bb6654121bf9>:51: UserWarning: Implicit dimension choice for log_softmax has been deprecated. Change the call to include dim=X as an argument.\n",
      "  out = self.Last(out)\n"
     ]
    },
    {
     "name": "stdout",
     "output_type": "stream",
     "text": [
      "  epoch    train_loss    valid_loss     dur\n",
      "-------  ------------  ------------  ------\n",
      "      1        \u001b[36m1.5713\u001b[0m        \u001b[32m1.0749\u001b[0m  2.5569\n",
      "      2        \u001b[36m0.9514\u001b[0m        \u001b[32m0.9077\u001b[0m  2.4738\n",
      "      3        \u001b[36m0.8083\u001b[0m        \u001b[32m0.7906\u001b[0m  2.5449\n",
      "      4        \u001b[36m0.6983\u001b[0m        \u001b[32m0.6982\u001b[0m  2.5117\n",
      "      5        \u001b[36m0.6096\u001b[0m        \u001b[32m0.6208\u001b[0m  2.5863\n",
      "      6        \u001b[36m0.5366\u001b[0m        \u001b[32m0.5529\u001b[0m  2.8147\n",
      "      7        \u001b[36m0.4760\u001b[0m        \u001b[32m0.4962\u001b[0m  2.6791\n",
      "      8        \u001b[36m0.4258\u001b[0m        \u001b[32m0.4473\u001b[0m  2.7165\n",
      "      9        \u001b[36m0.3846\u001b[0m        \u001b[32m0.4082\u001b[0m  2.6505\n",
      "     10        \u001b[36m0.3513\u001b[0m        \u001b[32m0.3766\u001b[0m  2.6572\n"
     ]
    },
    {
     "name": "stderr",
     "output_type": "stream",
     "text": [
      "<ipython-input-9-bb6654121bf9>:51: UserWarning: Implicit dimension choice for log_softmax has been deprecated. Change the call to include dim=X as an argument.\n",
      "  out = self.Last(out)\n"
     ]
    },
    {
     "name": "stdout",
     "output_type": "stream",
     "text": [
      "  epoch    train_loss    valid_loss     dur\n",
      "-------  ------------  ------------  ------\n",
      "      1        \u001b[36m1.5390\u001b[0m        \u001b[32m1.0534\u001b[0m  2.8333\n",
      "      2        \u001b[36m0.9477\u001b[0m        \u001b[32m0.8919\u001b[0m  2.7279\n",
      "      3        \u001b[36m0.8110\u001b[0m        \u001b[32m0.7775\u001b[0m  2.6143\n",
      "      4        \u001b[36m0.7027\u001b[0m        \u001b[32m0.6864\u001b[0m  3.0352\n",
      "      5        \u001b[36m0.6136\u001b[0m        \u001b[32m0.6112\u001b[0m  2.6771\n",
      "      6        \u001b[36m0.5400\u001b[0m        \u001b[32m0.5469\u001b[0m  2.6041\n",
      "      7        \u001b[36m0.4788\u001b[0m        \u001b[32m0.4914\u001b[0m  2.6575\n",
      "      8        \u001b[36m0.4283\u001b[0m        \u001b[32m0.4458\u001b[0m  2.7611\n",
      "      9        \u001b[36m0.3870\u001b[0m        \u001b[32m0.4083\u001b[0m  2.5529\n",
      "     10        \u001b[36m0.3537\u001b[0m        \u001b[32m0.3790\u001b[0m  2.5910\n"
     ]
    },
    {
     "name": "stderr",
     "output_type": "stream",
     "text": [
      "<ipython-input-9-bb6654121bf9>:51: UserWarning: Implicit dimension choice for log_softmax has been deprecated. Change the call to include dim=X as an argument.\n",
      "  out = self.Last(out)\n"
     ]
    },
    {
     "name": "stdout",
     "output_type": "stream",
     "text": [
      "  epoch    train_loss    valid_loss     dur\n",
      "-------  ------------  ------------  ------\n",
      "      1        \u001b[36m1.5511\u001b[0m        \u001b[32m1.0613\u001b[0m  2.6310\n",
      "      2        \u001b[36m0.9454\u001b[0m        \u001b[32m0.8917\u001b[0m  2.5544\n",
      "      3        \u001b[36m0.8063\u001b[0m        \u001b[32m0.7746\u001b[0m  2.6508\n",
      "      4        \u001b[36m0.6970\u001b[0m        \u001b[32m0.6818\u001b[0m  2.6449\n",
      "      5        \u001b[36m0.6079\u001b[0m        \u001b[32m0.6041\u001b[0m  2.6399\n",
      "      6        \u001b[36m0.5346\u001b[0m        \u001b[32m0.5394\u001b[0m  2.5383\n",
      "      7        \u001b[36m0.4739\u001b[0m        \u001b[32m0.4861\u001b[0m  2.5550\n",
      "      8        \u001b[36m0.4238\u001b[0m        \u001b[32m0.4414\u001b[0m  2.5850\n",
      "      9        \u001b[36m0.3829\u001b[0m        \u001b[32m0.4058\u001b[0m  2.5821\n",
      "     10        \u001b[36m0.3499\u001b[0m        \u001b[32m0.3775\u001b[0m  2.5540\n"
     ]
    },
    {
     "name": "stderr",
     "output_type": "stream",
     "text": [
      "<ipython-input-9-bb6654121bf9>:51: UserWarning: Implicit dimension choice for log_softmax has been deprecated. Change the call to include dim=X as an argument.\n",
      "  out = self.Last(out)\n"
     ]
    },
    {
     "name": "stdout",
     "output_type": "stream",
     "text": [
      "  epoch    train_loss    valid_loss     dur\n",
      "-------  ------------  ------------  ------\n",
      "      1        \u001b[36m1.5565\u001b[0m        \u001b[32m1.0595\u001b[0m  2.5645\n",
      "      2        \u001b[36m0.9484\u001b[0m        \u001b[32m0.8892\u001b[0m  2.5687\n",
      "      3        \u001b[36m0.8064\u001b[0m        \u001b[32m0.7733\u001b[0m  2.5589\n",
      "      4        \u001b[36m0.6963\u001b[0m        \u001b[32m0.6835\u001b[0m  2.5477\n",
      "      5        \u001b[36m0.6066\u001b[0m        \u001b[32m0.6083\u001b[0m  2.7606\n",
      "      6        \u001b[36m0.5326\u001b[0m        \u001b[32m0.5443\u001b[0m  2.6783\n",
      "      7        \u001b[36m0.4711\u001b[0m        \u001b[32m0.4888\u001b[0m  2.5588\n",
      "      8        \u001b[36m0.4202\u001b[0m        \u001b[32m0.4415\u001b[0m  2.6501\n",
      "      9        \u001b[36m0.3785\u001b[0m        \u001b[32m0.4032\u001b[0m  2.6035\n",
      "     10        \u001b[36m0.3449\u001b[0m        \u001b[32m0.3732\u001b[0m  2.5413\n"
     ]
    },
    {
     "name": "stderr",
     "output_type": "stream",
     "text": [
      "<ipython-input-9-bb6654121bf9>:51: UserWarning: Implicit dimension choice for log_softmax has been deprecated. Change the call to include dim=X as an argument.\n",
      "  out = self.Last(out)\n"
     ]
    },
    {
     "name": "stdout",
     "output_type": "stream",
     "text": [
      "  epoch    train_loss    valid_loss     dur\n",
      "-------  ------------  ------------  ------\n",
      "      1        \u001b[36m1.5701\u001b[0m        \u001b[32m1.0814\u001b[0m  2.6142\n",
      "      2        \u001b[36m0.9558\u001b[0m        \u001b[32m0.8865\u001b[0m  2.5775\n",
      "      3        \u001b[36m0.8123\u001b[0m        \u001b[32m0.7611\u001b[0m  2.5391\n",
      "      4        \u001b[36m0.7019\u001b[0m        \u001b[32m0.6643\u001b[0m  2.6732\n",
      "      5        \u001b[36m0.6127\u001b[0m        \u001b[32m0.5860\u001b[0m  2.6024\n",
      "      6        \u001b[36m0.5395\u001b[0m        \u001b[32m0.5222\u001b[0m  2.8772\n",
      "      7        \u001b[36m0.4792\u001b[0m        \u001b[32m0.4703\u001b[0m  2.9598\n",
      "      8        \u001b[36m0.4293\u001b[0m        \u001b[32m0.4275\u001b[0m  2.9538\n",
      "      9        \u001b[36m0.3884\u001b[0m        \u001b[32m0.3933\u001b[0m  2.9020\n",
      "     10        \u001b[36m0.3553\u001b[0m        \u001b[32m0.3666\u001b[0m  2.8105\n"
     ]
    },
    {
     "name": "stderr",
     "output_type": "stream",
     "text": [
      "<ipython-input-9-bb6654121bf9>:51: UserWarning: Implicit dimension choice for log_softmax has been deprecated. Change the call to include dim=X as an argument.\n",
      "  out = self.Last(out)\n"
     ]
    },
    {
     "name": "stdout",
     "output_type": "stream",
     "text": [
      "  epoch    train_loss    valid_loss     dur\n",
      "-------  ------------  ------------  ------\n",
      "      1        \u001b[36m1.4545\u001b[0m        \u001b[32m0.9931\u001b[0m  3.5223\n",
      "      2        \u001b[36m0.8930\u001b[0m        \u001b[32m0.8181\u001b[0m  3.4919\n",
      "      3        \u001b[36m0.7397\u001b[0m        \u001b[32m0.6998\u001b[0m  3.5059\n",
      "      4        \u001b[36m0.6228\u001b[0m        \u001b[32m0.6049\u001b[0m  3.4984\n",
      "      5        \u001b[36m0.5306\u001b[0m        \u001b[32m0.5238\u001b[0m  3.4575\n",
      "      6        \u001b[36m0.4577\u001b[0m        \u001b[32m0.4584\u001b[0m  3.8277\n",
      "      7        \u001b[36m0.4007\u001b[0m        \u001b[32m0.4065\u001b[0m  3.3553\n",
      "      8        \u001b[36m0.3569\u001b[0m        \u001b[32m0.3692\u001b[0m  3.4567\n",
      "      9        \u001b[36m0.3243\u001b[0m        \u001b[32m0.3429\u001b[0m  3.4439\n",
      "     10        \u001b[36m0.3010\u001b[0m        \u001b[32m0.3240\u001b[0m  3.3019\n"
     ]
    },
    {
     "data": {
      "text/plain": [
       "GridSearchCV(cv=5,\n",
       "             estimator=<class '__main__.RegularizedNet'>[uninitialized](\n",
       "  module=<class '__main__.MyModule'>,\n",
       "  module__dropout=0,\n",
       "  module__input_size=784,\n",
       "  module__layer1size=400,\n",
       "  module__layer2size=150,\n",
       "  module__num_classes=10,\n",
       "),\n",
       "             param_grid={'lambda1': [0.01, 0.001, 0.0001]},\n",
       "             scoring=<function my_scoring at 0x0000013B35DD9820>)"
      ]
     },
     "execution_count": 121,
     "metadata": {},
     "output_type": "execute_result"
    }
   ],
   "source": [
    "gsL.fit(X_train, y_train)"
   ]
  },
  {
   "cell_type": "code",
   "execution_count": 122,
   "metadata": {},
   "outputs": [
    {
     "name": "stdout",
     "output_type": "stream",
     "text": [
      "0.9520833333333334 {'lambda1': 0.0001}\n"
     ]
    }
   ],
   "source": [
    "print(gsL.best_score_, gsL.best_params_)"
   ]
  },
  {
   "cell_type": "markdown",
   "metadata": {},
   "source": [
    "# Problem 5.3"
   ]
  },
  {
   "cell_type": "code",
   "execution_count": null,
   "metadata": {},
   "outputs": [],
   "source": [
    "'''\n",
    "Keeping all the parameters for which you have got the best results before\n",
    "try different optimizers.\n",
    "\n",
    "Basically create the same new_net_l1 or new_net but train it with the requested optimizers in the pdf\n",
    "\n",
    "GridSeacrh is not required but you can do it if you want for the different parameters of the optimizers\n",
    "\n",
    "Notice you already train it with SGD in the previous problems\n",
    "'''\n",
    "\n"
   ]
  },
  {
   "cell_type": "code",
   "execution_count": null,
   "metadata": {},
   "outputs": [],
   "source": [
    "#module=MyModule, criterion=torch.nn.NLLLoss, \n",
    " #                       optimizer=torch.optim.SGD, lr = 0.13, lambda1 = 0,  module__dropout = 0.25,\n",
    "  #                      optimizer__weight_decay = 0, module__input_size = 784, module__layer1size = 400,\n",
    "   #                     module__layer2size = 150, module__num_classes = 10"
   ]
  },
  {
   "cell_type": "code",
   "execution_count": 95,
   "metadata": {},
   "outputs": [
    {
     "data": {
      "text/plain": [
       "'\\n-Step now fit it and print the accuracy as in problem 1\\n'"
      ]
     },
     "execution_count": 95,
     "metadata": {},
     "output_type": "execute_result"
    }
   ],
   "source": [
    "# Adam (look how I defined optimizer)\n",
    "\n",
    "# It seems like we got the better results using L2.\n",
    "\n",
    "New_net = RegularizedNet(module=MyModule, criterion=torch.nn.NLLLoss, \n",
    "                        optimizer= torch.optim.Adam, lr = 0.1, lambda1 = 0,  module__dropout = 0,\n",
    "                        optimizer__weight_decay = 0, module__input_size = 784, module__layer1size = 400,\n",
    "                        module__layer2size = 150, module__num_classes = 10)\n",
    "\n",
    "'''\n",
    "-Step now fit it and print the accuracy as in problem 1\n",
    "'''"
   ]
  },
  {
   "cell_type": "code",
   "execution_count": 96,
   "metadata": {},
   "outputs": [
    {
     "name": "stderr",
     "output_type": "stream",
     "text": [
      "<ipython-input-9-bb6654121bf9>:51: UserWarning: Implicit dimension choice for log_softmax has been deprecated. Change the call to include dim=X as an argument.\n",
      "  out = self.Last(out)\n"
     ]
    },
    {
     "name": "stdout",
     "output_type": "stream",
     "text": [
      "  epoch    train_loss    valid_loss     dur\n",
      "-------  ------------  ------------  ------\n",
      "      1        \u001b[36m2.3317\u001b[0m        \u001b[32m1.2852\u001b[0m  3.2810\n",
      "      2        \u001b[36m1.3450\u001b[0m        1.2928  3.5416\n",
      "      3        \u001b[36m1.2901\u001b[0m        1.3178  5.0029\n",
      "      4        1.4899        1.2855  4.7790\n",
      "      5        1.4188        1.6250  4.7682\n",
      "      6        1.4615        1.4607  4.9151\n",
      "      7        1.3927        1.4401  5.0969\n",
      "      8        1.3339        1.2875  4.8465\n",
      "      9        1.2941        \u001b[32m1.2607\u001b[0m  4.9502\n",
      "     10        1.3221        1.7542  4.9386\n",
      "     11        1.5108        1.6079  5.0767\n",
      "     12        1.6297        1.6164  4.9303\n",
      "     13        1.5980        1.5914  5.4667\n",
      "     14        1.6852        1.6481  5.3050\n",
      "     15        1.6295        1.6172  5.1443\n",
      "     16        1.6912        1.6748  4.9787\n",
      "     17        1.6617        1.8374  4.9209\n",
      "     18        1.6189        1.5713  5.4282\n",
      "     19        1.6590        1.6127  5.3419\n",
      "     20        1.7034        1.7079  5.1151\n"
     ]
    },
    {
     "data": {
      "text/plain": [
       "<class '__main__.RegularizedNet'>[initialized](\n",
       "  module_=MyModule(\n",
       "    (first): Linear(in_features=784, out_features=400, bias=True)\n",
       "    (relu): ReLU()\n",
       "    (second): Linear(in_features=400, out_features=150, bias=True)\n",
       "    (last): Linear(in_features=150, out_features=10, bias=True)\n",
       "    (Last): LogSoftmax(dim=None)\n",
       "    (dropout): Dropout(p=0, inplace=False)\n",
       "  ),\n",
       ")"
      ]
     },
     "execution_count": 96,
     "metadata": {},
     "output_type": "execute_result"
    }
   ],
   "source": [
    "New_net.fit(X_train, y_train, epochs=20)"
   ]
  },
  {
   "cell_type": "code",
   "execution_count": 98,
   "metadata": {},
   "outputs": [
    {
     "name": "stderr",
     "output_type": "stream",
     "text": [
      "<ipython-input-9-bb6654121bf9>:51: UserWarning: Implicit dimension choice for log_softmax has been deprecated. Change the call to include dim=X as an argument.\n",
      "  out = self.Last(out)\n"
     ]
    }
   ],
   "source": [
    "ya_pred_probs = New_net.predict(X_test)\n",
    "ya_pred = torch.tensor([np.argmax(ya_pred_probs[i]) for i in range(ya_pred_probs.shape[0])])\n",
    "ya_pred = ya_pred.type(torch.LongTensor)"
   ]
  },
  {
   "cell_type": "code",
   "execution_count": 99,
   "metadata": {},
   "outputs": [
    {
     "data": {
      "text/plain": [
       "0.2557"
      ]
     },
     "execution_count": 99,
     "metadata": {},
     "output_type": "execute_result"
    }
   ],
   "source": [
    "accuracy_score(y_test,ya_pred)"
   ]
  },
  {
   "cell_type": "code",
   "execution_count": null,
   "metadata": {},
   "outputs": [],
   "source": [
    "# SGD with momentum "
   ]
  },
  {
   "cell_type": "code",
   "execution_count": 100,
   "metadata": {},
   "outputs": [],
   "source": [
    "New_net2 = RegularizedNet(module=MyModule, criterion=torch.nn.NLLLoss, \n",
    "                        optimizer= torch.optim.SGD, lr = 0.1, lambda1 = 0,  module__dropout = 0,\n",
    "                        optimizer__weight_decay = 0, module__input_size = 784, module__layer1size = 400,\n",
    "                        module__layer2size = 150, module__num_classes = 10, optimizer__momentum = 0.9)"
   ]
  },
  {
   "cell_type": "code",
   "execution_count": 101,
   "metadata": {},
   "outputs": [
    {
     "name": "stderr",
     "output_type": "stream",
     "text": [
      "<ipython-input-9-bb6654121bf9>:51: UserWarning: Implicit dimension choice for log_softmax has been deprecated. Change the call to include dim=X as an argument.\n",
      "  out = self.Last(out)\n"
     ]
    },
    {
     "name": "stdout",
     "output_type": "stream",
     "text": [
      "  epoch    train_loss    valid_loss     dur\n",
      "-------  ------------  ------------  ------\n",
      "      1        \u001b[36m0.3799\u001b[0m        \u001b[32m0.1908\u001b[0m  3.0065\n",
      "      2        \u001b[36m0.1303\u001b[0m        \u001b[32m0.1152\u001b[0m  3.1291\n",
      "      3        \u001b[36m0.0874\u001b[0m        0.1540  3.1424\n",
      "      4        \u001b[36m0.0623\u001b[0m        0.2133  3.1813\n",
      "      5        \u001b[36m0.0445\u001b[0m        0.1166  3.1655\n",
      "      6        \u001b[36m0.0304\u001b[0m        \u001b[32m0.0873\u001b[0m  3.0386\n",
      "      7        \u001b[36m0.0213\u001b[0m        0.1132  3.1019\n",
      "      8        \u001b[36m0.0154\u001b[0m        0.0944  3.1153\n",
      "      9        0.0165        0.0893  3.1658\n",
      "     10        \u001b[36m0.0092\u001b[0m        0.0994  3.2538\n",
      "     11        0.0108        0.1038  3.1913\n",
      "     12        0.0119        0.1074  3.3298\n",
      "     13        \u001b[36m0.0089\u001b[0m        0.1728  3.5283\n",
      "     14        0.0107        0.1106  3.3284\n",
      "     15        0.0093        0.1225  3.1139\n",
      "     16        \u001b[36m0.0088\u001b[0m        0.1273  3.4461\n",
      "     17        \u001b[36m0.0048\u001b[0m        0.1159  3.4036\n",
      "     18        0.0080        0.1605  3.3544\n",
      "     19        0.0089        0.1139  3.4482\n",
      "     20        \u001b[36m0.0025\u001b[0m        0.1175  3.3114\n"
     ]
    },
    {
     "data": {
      "text/plain": [
       "<class '__main__.RegularizedNet'>[initialized](\n",
       "  module_=MyModule(\n",
       "    (first): Linear(in_features=784, out_features=400, bias=True)\n",
       "    (relu): ReLU()\n",
       "    (second): Linear(in_features=400, out_features=150, bias=True)\n",
       "    (last): Linear(in_features=150, out_features=10, bias=True)\n",
       "    (Last): LogSoftmax(dim=None)\n",
       "    (dropout): Dropout(p=0, inplace=False)\n",
       "  ),\n",
       ")"
      ]
     },
     "execution_count": 101,
     "metadata": {},
     "output_type": "execute_result"
    }
   ],
   "source": [
    "New_net2.fit(X_train, y_train, epochs=20)"
   ]
  },
  {
   "cell_type": "code",
   "execution_count": 102,
   "metadata": {},
   "outputs": [
    {
     "name": "stderr",
     "output_type": "stream",
     "text": [
      "<ipython-input-9-bb6654121bf9>:51: UserWarning: Implicit dimension choice for log_softmax has been deprecated. Change the call to include dim=X as an argument.\n",
      "  out = self.Last(out)\n"
     ]
    }
   ],
   "source": [
    "yb_pred_probs = New_net2.predict(X_test)\n",
    "yb_pred = torch.tensor([np.argmax(yb_pred_probs[i]) for i in range(yb_pred_probs.shape[0])])\n",
    "yb_pred = yb_pred.type(torch.LongTensor)"
   ]
  },
  {
   "cell_type": "code",
   "execution_count": 103,
   "metadata": {},
   "outputs": [
    {
     "data": {
      "text/plain": [
       "0.9802"
      ]
     },
     "execution_count": 103,
     "metadata": {},
     "output_type": "execute_result"
    }
   ],
   "source": [
    "accuracy_score(y_test,yb_pred)"
   ]
  },
  {
   "cell_type": "code",
   "execution_count": null,
   "metadata": {},
   "outputs": [],
   "source": [
    "# AdaGrad"
   ]
  },
  {
   "cell_type": "code",
   "execution_count": 113,
   "metadata": {},
   "outputs": [],
   "source": [
    "New_net3 = RegularizedNet(module=MyModule, criterion=torch.nn.NLLLoss, \n",
    "                        optimizer= torch.optim.Adagrad, lr = 0.1, lambda1 = 0,  module__dropout = 0,\n",
    "                        optimizer__weight_decay = 0, module__input_size = 784, module__layer1size = 400,\n",
    "                        module__layer2size = 150, module__num_classes = 10)"
   ]
  },
  {
   "cell_type": "code",
   "execution_count": 116,
   "metadata": {},
   "outputs": [
    {
     "name": "stdout",
     "output_type": "stream",
     "text": [
      "Re-initializing module because the following parameters were re-set: dropout, input_size, layer1size, layer2size, num_classes.\n",
      "Re-initializing optimizer because the following parameters were re-set: weight_decay.\n"
     ]
    },
    {
     "name": "stderr",
     "output_type": "stream",
     "text": [
      "<ipython-input-9-bb6654121bf9>:51: UserWarning: Implicit dimension choice for log_softmax has been deprecated. Change the call to include dim=X as an argument.\n",
      "  out = self.Last(out)\n"
     ]
    },
    {
     "name": "stdout",
     "output_type": "stream",
     "text": [
      "  epoch    train_loss    valid_loss     dur\n",
      "-------  ------------  ------------  ------\n",
      "      1        \u001b[36m1.2395\u001b[0m        \u001b[32m0.2015\u001b[0m  3.2542\n",
      "      2        \u001b[36m0.1334\u001b[0m        \u001b[32m0.1511\u001b[0m  3.2636\n",
      "      3        \u001b[36m0.0916\u001b[0m        \u001b[32m0.1362\u001b[0m  3.2229\n",
      "      4        \u001b[36m0.0684\u001b[0m        \u001b[32m0.1292\u001b[0m  3.2316\n",
      "      5        \u001b[36m0.0527\u001b[0m        0.1312  3.2452\n",
      "      6        \u001b[36m0.0409\u001b[0m        0.1319  3.1513\n",
      "      7        \u001b[36m0.0322\u001b[0m        0.1325  3.1861\n",
      "      8        \u001b[36m0.0252\u001b[0m        0.1357  3.2486\n",
      "      9        \u001b[36m0.0199\u001b[0m        0.1404  3.2110\n",
      "     10        \u001b[36m0.0157\u001b[0m        0.1443  3.2743\n"
     ]
    },
    {
     "data": {
      "text/plain": [
       "<class '__main__.RegularizedNet'>[initialized](\n",
       "  module_=MyModule(\n",
       "    (first): Linear(in_features=784, out_features=400, bias=True)\n",
       "    (relu): ReLU()\n",
       "    (second): Linear(in_features=400, out_features=150, bias=True)\n",
       "    (last): Linear(in_features=150, out_features=10, bias=True)\n",
       "    (Last): LogSoftmax(dim=None)\n",
       "    (dropout): Dropout(p=0, inplace=False)\n",
       "  ),\n",
       ")"
      ]
     },
     "execution_count": 116,
     "metadata": {},
     "output_type": "execute_result"
    }
   ],
   "source": [
    "New_net3.fit(X_train, y_train)"
   ]
  },
  {
   "cell_type": "code",
   "execution_count": 117,
   "metadata": {},
   "outputs": [
    {
     "name": "stderr",
     "output_type": "stream",
     "text": [
      "<ipython-input-9-bb6654121bf9>:51: UserWarning: Implicit dimension choice for log_softmax has been deprecated. Change the call to include dim=X as an argument.\n",
      "  out = self.Last(out)\n"
     ]
    }
   ],
   "source": [
    "yc_pred_probs = New_net3.predict(X_test)\n",
    "yc_pred = torch.tensor([np.argmax(yc_pred_probs[i]) for i in range(yc_pred_probs.shape[0])])\n",
    "yc_pred = yc_pred.type(torch.LongTensor)"
   ]
  },
  {
   "cell_type": "code",
   "execution_count": 118,
   "metadata": {},
   "outputs": [
    {
     "data": {
      "text/plain": [
       "0.9686"
      ]
     },
     "execution_count": 118,
     "metadata": {},
     "output_type": "execute_result"
    }
   ],
   "source": [
    "accuracy_score(y_test,yc_pred)"
   ]
  },
  {
   "cell_type": "code",
   "execution_count": null,
   "metadata": {},
   "outputs": [],
   "source": []
  }
 ],
 "metadata": {
  "colab": {
   "name": "HW4.ipynb",
   "provenance": []
  },
  "kernelspec": {
   "display_name": "Python 3",
   "language": "python",
   "name": "python3"
  },
  "language_info": {
   "codemirror_mode": {
    "name": "ipython",
    "version": 3
   },
   "file_extension": ".py",
   "mimetype": "text/x-python",
   "name": "python",
   "nbconvert_exporter": "python",
   "pygments_lexer": "ipython3",
   "version": "3.8.8"
  }
 },
 "nbformat": 4,
 "nbformat_minor": 1
}
