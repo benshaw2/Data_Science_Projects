{
 "cells": [
  {
   "cell_type": "code",
   "execution_count": 1,
   "id": "a99d4e1e",
   "metadata": {},
   "outputs": [],
   "source": [
    "import numpy as np\n",
    "from scipy.io import loadmat\n",
    "from scipy.optimize import minimize_scalar\n",
    "import matplotlib.pyplot as plt\n",
    "from scipy.spatial import distance"
   ]
  },
  {
   "cell_type": "code",
   "execution_count": 2,
   "id": "3d5aaa09",
   "metadata": {},
   "outputs": [],
   "source": [
    "dataSet = loadmat('anomaly.mat')"
   ]
  },
  {
   "cell_type": "code",
   "execution_count": 3,
   "id": "166a9712",
   "metadata": {},
   "outputs": [],
   "source": [
    "X = dataSet['X']\n",
    "x1 = dataSet['xtest1']\n",
    "x2 = dataSet['xtest2']"
   ]
  },
  {
   "cell_type": "code",
   "execution_count": 4,
   "id": "c5a19cb2",
   "metadata": {},
   "outputs": [],
   "source": [
    "Xtest = X[0]"
   ]
  },
  {
   "cell_type": "code",
   "execution_count": 5,
   "id": "a4dd633e",
   "metadata": {},
   "outputs": [],
   "source": [
    "def GaussianKernel(y,d):\n",
    "    arg = -1/2*np.dot(y,y)\n",
    "    const = (2*np.pi)**(-d/2)\n",
    "    out = const*np.exp(arg)\n",
    "    return out"
   ]
  },
  {
   "cell_type": "code",
   "execution_count": 6,
   "id": "03f23063",
   "metadata": {},
   "outputs": [],
   "source": [
    "def LOOCV(X,K,n):\n",
    "    \n",
    "    def f1(h,X,K,n):\n",
    "        d = X[0].size\n",
    "        toAdd = []\n",
    "        for i in range(n):\n",
    "            for j in range(n):\n",
    "                if h!=0:\n",
    "                    k = (np.sqrt(2)*h)**(-d)*K((X[i]-X[j])/(np.sqrt(2)*h),d)\n",
    "                    toAdd.extend([k])\n",
    "                else:\n",
    "                    k = 0\n",
    "                    toAdd.extend([k])\n",
    "        added = np.sum(toAdd)\n",
    "        term = 1/(n**2) * added\n",
    "        return term\n",
    "    \n",
    "    \n",
    "    def f2(h,X,K,n):\n",
    "        d = X[0].size\n",
    "        toAdd = []\n",
    "        for i in range(n):\n",
    "            js = [k for k in range(n) if k!=i]\n",
    "            for j in js:\n",
    "                if h!=0:\n",
    "                    k = h**(-d)*K((X[i]-X[j])/(h),d)\n",
    "                    toAdd.extend([k])\n",
    "                else:\n",
    "                    k = 0\n",
    "                    toAdd.extend([k])\n",
    "        added = np.sum(toAdd)\n",
    "        term = 2/(n*(n-1)) * added\n",
    "        return term\n",
    "    \n",
    "    def F(h):\n",
    "        return f1(h,X,K,n) - f2(h,X,K,n)\n",
    "    \n",
    "    res = minimize_scalar(F)\n",
    "    return res"
   ]
  },
  {
   "cell_type": "code",
   "execution_count": 7,
   "id": "b0014a0c",
   "metadata": {},
   "outputs": [],
   "source": [
    "test = LOOCV(Xtest,GaussianKernel,Xtest.shape[0])"
   ]
  },
  {
   "cell_type": "code",
   "execution_count": 8,
   "id": "b51b4778",
   "metadata": {},
   "outputs": [
    {
     "data": {
      "text/plain": [
       "     fun: -0.42972028611251256\n",
       " message: '\\nOptimization terminated successfully;\\nThe returned value satisfies the termination criteria\\n(using xtol = 1.48e-08 )'\n",
       "    nfev: 24\n",
       "     nit: 20\n",
       " success: True\n",
       "       x: 0.08055754589217583"
      ]
     },
     "execution_count": 8,
     "metadata": {},
     "output_type": "execute_result"
    }
   ],
   "source": [
    "test"
   ]
  },
  {
   "cell_type": "code",
   "execution_count": 9,
   "id": "db2ddefc",
   "metadata": {},
   "outputs": [],
   "source": [
    "#our h value is thus test.x = 0.08."
   ]
  },
  {
   "cell_type": "code",
   "execution_count": 10,
   "id": "f4420ddb",
   "metadata": {},
   "outputs": [
    {
     "data": {
      "text/plain": [
       "0.08055754589217583"
      ]
     },
     "execution_count": 10,
     "metadata": {},
     "output_type": "execute_result"
    }
   ],
   "source": [
    "hHat = test.x\n",
    "hHat"
   ]
  },
  {
   "cell_type": "code",
   "execution_count": 11,
   "id": "c18c80f4",
   "metadata": {},
   "outputs": [],
   "source": [
    "def KDE(x,X,K,h,n):\n",
    "    d = X[0].size\n",
    "    toAdd=[]\n",
    "    for i in range(n):\n",
    "        k = h**(-d)*K((X[i]-x)/(h),d)\n",
    "        toAdd.extend([k])\n",
    "    added = np.sum(toAdd)\n",
    "    term = 1/n * added\n",
    "    return term"
   ]
  },
  {
   "cell_type": "code",
   "execution_count": 12,
   "id": "d4592a88",
   "metadata": {},
   "outputs": [],
   "source": [
    "Xspace = np.linspace(-2,4,500)"
   ]
  },
  {
   "cell_type": "code",
   "execution_count": 13,
   "id": "fef72058",
   "metadata": {},
   "outputs": [],
   "source": [
    "Yspace = [KDE(xi,Xtest,GaussianKernel,hHat,Xtest.size) for xi in Xspace]"
   ]
  },
  {
   "cell_type": "code",
   "execution_count": 14,
   "id": "9c4e14d4",
   "metadata": {},
   "outputs": [
    {
     "data": {
      "text/plain": [
       "[<matplotlib.lines.Line2D at 0x7ff3f0d0bbb0>]"
      ]
     },
     "execution_count": 14,
     "metadata": {},
     "output_type": "execute_result"
    },
    {
     "data": {
      "image/png": "[encoded data removed]",
      "text/plain": [
       "<Figure size 432x288 with 1 Axes>"
      ]
     },
     "metadata": {
      "needs_background": "light"
     },
     "output_type": "display_data"
    }
   ],
   "source": [
    "plt.plot(Xspace,Yspace)"
   ]
  },
  {
   "cell_type": "code",
   "execution_count": 15,
   "id": "9bd03840",
   "metadata": {},
   "outputs": [],
   "source": [
    "#This looks like a gaussian mixture density."
   ]
  },
  {
   "cell_type": "code",
   "execution_count": 16,
   "id": "4d384e68",
   "metadata": {},
   "outputs": [],
   "source": [
    "#Now let's get the first outlier score 1."
   ]
  },
  {
   "cell_type": "code",
   "execution_count": 17,
   "id": "9e6c5c14",
   "metadata": {},
   "outputs": [
    {
     "name": "stdout",
     "output_type": "stream",
     "text": [
      "2.85\n",
      "-1.5\n"
     ]
    }
   ],
   "source": [
    "x1Point = x1[0][0]\n",
    "x2Point = x2[0][0]\n",
    "print(x1Point)\n",
    "print(x2Point)"
   ]
  },
  {
   "cell_type": "code",
   "execution_count": 18,
   "id": "755d9cb5",
   "metadata": {},
   "outputs": [],
   "source": [
    "def OS1(x,X,K,h,n):\n",
    "    d = X[0].size\n",
    "    numer = KDE(x,X,K,h,n)\n",
    "    toAdd = []\n",
    "    for j in range(n):\n",
    "        toAddMini = []\n",
    "        Is = [k for k in range(n) if k!=j]\n",
    "        for i in Is:\n",
    "            k = h**(-d)*K((x-X[i])/(h),d)\n",
    "            toAddMini.extend([k])\n",
    "        addedMini = np.sum(toAddMini)\n",
    "        termMini = 1/(n-1) * addedMini\n",
    "        toAdd.extend([termMini])\n",
    "    added = np.sum(toAdd)\n",
    "    denom = 1/n * added\n",
    "    term = numer/denom\n",
    "    return denom"
   ]
  },
  {
   "cell_type": "code",
   "execution_count": 19,
   "id": "d820ca1a",
   "metadata": {},
   "outputs": [
    {
     "name": "stdout",
     "output_type": "stream",
     "text": [
      "0.07682991783568469\n",
      "6.968724621388073e-17\n"
     ]
    }
   ],
   "source": [
    "print(OS1(x1Point,Xtest,GaussianKernel,hHat,Xtest.size))\n",
    "print(OS1(x2Point,Xtest,GaussianKernel,hHat,Xtest.size))"
   ]
  },
  {
   "cell_type": "code",
   "execution_count": 20,
   "id": "b3cdc1c9",
   "metadata": {},
   "outputs": [],
   "source": [
    "#Now let's get the outlier scores using the second formula."
   ]
  },
  {
   "cell_type": "code",
   "execution_count": 21,
   "id": "6c186653",
   "metadata": {},
   "outputs": [],
   "source": [
    "def OS2(x,X,K,h,n,k):\n",
    "    #First let's get pk(x). this will be duplicate code, but this is difference since x is not in the training data.\n",
    "    distances = [distance.euclidean(x,X[i]) for i in range(n)]\n",
    "    distDict = {distances[i]: X[i] for i in range(n)}\n",
    "    distances.sort()\n",
    "    firstK = [distances[i] for i in range(k)]\n",
    "    Nx = [distDict[i] for i in firstK]\n",
    "    #rhoK = Nx[-1]\n",
    "    rhoK = firstK[-1]\n",
    "    \n",
    "    #Now let's get pk(xi). Much of this is duplicate code, but we can now handle xi being in the training data.\n",
    "    def pk(xi):\n",
    "        distances = [distance.euclidean(xi,X[i]) for i in range(n)]\n",
    "        #distDict = {distances[i]: X[i] for i in range(n)}\n",
    "        distances.sort()\n",
    "        #firstK = [distances[i] for i in range(k+1)] #we add 1 because the first distance is 0.\n",
    "        #firstKm1 = firstK[1:len(firstK):]\n",
    "        #Nx = [distDict[i] for i in firstKm1]\n",
    "        pk = distances[k+1] #Nx[-1]\n",
    "        return pk\n",
    "    \n",
    "    toAdd = [pk(pt) for pt in Nx] #[pk(pt) for pt in Nx]\n",
    "    added = np.sum(toAdd)\n",
    "    denom = 1/k * added\n",
    "    term = rhoK/denom\n",
    "    #print(rhoK)\n",
    "    #print(denom)\n",
    "    return term"
   ]
  },
  {
   "cell_type": "code",
   "execution_count": 22,
   "id": "7f71e5b7",
   "metadata": {},
   "outputs": [
    {
     "name": "stdout",
     "output_type": "stream",
     "text": [
      "1.402373014864521\n",
      "1.7068412176827588\n",
      "1.946628746494562\n"
     ]
    }
   ],
   "source": [
    "print(OS2(x1Point,Xtest,GaussianKernel,hHat,Xtest.size,100))\n",
    "print(OS2(x1Point,Xtest,GaussianKernel,hHat,Xtest.size,150))\n",
    "print(OS2(x1Point,Xtest,GaussianKernel,hHat,Xtest.size,200))"
   ]
  },
  {
   "cell_type": "code",
   "execution_count": 23,
   "id": "013f1c10",
   "metadata": {},
   "outputs": [
    {
     "name": "stdout",
     "output_type": "stream",
     "text": [
      "4.365527024372908\n",
      "4.268168807031261\n",
      "3.966913023970989\n"
     ]
    }
   ],
   "source": [
    "print(OS2(x2Point,Xtest,GaussianKernel,hHat,Xtest.size,100))\n",
    "print(OS2(x2Point,Xtest,GaussianKernel,hHat,Xtest.size,150))\n",
    "print(OS2(x2Point,Xtest,GaussianKernel,hHat,Xtest.size,200))"
   ]
  },
  {
   "cell_type": "code",
   "execution_count": null,
   "id": "d87958cd",
   "metadata": {},
   "outputs": [],
   "source": []
  }
 ],
 "metadata": {
  "kernelspec": {
   "display_name": "Python 3",
   "language": "python",
   "name": "python3"
  },
  "language_info": {
   "codemirror_mode": {
    "name": "ipython",
    "version": 3
   },
   "file_extension": ".py",
   "mimetype": "text/x-python",
   "name": "python",
   "nbconvert_exporter": "python",
   "pygments_lexer": "ipython3",
   "version": "3.8.8"
  }
 },
 "nbformat": 4,
 "nbformat_minor": 5
}
