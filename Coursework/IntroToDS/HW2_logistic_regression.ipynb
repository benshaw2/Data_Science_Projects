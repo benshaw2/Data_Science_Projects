{
 "cells": [
  {
   "cell_type": "markdown",
   "metadata": {
    "colab_type": "text",
    "id": "ueWmxIyWU8fG"
   },
   "source": [
    "# Homework 2\n",
    "\n",
    "**Please type your name and A number here:**"
   ]
  },
  {
   "cell_type": "code",
   "execution_count": 1,
   "metadata": {},
   "outputs": [],
   "source": [
    "Name = \"Ben Shaw\"\n",
    "assert Name != \"\", 'Please enter your name in the above quotation marks, thanks!'\n",
    "\n",
    "A_number = \"A01515327\"\n",
    "assert A_number != \"\", 'Please enter your A-number in the above quotation marks, thanks!'"
   ]
  },
  {
   "cell_type": "markdown",
   "metadata": {},
   "source": [
    "In this homework, we will implement a logistic regression from scratch. Your jobs\n",
    "\n",
    "1. Implement the objective function.\n",
    "\n",
    "2. Implement the stochastic gradident descent algorithm to train the logistic regression.\n",
    "\n",
    "3. Implement the mini-batch stochastic gradident descent algorithm to train the logistic regression.\n",
    "\n",
    "4. Submit the .IPYNB file to Canvas.\n",
    "    - Missing the output after execution may hurt your grade.\n",
    "\n",
    "\n",
    "**In this homework, you are not allowed to import other packages, such as PyTorch. You need to write the plain numpy code to implement the algorithms and cannot use sklearn in your implementation.**\n",
    "\n",
    "When computing the gradient and objective function value for GD and mini-batch SGD algorithms, use matrix-vector multiplication rather than a FOR LOOP of vector-vector multiplications.\n",
    "\n",
    "In general, you can expect the following chart regarding the convergence of GD, SGD, and mini-batch SGD.\n",
    "\n",
    "<img src=\"https://docs.google.com/uc?export=download&id=13QpAtDEiaZUbLSPLqzjZTsuCCtbRfnQz\" alt=\"drawing\" width=\"400\"/>\n",
    "\n",
    "**Bonus (15pt)**: add a regularization term to the objective function and train the model based on the new objective function.\n",
    "\n",
    "# 1. Data processing\n",
    "\n",
    "- Download the Diabete dataset from https://www.csie.ntu.edu.tw/~cjlin/libsvmtools/datasets/binary/diabetes\n",
    "- Load the data using sklearn.\n",
    "- Preprocess the data.\n",
    "\n",
    "## 1.1. Load the data"
   ]
  },
  {
   "cell_type": "code",
   "execution_count": 2,
   "metadata": {
    "colab": {},
    "colab_type": "code",
    "id": "FHa_HxmOU8fJ"
   },
   "outputs": [
    {
     "name": "stdout",
     "output_type": "stream",
     "text": [
      "Shape of x: (768, 8)\n",
      "Shape of y: (768,)\n"
     ]
    }
   ],
   "source": [
    "from sklearn import datasets\n",
    "from sklearn import preprocessing\n",
    "import numpy as np\n",
    "import math\n",
    "\n",
    "x_sparse, y = datasets.load_svmlight_file('diabetes.txt')\n",
    "x = x_sparse.toarray()\n",
    "lb = preprocessing.LabelBinarizer()\n",
    "y = lb.fit_transform(y).reshape(-1)\n",
    "print('Shape of x: ' + str(x.shape))\n",
    "print('Shape of y: ' + str(y.shape))"
   ]
  },
  {
   "cell_type": "markdown",
   "metadata": {
    "colab_type": "text",
    "id": "1_6NI-WOU8fP"
   },
   "source": [
    "## 1.2. Partition to training and test sets"
   ]
  },
  {
   "cell_type": "code",
   "execution_count": 3,
   "metadata": {
    "colab": {},
    "colab_type": "code",
    "id": "wY8k5eLOU8fP"
   },
   "outputs": [
    {
     "name": "stdout",
     "output_type": "stream",
     "text": [
      "Shape of x_train: (615, 8)\n",
      "Shape of x_test: (153, 8)\n",
      "Shape of y_train: (615,)\n",
      "Shape of y_test: (153,)\n"
     ]
    }
   ],
   "source": [
    "# partition the data to training and test sets\n",
    "n = x.shape[0]\n",
    "n_train = int(np.ceil(n * 0.8))\n",
    "n_test = n - n_train\n",
    "\n",
    "rand_indices = np.random.permutation(n)\n",
    "train_indices = rand_indices[0:n_train]\n",
    "test_indices = rand_indices[n_train:n]\n",
    "\n",
    "x_train = x[train_indices, :]\n",
    "x_test = x[test_indices, :]\n",
    "y_train = y[train_indices]\n",
    "y_test = y[test_indices]\n",
    "\n",
    "print('Shape of x_train: ' + str(x_train.shape))\n",
    "print('Shape of x_test: ' + str(x_test.shape))\n",
    "print('Shape of y_train: ' + str(y_train.shape))\n",
    "print('Shape of y_test: ' + str(y_test.shape))"
   ]
  },
  {
   "cell_type": "markdown",
   "metadata": {
    "colab_type": "text",
    "id": "GHbhxbJFU8fT"
   },
   "source": [
    "## 1.3. Feature scaling"
   ]
  },
  {
   "cell_type": "markdown",
   "metadata": {
    "colab_type": "text",
    "id": "4T1oT_D-U8fU"
   },
   "source": [
    "Min-max normalization and standardization are two popular feature scaling methods.\n",
    "\n",
    "- Min-max normalization scales the features to the interval $[0, 1]$.\n",
    "- Standardization makes the features have zero mean and unit variance."
   ]
  },
  {
   "cell_type": "code",
   "execution_count": 4,
   "metadata": {
    "colab": {},
    "colab_type": "code",
    "id": "F320GXNdU8fV"
   },
   "outputs": [
    {
     "name": "stdout",
     "output_type": "stream",
     "text": [
      "[[0.35294118 0.74371859 0.59016393 ... 0.50074514 0.23441503 0.48333333]\n",
      " [0.05882353 0.42713568 0.54098361 ... 0.39642326 0.11656704 0.16666667]\n",
      " [0.47058824 0.91959799 0.52459016 ... 0.34724292 0.25362938 0.18333333]\n",
      " ...\n",
      " [0.29411765 0.6080402  0.59016393 ... 0.39046202 0.07130658 0.15      ]\n",
      " [0.05882353 0.63316583 0.49180328 ... 0.44858422 0.11571307 0.43333333]\n",
      " [0.05882353 0.46733668 0.57377049 ... 0.45305516 0.10119556 0.03333333]]\n",
      "max = \n",
      "[1. 1. 1. 1. 1. 1. 1. 1.]\n",
      "min = \n",
      "[0. 0. 0. 0. 0. 0. 0. 0.]\n"
     ]
    }
   ],
   "source": [
    "# Min-Max Normalization\n",
    "d = x.shape[1]\n",
    "xmin = np.min(x, axis=0).reshape(1, d)\n",
    "xmax = np.max(x, axis=0).reshape(1, d)\n",
    "xnew = (x - xmin) / (xmax - xmin)\n",
    "\n",
    "print(xnew)\n",
    "\n",
    "print('max = ')\n",
    "print(np.max(xnew, axis=0))\n",
    "\n",
    "print('min = ')\n",
    "print(np.min(xnew, axis=0))"
   ]
  },
  {
   "cell_type": "code",
   "execution_count": 5,
   "metadata": {
    "colab": {},
    "colab_type": "code",
    "id": "pLkMWyCOU8fZ"
   },
   "outputs": [
    {
     "name": "stdout",
     "output_type": "stream",
     "text": [
      "xnew = \n",
      "[[ 0.63994726  0.84832379  0.14964075 ...  0.20401252  0.46849198\n",
      "   1.4259954 ]\n",
      " [-0.84488505 -1.12339636 -0.16054575 ... -0.68442195 -0.36506078\n",
      "  -0.19067191]\n",
      " [ 1.23388019  1.94372388 -0.26394125 ... -1.10325559  0.60439732\n",
      "  -0.10558415]\n",
      " ...\n",
      " [ 0.3429808   0.00330087  0.14964075 ... -0.73518952 -0.68519336\n",
      "  -0.27575966]\n",
      " [-0.84488505  0.1597866  -0.47073225 ... -0.24020459 -0.37110101\n",
      "   1.17073215]\n",
      " [-0.84488505 -0.8730192   0.04624525 ... -0.20212882 -0.47378505\n",
      "  -0.87137393]]\n",
      "mean = \n",
      "[-7.74843153e-17  3.61400724e-18 -1.32724416e-17  7.76288755e-17\n",
      " -5.49329101e-17  5.12683067e-15  1.92438658e-15  2.19297959e-16]\n",
      "std = \n",
      "[1. 1. 1. 1. 1. 1. 1. 1.]\n"
     ]
    }
   ],
   "source": [
    "# Standardization\n",
    "\n",
    "d = x.shape[1]\n",
    "mu = np.mean(x, axis=0).reshape(1, d)\n",
    "sig = np.std(x, axis=0).reshape(1, d)\n",
    "xnew = (x - mu) / sig\n",
    "\n",
    "print('xnew = ')\n",
    "print(xnew)\n",
    "\n",
    "print('mean = ')\n",
    "print(np.mean(xnew, axis=0))\n",
    "\n",
    "print('std = ')\n",
    "print(np.std(xnew, axis=0))"
   ]
  },
  {
   "cell_type": "markdown",
   "metadata": {
    "colab_type": "text",
    "id": "ODJv-cZGU8fg"
   },
   "source": [
    "### In this homework, we use the standardization to trainsform both training and test features"
   ]
  },
  {
   "cell_type": "code",
   "execution_count": 6,
   "metadata": {
    "colab": {},
    "colab_type": "code",
    "id": "Hh16BVL1U8fh"
   },
   "outputs": [
    {
     "name": "stdout",
     "output_type": "stream",
     "text": [
      "test mean = \n",
      "[ 0.03350814  0.06296058 -0.01401656  0.08670152  0.03910754  0.16547033\n",
      " -0.04633752 -0.00128281]\n",
      "test std = \n",
      "[1.04186243 1.04563644 1.15902921 1.12551514 0.95477976 0.96015757\n",
      " 0.88315382 0.97725878]\n"
     ]
    }
   ],
   "source": [
    "# Standardization\n",
    "\n",
    "# calculate mu and sig using the training set\n",
    "d = x_train.shape[1]\n",
    "mu = np.mean(x_train, axis=0).reshape(1, d)\n",
    "sig = np.std(x_train, axis=0).reshape(1, d)\n",
    "\n",
    "# transform the training features\n",
    "x_train = (x_train - mu) / sig\n",
    "\n",
    "# transform the test features\n",
    "x_test = (x_test - mu) / sig\n",
    "\n",
    "\n",
    "print('test mean = ')\n",
    "print(np.mean(x_test, axis=0))\n",
    "\n",
    "print('test std = ')\n",
    "print(np.std(x_test, axis=0))"
   ]
  },
  {
   "cell_type": "markdown",
   "metadata": {
    "colab_type": "text",
    "id": "TBn7Lj6AU8fp"
   },
   "source": [
    "# 2. Logistic regression model\n",
    "## Define the sigmoid function\n"
   ]
  },
  {
   "cell_type": "code",
   "execution_count": 7,
   "metadata": {
    "colab": {},
    "colab_type": "code",
    "id": "aK2j8pVKQ8OT"
   },
   "outputs": [],
   "source": [
    "def _sigmoid(z):\n",
    "    # Sigmoid function can be used to calculate probability.\n",
    "    # To avoid overflow, minimum/maximum output value is set.\n",
    "    return np.clip(1 / (1.0 + np.exp(-z)), 1e-8, 1 - (1e-8))\n",
    "\n",
    "def _f(X, w, b):\n",
    "    # This is the logistic regression function, parameterized by w and b\n",
    "    #\n",
    "    # Arguements:\n",
    "    #     X: input data, shape = [n or batch_size, data_dimension]\n",
    "    #     w: weight vector, shape = [data_dimension, ]\n",
    "    #     b: bias, scalar\n",
    "    # Output:\n",
    "    #     predicted probability of each row of X being positively labeled, shape = [n or batch_size, ]\n",
    "    return _sigmoid(np.matmul(X, w) + b)"
   ]
  },
  {
   "cell_type": "markdown",
   "metadata": {
    "colab_type": "text",
    "id": "xpld_Qg-RB1a"
   },
   "source": [
    "The objective function is $L(\\mathbf{w}; \\mathbf{X}, \\mathbf{y})=\\sum_{i=1}^n -[y_i \\log \\hat y_i + (1-y_i)\\log (1-\\hat y_i)]$, where $\\hat y_i = \\sigma (\\mathbf{w}^T \\mathbf{x}_i +b)$.\n",
    "\n",
    "<font color='red'> **rubic={20 points}** </font> "
   ]
  },
  {
   "cell_type": "code",
   "execution_count": 8,
   "metadata": {
    "colab": {},
    "colab_type": "code",
    "id": "7me0eR0cU8fq"
   },
   "outputs": [],
   "source": [
    "def _cross_entropy_loss(y_pred, Y_label):\n",
    "    # This function computes the cross entropy.\n",
    "    #\n",
    "    # Arguements:\n",
    "    #     y_pred: probabilistic predictions, float vector\n",
    "    #     Y_label: ground truth labels,  vector\n",
    "    # Output:\n",
    "    #     cross entropy: scalar\n",
    "\n",
    "    ## write your code here. You CANNOT use for loop here.\n",
    "    cross_entropy = sum(-(Y_label*np.log(y_pred) + (1-Y_label)*np.log(1-y_pred)))\n",
    "    return cross_entropy"
   ]
  },
  {
   "cell_type": "code",
   "execution_count": 9,
   "metadata": {
    "colab": {},
    "colab_type": "code",
    "id": "fhSa5351U8ft"
   },
   "outputs": [
    {
     "name": "stdout",
     "output_type": "stream",
     "text": [
      "Initial objective function value = 426.28551604436734\n"
     ]
    }
   ],
   "source": [
    "# initialize w, b\n",
    "d = x_train.shape[1]\n",
    "w = np.zeros(d)\n",
    "b = np.zeros(1)\n",
    "# evaluate the objective function value at w\n",
    "y_pred = _f(x_train, w, b)\n",
    "objval0 = _cross_entropy_loss(y_pred, y_train)\n",
    "print('Initial objective function value = ' + str(objval0))"
   ]
  },
  {
   "cell_type": "markdown",
   "metadata": {
    "colab_type": "text",
    "id": "mKtSRP2lU8fx"
   },
   "source": [
    "# 3. Numerical optimization"
   ]
  },
  {
   "cell_type": "markdown",
   "metadata": {
    "colab_type": "text",
    "id": "UH9nycupU8fx"
   },
   "source": [
    "## 3.1. Calculate the full gradient\n",
    "\n",
    "The gradient at $w$ is $g = \\frac{1}{n} \\sum_{i=1}^n [\\sigma (\\mathbf{w}^T \\mathbf{x}_i + b)-y_i]\\mathbf{x}_i$"
   ]
  },
  {
   "cell_type": "code",
   "execution_count": 10,
   "metadata": {
    "colab": {},
    "colab_type": "code",
    "id": "kWp8JOYBOFZX"
   },
   "outputs": [],
   "source": [
    "# Calculate the gradient\n",
    "# Inputs:\n",
    "#     X: n-by-d matrix\n",
    "#     Y_label: n-by-1 matrix\n",
    "#     w: d-by-1 matrix\n",
    "#     b: scalar\n",
    "# Return:\n",
    "#     w_grad: d-by-1 matrix, full gradient\n",
    "#     b_grad: scalar\n",
    "def _gradient(X, Y_label, w, b):\n",
    "    # This function computes the gradient of cross entropy loss with respect to weight w and bias b.\n",
    "    y_pred = _f(X, w, b)\n",
    "    pred_error = y_pred - Y_label\n",
    "    w_grad = np.mean(pred_error * X.T, 1)\n",
    "    b_grad = np.mean(pred_error)\n",
    "    return w_grad, b_grad"
   ]
  },
  {
   "cell_type": "markdown",
   "metadata": {
    "colab_type": "text",
    "id": "A2zIXNwnU8f2"
   },
   "source": [
    "## 3.2. Gradient descent\n"
   ]
  },
  {
   "cell_type": "code",
   "execution_count": 11,
   "metadata": {
    "colab": {},
    "colab_type": "code",
    "id": "1RBVx_34U8f2"
   },
   "outputs": [],
   "source": [
    "# Gradient descent for solving logistic regression\n",
    "# Inputs:\n",
    "#     x_train: n-by-d matrix\n",
    "#     y_train: n-by-1 matrix\n",
    "#     stepsize: scalar\n",
    "#     max_iter: integer, the maximal iterations\n",
    "# Return:\n",
    "#     w: d-by-1 matrix, the solution\n",
    "#     b: scalr, the solution\n",
    "#     objvals: a record of each epoch's objective value\n",
    "def grad_descent(x_train, y_train, w, b, stepsize, max_iter=150):\n",
    "    n, d = x_train.shape\n",
    "    objvals = np.zeros(max_iter) # store the objective values\n",
    "    \n",
    "    for t in range(max_iter):\n",
    "        y_pred = _f(x_train, w, b)\n",
    "        objval = _cross_entropy_loss(y_pred, y_train)\n",
    "        objvals[t] = objval/n\n",
    "        print('Objective value at t=' + str(t) + ' is ' + str(objval/n))\n",
    "        w_grad, b_grad = _gradient(x_train, y_train, w, b)\n",
    "        w -= stepsize * w_grad\n",
    "        b -= stepsize * b_grad\n",
    "    stepsize *= 0.9 # decrease step size\n",
    "    \n",
    "    return w, b, objvals"
   ]
  },
  {
   "cell_type": "code",
   "execution_count": 12,
   "metadata": {
    "colab": {},
    "colab_type": "code",
    "id": "ZNZqy-TbU8f7"
   },
   "outputs": [
    {
     "name": "stdout",
     "output_type": "stream",
     "text": [
      "Objective value at t=0 is 0.693147180559947\n",
      "Objective value at t=1 is 0.6675501652734471\n",
      "Objective value at t=2 is 0.6458846359745563\n",
      "Objective value at t=3 is 0.6274474770461472\n",
      "Objective value at t=4 is 0.6116560720814795\n",
      "Objective value at t=5 is 0.5980368071077898\n",
      "Objective value at t=6 is 0.5862084690714492\n",
      "Objective value at t=7 is 0.5758652947471714\n",
      "Objective value at t=8 is 0.5667618630950294\n",
      "Objective value at t=9 is 0.5587005158917543\n",
      "Objective value at t=10 is 0.5515212584434326\n",
      "Objective value at t=11 is 0.5450938068370021\n",
      "Objective value at t=12 is 0.539311383866355\n",
      "Objective value at t=13 is 0.5340858950423535\n",
      "Objective value at t=14 is 0.5293441759417954\n",
      "Objective value at t=15 is 0.52502506476981\n",
      "Objective value at t=16 is 0.5210771089578159\n",
      "Objective value at t=17 is 0.5174567592771897\n",
      "Objective value at t=18 is 0.5141269398599899\n",
      "Objective value at t=19 is 0.5110559092537319\n",
      "Objective value at t=20 is 0.5082163478971262\n",
      "Objective value at t=21 is 0.5055846226862156\n",
      "Objective value at t=22 is 0.5031401908178229\n",
      "Objective value at t=23 is 0.5008651137897779\n",
      "Objective value at t=24 is 0.49874365901742096\n",
      "Objective value at t=25 is 0.49676197152612683\n",
      "Objective value at t=26 is 0.49490780199686796\n",
      "Objective value at t=27 is 0.4931702803701262\n",
      "Objective value at t=28 is 0.49153972647145766\n",
      "Objective value at t=29 is 0.49000749087207424\n",
      "Objective value at t=30 is 0.4885658205614351\n",
      "Objective value at t=31 is 0.48720774507670994\n",
      "Objective value at t=32 is 0.4859269795746133\n",
      "Objective value at t=33 is 0.4847178419961092\n",
      "Objective value at t=34 is 0.4835751820031213\n",
      "Objective value at t=35 is 0.4824943197886163\n",
      "Objective value at t=36 is 0.4814709932002016\n",
      "Objective value at t=37 is 0.4805013118904441\n",
      "Objective value at t=38 is 0.4795817174280999\n",
      "Objective value at t=39 is 0.4787089484841243\n",
      "Objective value at t=40 is 0.4778800103529114\n",
      "Objective value at t=41 is 0.47709214818935075\n",
      "Objective value at t=42 is 0.4763428234410761\n",
      "Objective value at t=43 is 0.4756296930368219\n",
      "Objective value at t=44 is 0.4749505909593562\n",
      "Objective value at t=45 is 0.4743035118876279\n",
      "Objective value at t=46 is 0.47368659663956547\n",
      "Objective value at t=47 is 0.4730981191861951\n",
      "Objective value at t=48 is 0.4725364750406086\n",
      "Objective value at t=49 is 0.47200017085301715\n",
      "Objective value at t=50 is 0.4714878150665293\n",
      "Objective value at t=51 is 0.47099810950807297\n",
      "Objective value at t=52 is 0.4705298418057345\n",
      "Objective value at t=53 is 0.470081878538091\n",
      "Objective value at t=54 is 0.4696531590333788\n",
      "Objective value at t=55 is 0.46924268974677374\n",
      "Objective value at t=56 is 0.4688495391530921\n",
      "Objective value at t=57 is 0.46847283309994925\n",
      "Objective value at t=58 is 0.4681117505730566\n",
      "Objective value at t=59 is 0.4677655198311601\n",
      "Objective value at t=60 is 0.4674334148730862\n",
      "Objective value at t=61 is 0.46711475220371523\n",
      "Objective value at t=62 is 0.46680888786950414\n",
      "Objective value at t=63 is 0.4665152147374352\n",
      "Objective value at t=64 is 0.46623315999422277\n",
      "Objective value at t=65 is 0.46596218284504876\n",
      "Objective value at t=66 is 0.46570177239339533\n",
      "Objective value at t=67 is 0.4654514456854527\n",
      "Objective value at t=68 is 0.46521074590430617\n",
      "Objective value at t=69 is 0.4649792407006348\n",
      "Objective value at t=70 is 0.46475652064797784\n",
      "Objective value at t=71 is 0.4645421978118545\n",
      "Objective value at t=72 is 0.46433590442301886\n",
      "Objective value at t=73 is 0.4641372916461378\n",
      "Objective value at t=74 is 0.4639460284359605\n",
      "Objective value at t=75 is 0.46376180047384136\n",
      "Objective value at t=76 is 0.4635843091781036\n",
      "Objective value at t=77 is 0.463413270782361\n",
      "Objective value at t=78 is 0.4632484154764379\n",
      "Objective value at t=79 is 0.46308948660500154\n",
      "Objective value at t=80 is 0.4629362399194633\n",
      "Objective value at t=81 is 0.4627884428791007\n",
      "Objective value at t=82 is 0.4626458739976695\n",
      "Objective value at t=83 is 0.4625083222321498\n",
      "Objective value at t=84 is 0.4623755864104894\n",
      "Objective value at t=85 is 0.4622474746955235\n",
      "Objective value at t=86 is 0.4621238040824466\n",
      "Objective value at t=87 is 0.46200439992744585\n",
      "Objective value at t=88 is 0.46188909550529994\n",
      "Objective value at t=89 is 0.46177773159389535\n",
      "Objective value at t=90 is 0.46167015608381873\n",
      "Objective value at t=91 is 0.4615662236112843\n",
      "Objective value at t=92 is 0.4614657952128189\n",
      "Objective value at t=93 is 0.46136873800023803\n",
      "Objective value at t=94 is 0.46127492485455335\n",
      "Objective value at t=95 is 0.46118423413756293\n",
      "Objective value at t=96 is 0.461096549419966\n",
      "Objective value at t=97 is 0.46101175922492393\n",
      "Objective value at t=98 is 0.46092975678607123\n",
      "Objective value at t=99 is 0.460850439819062\n",
      "Objective value at t=100 is 0.46077371030578074\n",
      "Objective value at t=101 is 0.46069947429043495\n",
      "Objective value at t=102 is 0.4606276416867798\n",
      "Objective value at t=103 is 0.46055812609579067\n",
      "Objective value at t=104 is 0.4604908446331404\n",
      "Objective value at t=105 is 0.460425717765888\n",
      "Objective value at t=106 is 0.46036266915782287\n",
      "Objective value at t=107 is 0.46030162552293863\n",
      "Objective value at t=108 is 0.46024251648655995\n",
      "Objective value at t=109 is 0.46018527445367674\n",
      "Objective value at t=110 is 0.46012983448404543\n",
      "Objective value at t=111 is 0.4600761341736786\n",
      "Objective value at t=112 is 0.46002411354235895\n",
      "Objective value at t=113 is 0.45997371492680894\n",
      "Objective value at t=114 is 0.45992488287921895\n",
      "Objective value at t=115 is 0.4598775640708226\n",
      "Objective value at t=116 is 0.4598317072002282\n",
      "Objective value at t=117 is 0.45978726290625516\n",
      "Objective value at t=118 is 0.4597441836850158\n",
      "Objective value at t=119 is 0.45970242381101273\n",
      "Objective value at t=120 is 0.4596619392620352\n",
      "Objective value at t=121 is 0.45962268764764463\n",
      "Objective value at t=122 is 0.45958462814105644\n",
      "Objective value at t=123 is 0.45954772141424005\n",
      "Objective value at t=124 is 0.4595119295760624\n",
      "Objective value at t=125 is 0.45947721611331444\n",
      "Objective value at t=126 is 0.45944354583447516\n",
      "Objective value at t=127 is 0.459410884816055\n",
      "Objective value at t=128 is 0.4593792003514128\n",
      "Objective value at t=129 is 0.45934846090188125\n",
      "Objective value at t=130 is 0.45931863605012263\n",
      "Objective value at t=131 is 0.45928969645557005\n",
      "Objective value at t=132 is 0.4592616138118673\n",
      "Objective value at t=133 is 0.4592343608061937\n",
      "Objective value at t=134 is 0.4592079110803986\n",
      "Objective value at t=135 is 0.45918223919383006\n",
      "Objective value at t=136 is 0.4591573205877992\n",
      "Objective value at t=137 is 0.45913313155158364\n",
      "Objective value at t=138 is 0.45910964918990205\n",
      "Objective value at t=139 is 0.45908685139178473\n",
      "Objective value at t=140 is 0.4590647168007798\n",
      "Objective value at t=141 is 0.4590432247864187\n",
      "Objective value at t=142 is 0.4590223554168969\n",
      "Objective value at t=143 is 0.45900208943289733\n",
      "Objective value at t=144 is 0.4589824082225131\n",
      "Objective value at t=145 is 0.45896329379721507\n",
      "Objective value at t=146 is 0.4589447287688095\n",
      "Objective value at t=147 is 0.4589266963273526\n",
      "Objective value at t=148 is 0.4589091802199628\n",
      "Objective value at t=149 is 0.4588921647305053\n"
     ]
    }
   ],
   "source": [
    "# example\n",
    "d = x_train.shape[1]\n",
    "w = np.zeros(d)\n",
    "b = np.zeros(1)\n",
    "stepsize = 0.2\n",
    "w, b, objvals_gd = grad_descent(x_train, y_train, w, b, stepsize)"
   ]
  },
  {
   "cell_type": "markdown",
   "metadata": {
    "colab_type": "text",
    "id": "gVrjVsv0U8f-"
   },
   "source": [
    "## 3.3. Stochastic gradient descent (SGD)\n",
    "\n",
    "Define $L_i(\\mathbf{w}; \\mathbf{x}, y)= -[y_i \\log \\hat y_i + (1-y_i)\\log (1-\\hat y_i)]$, where $\\hat y_i = \\sigma (\\mathbf{w}^T \\mathbf{x}_i +b)$.\n",
    "\n",
    "The stochastic gradient at $w$ is $g_i = \\frac{\\partial L_i }{ \\partial w} = [\\sigma (\\mathbf{w}^T \\mathbf{x}_i + b)-y_i]\\mathbf{x}_i$.\n",
    "\n",
    "<font color='red'> **rubic={30 points}** </font> "
   ]
  },
  {
   "cell_type": "code",
   "execution_count": 13,
   "metadata": {
    "colab": {},
    "colab_type": "code",
    "id": "RwJeIIOHU8f-"
   },
   "outputs": [],
   "source": [
    "# Calculate the objective L_i and the gradient of L_i\n",
    "# Inputs (you can revise the inputs of this function):\n",
    "#     xi: 1-by-d matrix\n",
    "#     yi: scalar\n",
    "#     w: d-by-1 matrix\n",
    "#     b: scalar\n",
    "# Return:\n",
    "#     w_grad: d-by-1 matrix, gradient of L_i with respect to w\n",
    "#     b_grad: scalr, gradient of L_i with respect to b\n",
    "def stochastic_objective_gradient(xi, yi, w, b):\n",
    "    ## write your code here\n",
    "    y_pred = _f(xi, w, b)\n",
    "    pred_error = y_pred - yi\n",
    "    w_grad = pred_error * xi\n",
    "    b_grad = pred_error\n",
    "    return w_grad, b_grad"
   ]
  },
  {
   "cell_type": "code",
   "execution_count": 14,
   "metadata": {
    "colab": {},
    "colab_type": "code",
    "id": "BTZtZdhbU8gE"
   },
   "outputs": [],
   "source": [
    "# SGD for solving logistic regression\n",
    "# Inputs:\n",
    "#     x_train: n-by-d matrix\n",
    "#     y_train: n-by-1 matrix\n",
    "#     w: d-by-1 matrix, initialization of w\n",
    "#     b: scalr, initialization of b\n",
    "#     stepsize: scalar\n",
    "#     max_epoch: integer, the maximal epochs\n",
    "# Return:\n",
    "#     w: the solution\n",
    "#     b: the solution\n",
    "#     objvals: record of each epoch's objective value\n",
    "def sgd(x_train, y_train, w, b, stepsize, max_epoch=150):\n",
    "    n, d = x_train.shape\n",
    "    objvals = np.zeros(max_epoch) # store the objective values\n",
    "    for t in range(max_epoch):\n",
    "        # randomly shuffle the samples\n",
    "        rand_indices = np.random.permutation(n)\n",
    "        x_rand = x_train[rand_indices, :]\n",
    "        y_rand = y_train[rand_indices]\n",
    "        \n",
    "        objval = 0 # accumulate the objective values\n",
    "        for i in range(n):\n",
    "            xi = x_rand[i, :] # 1-by-d matrix\n",
    "            yi = float(y_rand[i]) # scalar\n",
    "            y_pred = _f(xi, w, b)\n",
    "            obj = float(_cross_entropy_loss(y_pred, yi))\n",
    "            w_grad, b_grad = stochastic_objective_gradient(xi, yi, w, b)\n",
    "            objval += obj\n",
    "            w -= stepsize * w_grad\n",
    "            b -= stepsize * b_grad\n",
    "        \n",
    "        stepsize *= 0.9 # decrease step size\n",
    "        objvals[t] = objval/n\n",
    "        print('Objective value at epoch t=' + str(t) + ' is ' + str(objval/n))\n",
    "    \n",
    "    return w, b, objvals"
   ]
  },
  {
   "cell_type": "code",
   "execution_count": 15,
   "metadata": {
    "colab": {},
    "colab_type": "code",
    "id": "iWwrX2IUU8gH"
   },
   "outputs": [
    {
     "name": "stdout",
     "output_type": "stream",
     "text": [
      "Objective value at epoch t=0 is 0.5687535706163772\n",
      "Objective value at epoch t=1 is 0.5555067401980369\n",
      "Objective value at epoch t=2 is 0.5259532688774152\n",
      "Objective value at epoch t=3 is 0.5287555687578693\n",
      "Objective value at epoch t=4 is 0.5245211844807263\n",
      "Objective value at epoch t=5 is 0.5286676956101178\n",
      "Objective value at epoch t=6 is 0.5138956452850286\n",
      "Objective value at epoch t=7 is 0.5075366083332362\n",
      "Objective value at epoch t=8 is 0.49085094049918776\n",
      "Objective value at epoch t=9 is 0.48965070282514794\n",
      "Objective value at epoch t=10 is 0.498421049363241\n",
      "Objective value at epoch t=11 is 0.4947480576777448\n",
      "Objective value at epoch t=12 is 0.48848548450456786\n",
      "Objective value at epoch t=13 is 0.487591905590405\n",
      "Objective value at epoch t=14 is 0.4885870508418123\n",
      "Objective value at epoch t=15 is 0.4814204598812093\n",
      "Objective value at epoch t=16 is 0.4818253642050798\n",
      "Objective value at epoch t=17 is 0.4774166419054146\n",
      "Objective value at epoch t=18 is 0.4729523798322242\n",
      "Objective value at epoch t=19 is 0.47589138081831434\n",
      "Objective value at epoch t=20 is 0.47220541778242725\n",
      "Objective value at epoch t=21 is 0.47188782413470914\n",
      "Objective value at epoch t=22 is 0.47104896228998794\n",
      "Objective value at epoch t=23 is 0.4697929200762176\n",
      "Objective value at epoch t=24 is 0.4678806712781183\n",
      "Objective value at epoch t=25 is 0.46798733607193166\n",
      "Objective value at epoch t=26 is 0.4669591188757455\n",
      "Objective value at epoch t=27 is 0.46609309765586154\n",
      "Objective value at epoch t=28 is 0.46572740594837475\n",
      "Objective value at epoch t=29 is 0.4641971020783155\n",
      "Objective value at epoch t=30 is 0.4632655448978156\n",
      "Objective value at epoch t=31 is 0.46360537770274923\n",
      "Objective value at epoch t=32 is 0.4629402398459984\n",
      "Objective value at epoch t=33 is 0.4622410105096427\n",
      "Objective value at epoch t=34 is 0.4620703820450308\n",
      "Objective value at epoch t=35 is 0.4618754613571545\n",
      "Objective value at epoch t=36 is 0.4610785842228595\n",
      "Objective value at epoch t=37 is 0.4609662115669598\n",
      "Objective value at epoch t=38 is 0.46090931332323504\n",
      "Objective value at epoch t=39 is 0.46064811064402705\n",
      "Objective value at epoch t=40 is 0.46040704321090037\n",
      "Objective value at epoch t=41 is 0.46013470171375387\n",
      "Objective value at epoch t=42 is 0.4600173194316106\n",
      "Objective value at epoch t=43 is 0.4598346920629259\n",
      "Objective value at epoch t=44 is 0.4596760516746961\n",
      "Objective value at epoch t=45 is 0.4595655494320732\n",
      "Objective value at epoch t=46 is 0.45943189663673534\n",
      "Objective value at epoch t=47 is 0.4593225121116419\n",
      "Objective value at epoch t=48 is 0.4592115035790716\n",
      "Objective value at epoch t=49 is 0.45912011144617476\n",
      "Objective value at epoch t=50 is 0.45903248009889047\n",
      "Objective value at epoch t=51 is 0.4589588958881625\n",
      "Objective value at epoch t=52 is 0.45889747670976283\n",
      "Objective value at epoch t=53 is 0.4588386235738209\n",
      "Objective value at epoch t=54 is 0.4587846923375418\n",
      "Objective value at epoch t=55 is 0.45873036368607245\n",
      "Objective value at epoch t=56 is 0.4586876555054968\n",
      "Objective value at epoch t=57 is 0.4586487850860384\n",
      "Objective value at epoch t=58 is 0.45861166889768973\n",
      "Objective value at epoch t=59 is 0.45858008619308244\n",
      "Objective value at epoch t=60 is 0.45855034893041274\n",
      "Objective value at epoch t=61 is 0.4585240069641439\n",
      "Objective value at epoch t=62 is 0.4584991300517285\n",
      "Objective value at epoch t=63 is 0.45847883526936634\n",
      "Objective value at epoch t=64 is 0.45845978919786873\n",
      "Objective value at epoch t=65 is 0.458442405385974\n",
      "Objective value at epoch t=66 is 0.45842644996284204\n",
      "Objective value at epoch t=67 is 0.458412581087705\n",
      "Objective value at epoch t=68 is 0.4583999127459958\n",
      "Objective value at epoch t=69 is 0.45838856947043966\n",
      "Objective value at epoch t=70 is 0.4583783030623563\n",
      "Objective value at epoch t=71 is 0.45836915964079533\n",
      "Objective value at epoch t=72 is 0.4583606731030648\n",
      "Objective value at epoch t=73 is 0.45835305128413006\n",
      "Objective value at epoch t=74 is 0.4583464677420356\n",
      "Objective value at epoch t=75 is 0.45834043957134185\n",
      "Objective value at epoch t=76 is 0.4583349614582491\n",
      "Objective value at epoch t=77 is 0.4583300685466643\n",
      "Objective value at epoch t=78 is 0.4583256543287979\n",
      "Objective value at epoch t=79 is 0.4583216499154949\n",
      "Objective value at epoch t=80 is 0.45831806481370274\n",
      "Objective value at epoch t=81 is 0.4583148193979838\n",
      "Objective value at epoch t=82 is 0.45831190757302914\n",
      "Objective value at epoch t=83 is 0.45830931210200165\n",
      "Objective value at epoch t=84 is 0.4583069463300592\n",
      "Objective value at epoch t=85 is 0.4583048281563645\n",
      "Objective value at epoch t=86 is 0.45830292193459604\n",
      "Objective value at epoch t=87 is 0.4583011961730095\n",
      "Objective value at epoch t=88 is 0.4582996563715878\n",
      "Objective value at epoch t=89 is 0.45829826153417075\n",
      "Objective value at epoch t=90 is 0.45829701028189396\n",
      "Objective value at epoch t=91 is 0.4582958818294812\n",
      "Objective value at epoch t=92 is 0.45829486824928306\n",
      "Objective value at epoch t=93 is 0.45829395536928547\n",
      "Objective value at epoch t=94 is 0.45829313349761436\n",
      "Objective value at epoch t=95 is 0.4582923939567622\n",
      "Objective value at epoch t=96 is 0.4582917279029588\n",
      "Objective value at epoch t=97 is 0.45829112856587034\n",
      "Objective value at epoch t=98 is 0.4582905889637298\n",
      "Objective value at epoch t=99 is 0.45829010309720825\n",
      "Objective value at epoch t=100 is 0.45828966680587024\n",
      "Objective value at epoch t=101 is 0.45828927340238956\n",
      "Objective value at epoch t=102 is 0.45828891925118753\n",
      "Objective value at epoch t=103 is 0.45828860107351294\n",
      "Objective value at epoch t=104 is 0.45828831423573346\n",
      "Objective value at epoch t=105 is 0.45828805638039605\n",
      "Objective value at epoch t=106 is 0.4582878241564804\n",
      "Objective value at epoch t=107 is 0.4582876151658293\n",
      "Objective value at epoch t=108 is 0.4582874270495346\n",
      "Objective value at epoch t=109 is 0.458287257778639\n",
      "Objective value at epoch t=110 is 0.4582871053795792\n",
      "Objective value at epoch t=111 is 0.4582869682774437\n",
      "Objective value at epoch t=112 is 0.4582868448741021\n",
      "Objective value at epoch t=113 is 0.4582867337932851\n",
      "Objective value at epoch t=114 is 0.4582866338332596\n",
      "Objective value at epoch t=115 is 0.45828654385945145\n",
      "Objective value at epoch t=116 is 0.45828646289473224\n",
      "Objective value at epoch t=117 is 0.4582863900171282\n",
      "Objective value at epoch t=118 is 0.45828632443354167\n",
      "Objective value at epoch t=119 is 0.4582862654033954\n",
      "Objective value at epoch t=120 is 0.4582862122750721\n",
      "Objective value at epoch t=121 is 0.45828616446385567\n",
      "Objective value at epoch t=122 is 0.45828612143309894\n",
      "Objective value at epoch t=123 is 0.4582860827025941\n",
      "Objective value at epoch t=124 is 0.45828604784570637\n",
      "Objective value at epoch t=125 is 0.4582860164759262\n",
      "Objective value at epoch t=126 is 0.45828598824246103\n",
      "Objective value at epoch t=127 is 0.45828596283304507\n",
      "Objective value at epoch t=128 is 0.4582859399631352\n",
      "Objective value at epoch t=129 is 0.4582859193805971\n",
      "Objective value at epoch t=130 is 0.45828590085694715\n",
      "Objective value at epoch t=131 is 0.4582858841857321\n",
      "Objective value at epoch t=132 is 0.45828586918128045\n",
      "Objective value at epoch t=133 is 0.4582858556771317\n",
      "Objective value at epoch t=134 is 0.45828584352335183\n",
      "Objective value at epoch t=135 is 0.45828583258518923\n",
      "Objective value at epoch t=136 is 0.45828582274075563\n",
      "Objective value at epoch t=137 is 0.4582858138807365\n",
      "Objective value at epoch t=138 is 0.4582858059066768\n",
      "Objective value at epoch t=139 is 0.4582857987298648\n",
      "Objective value at epoch t=140 is 0.45828579227108274\n",
      "Objective value at epoch t=141 is 0.4582857864580265\n",
      "Objective value at epoch t=142 is 0.4582857812262582\n",
      "Objective value at epoch t=143 is 0.4582857765176922\n",
      "Objective value at epoch t=144 is 0.4582857722799539\n",
      "Objective value at epoch t=145 is 0.4582857684659964\n",
      "Objective value at epoch t=146 is 0.4582857650334477\n",
      "Objective value at epoch t=147 is 0.4582857619441437\n",
      "Objective value at epoch t=148 is 0.45828575916376973\n",
      "Objective value at epoch t=149 is 0.45828575666142873\n"
     ]
    }
   ],
   "source": [
    "# example\n",
    "# initialize w, b\n",
    "d = x_train.shape[1]\n",
    "w = np.zeros(d)\n",
    "b = np.zeros(1)\n",
    "stepsize = 0.2\n",
    "w, b, objvals_sgd = sgd(x_train, y_train, w, b, stepsize)"
   ]
  },
  {
   "cell_type": "markdown",
   "metadata": {
    "colab_type": "text",
    "id": "aYKci7dWU8gN"
   },
   "source": [
    "## 3.3. Mini-batch SGD\n",
    "\n",
    "Define $L_I(\\mathbf{w}; \\mathbf{X}, \\mathbf{y})= \\sum_{i \\in I} -[y_i \\log \\hat y_i + (1-y_i)\\log (1-\\hat y_i)]$, where $\\hat y_i = \\sigma (\\mathbf{w}^T \\mathbf{x}_i +b)$, and $I$ is a set containing $b$ indices randomly drawn from $\\{ 1, \\cdots , n \\}$ without replacement.\n",
    "\n",
    "\n",
    "\n",
    "The stochastic gradient at $w$ is $g_I =  \\sum_{i \\in I} [\\sigma (\\mathbf{w}^T \\mathbf{x}_i + b)-y_i]\\mathbf{x}_i$.\n",
    "\n",
    "<font color='red'> **rubic={50 points}** </font> "
   ]
  },
  {
   "cell_type": "code",
   "execution_count": 16,
   "metadata": {
    "colab": {},
    "colab_type": "code",
    "id": "6Owyb4YcXC09"
   },
   "outputs": [],
   "source": [
    "# mini_batch_SGD for solving logistic regression\n",
    "# Inputs:\n",
    "#     x_train: n-by-d matrix\n",
    "#     y_train: n-by-1 matrix\n",
    "#     w: d-by-1 matrix, initialization of w\n",
    "#     b: scalar, initialization of b\n",
    "#     stepsize: scalar\n",
    "#     batch_size: integer, the number of batch size\n",
    "#     max_epoch: integer, the maximal epochs\n",
    "# Return:\n",
    "#     w: the solution\n",
    "#     b: the solution\n",
    "#     objvals: record of each epoch's objective value\n",
    "def mini_batch_sgd(x_train, y_train, w, b, stepsize, batch_size=32, max_epoch=150):\n",
    "    n, d = x_train.shape\n",
    "    objvals = np.zeros(max_epoch) # store the objective values\n",
    "    num_batches = int(np.ceil(np.divide(n, batch_size)))\n",
    "    for t in range(max_epoch):\n",
    "        objval = 0 # accumulate the objective values\n",
    "\n",
    "      ## write your code here       \n",
    "        \n",
    "        order = list(np.random.choice(n,n,replace=False))\n",
    "        for j in range(num_batches):\n",
    "            I = [order.pop(0) for i in range(batch_size) if len(order) != 0]\n",
    "            x_train2 = np.array([x_train[i] for i in I])\n",
    "            y_train2 = np.array([y_train[i] for i in I])\n",
    "            y_pred = _f(x_train2, w, b)\n",
    "            obj = _cross_entropy_loss(y_pred, y_train2)\n",
    "            w_grad, b_grad = _gradient(x_train2, y_train2, w, b)\n",
    "            objval += obj\n",
    "            w -= stepsize * w_grad\n",
    "            b -= stepsize * b_grad\n",
    "        \n",
    "        \n",
    "        stepsize *= 0.9 # decrease step size\n",
    "        objvals[t] = objval/n\n",
    "        print('Objective value at epoch t=' + str(t) + ' is ' + str(objval/n))\n",
    "    \n",
    "    return w, b, objvals"
   ]
  },
  {
   "cell_type": "code",
   "execution_count": 17,
   "metadata": {
    "colab": {},
    "colab_type": "code",
    "id": "lkhRPei-a8l-"
   },
   "outputs": [
    {
     "name": "stdout",
     "output_type": "stream",
     "text": [
      "Objective value at epoch t=0 is 0.5774793393339103\n",
      "Objective value at epoch t=1 is 0.49978538421484764\n",
      "Objective value at epoch t=2 is 0.4781873260471404\n",
      "Objective value at epoch t=3 is 0.4697170996184585\n",
      "Objective value at epoch t=4 is 0.46650560295045335\n",
      "Objective value at epoch t=5 is 0.46510487743178147\n",
      "Objective value at epoch t=6 is 0.4637744928367848\n",
      "Objective value at epoch t=7 is 0.4622189812592874\n",
      "Objective value at epoch t=8 is 0.461573492328643\n",
      "Objective value at epoch t=9 is 0.46094279036160873\n",
      "Objective value at epoch t=10 is 0.4606735111335103\n",
      "Objective value at epoch t=11 is 0.4605537879975112\n",
      "Objective value at epoch t=12 is 0.4601108665172566\n",
      "Objective value at epoch t=13 is 0.46021148906652776\n",
      "Objective value at epoch t=14 is 0.46009680076543247\n",
      "Objective value at epoch t=15 is 0.45989914824685146\n",
      "Objective value at epoch t=16 is 0.4595706029953285\n",
      "Objective value at epoch t=17 is 0.4594274688528628\n",
      "Objective value at epoch t=18 is 0.4594491674646493\n",
      "Objective value at epoch t=19 is 0.4593471839770905\n",
      "Objective value at epoch t=20 is 0.459226938133285\n",
      "Objective value at epoch t=21 is 0.4590760117069298\n",
      "Objective value at epoch t=22 is 0.459049679060544\n",
      "Objective value at epoch t=23 is 0.4589489815748421\n",
      "Objective value at epoch t=24 is 0.4590339067693618\n",
      "Objective value at epoch t=25 is 0.4588996822101187\n",
      "Objective value at epoch t=26 is 0.45883359486663194\n",
      "Objective value at epoch t=27 is 0.4588381065103504\n",
      "Objective value at epoch t=28 is 0.4587995189171436\n",
      "Objective value at epoch t=29 is 0.45874654113449964\n",
      "Objective value at epoch t=30 is 0.45872508373070126\n",
      "Objective value at epoch t=31 is 0.4587048495991381\n",
      "Objective value at epoch t=32 is 0.45866726266775115\n",
      "Objective value at epoch t=33 is 0.4586609202648564\n",
      "Objective value at epoch t=34 is 0.4586354688847166\n",
      "Objective value at epoch t=35 is 0.45864850971394017\n",
      "Objective value at epoch t=36 is 0.4586258628220213\n",
      "Objective value at epoch t=37 is 0.4585914928905473\n",
      "Objective value at epoch t=38 is 0.4585984695883239\n",
      "Objective value at epoch t=39 is 0.45856927811594816\n",
      "Objective value at epoch t=40 is 0.45856228634894647\n",
      "Objective value at epoch t=41 is 0.458555056357183\n",
      "Objective value at epoch t=42 is 0.45854996759662403\n",
      "Objective value at epoch t=43 is 0.4585506813219397\n",
      "Objective value at epoch t=44 is 0.45853647117119006\n",
      "Objective value at epoch t=45 is 0.458541249761595\n",
      "Objective value at epoch t=46 is 0.4585278290171033\n",
      "Objective value at epoch t=47 is 0.45853010641287406\n",
      "Objective value at epoch t=48 is 0.4585342601182357\n",
      "Objective value at epoch t=49 is 0.45852603146965326\n",
      "Objective value at epoch t=50 is 0.4585271899531759\n",
      "Objective value at epoch t=51 is 0.45853265727650033\n",
      "Objective value at epoch t=52 is 0.45852016155004055\n",
      "Objective value at epoch t=53 is 0.45851916637109674\n",
      "Objective value at epoch t=54 is 0.45851441848162444\n",
      "Objective value at epoch t=55 is 0.45851967351002276\n",
      "Objective value at epoch t=56 is 0.4585124313186149\n",
      "Objective value at epoch t=57 is 0.45850954273389377\n",
      "Objective value at epoch t=58 is 0.45851071367977064\n",
      "Objective value at epoch t=59 is 0.45850715715467183\n",
      "Objective value at epoch t=60 is 0.4585084811864192\n",
      "Objective value at epoch t=61 is 0.4585087872537582\n",
      "Objective value at epoch t=62 is 0.4585060646143156\n",
      "Objective value at epoch t=63 is 0.45850530208553886\n",
      "Objective value at epoch t=64 is 0.45850507761621073\n",
      "Objective value at epoch t=65 is 0.45850363424434387\n",
      "Objective value at epoch t=66 is 0.45850233850869004\n",
      "Objective value at epoch t=67 is 0.458502962853374\n",
      "Objective value at epoch t=68 is 0.4585016526139475\n",
      "Objective value at epoch t=69 is 0.45850087682852764\n",
      "Objective value at epoch t=70 is 0.45850072852715573\n",
      "Objective value at epoch t=71 is 0.4584998842481162\n",
      "Objective value at epoch t=72 is 0.45849997886961186\n",
      "Objective value at epoch t=73 is 0.4585003873599755\n",
      "Objective value at epoch t=74 is 0.4584992947164317\n",
      "Objective value at epoch t=75 is 0.4584994752096986\n",
      "Objective value at epoch t=76 is 0.45849904944629655\n",
      "Objective value at epoch t=77 is 0.45849891256375497\n",
      "Objective value at epoch t=78 is 0.45849884342171393\n",
      "Objective value at epoch t=79 is 0.45849893194657493\n",
      "Objective value at epoch t=80 is 0.45849846756024654\n",
      "Objective value at epoch t=81 is 0.45849855097338027\n",
      "Objective value at epoch t=82 is 0.4584984201432315\n",
      "Objective value at epoch t=83 is 0.4584984305394037\n",
      "Objective value at epoch t=84 is 0.45849823450942134\n",
      "Objective value at epoch t=85 is 0.45849808974220757\n",
      "Objective value at epoch t=86 is 0.45849821392563556\n",
      "Objective value at epoch t=87 is 0.45849802607240586\n",
      "Objective value at epoch t=88 is 0.4584979710434567\n",
      "Objective value at epoch t=89 is 0.4584979027513464\n",
      "Objective value at epoch t=90 is 0.4584978366371302\n",
      "Objective value at epoch t=91 is 0.4584977791675346\n",
      "Objective value at epoch t=92 is 0.4584978245573084\n",
      "Objective value at epoch t=93 is 0.45849775405730286\n",
      "Objective value at epoch t=94 is 0.4584976957414545\n",
      "Objective value at epoch t=95 is 0.45849765913484214\n",
      "Objective value at epoch t=96 is 0.4584976757760575\n",
      "Objective value at epoch t=97 is 0.45849766196868585\n",
      "Objective value at epoch t=98 is 0.45849763473460403\n",
      "Objective value at epoch t=99 is 0.458497614779764\n",
      "Objective value at epoch t=100 is 0.4584975873338206\n",
      "Objective value at epoch t=101 is 0.458497569884868\n",
      "Objective value at epoch t=102 is 0.4584975571191495\n",
      "Objective value at epoch t=103 is 0.45849756508720596\n",
      "Objective value at epoch t=104 is 0.45849754781473323\n",
      "Objective value at epoch t=105 is 0.45849754097480216\n",
      "Objective value at epoch t=106 is 0.4584975171454085\n",
      "Objective value at epoch t=107 is 0.4584975192036403\n",
      "Objective value at epoch t=108 is 0.4584975153739791\n",
      "Objective value at epoch t=109 is 0.45849751123972265\n",
      "Objective value at epoch t=110 is 0.45849751578123343\n",
      "Objective value at epoch t=111 is 0.45849750065144895\n",
      "Objective value at epoch t=112 is 0.4584974901677843\n",
      "Objective value at epoch t=113 is 0.4584974921120948\n",
      "Objective value at epoch t=114 is 0.45849748604797097\n",
      "Objective value at epoch t=115 is 0.45849748840063803\n",
      "Objective value at epoch t=116 is 0.45849747944017183\n",
      "Objective value at epoch t=117 is 0.4584974753877485\n",
      "Objective value at epoch t=118 is 0.458497475873071\n",
      "Objective value at epoch t=119 is 0.45849747147648323\n",
      "Objective value at epoch t=120 is 0.458497472299871\n",
      "Objective value at epoch t=121 is 0.45849746736815433\n",
      "Objective value at epoch t=122 is 0.4584974705945759\n",
      "Objective value at epoch t=123 is 0.4584974688540634\n",
      "Objective value at epoch t=124 is 0.458497464638643\n",
      "Objective value at epoch t=125 is 0.4584974651668068\n",
      "Objective value at epoch t=126 is 0.45849746545521536\n",
      "Objective value at epoch t=127 is 0.4584974635903595\n",
      "Objective value at epoch t=128 is 0.45849746355431625\n",
      "Objective value at epoch t=129 is 0.45849746177230516\n",
      "Objective value at epoch t=130 is 0.4584974617540042\n",
      "Objective value at epoch t=131 is 0.4584974616210773\n",
      "Objective value at epoch t=132 is 0.45849746032138644\n",
      "Objective value at epoch t=133 is 0.4584974605115079\n",
      "Objective value at epoch t=134 is 0.4584974600160971\n",
      "Objective value at epoch t=135 is 0.45849745989055435\n",
      "Objective value at epoch t=136 is 0.45849745891245214\n",
      "Objective value at epoch t=137 is 0.45849745870484443\n",
      "Objective value at epoch t=138 is 0.45849745841372286\n",
      "Objective value at epoch t=139 is 0.458497458256379\n",
      "Objective value at epoch t=140 is 0.45849745843133183\n",
      "Objective value at epoch t=141 is 0.4584974580449762\n",
      "Objective value at epoch t=142 is 0.45849745775021256\n",
      "Objective value at epoch t=143 is 0.45849745788221147\n",
      "Objective value at epoch t=144 is 0.458497457757562\n",
      "Objective value at epoch t=145 is 0.45849745739332065\n",
      "Objective value at epoch t=146 is 0.45849745718748713\n",
      "Objective value at epoch t=147 is 0.4584974571694924\n",
      "Objective value at epoch t=148 is 0.45849745706273654\n",
      "Objective value at epoch t=149 is 0.45849745699767985\n"
     ]
    }
   ],
   "source": [
    "# example\n",
    "d = x_train.shape[1]\n",
    "w = np.zeros(d)\n",
    "b = np.zeros(1)\n",
    "stepsize = 0.2\n",
    "w, b, objvals_mini_sgd = mini_batch_sgd(x_train, y_train, w, b, stepsize)"
   ]
  },
  {
   "cell_type": "markdown",
   "metadata": {
    "colab_type": "text",
    "id": "hJm0NM49U8gK"
   },
   "source": [
    "### Compare GD, SGD, and mini batch SGD\n",
    "\n",
    "Plot objective function values against epochs."
   ]
  },
  {
   "cell_type": "code",
   "execution_count": 18,
   "metadata": {
    "colab": {},
    "colab_type": "code",
    "id": "zrMngP3MU8gK"
   },
   "outputs": [
    {
     "name": "stderr",
     "output_type": "stream",
     "text": [
      "<ipython-input-18-90ab30e0b362>:10: MatplotlibDeprecationWarning: Case-insensitive properties were deprecated in 3.3 and support will be removed two minor releases later\n",
      "  line0, = plt.plot(epochs_gd, objvals_gd, '--b', LineWidth=2)\n",
      "<ipython-input-18-90ab30e0b362>:11: MatplotlibDeprecationWarning: Case-insensitive properties were deprecated in 3.3 and support will be removed two minor releases later\n",
      "  line1, = plt.plot(epochs_sgd, objvals_sgd, '-r', LineWidth=2)\n",
      "<ipython-input-18-90ab30e0b362>:12: MatplotlibDeprecationWarning: Case-insensitive properties were deprecated in 3.3 and support will be removed two minor releases later\n",
      "  line2, = plt.plot(epochs_mini_sgd, objvals_mini_sgd, '.-y', LineWidth=2)\n",
      "<ipython-input-18-90ab30e0b362>:13: MatplotlibDeprecationWarning: Case-insensitive properties were deprecated in 3.3 and support will be removed two minor releases later\n",
      "  plt.xlabel('Epochs', FontSize=20)\n",
      "<ipython-input-18-90ab30e0b362>:14: MatplotlibDeprecationWarning: Case-insensitive properties were deprecated in 3.3 and support will be removed two minor releases later\n",
      "  plt.ylabel('Objective Value', FontSize=20)\n",
      "<ipython-input-18-90ab30e0b362>:15: MatplotlibDeprecationWarning: Case-insensitive properties were deprecated in 3.3 and support will be removed two minor releases later\n",
      "  plt.xticks(FontSize=16)\n",
      "<ipython-input-18-90ab30e0b362>:16: MatplotlibDeprecationWarning: Case-insensitive properties were deprecated in 3.3 and support will be removed two minor releases later\n",
      "  plt.yticks(FontSize=16)\n"
     ]
    },
    {
     "data": {
      "image/png": "[encoded data removed]",
      "text/plain": [
       "<Figure size 432x288 with 1 Axes>"
      ]
     },
     "metadata": {
      "needs_background": "light"
     },
     "output_type": "display_data"
    }
   ],
   "source": [
    "import matplotlib.pyplot as plt\n",
    "%matplotlib inline\n",
    "\n",
    "fig = plt.figure(figsize=(6, 4))\n",
    "\n",
    "epochs_gd = range(len(objvals_gd))\n",
    "epochs_sgd = range(len(objvals_sgd))\n",
    "epochs_mini_sgd = range(len(objvals_mini_sgd))\n",
    "\n",
    "line0, = plt.plot(epochs_gd, objvals_gd, '--b', LineWidth=2)\n",
    "line1, = plt.plot(epochs_sgd, objvals_sgd, '-r', LineWidth=2)\n",
    "line2, = plt.plot(epochs_mini_sgd, objvals_mini_sgd, '.-y', LineWidth=2)\n",
    "plt.xlabel('Epochs', FontSize=20)\n",
    "plt.ylabel('Objective Value', FontSize=20)\n",
    "plt.xticks(FontSize=16)\n",
    "plt.yticks(FontSize=16)\n",
    "plt.legend([line0, line1, line2], ['GD', 'SGD', 'batch SGD'], fontsize=20)\n",
    "plt.tight_layout()\n",
    "plt.show()\n",
    "fig.savefig('compare_gd_sgd.pdf', format='pdf', dpi=1200)"
   ]
  },
  {
   "cell_type": "markdown",
   "metadata": {
    "colab_type": "text",
    "id": "wzoBjLRuU8gN"
   },
   "source": [
    "# 4. Prediction"
   ]
  },
  {
   "cell_type": "code",
   "execution_count": 19,
   "metadata": {
    "colab": {},
    "colab_type": "code",
    "id": "RxBpOpWtU8gO"
   },
   "outputs": [],
   "source": [
    "# Predict class label\n",
    "# Inputs:\n",
    "#     w: d-by-1 matrix\n",
    "#     X: m-by-d matrix\n",
    "# Return:\n",
    "#     f: m-by-1 matrix, the predictions\n",
    "def predict(w, X):\n",
    "    xw = np.dot(X, w)\n",
    "    f = np.sign(xw)\n",
    "    return f"
   ]
  },
  {
   "cell_type": "code",
   "execution_count": 20,
   "metadata": {
    "colab": {},
    "colab_type": "code",
    "id": "g-RJK4pnU8gQ"
   },
   "outputs": [
    {
     "name": "stdout",
     "output_type": "stream",
     "text": [
      "Training classification error is 0.35284552845528455\n"
     ]
    }
   ],
   "source": [
    "# evaluate training error\n",
    "f_train = predict(w, x_train)\n",
    "diff = np.abs(f_train - y_train) / 2\n",
    "error_train = np.mean(diff)\n",
    "print('Training classification error is ' + str(error_train))"
   ]
  },
  {
   "cell_type": "code",
   "execution_count": 21,
   "metadata": {
    "colab": {},
    "colab_type": "code",
    "id": "paDufW79U8gS"
   },
   "outputs": [
    {
     "name": "stdout",
     "output_type": "stream",
     "text": [
      "Test classification error is 0.42483660130718953\n"
     ]
    }
   ],
   "source": [
    "# evaluate test error\n",
    "f_test = predict(w, x_test)\n",
    "diff = np.abs(f_test - y_test) / 2\n",
    "error_test = np.mean(diff)\n",
    "print('Test classification error is ' + str(error_test))"
   ]
  },
  {
   "cell_type": "code",
   "execution_count": null,
   "metadata": {
    "colab": {},
    "colab_type": "code",
    "id": "ehlvdNIpU8gV"
   },
   "outputs": [],
   "source": []
  },
  {
   "cell_type": "markdown",
   "metadata": {},
   "source": [
    "## Submission instructions \n",
    "\n",
    "**PLEASE READ:** When you are ready to submit your assignment do the following:\n",
    "\n",
    "1. Run all cells in your notebook to make sure there are no errors by doing `Kernel -> Restart Kernel and Clear All Outputs` and then `Run -> Run All Cells`.\n",
    "2. Notebooks with cell execution numbers out of order will have marks deducted. Notebooks without the output displayed may not be graded at all (because we need to see the output in order to grade your work).\n",
    "3. Please keep your notebook clean and remove any throwaway code."
   ]
  }
 ],
 "metadata": {
  "colab": {
   "collapsed_sections": [],
   "name": "New_HW2_logistic_regression_sol.ipynb",
   "provenance": [],
   "toc_visible": true
  },
  "kernelspec": {
   "display_name": "Python 3",
   "language": "python",
   "name": "python3"
  },
  "language_info": {
   "codemirror_mode": {
    "name": "ipython",
    "version": 3
   },
   "file_extension": ".py",
   "mimetype": "text/x-python",
   "name": "python",
   "nbconvert_exporter": "python",
   "pygments_lexer": "ipython3",
   "version": "3.8.8"
  }
 },
 "nbformat": 4,
 "nbformat_minor": 2
}
