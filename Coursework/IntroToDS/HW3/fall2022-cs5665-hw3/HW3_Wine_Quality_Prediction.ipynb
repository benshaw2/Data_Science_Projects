{
 "cells": [
  {
   "cell_type": "markdown",
   "metadata": {
    "id": "mz0_QVkxCrX3"
   },
   "source": [
    "# **Homework 3: Wine Quality Prediction (Classification)**"
   ]
  },
  {
   "cell_type": "code",
   "execution_count": 1,
   "metadata": {
    "id": "SxwRwMfVlIrN"
   },
   "outputs": [],
   "source": [
    "Name = \"Ben Shaw\"\n",
    "assert Name != \"\", 'Please enter your name in the above quotation marks, thanks!'\n",
    "\n",
    "A_number = \"A01515327\"\n",
    "assert A_number != \"\", 'Please enter your A-number in the above quotation marks, thanks!'\n",
    "\n",
    "Kaggle_username=\"Ben D Shaw\"\n",
    "assert Kaggle_username != \"\", 'Please enter your Kaggle username in the above quotation marks, thanks!'"
   ]
  },
  {
   "cell_type": "markdown",
   "metadata": {
    "id": "ZeZnPAiwDRWG"
   },
   "source": [
    "\n",
    "In this homework, we aim to predict the wine quality by a neural network. In this sample code, we implement a barely work neural network, and your job is to implement the performance. You can find the meta data of this dataset [here](https://archive.ics.uci.edu/ml/datasets/wine). Please download the dataset either from [Kaggle](https://www.kaggle.com/t/957a7547ea0745b191ac74652c38211b) or Canvas and DO NOT use the original dataset as we slightly revise the data.\n",
    "\n",
    "Your jobs:\n",
    "\n",
    "1. Run sample code.\n",
    "\n",
    "2. **Make substantial improvements** to improve the accuracy.\n",
    "\n",
    "3. Submit the .IPYNB file to Canvas.\n",
    "    - Missing the output after execution may hurt your grade.\n",
    "\n",
    "4. Submit the generated \"pred.csv\" to the [inclass Kaggle competition](https://www.kaggle.com/t/957a7547ea0745b191ac74652c38211b). Your score will be based on the accuracy on the private dataset. Please check [Canvas](https://usu.instructure.com/courses/706364/assignments/3897628) for details.\n",
    "\n",
    "# **Hints**\n",
    "* Feature engineering (all features  or less features)\n",
    "* Feature normalization or standardization\n",
    "* DNN architecture (layers? dimension? activation function?)\n",
    "* Training (mini-batch? optimizer? learning rate?)\n",
    "* L1/L2 regularization\n",
    "\n",
    "# **Rules**\n",
    "\n",
    "- You should finish your homework on your own.\n",
    "- **You should not modify your prediction files manually.**\n",
    "- Do not share codes or prediction files with any living creatures.\n",
    "- **Do not search or use additional data.**"
   ]
  },
  {
   "cell_type": "markdown",
   "metadata": {
    "id": "nfrVxqJanGpE"
   },
   "source": [
    "**Please describe your improvements here**\n",
    "\n",
    "- One: Change in the number of layers: added two layers\n",
    "- Two: Added L2 regularization\n",
    "- Three: changed to Adam optimizer\n",
    "- Four: implemented PCA (9 components) during preprocessing."
   ]
  },
  {
   "cell_type": "markdown",
   "metadata": {
    "id": "F4Ag_jkzqSzW"
   },
   "source": [
    "\n"
   ]
  },
  {
   "cell_type": "markdown",
   "metadata": {
    "id": "Jx3x1nDkG-Uy"
   },
   "source": [
    "# **Download Data**\n",
    "\n",
    "\n",
    "You can download data from [kaggle](https://www.kaggle.com/t/957a7547ea0745b191ac74652c38211b). If you use Google Colab, you should upload the data files to the same workspace."
   ]
  },
  {
   "cell_type": "code",
   "execution_count": 2,
   "metadata": {
    "id": "tMj55YDKG6ch"
   },
   "outputs": [],
   "source": [
    "train_path = './wine_train.csv'  # path to training data\n",
    "test_path = './wine_test.csv'   # path to testing data"
   ]
  },
  {
   "cell_type": "markdown",
   "metadata": {
    "id": "wS_4-77xHk44"
   },
   "source": [
    "# **Import Some Packages**"
   ]
  },
  {
   "cell_type": "code",
   "execution_count": 3,
   "metadata": {
    "id": "k-onQd4JNA5H"
   },
   "outputs": [],
   "source": [
    "# PyTorch\n",
    "import torch\n",
    "import torch.nn as nn\n",
    "from torch.utils.data import Dataset, DataLoader\n",
    "\n",
    "# For data preprocess\n",
    "import numpy as np\n",
    "import csv\n",
    "import os\n",
    "from sklearn import preprocessing\n",
    "\n",
    "# For plotting\n",
    "import matplotlib.pyplot as plt\n",
    "from matplotlib.pyplot import figure\n",
    "\n",
    "myseed = 42  # set a random seed for reproducibility\n",
    "torch.backends.cudnn.deterministic = True\n",
    "torch.backends.cudnn.benchmark = False\n",
    "np.random.seed(myseed)\n",
    "torch.manual_seed(myseed)\n",
    "if torch.cuda.is_available():\n",
    "    torch.cuda.manual_seed_all(myseed)"
   ]
  },
  {
   "cell_type": "markdown",
   "metadata": {
    "id": "BtE3b6JEH7rw"
   },
   "source": [
    "# **Some Utilities**\n",
    "\n",
    "You do not need to modify this part."
   ]
  },
  {
   "cell_type": "code",
   "execution_count": 4,
   "metadata": {
    "id": "FWMT3uf1NGQp"
   },
   "outputs": [],
   "source": [
    "def get_device():\n",
    "    ''' Get device (if GPU is available, use GPU) '''\n",
    "    return 'cuda' if torch.cuda.is_available() else 'cpu'\n",
    "\n",
    "def plot_learning_curve(loss_record, title=''):\n",
    "    ''' Plot learning curve of your DNN (train & dev loss) '''\n",
    "    total_steps = len(loss_record['train'])\n",
    "    x_1 = range(total_steps)\n",
    "    x_2 = x_1[::len(loss_record['train']) // len(loss_record['dev'])]\n",
    "    figure(figsize=(6, 4))\n",
    "    plt.plot(x_1, loss_record['train'], c='tab:red', label='train')\n",
    "    plt.plot(x_2, loss_record['dev'], c='tab:cyan', label='dev')\n",
    "    plt.ylim(0.0, 5.)\n",
    "    plt.xlabel('Training steps')\n",
    "    plt.ylabel('Cross entropy loss')\n",
    "    plt.title('Learning curve of {}'.format(title))\n",
    "    plt.legend()\n",
    "    plt.show()"
   ]
  },
  {
   "cell_type": "code",
   "execution_count": 5,
   "metadata": {},
   "outputs": [],
   "source": [
    "from sklearn.decomposition import PCA"
   ]
  },
  {
   "cell_type": "code",
   "execution_count": 6,
   "metadata": {},
   "outputs": [],
   "source": [
    "pca = PCA(n_components=9)"
   ]
  },
  {
   "cell_type": "markdown",
   "metadata": {
    "id": "39U_XFX6KOoj"
   },
   "source": [
    "# **Preprocess**\n",
    "\n",
    "We have three kinds of datasets:\n",
    "* `train`: for training\n",
    "* `dev`: for validation\n",
    "* `test`: for testing (w/o target value)"
   ]
  },
  {
   "cell_type": "markdown",
   "metadata": {
    "id": "TQ-MdwpLL7Dt"
   },
   "source": [
    "## **Dataset**\n",
    "\n",
    "The `WineDataset` below does:\n",
    "* read `.csv` files\n",
    "* extract features"
   ]
  },
  {
   "cell_type": "code",
   "execution_count": 7,
   "metadata": {
    "id": "0zlpIp9ANJRU"
   },
   "outputs": [],
   "source": [
    "class WineDataset(Dataset):\n",
    "    ''' Dataset for loading and preprocessing the Wine dataset '''\n",
    "\n",
    "    def __init__(self, path, mode='train', target_only=False):\n",
    "        self.mode = mode\n",
    "\n",
    "        # Read data into numpy arrays\n",
    "        with open(path, 'r') as fp:\n",
    "            data = list(csv.reader(fp))\n",
    "            data = np.array(data[1:]).astype(float)\n",
    "\n",
    "        if not target_only:\n",
    "            feats = list(range(11))\n",
    "        else:\n",
    "            # TODO: Using other features\n",
    "            feats = list(range(11)) #[1,2,3,4,5,6,7,8,10]\n",
    "            \n",
    "            #Now normalize the features?\n",
    "            \n",
    "            pass\n",
    "\n",
    "        if mode == 'test':\n",
    "            # Testing data\n",
    "            data = data[:, feats]\n",
    "            data = pca.fit_transform(data)       #could using PCA help?\n",
    "            self.data = torch.FloatTensor(data)\n",
    "        else:\n",
    "            # Training data (train/dev sets)\n",
    "            target = data[:, -1]\n",
    "            data = data[:, feats]\n",
    "            data = pca.fit_transform(data)                     #Could using PCA help?\n",
    "            #Normalize\n",
    "            #data = preprocessing.normalize(data, axis=0)\n",
    "\n",
    "            # Splitting training data into train & dev sets\n",
    "            if mode == 'train':\n",
    "                indices = [i for i in range(len(data)) if i % 10 != 0]\n",
    "            elif mode == 'dev':\n",
    "                indices = [i for i in range(len(data)) if i % 10 == 0]\n",
    "\n",
    "            # Convert data into PyTorch tensors\n",
    "            self.data = torch.FloatTensor(data[indices])\n",
    "            self.target = torch.FloatTensor(target[indices])\n",
    "\n",
    "        self.dim = self.data.shape[1]\n",
    "\n",
    "        print('Finished reading the {} set of Wine Dataset ({} samples found, each dim = {})'.format(mode, len(self.data), self.dim))\n",
    "\n",
    "    def __getitem__(self, index):\n",
    "        # Returns one sample at a time\n",
    "        if self.mode in ['train', 'dev']:\n",
    "            # For training\n",
    "            return self.data[index], self.target[index]\n",
    "        else:\n",
    "            # For testing (no target)\n",
    "            return self.data[index]\n",
    "\n",
    "    def __len__(self):\n",
    "        # Returns the size of the dataset\n",
    "        return len(self.data)\n"
   ]
  },
  {
   "cell_type": "markdown",
   "metadata": {
    "id": "AlhTlkE7MDo3"
   },
   "source": [
    "## **DataLoader**\n",
    "\n",
    "A `DataLoader` loads data from a given `Dataset` into batches.\n"
   ]
  },
  {
   "cell_type": "code",
   "execution_count": 8,
   "metadata": {
    "id": "hlhLk5t6MBX3"
   },
   "outputs": [],
   "source": [
    "def prep_dataloader(path, mode, batch_size, n_jobs=0, target_only=False):\n",
    "    ''' Generates a dataset, then is put into a dataloader. '''\n",
    "    dataset = WineDataset(path, mode=mode, target_only=target_only)  # Construct dataset\n",
    "    dataloader = DataLoader(dataset, batch_size, shuffle=(mode == 'train'), drop_last=False,num_workers=n_jobs, pin_memory=True)  # Construct dataloader                          \n",
    "    return dataloader"
   ]
  },
  {
   "cell_type": "markdown",
   "metadata": {
    "id": "SGuycwR0MeQB"
   },
   "source": [
    "# **Deep Neural Network**\n",
    "\n",
    "`NeuralNet` is an `nn.Module` designed for calssification.\n",
    "The DNN consists of 2 fully-connected layers with ReLU activation.\n",
    "This module also included a function `cal_loss` for calculating loss.\n"
   ]
  },
  {
   "cell_type": "code",
   "execution_count": 9,
   "metadata": {
    "id": "49-uXYovOAI0"
   },
   "outputs": [],
   "source": [
    "class NeuralNet(nn.Module):\n",
    "    ''' A simple fully-connected deep neural network '''\n",
    "    def __init__(self, input_dim):\n",
    "        super(NeuralNet, self).__init__()\n",
    "\n",
    "        # Define your neural network here\n",
    "        # TODO: How to modify this model to achieve better performance?\n",
    "        self.net = nn.Sequential(\n",
    "            nn.Linear(input_dim, 3200),\n",
    "            #nn.BatchNorm2d(num_features=16),\n",
    "            nn.ReLU(),\n",
    "            nn.Dropout(0.25),\n",
    "            nn.Linear(3200,800),\n",
    "            nn.ReLU(),\n",
    "            nn.Linear(800,200),\n",
    "            nn.ReLU(),\n",
    "            nn.Linear(200, 3),\n",
    "            #nn.ReLU()\n",
    "            #nn.Softmax(dim=1)\n",
    "        )\n",
    "\n",
    "        # Cross entropy loss\n",
    "        self.criterion =  nn.CrossEntropyLoss() #nn.NLLLoss()\n",
    "\n",
    "    def forward(self, x):\n",
    "        ''' Given input of size (batch_size x input_dim), compute output of the network '''\n",
    "        return self.net(x).squeeze(1)\n",
    "\n",
    "    def cal_loss(self, pred, target):\n",
    "        ''' Calculate loss '''\n",
    "        # TODO: you may implement L1/L2 regularization here\n",
    "        \n",
    "        #Replace pow(2.0) with abs() for L1 regularization\n",
    "     \n",
    "        l2_lambda = 0.001 #0.001\n",
    "        l2_norm = sum(p.pow(2.0).sum()\n",
    "                  for p in model.parameters())\n",
    " \n",
    "        lossL2 = l2_lambda * l2_norm\n",
    "        return self.criterion(pred, target) + lossL2"
   ]
  },
  {
   "cell_type": "markdown",
   "metadata": {
    "id": "DvFWVjZ5Nvga"
   },
   "source": [
    "# **Train/Dev/Test**"
   ]
  },
  {
   "cell_type": "markdown",
   "metadata": {
    "id": "MAM8QecJOyqn"
   },
   "source": [
    "## **Training**"
   ]
  },
  {
   "cell_type": "code",
   "execution_count": 10,
   "metadata": {
    "id": "lOqcmYzMO7jB"
   },
   "outputs": [],
   "source": [
    "def train(tr_set, dv_set, model, config, device):\n",
    "    ''' DNN training '''\n",
    "\n",
    "    n_epochs = config['n_epochs']  # Maximum number of epochs\n",
    "\n",
    "    # Setup optimizer\n",
    "    optimizer = getattr(torch.optim, config['optimizer'])(\n",
    "        model.parameters(), **config['optim_hparas'])\n",
    "\n",
    "    min_ce = 1000.\n",
    "    loss_record = {'train': [], 'dev': []}      # for recording training loss\n",
    "    early_stop_cnt = 0\n",
    "    epoch = 0\n",
    "    while epoch < n_epochs:\n",
    "        model.train()                           # set model to training mode\n",
    "        for x, y in tr_set:                     # iterate through the dataloader\n",
    "            optimizer.zero_grad()               # set gradient to zero\n",
    "            x, y = x.to(device), y.long().to(device)   # move data to device (cpu/cuda)\n",
    "            pred = model(x)                     # forward pass (compute output)\n",
    "            crossentropy_loss = model.cal_loss(pred, y)  # compute loss\n",
    "            crossentropy_loss.backward()                 # compute gradient (backpropagation)\n",
    "            optimizer.step()                    # update model with optimizer\n",
    "            loss_record['train'].append(crossentropy_loss.detach().cpu().item())\n",
    "\n",
    "        # After each epoch, test your model on the validation (development) set.\n",
    "        dev_ce= dev(dv_set, model, device)[0]\n",
    "        if dev_ce < min_ce:\n",
    "            # Save model if your model improved\n",
    "            min_ce = dev_ce\n",
    "            print('Saving model (epoch = {:4d}, loss = {:.4f})'.format(epoch + 1, min_ce))\n",
    "            torch.save(model.state_dict(), config['save_path'])  # Save model to specified path\n",
    "            early_stop_cnt = 0\n",
    "        else:\n",
    "            early_stop_cnt += 1\n",
    "\n",
    "        epoch += 1\n",
    "        loss_record['dev'].append(dev_ce)\n",
    "        if early_stop_cnt > config['early_stop']:\n",
    "            # Stop training if your model stops improving for \"config['early_stop']\" epochs.\n",
    "            break\n",
    "\n",
    "    print('Finished training after {} epochs'.format(epoch))\n",
    "    return min_ce, loss_record"
   ]
  },
  {
   "cell_type": "markdown",
   "metadata": {
    "id": "0hSd4Bn3O2PL"
   },
   "source": [
    "## **Validation**"
   ]
  },
  {
   "cell_type": "code",
   "execution_count": 11,
   "metadata": {
    "id": "yrxrD3YsN3U2"
   },
   "outputs": [],
   "source": [
    "def dev(dv_set, model, device):\n",
    "    model.eval()                                # set model to evalutation mode\n",
    "    preds = []\n",
    "    total_loss = 0\n",
    "    for x, y in dv_set:                         # iterate through the dataloader\n",
    "        x, y = x.to(device), y.long().to(device)       # move data to device (cpu/cuda)\n",
    "        with torch.no_grad():                   # disable gradient calculation\n",
    "            pred = model(x)                     # forward pass (compute output)\n",
    "            preds.append(pred.detach().cpu())\n",
    "            ce_loss = model.cal_loss(pred, y)  # compute loss\n",
    "        total_loss += ce_loss.detach().cpu().item() * len(x)  # accumulate loss\n",
    "    total_loss = total_loss / len(dv_set.dataset)              # compute averaged loss\n",
    "    preds = torch.cat(preds, dim=0).numpy()\n",
    "\n",
    "    return total_loss, np.argmax(preds, axis=1)"
   ]
  },
  {
   "cell_type": "markdown",
   "metadata": {
    "id": "g0pdrhQAO41L"
   },
   "source": [
    "## **Testing**"
   ]
  },
  {
   "cell_type": "code",
   "execution_count": 12,
   "metadata": {
    "id": "aSBMRFlYN5tB"
   },
   "outputs": [],
   "source": [
    "def test(tt_set, model, device):\n",
    "    model.eval()                                # set model to evalutation mode\n",
    "    preds = []\n",
    "    for x in tt_set:                            # iterate through the dataloader\n",
    "        x = x.to(device)                        # move data to device (cpu/cuda)\n",
    "        with torch.no_grad():                   # disable gradient calculation\n",
    "            pred = model(x)                     # forward pass (compute output)\n",
    "            preds.append(pred.detach().cpu())   # collect prediction\n",
    "    preds = torch.cat(preds, dim=0).numpy()     # concatenate all predictions and convert to a numpy array\n",
    "    return preds"
   ]
  },
  {
   "cell_type": "markdown",
   "metadata": {
    "id": "SvckkF5dvf0j"
   },
   "source": [
    "# **Setup Hyper-parameters**\n",
    "\n",
    "`config` contains hyper-parameters for training and the path to save your model."
   ]
  },
  {
   "cell_type": "code",
   "execution_count": 13,
   "metadata": {
    "id": "NPXpdumwPjE7"
   },
   "outputs": [],
   "source": [
    "device = get_device()                 # get the current available device ('cpu' or 'cuda')\n",
    "os.makedirs('models', exist_ok=True)  # The trained model will be saved to ./models/\n",
    "target_only = True #False                   # TODO: select features\n",
    "\n",
    "# TODO: How to tune these hyper-parameters to improve your model's performance?\n",
    "config = {\n",
    "    'n_epochs': 1000,                # maximum number of epochs\n",
    "    'batch_size': 128,               # mini-batch size for dataloader\n",
    "    'optimizer': 'Adam',              # optimization algorithm (optimizer in torch.optim)\n",
    "    'optim_hparas': {                # hyper-parameters for the optimizer (depends on which optimizer you are using)\n",
    "        'lr': 0.0001,                 # learning rate of SGD\n",
    "        #'momentum': 0.9              # momentum for SGD\n",
    "    },\n",
    "    'early_stop': 200,               # early stopping epochs (the number epochs since your model's last improvement)\n",
    "    'save_path': 'models/model.pth'  # your model will be saved here\n",
    "}"
   ]
  },
  {
   "cell_type": "markdown",
   "metadata": {
    "id": "6j1eOV3TOH-j"
   },
   "source": [
    "# **Load data and model**"
   ]
  },
  {
   "cell_type": "code",
   "execution_count": 14,
   "metadata": {
    "colab": {
     "base_uri": "https://localhost:8080/"
    },
    "id": "eNrYBMmePLKm",
    "outputId": "ddda1ef8-9cc1-4cc2-bc20-c4db0cae41a7"
   },
   "outputs": [
    {
     "name": "stdout",
     "output_type": "stream",
     "text": [
      "Finished reading the train set of Wine Dataset (2700 samples found, each dim = 9)\n",
      "Finished reading the dev set of Wine Dataset (300 samples found, each dim = 9)\n",
      "Finished reading the test set of Wine Dataset (1500 samples found, each dim = 9)\n"
     ]
    }
   ],
   "source": [
    "tr_set = prep_dataloader(train_path, 'train', config['batch_size'], target_only=target_only)\n",
    "dv_set = prep_dataloader(train_path, 'dev', config['batch_size'], target_only=target_only)\n",
    "tt_set = prep_dataloader(test_path, 'test', config['batch_size'], target_only=target_only)"
   ]
  },
  {
   "cell_type": "code",
   "execution_count": 15,
   "metadata": {
    "id": "FHylSirLP9oh"
   },
   "outputs": [],
   "source": [
    "model = NeuralNet(tr_set.dataset.dim).to(device)  # Construct model and move to device"
   ]
  },
  {
   "cell_type": "markdown",
   "metadata": {
    "id": "sX2B_zgSOPTJ"
   },
   "source": [
    "# **Start Training!**"
   ]
  },
  {
   "cell_type": "code",
   "execution_count": 16,
   "metadata": {
    "colab": {
     "base_uri": "https://localhost:8080/"
    },
    "id": "GrEbUxazQAAZ",
    "outputId": "5c7faf57-ef39-4ac0-b3a6-701e06d3d730"
   },
   "outputs": [
    {
     "name": "stdout",
     "output_type": "stream",
     "text": [
      "Saving model (epoch =    1, loss = 2.4998)\n",
      "Saving model (epoch =    2, loss = 2.4398)\n",
      "Saving model (epoch =    3, loss = 2.4153)\n",
      "Saving model (epoch =    4, loss = 2.3615)\n",
      "Saving model (epoch =    5, loss = 2.3448)\n",
      "Saving model (epoch =    6, loss = 2.3310)\n",
      "Saving model (epoch =    7, loss = 2.3048)\n",
      "Saving model (epoch =    9, loss = 2.2847)\n",
      "Saving model (epoch =   10, loss = 2.2454)\n",
      "Saving model (epoch =   11, loss = 2.1979)\n",
      "Saving model (epoch =   12, loss = 2.1779)\n",
      "Saving model (epoch =   15, loss = 2.1399)\n",
      "Saving model (epoch =   16, loss = 2.0875)\n",
      "Saving model (epoch =   17, loss = 2.0789)\n",
      "Saving model (epoch =   18, loss = 2.0639)\n",
      "Saving model (epoch =   19, loss = 2.0403)\n",
      "Saving model (epoch =   21, loss = 2.0288)\n",
      "Saving model (epoch =   22, loss = 2.0105)\n",
      "Saving model (epoch =   23, loss = 1.9667)\n",
      "Saving model (epoch =   26, loss = 1.9527)\n",
      "Saving model (epoch =   27, loss = 1.9128)\n",
      "Saving model (epoch =   28, loss = 1.9028)\n",
      "Saving model (epoch =   29, loss = 1.8787)\n",
      "Saving model (epoch =   31, loss = 1.8439)\n",
      "Saving model (epoch =   32, loss = 1.8369)\n",
      "Saving model (epoch =   33, loss = 1.8290)\n",
      "Saving model (epoch =   36, loss = 1.7980)\n",
      "Saving model (epoch =   37, loss = 1.7696)\n",
      "Saving model (epoch =   41, loss = 1.7607)\n",
      "Saving model (epoch =   42, loss = 1.7405)\n",
      "Saving model (epoch =   43, loss = 1.6996)\n",
      "Saving model (epoch =   44, loss = 1.6963)\n",
      "Saving model (epoch =   45, loss = 1.6826)\n",
      "Saving model (epoch =   46, loss = 1.6661)\n",
      "Saving model (epoch =   47, loss = 1.6550)\n",
      "Saving model (epoch =   50, loss = 1.6190)\n",
      "Saving model (epoch =   52, loss = 1.5990)\n",
      "Saving model (epoch =   53, loss = 1.5936)\n",
      "Saving model (epoch =   54, loss = 1.5874)\n",
      "Saving model (epoch =   55, loss = 1.5824)\n",
      "Saving model (epoch =   56, loss = 1.5646)\n",
      "Saving model (epoch =   58, loss = 1.5610)\n",
      "Saving model (epoch =   59, loss = 1.5494)\n",
      "Saving model (epoch =   60, loss = 1.5431)\n",
      "Saving model (epoch =   61, loss = 1.5192)\n",
      "Saving model (epoch =   63, loss = 1.5185)\n",
      "Saving model (epoch =   64, loss = 1.5165)\n",
      "Saving model (epoch =   65, loss = 1.5004)\n",
      "Saving model (epoch =   66, loss = 1.4812)\n",
      "Saving model (epoch =   68, loss = 1.4754)\n",
      "Saving model (epoch =   69, loss = 1.4565)\n",
      "Saving model (epoch =   70, loss = 1.4512)\n",
      "Saving model (epoch =   72, loss = 1.4498)\n",
      "Saving model (epoch =   73, loss = 1.4217)\n",
      "Saving model (epoch =   78, loss = 1.4038)\n",
      "Saving model (epoch =   79, loss = 1.3865)\n",
      "Saving model (epoch =   81, loss = 1.3764)\n",
      "Saving model (epoch =   85, loss = 1.3572)\n",
      "Saving model (epoch =   87, loss = 1.3422)\n",
      "Saving model (epoch =   90, loss = 1.3359)\n",
      "Saving model (epoch =   91, loss = 1.3245)\n",
      "Saving model (epoch =   93, loss = 1.3103)\n",
      "Saving model (epoch =   94, loss = 1.3032)\n",
      "Saving model (epoch =  100, loss = 1.2970)\n",
      "Saving model (epoch =  101, loss = 1.2807)\n",
      "Saving model (epoch =  102, loss = 1.2751)\n",
      "Saving model (epoch =  103, loss = 1.2710)\n",
      "Saving model (epoch =  104, loss = 1.2529)\n",
      "Saving model (epoch =  110, loss = 1.2430)\n",
      "Saving model (epoch =  111, loss = 1.2390)\n",
      "Saving model (epoch =  112, loss = 1.2266)\n",
      "Saving model (epoch =  113, loss = 1.2205)\n",
      "Saving model (epoch =  118, loss = 1.2169)\n",
      "Saving model (epoch =  120, loss = 1.2126)\n",
      "Saving model (epoch =  121, loss = 1.2044)\n",
      "Saving model (epoch =  122, loss = 1.2035)\n",
      "Saving model (epoch =  124, loss = 1.1925)\n",
      "Saving model (epoch =  127, loss = 1.1857)\n",
      "Saving model (epoch =  132, loss = 1.1832)\n",
      "Saving model (epoch =  133, loss = 1.1769)\n",
      "Saving model (epoch =  134, loss = 1.1750)\n",
      "Saving model (epoch =  135, loss = 1.1590)\n",
      "Saving model (epoch =  139, loss = 1.1565)\n",
      "Saving model (epoch =  144, loss = 1.1536)\n",
      "Saving model (epoch =  145, loss = 1.1495)\n",
      "Saving model (epoch =  147, loss = 1.1414)\n",
      "Saving model (epoch =  150, loss = 1.1339)\n",
      "Saving model (epoch =  152, loss = 1.1256)\n",
      "Saving model (epoch =  155, loss = 1.1250)\n",
      "Saving model (epoch =  157, loss = 1.1218)\n",
      "Saving model (epoch =  158, loss = 1.1172)\n",
      "Saving model (epoch =  166, loss = 1.1061)\n",
      "Saving model (epoch =  169, loss = 1.0996)\n",
      "Saving model (epoch =  176, loss = 1.0944)\n",
      "Saving model (epoch =  179, loss = 1.0881)\n",
      "Saving model (epoch =  190, loss = 1.0727)\n",
      "Saving model (epoch =  196, loss = 1.0709)\n",
      "Saving model (epoch =  202, loss = 1.0655)\n",
      "Saving model (epoch =  210, loss = 1.0597)\n",
      "Saving model (epoch =  225, loss = 1.0585)\n",
      "Saving model (epoch =  227, loss = 1.0579)\n",
      "Saving model (epoch =  231, loss = 1.0568)\n",
      "Saving model (epoch =  233, loss = 1.0504)\n",
      "Saving model (epoch =  234, loss = 1.0496)\n",
      "Saving model (epoch =  241, loss = 1.0466)\n",
      "Saving model (epoch =  242, loss = 1.0441)\n",
      "Saving model (epoch =  247, loss = 1.0428)\n",
      "Saving model (epoch =  248, loss = 1.0405)\n",
      "Saving model (epoch =  254, loss = 1.0383)\n",
      "Saving model (epoch =  256, loss = 1.0351)\n",
      "Saving model (epoch =  262, loss = 1.0273)\n",
      "Saving model (epoch =  291, loss = 1.0193)\n",
      "Saving model (epoch =  306, loss = 1.0117)\n",
      "Saving model (epoch =  320, loss = 1.0112)\n",
      "Saving model (epoch =  333, loss = 1.0092)\n",
      "Saving model (epoch =  350, loss = 1.0036)\n",
      "Saving model (epoch =  380, loss = 1.0032)\n",
      "Saving model (epoch =  383, loss = 0.9991)\n",
      "Saving model (epoch =  387, loss = 0.9967)\n",
      "Saving model (epoch =  409, loss = 0.9949)\n",
      "Saving model (epoch =  419, loss = 0.9930)\n",
      "Saving model (epoch =  432, loss = 0.9926)\n",
      "Saving model (epoch =  447, loss = 0.9914)\n",
      "Saving model (epoch =  452, loss = 0.9876)\n",
      "Saving model (epoch =  516, loss = 0.9827)\n",
      "Saving model (epoch =  576, loss = 0.9794)\n",
      "Finished training after 777 epochs\n"
     ]
    }
   ],
   "source": [
    "model_loss, model_loss_record = train(tr_set, dv_set, model, config, device)"
   ]
  },
  {
   "cell_type": "code",
   "execution_count": 17,
   "metadata": {
    "colab": {
     "base_uri": "https://localhost:8080/",
     "height": 295
    },
    "id": "hsNO9nnXQBvP",
    "outputId": "222b3112-3709-493b-b64e-531990eb5a82"
   },
   "outputs": [
    {
     "data": {
      "image/png": "[encoded data removed]",
      "text/plain": [
       "<Figure size 432x288 with 1 Axes>"
      ]
     },
     "metadata": {
      "needs_background": "light"
     },
     "output_type": "display_data"
    }
   ],
   "source": [
    "#nn.BatchNorm2d(num_features=16),\n",
    "plot_learning_curve(model_loss_record, title='deep model')"
   ]
  },
  {
   "cell_type": "code",
   "execution_count": 18,
   "metadata": {
    "colab": {
     "base_uri": "https://localhost:8080/"
    },
    "id": "3iZTVn5WQFpX",
    "outputId": "d698c545-51b3-4b52-832d-72185d73d020"
   },
   "outputs": [
    {
     "data": {
      "text/plain": [
       "<All keys matched successfully>"
      ]
     },
     "execution_count": 18,
     "metadata": {},
     "output_type": "execute_result"
    }
   ],
   "source": [
    "del model\n",
    "model = NeuralNet(tr_set.dataset.dim).to(device)\n",
    "ckpt = torch.load(config['save_path'], map_location='cpu')  # Load your best model\n",
    "model.load_state_dict(ckpt)"
   ]
  },
  {
   "cell_type": "markdown",
   "metadata": {
    "id": "aQikz3IPiyPf"
   },
   "source": [
    "# **Testing**\n",
    "The predictions of your model on testing set will be stored at `pred.csv`."
   ]
  },
  {
   "cell_type": "code",
   "execution_count": 19,
   "metadata": {},
   "outputs": [
    {
     "name": "stdout",
     "output_type": "stream",
     "text": [
      "0.5666666666666667\n"
     ]
    }
   ],
   "source": [
    "preds2 = dev(dv_set, model, device)  # predict the quality of wine cases with your model\n",
    "#preds2 = np.argmax(preds, axis=1)\n",
    "preds3 = []\n",
    "for x, y in dv_set:                         # iterate through the dataloader\n",
    "        x, y = x.to(device), y.long().to(device)       # move data to device (cpu/cuda)\n",
    "        #print(y)\n",
    "        ylist = [t.item() for t in y]\n",
    "        preds3.extend(ylist)\n",
    "        \n",
    "rights = [1 for i in range(len(preds3)) if preds2[1][i]==preds3[i]]\n",
    "print(len(rights)/len(preds3))"
   ]
  },
  {
   "cell_type": "code",
   "execution_count": 20,
   "metadata": {
    "colab": {
     "base_uri": "https://localhost:8080/"
    },
    "id": "O8cTuQjQQOon",
    "outputId": "5220e7e2-fdad-49e0-f75a-a6544ce79a9f"
   },
   "outputs": [
    {
     "name": "stdout",
     "output_type": "stream",
     "text": [
      "Saving results to pred.csv\n"
     ]
    }
   ],
   "source": [
    "def save_pred(preds, file):\n",
    "    ''' Save predictions to specified file '''\n",
    "    print('Saving results to {}'.format(file))\n",
    "    with open(file, 'w') as fp:\n",
    "        writer = csv.writer(fp)\n",
    "        writer.writerow(['id', 'tested_positive'])\n",
    "        for i, p in enumerate(preds):\n",
    "            writer.writerow([i, p])\n",
    "\n",
    "preds = test(tt_set, model, device)  # predict the quality of wine cases with your model\n",
    "preds = np.argmax(preds, axis=1) # trasfer output to predicted labels\n",
    "save_pred(preds, 'pred.csv')         # save prediction file to pred.csv"
   ]
  },
  {
   "cell_type": "code",
   "execution_count": null,
   "metadata": {},
   "outputs": [],
   "source": []
  },
  {
   "cell_type": "markdown",
   "metadata": {
    "id": "_uuRfprxlIrV"
   },
   "source": [
    "## Submission instructions \n",
    "\n",
    "**PLEASE READ:** When you are ready to submit your assignment do the following:\n",
    "\n",
    "1. Run all cells in your notebook to make sure there are no errors by doing `Kernel -> Restart Kernel and Clear All Outputs` and then `Run -> Run All Cells`.\n",
    "2. Notebooks with cell execution numbers out of order will have marks deducted. Notebooks without the output displayed may not be graded at all (because we need to see the output in order to grade your work).\n",
    "3. Please keep your notebook clean and remove any throwaway code.\n",
    "4. **Please upload the pred.csv to the [class competition](https://www.kaggle.com/t/957a7547ea0745b191ac74652c38211b).** The score of this homework is based on the result on the private datset."
   ]
  },
  {
   "cell_type": "markdown",
   "metadata": {
    "id": "9tmCwXgpot3t"
   },
   "source": [
    "# **Reference**\n",
    "This code is adapted from Heng-Jui Chang @ NTUEE (https://github.com/ga642381/ML2021-Spring/blob/main/HW01/HW01.ipynb).  "
   ]
  }
 ],
 "metadata": {
  "accelerator": "GPU",
  "colab": {
   "collapsed_sections": [],
   "provenance": []
  },
  "kernelspec": {
   "display_name": "Python 3",
   "language": "python",
   "name": "python3"
  },
  "language_info": {
   "codemirror_mode": {
    "name": "ipython",
    "version": 3
   },
   "file_extension": ".py",
   "mimetype": "text/x-python",
   "name": "python",
   "nbconvert_exporter": "python",
   "pygments_lexer": "ipython3",
   "version": "3.8.8"
  },
  "vscode": {
   "interpreter": {
    "hash": "ad2bdc8ecc057115af97d19610ffacc2b4e99fae6737bb82f5d7fb13d2f2c186"
   }
  }
 },
 "nbformat": 4,
 "nbformat_minor": 1
}
