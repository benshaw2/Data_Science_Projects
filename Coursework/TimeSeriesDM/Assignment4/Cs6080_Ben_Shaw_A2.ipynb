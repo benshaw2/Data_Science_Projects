{
 "cells": [
  {
   "cell_type": "markdown",
   "metadata": {
    "id": "DTRS2Kfk5pj1"
   },
   "source": [
    "## **Part A: BoP on time series data**\n",
    "\n",
    "In this assignment we will build a k Nearest Neighbor Classsifier on gun point time series data. This dataset involves one female actor and one male actor making a motion with their hand. The two classes are: Gun-Draw and Point: For Gun-Draw the actors have their hands by their sides. For Point the actors have their gun by their sides.\n",
    "\n",
    "You are a senior data scientist in a security firm and your job is to build a model to classify suspicious hand gestures activities using a data-driven approach either as:\n",
    "\n",
    "Gun Point class\n",
    "Gun Draw class"
   ]
  },
  {
   "cell_type": "markdown",
   "metadata": {
    "id": "Wl5UGbDwcqA0"
   },
   "source": [
    "\n",
    "**Question 0:** Upload the 'GUN_DATA.csv' under the sample_data folder and importing all the package that we need in this homework. (Do not forget to run every code block)"
   ]
  },
  {
   "cell_type": "code",
   "execution_count": 1,
   "metadata": {
    "colab": {
     "base_uri": "https://localhost:8080/"
    },
    "id": "Ztj8mzM3P0zO",
    "outputId": "3d9fa4fb-b466-4541-cecd-779e182c0d0e"
   },
   "outputs": [
    {
     "name": "stdout",
     "output_type": "stream",
     "text": [
      "Requirement already satisfied: pyts in /home/ben/anaconda3/lib/python3.8/site-packages (0.12.0)\n",
      "Requirement already satisfied: joblib>=0.12 in /home/ben/.local/lib/python3.8/site-packages (from pyts) (1.1.0)\n",
      "Requirement already satisfied: numpy>=1.17.5 in /home/ben/anaconda3/lib/python3.8/site-packages (from pyts) (1.22.3)\n",
      "Requirement already satisfied: scipy>=1.3.0 in /home/ben/.local/lib/python3.8/site-packages (from pyts) (1.8.0)\n",
      "Requirement already satisfied: scikit-learn>=0.22.1 in /home/ben/.local/lib/python3.8/site-packages (from pyts) (1.0.2)\n",
      "Requirement already satisfied: numba>=0.48.0 in /home/ben/anaconda3/lib/python3.8/site-packages (from pyts) (0.56.3)\n",
      "Requirement already satisfied: importlib-metadata in /home/ben/anaconda3/lib/python3.8/site-packages (from numba>=0.48.0->pyts) (3.10.0)\n",
      "Requirement already satisfied: setuptools in /home/ben/anaconda3/lib/python3.8/site-packages (from numba>=0.48.0->pyts) (52.0.0.post20210125)\n",
      "Requirement already satisfied: llvmlite<0.40,>=0.39.0dev0 in /home/ben/anaconda3/lib/python3.8/site-packages (from numba>=0.48.0->pyts) (0.39.1)\n",
      "Requirement already satisfied: threadpoolctl>=2.0.0 in /home/ben/.local/lib/python3.8/site-packages (from scikit-learn>=0.22.1->pyts) (3.1.0)\n",
      "Requirement already satisfied: zipp>=0.5 in /home/ben/anaconda3/lib/python3.8/site-packages (from importlib-metadata->numba>=0.48.0->pyts) (3.4.1)\n"
     ]
    }
   ],
   "source": [
    "# Import needed libraries\n",
    "!pip install pyts\n",
    "import numpy as np\n",
    "import matplotlib.pyplot as plt\n",
    "from pyts.transformation import BagOfPatterns\n",
    "from sklearn.ensemble import RandomForestClassifier\n",
    "from sklearn.metrics import accuracy_score\n",
    "from sklearn.model_selection import StratifiedShuffleSplit\n",
    "import pandas as pd\n",
    "import seaborn as sns; sns.set_theme()\n",
    "#I'm also going to use the following:\n",
    "import string\n",
    "import itertools"
   ]
  },
  {
   "cell_type": "markdown",
   "metadata": {
    "id": "VxobU63gQLQa"
   },
   "source": [
    "Now let's add the data file in the sample_data folder of the Files tab (in the left corner)\n",
    "\n",
    "We will then read the CSV data that we just uploaded from the python script"
   ]
  },
  {
   "cell_type": "code",
   "execution_count": 2,
   "metadata": {
    "id": "2g_2wnLHnR8a"
   },
   "outputs": [],
   "source": [
    "# Read the data file and print it\n",
    "data =  pd.read_csv(\"sample_data/GUN_DATA (2).csv\")\n",
    "Y = data.iloc[:,-1:]\n",
    "data = data.iloc[: , :-1]\n",
    "\n",
    "data = np.array(data)\n",
    "Y = np.array(Y)\n",
    "\n",
    "# This function returns the dataset splitted into train and test \n",
    "def getSplit(Xdata, Y):\n",
    "  sss = StratifiedShuffleSplit(n_splits=1, test_size=0.2, random_state=19)\n",
    "  sss.get_n_splits(Xdata, Y)\n",
    "  for train_index, test_index in sss.split(Xdata, Y):\n",
    "      X_train, X_test = Xdata[train_index], Xdata[test_index]\n",
    "      y_train, y_test = Y[train_index], Y[test_index]\n",
    "  return X_train, y_train, X_test, y_test\n"
   ]
  },
  {
   "cell_type": "markdown",
   "metadata": {
    "id": "peZocsAWQrCw"
   },
   "source": [
    "\n",
    "**Question 1:** Based on the BoP representation example below, define a utility function that takes three parameters:\n",
    ", word_len, and X_data) and returns the BoP representation of the data\n",
    "\n",
    "*   alpha_size:alphabet size\n",
    "*   word_len: word length of the BoP representation\n",
    "*   X_data: the input data to be transformed\n",
    "\n"
   ]
  },
  {
   "cell_type": "code",
   "execution_count": 3,
   "metadata": {
    "colab": {
     "base_uri": "https://localhost:8080/",
     "height": 271
    },
    "id": "4MqyD9w78yDi",
    "outputId": "40916faa-7faf-4cfe-f054-c58ca6344692"
   },
   "outputs": [
    {
     "data": {
      "image/png": "[encoded data removed]",
      "text/plain": [
       "<Figure size 432x288 with 1 Axes>"
      ]
     },
     "metadata": {},
     "output_type": "display_data"
    }
   ],
   "source": [
    "# Bag-of-patterns representation for time series of alphabet size (n_bins), an wprd length (word_size)\n",
    "bop = BagOfPatterns(window_size=0.5, word_size=2, n_bins=3,\n",
    "                    numerosity_reduction=False, sparse=False)\n",
    "\n",
    "# returns the BoP Representation vector with respect to each word\n",
    "X_data_bop = bop.fit_transform(data)\n",
    "pd.DataFrame(X_data_bop).iloc[0].plot.bar(rot=0)\n",
    "\n",
    "plt.xticks(np.arange(len(bop.vocabulary_)),\n",
    "           np.vectorize(bop.vocabulary_.get)(np.arange(X_data_bop[0].size)),\n",
    "           fontsize=12)\n",
    "plt.show()\n"
   ]
  },
  {
   "cell_type": "code",
   "execution_count": 4,
   "metadata": {
    "id": "z5xei00R86Wg"
   },
   "outputs": [],
   "source": [
    "def get_BOP_transform(alpha_size, word_len, X_data):\n",
    "    # INSERT CODE HERE\n",
    "    alphabet = string.ascii_lowercase[:alpha_size]\n",
    "    #vecDim = alpha_size**word_len #written in terms of the word length and alphabet size.\n",
    "    #let's chunk up the range of the data so that we can bin points into words.\n",
    "    #Min = np.amin(X_data)   #It may have been a mistake to compute this for the whole dataset.\n",
    "    #Max = np.amax(X_data)   #Let's try this on a per time series basis.\n",
    "    #deltaX = (Max-Min)/alpha_size\n",
    "    #endpoints = [Min + i*deltaX for i in range(alpha_size)]\n",
    "    #print(endpoints)\n",
    "    \n",
    "    def getWords(alphabet,word_len): #this will list all possible words based on our alphabet and wordlength.\n",
    "        mydic = {}\n",
    "        for item in itertools.product(alphabet, repeat=word_len): #I ripped this line off the internet...\n",
    "            string = \"\".join(item)\n",
    "            if string not in mydic:\n",
    "                mydic[string] = 0\n",
    "        return mydic\n",
    "    \n",
    "    def ptToAlpha(p,endpoints,alphabet): #this will convert a point into a letter in our alphabet.\n",
    "        #first we get which bin it's in\n",
    "        pkey = endpoints[0]\n",
    "        lkey = endpoints[-1]\n",
    "        for i in range(1,len(endpoints)):\n",
    "            nkey = endpoints[i]\n",
    "            if p>=pkey and p<nkey:\n",
    "                return alphabet[i-1]\n",
    "                return\n",
    "            pkey = endpoints[i]\n",
    "        return alphabet[-1]\n",
    "        \n",
    "        \n",
    "    #def getLetters(x,endpoints,alphabet): #this converts a list of points into a single string of our letters.\n",
    "    def getLetters(x,alphabet):\n",
    "        #Try computing endpoints here instead of earlier.\n",
    "        Min = min(x)\n",
    "        Max = max(x)\n",
    "        deltaX = (Max-Min)/alpha_size\n",
    "        endpoints = [Min + i*deltaX for i in range(alpha_size)]\n",
    "        newx = []\n",
    "        for p in x:\n",
    "            letter = ptToAlpha(p,endpoints,alphabet)\n",
    "            newx.extend([letter])\n",
    "        newx2 = ''.join(newx)\n",
    "        return newx2\n",
    "    \n",
    "    def extractWords(String,word_len,dic): #this will count the number of times the given words appear in the string\n",
    "        start = 0\n",
    "        end = word_len-1\n",
    "        L = len(String)\n",
    "        while end < L:\n",
    "            word = String[start:end+1]\n",
    "            dic[word] += 1\n",
    "            start += 1\n",
    "            end += 1\n",
    "        return dic\n",
    "        \n",
    "    data_BOP = []\n",
    "    #Words = getWords(alphabet,word_len) #here are all possible words.\n",
    "    for x in X_data: #Turn every datapoint into a histogram.\n",
    "        #xp = getLetters(x,endpoints,alphabet)\n",
    "        xp = getLetters(x,alphabet)\n",
    "        Words = getWords(alphabet,word_len)\n",
    "        xp = extractWords(xp,word_len,Words)\n",
    "        xp = [xp[key] for key in xp]\n",
    "        data_BOP.extend([xp])\n",
    "        \n",
    "    data_BOP = np.array(data_BOP)\n",
    "    return data_BOP"
   ]
  },
  {
   "cell_type": "markdown",
   "metadata": {
    "id": "L4xg2G7GCKY8"
   },
   "source": [
    "**Question 2:** Define a function that takes four parameters:\n",
    "(X_trainBOP, y_train, X_testBOP, y_test), trains a random forest classifier (with 100 decision trees) and returns the test accuracy of the model."
   ]
  },
  {
   "cell_type": "code",
   "execution_count": 5,
   "metadata": {
    "id": "nTzAu_tfCM1c"
   },
   "outputs": [],
   "source": [
    "def get_RandomForest_accuracy(X_trainBOP, y_train, X_testBOP, y_test, trees=100, TrainAcc=False):\n",
    "    clf = RandomForestClassifier(n_estimators=trees,random_state=42)\n",
    "    # INSERT CODE HERE\n",
    "    #reshape y\n",
    "    ytr = y_train.reshape([y_train.shape[0],])\n",
    "    yte = y_test.reshape([y_test.shape[0],])\n",
    "    clf.fit(X_trainBOP,ytr)\n",
    "    accuracy = clf.score(X_testBOP,yte)\n",
    "    if TrainAcc == True:\n",
    "        Tacc = clf.score(X_trainBOP, ytr)\n",
    "        return np.array([accuracy, Tacc])\n",
    "    return accuracy"
   ]
  },
  {
   "cell_type": "markdown",
   "metadata": {
    "id": "CdtsyEOtC1Bl"
   },
   "source": [
    "**Question 3:** Define a grid search function that takes four inputs(alpha_min, alpha_max, wordlen_min, wordlen_max) and returns a matrix of test accuracies.\n",
    "\n",
    "Hint: you can use the get_BOP_transform, getSplit and get_RandomForest_accuracy"
   ]
  },
  {
   "cell_type": "code",
   "execution_count": 6,
   "metadata": {
    "id": "uszIC897DAa3"
   },
   "outputs": [],
   "source": [
    "def get_gridsearch(alpha_min, alpha_max, wordlen_min, wordlen_max):\n",
    "    accuracy_matrix = []\n",
    "    alphalist = [alpha for alpha in range(alpha_min, alpha_max)]\n",
    "    wordlenlist = [wl for wl in range(wordlen_min, wordlen_max)]\n",
    "    #for alpha in range(alpha_min, alpha_max):\n",
    "    for alpha in alphalist:\n",
    "        scores = []\n",
    "        #for wordlen in range(wordlen_min, wordlen_max):\n",
    "        for wordlen in wordlenlist:\n",
    "            # INSERT CODE HERE\n",
    "            BOPrep = get_BOP_transform(alpha, wordlen, data)\n",
    "            Xtrain, ytrain, Xtest, ytest = getSplit(BOPrep,Y)\n",
    "            score = get_RandomForest_accuracy(Xtrain,ytrain,Xtest,ytest)\n",
    "            scores.extend([score])\n",
    "        \n",
    "        accuracy_matrix.extend([scores])\n",
    "        \n",
    "    #Here are the indices of the best:\n",
    "    Am = np.array(accuracy_matrix)\n",
    "    inds = np.unravel_index(np.argmax(Am),Am.shape)\n",
    "    params = [alphalist[inds[0]],wordlenlist[inds[1]]]\n",
    "    return accuracy_matrix, params"
   ]
  },
  {
   "cell_type": "code",
   "execution_count": 7,
   "metadata": {
    "id": "_yfsmB70EMTT"
   },
   "outputs": [
    {
     "name": "stdout",
     "output_type": "stream",
     "text": [
      "Best number of letters: 5\n",
      "Best word length: 3\n"
     ]
    },
    {
     "data": {
      "image/png": "[encoded data removed]",
      "text/plain": [
       "<Figure size 432x288 with 2 Axes>"
      ]
     },
     "metadata": {},
     "output_type": "display_data"
    }
   ],
   "source": [
    "# The following heatmap shows a vizualization of the 2 grid search parameters \n",
    "gridparam, bests = get_gridsearch(2, 6, 2, 6)\n",
    "print(\"Best number of letters: \" + str(bests[0]))\n",
    "print(\"Best word length: \" + str(bests[1]))\n",
    "sns.heatmap(gridparam)\n",
    "plt.show()"
   ]
  },
  {
   "cell_type": "markdown",
   "metadata": {
    "id": "i5cF3fJoZ8-A"
   },
   "source": [
    "### **PART B: CS 6890 -  GRADUATE STUDENTS ONLY:**\n",
    "\n",
    "**Question 4:**\n",
    "1. Find the BoP representation using the best set of parameters found in **Part A** and train a random forest classifier with numbers of decision tress ranging from 1 to 20. \n",
    "\n",
    "2. Record the training and testing accuracies for each model and finally draw the learning curve.\n"
   ]
  },
  {
   "cell_type": "code",
   "execution_count": 8,
   "metadata": {
    "id": "OpIw0XTwbZNM"
   },
   "outputs": [],
   "source": [
    "test_accuracies = []\n",
    "train_accuracies = []\n",
    "\n",
    "X_bop = get_BOP_transform(bests[0], bests[1], data) #the above code was slightly modified so that \"bests\" is\n",
    "                                                      #a list of the best parameters. They are also printed\n",
    "                                                      # above the heatmap, for reference.\n",
    "X_train_bop, y_train, X_test_bop, y_test = getSplit(X_bop, Y)\n",
    "\n",
    "for decision_trees in range(1,20,1):\n",
    "    #INSERT CODE HERE\n",
    "    accs = get_RandomForest_accuracy(X_train_bop, y_train, X_test_bop, y_test, \n",
    "                                        trees=decision_trees, TrainAcc=True) #the command was modified to make this \n",
    "                                                                              #part easier.\n",
    "    accsT = accs.transpose()\n",
    "    test_accuracies.extend([accsT[0]])\n",
    "    train_accuracies.extend([accsT[1]])"
   ]
  },
  {
   "cell_type": "markdown",
   "metadata": {
    "id": "zS-XB47gbfFz"
   },
   "source": [
    "**Question 6:** Draw the learning curve of the random forest classifier for training and testing accuracies as the number of decision trees is increasing.\n",
    "\n"
   ]
  },
  {
   "cell_type": "code",
   "execution_count": 9,
   "metadata": {
    "id": "XJQ5QNDZGsjD"
   },
   "outputs": [
    {
     "data": {
      "image/png": "[encoded data removed]",
      "text/plain": [
       "<Figure size 432x288 with 1 Axes>"
      ]
     },
     "metadata": {},
     "output_type": "display_data"
    }
   ],
   "source": [
    "# INSERT CODE HERE\n",
    "plt.plot(train_accuracies)\n",
    "plt.plot(test_accuracies)\n",
    "plt.show()"
   ]
  },
  {
   "cell_type": "code",
   "execution_count": null,
   "metadata": {},
   "outputs": [],
   "source": []
  }
 ],
 "metadata": {
  "colab": {
   "collapsed_sections": [],
   "name": "Assignment_3 (1)-1.ipynb",
   "provenance": []
  },
  "kernelspec": {
   "display_name": "Python 3",
   "language": "python",
   "name": "python3"
  },
  "language_info": {
   "codemirror_mode": {
    "name": "ipython",
    "version": 3
   },
   "file_extension": ".py",
   "mimetype": "text/x-python",
   "name": "python",
   "nbconvert_exporter": "python",
   "pygments_lexer": "ipython3",
   "version": "3.8.8"
  }
 },
 "nbformat": 4,
 "nbformat_minor": 1
}
