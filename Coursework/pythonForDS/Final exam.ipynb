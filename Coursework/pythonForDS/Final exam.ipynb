{
 "cells": [
  {
   "cell_type": "markdown",
   "metadata": {},
   "source": [
    "# STAT 5820/6820 Final Exam\n",
    "**Due at 11:59 PM on 2/25/2021**\n",
    "\n",
    "Please submit this notebook to canvas-->Final exam\n",
    "\n",
    "\n",
    "### Data from Yelp project\n",
    "\n",
    "1. user.json\n"
   ]
  },
  {
   "cell_type": "markdown",
   "metadata": {},
   "source": [
    "### Q1. Read in user.json into pandas dataframe. (10 points)\n",
    "1. keep only the following columns:  `['user_id', 'name', 'review_count', 'yelping_since', 'useful', 'funny','cool', 'elite']`, 'friends', 'fans', 'average_stars' . **hint: use chunksize to read by chunks, for each chunk keep only these columns. (6 jpoints)**\n",
    "2. Refer to pandas read_json documentation: https://pandas.pydata.org/pandas-docs/stable/reference/api/pandas.read_json.html, convert 'yelping_since' into datetime datatype, either when read in json file or convert it after you have read in the file. **(3 points)**\n",
    "3. Showing how much time it takes to read in the file on your computer. **(1 point)**"
   ]
  },
  {
   "cell_type": "code",
   "execution_count": 1,
   "metadata": {},
   "outputs": [],
   "source": [
    "import pandas as pd\n",
    "import matplotlib.pyplot as plt\n",
    "import seaborn as sns\n",
    "import numpy as np\n",
    "import sys\n",
    "%matplotlib inline"
   ]
  },
  {
   "cell_type": "code",
   "execution_count": 2,
   "metadata": {},
   "outputs": [],
   "source": [
    "import math"
   ]
  },
  {
   "cell_type": "code",
   "execution_count": 3,
   "metadata": {},
   "outputs": [
    {
     "name": "stdout",
     "output_type": "stream",
     "text": [
      "Wall time: 17.5 s\n"
     ]
    }
   ],
   "source": [
    "%%time \n",
    "users = pd.read_json('C:\\\\Users\\\\Ben\\\\Documents\\\\STAT5820\\\\data\\\\yelp_dataset\\\\user.json',lines=True,chunksize=1000)"
   ]
  },
  {
   "cell_type": "code",
   "execution_count": 4,
   "metadata": {},
   "outputs": [
    {
     "name": "stdout",
     "output_type": "stream",
     "text": [
      "Wall time: 55 s\n"
     ]
    }
   ],
   "source": [
    "%%time\n",
    "u = []\n",
    "for chunk in users:\n",
    "     u.append(chunk[['user_id', 'name', 'review_count', 'yelping_since', 'useful', 'funny','cool', 'elite','friends','fans','average_stars']])"
   ]
  },
  {
   "cell_type": "code",
   "execution_count": 5,
   "metadata": {},
   "outputs": [],
   "source": [
    "users2 = pd.concat(u)"
   ]
  },
  {
   "cell_type": "code",
   "execution_count": 6,
   "metadata": {},
   "outputs": [
    {
     "data": {
      "text/html": [
       "<div>\n",
       "<style scoped>\n",
       "    .dataframe tbody tr th:only-of-type {\n",
       "        vertical-align: middle;\n",
       "    }\n",
       "\n",
       "    .dataframe tbody tr th {\n",
       "        vertical-align: top;\n",
       "    }\n",
       "\n",
       "    .dataframe thead th {\n",
       "        text-align: right;\n",
       "    }\n",
       "</style>\n",
       "<table border=\"1\" class=\"dataframe\">\n",
       "  <thead>\n",
       "    <tr style=\"text-align: right;\">\n",
       "      <th></th>\n",
       "      <th>user_id</th>\n",
       "      <th>name</th>\n",
       "      <th>review_count</th>\n",
       "      <th>yelping_since</th>\n",
       "      <th>useful</th>\n",
       "      <th>funny</th>\n",
       "      <th>cool</th>\n",
       "      <th>elite</th>\n",
       "      <th>friends</th>\n",
       "      <th>fans</th>\n",
       "      <th>average_stars</th>\n",
       "    </tr>\n",
       "  </thead>\n",
       "  <tbody>\n",
       "    <tr>\n",
       "      <th>0</th>\n",
       "      <td>l6BmjZMeQD3rDxWUbiAiow</td>\n",
       "      <td>Rashmi</td>\n",
       "      <td>95</td>\n",
       "      <td>2013-10-08 23:11:33</td>\n",
       "      <td>84</td>\n",
       "      <td>17</td>\n",
       "      <td>25</td>\n",
       "      <td>2015,2016,2017</td>\n",
       "      <td>c78V-rj8NQcQjOI8KP3UEA, alRMgPcngYSCJ5naFRBz5g...</td>\n",
       "      <td>5</td>\n",
       "      <td>4.03</td>\n",
       "    </tr>\n",
       "    <tr>\n",
       "      <th>1</th>\n",
       "      <td>4XChL029mKr5hydo79Ljxg</td>\n",
       "      <td>Jenna</td>\n",
       "      <td>33</td>\n",
       "      <td>2013-02-21 22:29:06</td>\n",
       "      <td>48</td>\n",
       "      <td>22</td>\n",
       "      <td>16</td>\n",
       "      <td></td>\n",
       "      <td>kEBTgDvFX754S68FllfCaA, aB2DynOxNOJK9st2ZeGTPg...</td>\n",
       "      <td>4</td>\n",
       "      <td>3.63</td>\n",
       "    </tr>\n",
       "    <tr>\n",
       "      <th>2</th>\n",
       "      <td>bc8C_eETBWL0olvFSJJd0w</td>\n",
       "      <td>David</td>\n",
       "      <td>16</td>\n",
       "      <td>2013-10-04 00:16:10</td>\n",
       "      <td>28</td>\n",
       "      <td>8</td>\n",
       "      <td>10</td>\n",
       "      <td></td>\n",
       "      <td>4N-HU_T32hLENLntsNKNBg, pSY2vwWLgWfGVAAiKQzMng...</td>\n",
       "      <td>0</td>\n",
       "      <td>3.71</td>\n",
       "    </tr>\n",
       "    <tr>\n",
       "      <th>3</th>\n",
       "      <td>dD0gZpBctWGdWo9WlGuhlA</td>\n",
       "      <td>Angela</td>\n",
       "      <td>17</td>\n",
       "      <td>2014-05-22 15:57:30</td>\n",
       "      <td>30</td>\n",
       "      <td>4</td>\n",
       "      <td>14</td>\n",
       "      <td></td>\n",
       "      <td>RZ6wS38wnlXyj-OOdTzBxA, l5jxZh1KsgI8rMunm-GN6A...</td>\n",
       "      <td>5</td>\n",
       "      <td>4.85</td>\n",
       "    </tr>\n",
       "    <tr>\n",
       "      <th>4</th>\n",
       "      <td>MM4RJAeH6yuaN8oZDSt0RA</td>\n",
       "      <td>Nancy</td>\n",
       "      <td>361</td>\n",
       "      <td>2013-10-23 07:02:50</td>\n",
       "      <td>1114</td>\n",
       "      <td>279</td>\n",
       "      <td>665</td>\n",
       "      <td>2015,2016,2017,2018</td>\n",
       "      <td>mbwrZ-RS76V1HoJ0bF_Geg, g64lOV39xSLRZO0aQQ6DeQ...</td>\n",
       "      <td>39</td>\n",
       "      <td>4.08</td>\n",
       "    </tr>\n",
       "  </tbody>\n",
       "</table>\n",
       "</div>"
      ],
      "text/plain": [
       "                  user_id    name  review_count        yelping_since  useful  \\\n",
       "0  l6BmjZMeQD3rDxWUbiAiow  Rashmi            95  2013-10-08 23:11:33      84   \n",
       "1  4XChL029mKr5hydo79Ljxg   Jenna            33  2013-02-21 22:29:06      48   \n",
       "2  bc8C_eETBWL0olvFSJJd0w   David            16  2013-10-04 00:16:10      28   \n",
       "3  dD0gZpBctWGdWo9WlGuhlA  Angela            17  2014-05-22 15:57:30      30   \n",
       "4  MM4RJAeH6yuaN8oZDSt0RA   Nancy           361  2013-10-23 07:02:50    1114   \n",
       "\n",
       "   funny  cool                elite  \\\n",
       "0     17    25       2015,2016,2017   \n",
       "1     22    16                        \n",
       "2      8    10                        \n",
       "3      4    14                        \n",
       "4    279   665  2015,2016,2017,2018   \n",
       "\n",
       "                                             friends  fans  average_stars  \n",
       "0  c78V-rj8NQcQjOI8KP3UEA, alRMgPcngYSCJ5naFRBz5g...     5           4.03  \n",
       "1  kEBTgDvFX754S68FllfCaA, aB2DynOxNOJK9st2ZeGTPg...     4           3.63  \n",
       "2  4N-HU_T32hLENLntsNKNBg, pSY2vwWLgWfGVAAiKQzMng...     0           3.71  \n",
       "3  RZ6wS38wnlXyj-OOdTzBxA, l5jxZh1KsgI8rMunm-GN6A...     5           4.85  \n",
       "4  mbwrZ-RS76V1HoJ0bF_Geg, g64lOV39xSLRZO0aQQ6DeQ...    39           4.08  "
      ]
     },
     "execution_count": 6,
     "metadata": {},
     "output_type": "execute_result"
    }
   ],
   "source": [
    "users2.head(5)"
   ]
  },
  {
   "cell_type": "code",
   "execution_count": 7,
   "metadata": {},
   "outputs": [],
   "source": [
    "users2['yelping_since']=pd.to_datetime(\n",
    "    users2['yelping_since'],\n",
    "    infer_datetime_format=True,\n",
    "    errors='coerce')"
   ]
  },
  {
   "cell_type": "code",
   "execution_count": 8,
   "metadata": {},
   "outputs": [
    {
     "data": {
      "text/plain": [
       "0   2013-10-08 23:11:33\n",
       "1   2013-02-21 22:29:06\n",
       "2   2013-10-04 00:16:10\n",
       "3   2014-05-22 15:57:30\n",
       "4   2013-10-23 07:02:50\n",
       "Name: yelping_since, dtype: datetime64[ns]"
      ]
     },
     "execution_count": 8,
     "metadata": {},
     "output_type": "execute_result"
    }
   ],
   "source": [
    "users2['yelping_since'].head(5)"
   ]
  },
  {
   "cell_type": "code",
   "execution_count": null,
   "metadata": {},
   "outputs": [],
   "source": []
  },
  {
   "cell_type": "markdown",
   "metadata": {},
   "source": [
    "### Q2. Display the data types of all coloumns (1 point)"
   ]
  },
  {
   "cell_type": "code",
   "execution_count": 9,
   "metadata": {},
   "outputs": [
    {
     "data": {
      "text/plain": [
       "user_id                  object\n",
       "name                     object\n",
       "review_count              int64\n",
       "yelping_since    datetime64[ns]\n",
       "useful                    int64\n",
       "funny                     int64\n",
       "cool                      int64\n",
       "elite                    object\n",
       "friends                  object\n",
       "fans                      int64\n",
       "average_stars           float64\n",
       "dtype: object"
      ]
     },
     "execution_count": 9,
     "metadata": {},
     "output_type": "execute_result"
    }
   ],
   "source": [
    "users2.dtypes"
   ]
  },
  {
   "cell_type": "markdown",
   "metadata": {},
   "source": [
    "### Q3. Change the data type of 'review_count','useful','funny','cool','fans' from 'int64' to 'int32'. (4 points)"
   ]
  },
  {
   "cell_type": "code",
   "execution_count": 10,
   "metadata": {},
   "outputs": [],
   "source": [
    "users2['review_count']=users2['review_count'].astype('int32')"
   ]
  },
  {
   "cell_type": "code",
   "execution_count": 11,
   "metadata": {},
   "outputs": [],
   "source": [
    "users2['useful']=users2['useful'].astype('int32')"
   ]
  },
  {
   "cell_type": "code",
   "execution_count": 12,
   "metadata": {},
   "outputs": [],
   "source": [
    "users2['funny']=users2['funny'].astype('int32')"
   ]
  },
  {
   "cell_type": "code",
   "execution_count": 13,
   "metadata": {},
   "outputs": [],
   "source": [
    "users2['cool']=users2['cool'].astype('int32')"
   ]
  },
  {
   "cell_type": "code",
   "execution_count": 14,
   "metadata": {},
   "outputs": [],
   "source": [
    "users2['fans']=users2['fans'].astype('int32')"
   ]
  },
  {
   "cell_type": "code",
   "execution_count": 15,
   "metadata": {},
   "outputs": [
    {
     "data": {
      "text/plain": [
       "user_id                  object\n",
       "name                     object\n",
       "review_count              int32\n",
       "yelping_since    datetime64[ns]\n",
       "useful                    int32\n",
       "funny                     int32\n",
       "cool                      int32\n",
       "elite                    object\n",
       "friends                  object\n",
       "fans                      int32\n",
       "average_stars           float64\n",
       "dtype: object"
      ]
     },
     "execution_count": 15,
     "metadata": {},
     "output_type": "execute_result"
    }
   ],
   "source": [
    "users2.dtypes"
   ]
  },
  {
   "cell_type": "markdown",
   "metadata": {},
   "source": [
    "### Q4. Create a new column called 'number_friends' to count the number of friends a user has.  (2 points)\n",
    "\n",
    "**Hint: you can create a function to count the number of friends and then use .apply() to 'friends' column**"
   ]
  },
  {
   "cell_type": "code",
   "execution_count": 16,
   "metadata": {},
   "outputs": [
    {
     "data": {
      "text/plain": [
       "'c78V-rj8NQcQjOI8KP3UEA, alRMgPcngYSCJ5naFRBz5g, ajcnq75Z5xxkvUSmmJ1bCg, BSMAmp2-wMzCkhTfq9ToNg, jka10dk9ygX76hJG0gfPZQ, dut0e4xvme7QSlesOycHQA, l4l5lBnK356zBua7B-UJ6Q, 0HicMOOs-M_gl2eO-zES4Q, _uI57wL2fLyftrcSFpfSGQ, T4_Qd0YWbC3co6WSMw4vxg, iBRoLWPtWmsI1kdbE9ORSA, xjrUcid6Ymq0DoTJELkYyw, GqadWVzJ6At-vgLzK_SKgA, DvB13VJBmSnbFXBVBsKmDA, vRP9nQkYTeNioDjtxZlVhg, gT0A1iN3eeQ8EMAjJhwQtw, 6yCWjFPtp_AD4x93WAwmnw, 1dKzpNnib-JlViKv8_Gt5g, 3Bv4_JxHXq-gVLOxYMQX0Q, ikQyfu1iViYh8T0us7wiFQ, f1GGltNaB7K5DR1jf3dOmg, tgeFUChlh7v8bZFVl2-hjQ, -9-9oyXlqsMG2he5xIWdLQ, Adj9fBPVJad8vSs-mIP7gw, Ce49RY8CKXVsTifxRYFTsw, M1_7TLi8CbdA89nFLlH4iw, wFsNv-hqbW_F5-IRqfBN6g, 0Q1L7zXHocaUZ2gsG2XJeg, cBFgmOCBdhYa0xoFEAzp_g, VrD_AgiFvzqtlR15vir3SQ, cpE-7HK514Sr5vpSen9CEQ, F1UYelhPFB-zIKlt0ygIZg, CQAL1hvsLMCzuJf9AglsXw, 1KnY1wr15WfEWIRLB9IS6g, QWFQ-kXBiLbid-lm5Jr3dQ, nymT8liFugCrM16lTy0ZfQ, qj69bdd885heDvUPCyHd2Q, DySCZZcgbdrlHgEovk5y9w, lZMJIDuvhT9Dy4KyquLXyA, b_9Gn7wS93AoPZPR0dIJqQ, N07g1IaLh0_6sUjtiSRe4w, YdfPX_7DxSnKvvdCJ57iOw, 8GYryZPD22W7WgQ8kvMkEQ, cpQmAgOWatghp14h1pn1dQ, EnchhymLYMqftCRjqvVWmw, -JdfKhFktE7Zs9BMDFcPeQ, uWhC9eof98zPkvsalgaqJw, eyTlNDDaiPatfe6mheIZ0g, VfHq0o73aKsODvfAhwAQtg, kvD5tICngLAaQDujSFWupA, dXacwEhqi9-3_XT6JeH0Og, NfU0zDaTMEQ4-X9dbQWd9A, cTHWBdjSKbctSUIvWsgFxw, 3IEtCbSDF5t7RkZ20T6s9A, HJJXTrp6UybYyPdQ9DA0JA, JaXogQFVjzGRAeBvzamBHg, NUonfKkjS1iVqnNITtgXZg, D5vaJAYp0sOrGfsj9qvsMA, H27Ecbwwu4FGAlLgICourw, S8HrLmMiE4u8FWYWkNEoTw, Io36Y3xWQcIX9rYvPcYfXQ, J5mcqh8KxYpqjaLBNlwcig, -nTB3_08g06fD0GT8AtDBQ, wMpFA46lihK8oFns_5p65A, RZGFJHeomGJCWp3xcL3ejA, ZoQSzzXoSP1RxOD4Amv9Bg, qzM0EB0SkuuGIFv0adjQAQ, HuM6vvuveken-fPZ7d4olA, H3oukHpGpn9n_mJwSDSQyQ, PkmsJsQ8FIZe8eh8c_u96g, wSByVbwME4MzgkJaFyfvNg, YEVqknoDmrHAoUbHX0nPnA, li3vsK1XAPmeJYAUTYflHQ, MKc8yXi0glbPYt0Qb4PECw, fQPH6W9fksi27gkuUPnFaA, amrCMrDsoRetYFg2kwwdFA, 84dVQ6n6r2ezNaTuc7RkKA, yW9QjWY0olv5-uRKv3t_Kw, 5XJDj7c3eoidfQ3jW18Zgw, txSc6a6pIDctvwyBeu7Aqg, HFbbDCyyqP9xPkUlcxeIdg, hTUv5oh2do6Z3OppPuuiJA, gSqonG9J4fNM-fl_fE71AA, pd9mgTFpBTg5F9x-MsczNg, j3VE22V2GcHiH8UZxfFLfw, NYXlMW-T-3V4Jqr4r-i0Wg, btxgAZedxX8IWhMifA7Xkg, -Hp5mPLiRJNFnyeX5Ygzag, P6-DwVg6-t2JuQwIUEk0iQ, OI2TvxYvZrAodBG_RF53Xw, bHxf_VPKmZur1Bier-6A2A, Et_Sb39cVm81_Xe9HDM8ZQ, 5HwGl2UyYbaRq8aD6YC-fA, ZK228WMcCKLo5thcjD7rdw, iTf8wojwfm0NOi7dOiz3Nw, btYRxQYNJjpecflNHtFH0A, Kgo42FzpW_dXFgDKoewbtg, MNk_1Q_dqOY3xxHZKeO8VQ, AlwD504T9k0m5lkg3k5g6Q'"
      ]
     },
     "execution_count": 16,
     "metadata": {},
     "output_type": "execute_result"
    }
   ],
   "source": [
    "users2['friends'][0]"
   ]
  },
  {
   "cell_type": "code",
   "execution_count": 17,
   "metadata": {},
   "outputs": [
    {
     "data": {
      "text/plain": [
       "99"
      ]
     },
     "execution_count": 17,
     "metadata": {},
     "output_type": "execute_result"
    }
   ],
   "source": [
    "len(users2['friends'].head(1)[0].split(','))"
   ]
  },
  {
   "cell_type": "code",
   "execution_count": 18,
   "metadata": {},
   "outputs": [],
   "source": [
    "def nums(a):\n",
    "    b = len(a.split(','))\n",
    "    return(b)"
   ]
  },
  {
   "cell_type": "code",
   "execution_count": 19,
   "metadata": {},
   "outputs": [],
   "source": [
    "users2['number_friends'] = users2['friends'].apply(nums)"
   ]
  },
  {
   "cell_type": "code",
   "execution_count": 20,
   "metadata": {},
   "outputs": [
    {
     "data": {
      "text/plain": [
       "0      99\n",
       "1    1152\n",
       "2      15\n",
       "3     525\n",
       "4     231\n",
       "Name: number_friends, dtype: int64"
      ]
     },
     "execution_count": 20,
     "metadata": {},
     "output_type": "execute_result"
    }
   ],
   "source": [
    "users2['number_friends'][:5]"
   ]
  },
  {
   "cell_type": "code",
   "execution_count": null,
   "metadata": {},
   "outputs": [],
   "source": []
  },
  {
   "cell_type": "code",
   "execution_count": null,
   "metadata": {},
   "outputs": [],
   "source": []
  },
  {
   "cell_type": "markdown",
   "metadata": {},
   "source": [
    "### Q5. Display the simple statistics of all numberical variables. (2 points) "
   ]
  },
  {
   "cell_type": "code",
   "execution_count": 21,
   "metadata": {},
   "outputs": [
    {
     "data": {
      "text/plain": [
       "user_id                   object\n",
       "name                      object\n",
       "review_count               int32\n",
       "yelping_since     datetime64[ns]\n",
       "useful                     int32\n",
       "funny                      int32\n",
       "cool                       int32\n",
       "elite                     object\n",
       "friends                   object\n",
       "fans                       int32\n",
       "average_stars            float64\n",
       "number_friends             int64\n",
       "dtype: object"
      ]
     },
     "execution_count": 21,
     "metadata": {},
     "output_type": "execute_result"
    }
   ],
   "source": [
    "users2.dtypes"
   ]
  },
  {
   "cell_type": "code",
   "execution_count": 22,
   "metadata": {},
   "outputs": [],
   "source": [
    "def stats(a):\n",
    "    dic = {'Mean': np.mean(a), 'Median': np.median(a), 'STDEV': np.std(a), 'Variance': np.var(a),'SE': np.std(a)/math.sqrt(len(a))}\n",
    "    return(dic)"
   ]
  },
  {
   "cell_type": "code",
   "execution_count": 23,
   "metadata": {},
   "outputs": [
    {
     "data": {
      "text/plain": [
       "{'Mean': 46.13607038624722,\n",
       " 'Median': 2.0,\n",
       " 'STDEV': 137.72383365286635,\n",
       " 'Variance': 18967.854356042404,\n",
       " 'SE': 0.10763820792781499}"
      ]
     },
     "execution_count": 23,
     "metadata": {},
     "output_type": "execute_result"
    }
   ],
   "source": [
    "stats(users2['number_friends'])"
   ]
  },
  {
   "cell_type": "code",
   "execution_count": 24,
   "metadata": {},
   "outputs": [
    {
     "data": {
      "text/plain": [
       "{'Mean': 3.6814616727465097,\n",
       " 'Median': 3.89,\n",
       " 'STDEV': 1.1510391660147385,\n",
       " 'Variance': 1.324891161699905,\n",
       " 'SE': 0.0008995958782038641}"
      ]
     },
     "execution_count": 24,
     "metadata": {},
     "output_type": "execute_result"
    }
   ],
   "source": [
    "stats(users2['average_stars'])"
   ]
  },
  {
   "cell_type": "code",
   "execution_count": 25,
   "metadata": {},
   "outputs": [
    {
     "data": {
      "text/plain": [
       "{'Mean': 22.28769779945246,\n",
       " 'Median': 5.0,\n",
       " 'STDEV': 76.92234026954466,\n",
       " 'Variance': 5917.046432543611,\n",
       " 'SE': 0.0601187364352391}"
      ]
     },
     "execution_count": 25,
     "metadata": {},
     "output_type": "execute_result"
    }
   ],
   "source": [
    "stats(users2['review_count'])"
   ]
  },
  {
   "cell_type": "code",
   "execution_count": 26,
   "metadata": {},
   "outputs": [
    {
     "data": {
      "text/plain": [
       "{'Mean': 1.4656455350740134,\n",
       " 'Median': 0.0,\n",
       " 'STDEV': 15.683166498164832,\n",
       " 'Variance': 245.96171140915973,\n",
       " 'SE': 0.012257195372232329}"
      ]
     },
     "execution_count": 26,
     "metadata": {},
     "output_type": "execute_result"
    }
   ],
   "source": [
    "stats(users2['fans'])"
   ]
  },
  {
   "cell_type": "code",
   "execution_count": 27,
   "metadata": {},
   "outputs": [
    {
     "data": {
      "text/plain": [
       "{'Mean': 21.880460901890984,\n",
       " 'Median': 0.0,\n",
       " 'STDEV': 401.9674029851332,\n",
       " 'Variance': 161577.7930626125,\n",
       " 'SE': 0.31415804915634576}"
      ]
     },
     "execution_count": 27,
     "metadata": {},
     "output_type": "execute_result"
    }
   ],
   "source": [
    "stats(users2['cool'])"
   ]
  },
  {
   "cell_type": "code",
   "execution_count": 28,
   "metadata": {},
   "outputs": [
    {
     "data": {
      "text/plain": [
       "{'Mean': 17.917845044217408,\n",
       " 'Median': 0.0,\n",
       " 'STDEV': 330.3502773188098,\n",
       " 'Variance': 109131.30572461452,\n",
       " 'SE': 0.2581856088081189}"
      ]
     },
     "execution_count": 28,
     "metadata": {},
     "output_type": "execute_result"
    }
   ],
   "source": [
    "stats(users2['funny'])"
   ]
  },
  {
   "cell_type": "code",
   "execution_count": 29,
   "metadata": {},
   "outputs": [
    {
     "data": {
      "text/plain": [
       "{'Mean': 40.52769955861998,\n",
       " 'Median': 3.0,\n",
       " 'STDEV': 470.241968777382,\n",
       " 'Variance': 221127.50919962832,\n",
       " 'SE': 0.3675181082979641}"
      ]
     },
     "execution_count": 29,
     "metadata": {},
     "output_type": "execute_result"
    }
   ],
   "source": [
    "stats(users2['useful'])"
   ]
  },
  {
   "cell_type": "code",
   "execution_count": null,
   "metadata": {},
   "outputs": [],
   "source": []
  },
  {
   "cell_type": "markdown",
   "metadata": {},
   "source": [
    "### Q6. Display users with the 10 most review_counts. (2 points)"
   ]
  },
  {
   "cell_type": "code",
   "execution_count": 30,
   "metadata": {},
   "outputs": [],
   "source": [
    "HighReviewNum = users2.sort_values(by=['review_count'],ascending=[0]).reset_index(drop=True)"
   ]
  },
  {
   "cell_type": "code",
   "execution_count": 31,
   "metadata": {},
   "outputs": [
    {
     "data": {
      "text/html": [
       "<div>\n",
       "<style scoped>\n",
       "    .dataframe tbody tr th:only-of-type {\n",
       "        vertical-align: middle;\n",
       "    }\n",
       "\n",
       "    .dataframe tbody tr th {\n",
       "        vertical-align: top;\n",
       "    }\n",
       "\n",
       "    .dataframe thead th {\n",
       "        text-align: right;\n",
       "    }\n",
       "</style>\n",
       "<table border=\"1\" class=\"dataframe\">\n",
       "  <thead>\n",
       "    <tr style=\"text-align: right;\">\n",
       "      <th></th>\n",
       "      <th>user_id</th>\n",
       "      <th>name</th>\n",
       "      <th>review_count</th>\n",
       "      <th>yelping_since</th>\n",
       "      <th>useful</th>\n",
       "      <th>funny</th>\n",
       "      <th>cool</th>\n",
       "      <th>elite</th>\n",
       "      <th>friends</th>\n",
       "      <th>fans</th>\n",
       "      <th>average_stars</th>\n",
       "      <th>number_friends</th>\n",
       "    </tr>\n",
       "  </thead>\n",
       "  <tbody>\n",
       "    <tr>\n",
       "      <th>0</th>\n",
       "      <td>8k3aO-mPeyhbR5HUucA5aA</td>\n",
       "      <td>Victor</td>\n",
       "      <td>13278</td>\n",
       "      <td>2007-12-08 14:56:45</td>\n",
       "      <td>79512</td>\n",
       "      <td>50899</td>\n",
       "      <td>59766</td>\n",
       "      <td>2008,2009,2010,2011,2012,2013,2014,2015,2016,2...</td>\n",
       "      <td>-xt4IBJ-BXo-9Yg9qI0ZLA, augJQotyLB503iq1gVJ_tg...</td>\n",
       "      <td>1125</td>\n",
       "      <td>3.28</td>\n",
       "      <td>5158</td>\n",
       "    </tr>\n",
       "    <tr>\n",
       "      <th>1</th>\n",
       "      <td>RtGqdDBvvBCjcu5dUqwfzA</td>\n",
       "      <td>Shila</td>\n",
       "      <td>12390</td>\n",
       "      <td>2010-10-17 06:35:06</td>\n",
       "      <td>9403</td>\n",
       "      <td>3405</td>\n",
       "      <td>2887</td>\n",
       "      <td>2012,2013,2014,2015,2016,2017,2018</td>\n",
       "      <td>uBDAAXcL3Fmo0YQrwpE9ew, LUHwtIgfclx_9PKfJJQ1YA...</td>\n",
       "      <td>256</td>\n",
       "      <td>3.85</td>\n",
       "      <td>279</td>\n",
       "    </tr>\n",
       "    <tr>\n",
       "      <th>2</th>\n",
       "      <td>hWDybu_KvYLSdEFzGrniTw</td>\n",
       "      <td>Bruce</td>\n",
       "      <td>10022</td>\n",
       "      <td>2009-03-08 21:47:44</td>\n",
       "      <td>74829</td>\n",
       "      <td>49785</td>\n",
       "      <td>61383</td>\n",
       "      <td>2010,2011,2012,2013,2014,2015,2016,2017,2018</td>\n",
       "      <td>QZ3grLRAy7do7inT4OcltQ, 6pbATMd0sGeOJvAEt6znqw...</td>\n",
       "      <td>528</td>\n",
       "      <td>3.61</td>\n",
       "      <td>1833</td>\n",
       "    </tr>\n",
       "    <tr>\n",
       "      <th>3</th>\n",
       "      <td>P5bUL3Engv-2z6kKohB6qQ</td>\n",
       "      <td>Kim</td>\n",
       "      <td>9821</td>\n",
       "      <td>2006-05-31 21:27:42</td>\n",
       "      <td>25980</td>\n",
       "      <td>9827</td>\n",
       "      <td>20004</td>\n",
       "      <td>2006,2007,2008,2009,2010,2011,2012,2013,2014,2...</td>\n",
       "      <td>gD4815cefTvYc7O6VRWP4g, 3MJI1RDk8aH3ANr7I1AVgA...</td>\n",
       "      <td>746</td>\n",
       "      <td>3.80</td>\n",
       "      <td>3521</td>\n",
       "    </tr>\n",
       "    <tr>\n",
       "      <th>4</th>\n",
       "      <td>8RcEwGrFIgkt9WQ35E6SnQ</td>\n",
       "      <td>George</td>\n",
       "      <td>7750</td>\n",
       "      <td>2009-11-06 22:53:16</td>\n",
       "      <td>7973</td>\n",
       "      <td>3822</td>\n",
       "      <td>3143</td>\n",
       "      <td>2010,2011</td>\n",
       "      <td>o_8sVoYIFnoVun5YY_lAEg, Nrk_KRh141kU_Z-4a31E3A...</td>\n",
       "      <td>282</td>\n",
       "      <td>3.49</td>\n",
       "      <td>968</td>\n",
       "    </tr>\n",
       "    <tr>\n",
       "      <th>5</th>\n",
       "      <td>nmdkHL2JKFx55T3nq5VziA</td>\n",
       "      <td>Nijole</td>\n",
       "      <td>7089</td>\n",
       "      <td>2011-11-29 15:50:53</td>\n",
       "      <td>45394</td>\n",
       "      <td>23305</td>\n",
       "      <td>35978</td>\n",
       "      <td>2012,2013,2014,2015,2016,2017,2018</td>\n",
       "      <td>tipQmXdg181T4NvxrXPjFg, HIzR-HJTESQc35nrVORjsQ...</td>\n",
       "      <td>750</td>\n",
       "      <td>3.70</td>\n",
       "      <td>3832</td>\n",
       "    </tr>\n",
       "    <tr>\n",
       "      <th>6</th>\n",
       "      <td>Xwnf20FKuikiHcSpcEbpKQ</td>\n",
       "      <td>Kenneth</td>\n",
       "      <td>6738</td>\n",
       "      <td>2011-06-10 03:52:07</td>\n",
       "      <td>7937</td>\n",
       "      <td>3447</td>\n",
       "      <td>4848</td>\n",
       "      <td></td>\n",
       "      <td>GIXfNlfssbAzcB1vXUHjuA, Mln71x70ZKNA7EDxtK9EpQ...</td>\n",
       "      <td>265</td>\n",
       "      <td>3.32</td>\n",
       "      <td>2557</td>\n",
       "    </tr>\n",
       "    <tr>\n",
       "      <th>7</th>\n",
       "      <td>Hi10sGSZNxQH3NLyWSZ1oA</td>\n",
       "      <td>Fox</td>\n",
       "      <td>6407</td>\n",
       "      <td>2009-05-26 11:33:58</td>\n",
       "      <td>89418</td>\n",
       "      <td>86122</td>\n",
       "      <td>82128</td>\n",
       "      <td>2014,2015,2016,2017,2018</td>\n",
       "      <td>2vFUeQGnG8zdLSQkwfChog, 6YDC4RNaAUdTSkhJ1WUC9w...</td>\n",
       "      <td>1574</td>\n",
       "      <td>3.83</td>\n",
       "      <td>4542</td>\n",
       "    </tr>\n",
       "    <tr>\n",
       "      <th>8</th>\n",
       "      <td>CxDOIDnH8gp9KXzpBHJYXw</td>\n",
       "      <td>Jennifer</td>\n",
       "      <td>6314</td>\n",
       "      <td>2009-11-09 20:44:45</td>\n",
       "      <td>20336</td>\n",
       "      <td>8823</td>\n",
       "      <td>12995</td>\n",
       "      <td>2009,2010,2011,2012,2013,2014,2015,2016,2017,2018</td>\n",
       "      <td>mrru6hbeQLvagU4vkfuqmw, wt0lL3xJIGeJ1r0qO-vkrg...</td>\n",
       "      <td>715</td>\n",
       "      <td>3.32</td>\n",
       "      <td>562</td>\n",
       "    </tr>\n",
       "    <tr>\n",
       "      <th>9</th>\n",
       "      <td>HFECrzYDpgbS5EmTBtj2zQ</td>\n",
       "      <td>Eric</td>\n",
       "      <td>5398</td>\n",
       "      <td>2007-03-28 19:08:35</td>\n",
       "      <td>36902</td>\n",
       "      <td>20862</td>\n",
       "      <td>29941</td>\n",
       "      <td>2008,2009,2010,2011,2012,2013,2014,2015,2016,2...</td>\n",
       "      <td>X4yDntO5EhsRVYZraEvc-g, jAYP7ALlgpYfJCjGqvMPMQ...</td>\n",
       "      <td>410</td>\n",
       "      <td>3.93</td>\n",
       "      <td>3105</td>\n",
       "    </tr>\n",
       "  </tbody>\n",
       "</table>\n",
       "</div>"
      ],
      "text/plain": [
       "                  user_id      name  review_count       yelping_since  useful  \\\n",
       "0  8k3aO-mPeyhbR5HUucA5aA    Victor         13278 2007-12-08 14:56:45   79512   \n",
       "1  RtGqdDBvvBCjcu5dUqwfzA     Shila         12390 2010-10-17 06:35:06    9403   \n",
       "2  hWDybu_KvYLSdEFzGrniTw     Bruce         10022 2009-03-08 21:47:44   74829   \n",
       "3  P5bUL3Engv-2z6kKohB6qQ       Kim          9821 2006-05-31 21:27:42   25980   \n",
       "4  8RcEwGrFIgkt9WQ35E6SnQ    George          7750 2009-11-06 22:53:16    7973   \n",
       "5  nmdkHL2JKFx55T3nq5VziA    Nijole          7089 2011-11-29 15:50:53   45394   \n",
       "6  Xwnf20FKuikiHcSpcEbpKQ   Kenneth          6738 2011-06-10 03:52:07    7937   \n",
       "7  Hi10sGSZNxQH3NLyWSZ1oA       Fox          6407 2009-05-26 11:33:58   89418   \n",
       "8  CxDOIDnH8gp9KXzpBHJYXw  Jennifer          6314 2009-11-09 20:44:45   20336   \n",
       "9  HFECrzYDpgbS5EmTBtj2zQ      Eric          5398 2007-03-28 19:08:35   36902   \n",
       "\n",
       "   funny   cool                                              elite  \\\n",
       "0  50899  59766  2008,2009,2010,2011,2012,2013,2014,2015,2016,2...   \n",
       "1   3405   2887                 2012,2013,2014,2015,2016,2017,2018   \n",
       "2  49785  61383       2010,2011,2012,2013,2014,2015,2016,2017,2018   \n",
       "3   9827  20004  2006,2007,2008,2009,2010,2011,2012,2013,2014,2...   \n",
       "4   3822   3143                                          2010,2011   \n",
       "5  23305  35978                 2012,2013,2014,2015,2016,2017,2018   \n",
       "6   3447   4848                                                      \n",
       "7  86122  82128                           2014,2015,2016,2017,2018   \n",
       "8   8823  12995  2009,2010,2011,2012,2013,2014,2015,2016,2017,2018   \n",
       "9  20862  29941  2008,2009,2010,2011,2012,2013,2014,2015,2016,2...   \n",
       "\n",
       "                                             friends  fans  average_stars  \\\n",
       "0  -xt4IBJ-BXo-9Yg9qI0ZLA, augJQotyLB503iq1gVJ_tg...  1125           3.28   \n",
       "1  uBDAAXcL3Fmo0YQrwpE9ew, LUHwtIgfclx_9PKfJJQ1YA...   256           3.85   \n",
       "2  QZ3grLRAy7do7inT4OcltQ, 6pbATMd0sGeOJvAEt6znqw...   528           3.61   \n",
       "3  gD4815cefTvYc7O6VRWP4g, 3MJI1RDk8aH3ANr7I1AVgA...   746           3.80   \n",
       "4  o_8sVoYIFnoVun5YY_lAEg, Nrk_KRh141kU_Z-4a31E3A...   282           3.49   \n",
       "5  tipQmXdg181T4NvxrXPjFg, HIzR-HJTESQc35nrVORjsQ...   750           3.70   \n",
       "6  GIXfNlfssbAzcB1vXUHjuA, Mln71x70ZKNA7EDxtK9EpQ...   265           3.32   \n",
       "7  2vFUeQGnG8zdLSQkwfChog, 6YDC4RNaAUdTSkhJ1WUC9w...  1574           3.83   \n",
       "8  mrru6hbeQLvagU4vkfuqmw, wt0lL3xJIGeJ1r0qO-vkrg...   715           3.32   \n",
       "9  X4yDntO5EhsRVYZraEvc-g, jAYP7ALlgpYfJCjGqvMPMQ...   410           3.93   \n",
       "\n",
       "   number_friends  \n",
       "0            5158  \n",
       "1             279  \n",
       "2            1833  \n",
       "3            3521  \n",
       "4             968  \n",
       "5            3832  \n",
       "6            2557  \n",
       "7            4542  \n",
       "8             562  \n",
       "9            3105  "
      ]
     },
     "execution_count": 31,
     "metadata": {},
     "output_type": "execute_result"
    }
   ],
   "source": [
    "HighReviewNum.head(10)"
   ]
  },
  {
   "cell_type": "code",
   "execution_count": null,
   "metadata": {},
   "outputs": [],
   "source": []
  },
  {
   "cell_type": "markdown",
   "metadata": {},
   "source": [
    "### Q7. Create a new column called 'funness' that is the percentage of 'funny' votes to the 'review_count'. (2 points)\n",
    "\n",
    "For example, a user has 13278 review_count and 50899 funny votes, so his/her funnes is 50899/13278 = 3.83"
   ]
  },
  {
   "cell_type": "code",
   "execution_count": 32,
   "metadata": {},
   "outputs": [],
   "source": [
    "def percentage(a,b):\n",
    "    c = a/b\n",
    "    return(c)"
   ]
  },
  {
   "cell_type": "code",
   "execution_count": 33,
   "metadata": {},
   "outputs": [],
   "source": [
    "users2['funness'] = percentage(users2['funny'],users2['review_count'])"
   ]
  },
  {
   "cell_type": "code",
   "execution_count": 34,
   "metadata": {},
   "outputs": [
    {
     "data": {
      "text/html": [
       "<div>\n",
       "<style scoped>\n",
       "    .dataframe tbody tr th:only-of-type {\n",
       "        vertical-align: middle;\n",
       "    }\n",
       "\n",
       "    .dataframe tbody tr th {\n",
       "        vertical-align: top;\n",
       "    }\n",
       "\n",
       "    .dataframe thead th {\n",
       "        text-align: right;\n",
       "    }\n",
       "</style>\n",
       "<table border=\"1\" class=\"dataframe\">\n",
       "  <thead>\n",
       "    <tr style=\"text-align: right;\">\n",
       "      <th></th>\n",
       "      <th>user_id</th>\n",
       "      <th>name</th>\n",
       "      <th>review_count</th>\n",
       "      <th>yelping_since</th>\n",
       "      <th>useful</th>\n",
       "      <th>funny</th>\n",
       "      <th>cool</th>\n",
       "      <th>elite</th>\n",
       "      <th>friends</th>\n",
       "      <th>fans</th>\n",
       "      <th>average_stars</th>\n",
       "      <th>number_friends</th>\n",
       "      <th>funness</th>\n",
       "    </tr>\n",
       "  </thead>\n",
       "  <tbody>\n",
       "    <tr>\n",
       "      <th>0</th>\n",
       "      <td>l6BmjZMeQD3rDxWUbiAiow</td>\n",
       "      <td>Rashmi</td>\n",
       "      <td>95</td>\n",
       "      <td>2013-10-08 23:11:33</td>\n",
       "      <td>84</td>\n",
       "      <td>17</td>\n",
       "      <td>25</td>\n",
       "      <td>2015,2016,2017</td>\n",
       "      <td>c78V-rj8NQcQjOI8KP3UEA, alRMgPcngYSCJ5naFRBz5g...</td>\n",
       "      <td>5</td>\n",
       "      <td>4.03</td>\n",
       "      <td>99</td>\n",
       "      <td>0.178947</td>\n",
       "    </tr>\n",
       "    <tr>\n",
       "      <th>1</th>\n",
       "      <td>4XChL029mKr5hydo79Ljxg</td>\n",
       "      <td>Jenna</td>\n",
       "      <td>33</td>\n",
       "      <td>2013-02-21 22:29:06</td>\n",
       "      <td>48</td>\n",
       "      <td>22</td>\n",
       "      <td>16</td>\n",
       "      <td></td>\n",
       "      <td>kEBTgDvFX754S68FllfCaA, aB2DynOxNOJK9st2ZeGTPg...</td>\n",
       "      <td>4</td>\n",
       "      <td>3.63</td>\n",
       "      <td>1152</td>\n",
       "      <td>0.666667</td>\n",
       "    </tr>\n",
       "    <tr>\n",
       "      <th>2</th>\n",
       "      <td>bc8C_eETBWL0olvFSJJd0w</td>\n",
       "      <td>David</td>\n",
       "      <td>16</td>\n",
       "      <td>2013-10-04 00:16:10</td>\n",
       "      <td>28</td>\n",
       "      <td>8</td>\n",
       "      <td>10</td>\n",
       "      <td></td>\n",
       "      <td>4N-HU_T32hLENLntsNKNBg, pSY2vwWLgWfGVAAiKQzMng...</td>\n",
       "      <td>0</td>\n",
       "      <td>3.71</td>\n",
       "      <td>15</td>\n",
       "      <td>0.500000</td>\n",
       "    </tr>\n",
       "  </tbody>\n",
       "</table>\n",
       "</div>"
      ],
      "text/plain": [
       "                  user_id    name  review_count       yelping_since  useful  \\\n",
       "0  l6BmjZMeQD3rDxWUbiAiow  Rashmi            95 2013-10-08 23:11:33      84   \n",
       "1  4XChL029mKr5hydo79Ljxg   Jenna            33 2013-02-21 22:29:06      48   \n",
       "2  bc8C_eETBWL0olvFSJJd0w   David            16 2013-10-04 00:16:10      28   \n",
       "\n",
       "   funny  cool           elite  \\\n",
       "0     17    25  2015,2016,2017   \n",
       "1     22    16                   \n",
       "2      8    10                   \n",
       "\n",
       "                                             friends  fans  average_stars  \\\n",
       "0  c78V-rj8NQcQjOI8KP3UEA, alRMgPcngYSCJ5naFRBz5g...     5           4.03   \n",
       "1  kEBTgDvFX754S68FllfCaA, aB2DynOxNOJK9st2ZeGTPg...     4           3.63   \n",
       "2  4N-HU_T32hLENLntsNKNBg, pSY2vwWLgWfGVAAiKQzMng...     0           3.71   \n",
       "\n",
       "   number_friends   funness  \n",
       "0              99  0.178947  \n",
       "1            1152  0.666667  \n",
       "2              15  0.500000  "
      ]
     },
     "execution_count": 34,
     "metadata": {},
     "output_type": "execute_result"
    }
   ],
   "source": [
    "users2.head(3)"
   ]
  },
  {
   "cell_type": "code",
   "execution_count": null,
   "metadata": {},
   "outputs": [],
   "source": []
  },
  {
   "cell_type": "code",
   "execution_count": null,
   "metadata": {},
   "outputs": [],
   "source": []
  },
  {
   "cell_type": "markdown",
   "metadata": {},
   "source": [
    "### Q8. Display the users with 10 most funness. (1 point)"
   ]
  },
  {
   "cell_type": "code",
   "execution_count": 35,
   "metadata": {},
   "outputs": [],
   "source": [
    "HighFunness = users2.sort_values(by=['funness'],ascending=[0]).reset_index(drop=True)"
   ]
  },
  {
   "cell_type": "code",
   "execution_count": 36,
   "metadata": {},
   "outputs": [
    {
     "data": {
      "text/html": [
       "<div>\n",
       "<style scoped>\n",
       "    .dataframe tbody tr th:only-of-type {\n",
       "        vertical-align: middle;\n",
       "    }\n",
       "\n",
       "    .dataframe tbody tr th {\n",
       "        vertical-align: top;\n",
       "    }\n",
       "\n",
       "    .dataframe thead th {\n",
       "        text-align: right;\n",
       "    }\n",
       "</style>\n",
       "<table border=\"1\" class=\"dataframe\">\n",
       "  <thead>\n",
       "    <tr style=\"text-align: right;\">\n",
       "      <th></th>\n",
       "      <th>user_id</th>\n",
       "      <th>name</th>\n",
       "      <th>review_count</th>\n",
       "      <th>yelping_since</th>\n",
       "      <th>useful</th>\n",
       "      <th>funny</th>\n",
       "      <th>cool</th>\n",
       "      <th>elite</th>\n",
       "      <th>friends</th>\n",
       "      <th>fans</th>\n",
       "      <th>average_stars</th>\n",
       "      <th>number_friends</th>\n",
       "      <th>funness</th>\n",
       "    </tr>\n",
       "  </thead>\n",
       "  <tbody>\n",
       "    <tr>\n",
       "      <th>0</th>\n",
       "      <td>AbbeFj9SPxOoHNKkeDVn6w</td>\n",
       "      <td>Janet</td>\n",
       "      <td>0</td>\n",
       "      <td>2017-07-11 06:37:38</td>\n",
       "      <td>0</td>\n",
       "      <td>2</td>\n",
       "      <td>0</td>\n",
       "      <td></td>\n",
       "      <td>fwwZK_bVBK-0ovQU8XCKBQ, sNg-Qhpns7km7N6BdjFNNw...</td>\n",
       "      <td>0</td>\n",
       "      <td>1.00</td>\n",
       "      <td>25</td>\n",
       "      <td>inf</td>\n",
       "    </tr>\n",
       "    <tr>\n",
       "      <th>1</th>\n",
       "      <td>qiTy11I-yp6foxIghRfGOA</td>\n",
       "      <td>Joel</td>\n",
       "      <td>1</td>\n",
       "      <td>2008-09-02 16:59:42</td>\n",
       "      <td>2828</td>\n",
       "      <td>1424</td>\n",
       "      <td>1085</td>\n",
       "      <td>2009,2010,2011,2012</td>\n",
       "      <td>oYWILlXqqbUd5M6AyhQ2Yw, oX9fh4dAnVh7vGjdIUg5Ag...</td>\n",
       "      <td>128</td>\n",
       "      <td>3.56</td>\n",
       "      <td>612</td>\n",
       "      <td>1424.000000</td>\n",
       "    </tr>\n",
       "    <tr>\n",
       "      <th>2</th>\n",
       "      <td>cyYQqWEhGJ6Mrvyry5Vn3w</td>\n",
       "      <td>Bae Sung</td>\n",
       "      <td>1</td>\n",
       "      <td>2016-07-15 19:22:45</td>\n",
       "      <td>19</td>\n",
       "      <td>681</td>\n",
       "      <td>13</td>\n",
       "      <td></td>\n",
       "      <td>None</td>\n",
       "      <td>0</td>\n",
       "      <td>3.80</td>\n",
       "      <td>1</td>\n",
       "      <td>681.000000</td>\n",
       "    </tr>\n",
       "    <tr>\n",
       "      <th>3</th>\n",
       "      <td>Nv2a__EFAR9Ds9QZkInuiw</td>\n",
       "      <td>Jerry</td>\n",
       "      <td>1</td>\n",
       "      <td>2017-02-19 02:24:17</td>\n",
       "      <td>1</td>\n",
       "      <td>256</td>\n",
       "      <td>0</td>\n",
       "      <td></td>\n",
       "      <td>6lCfXieOzia4DUrJDlgFqA, QxtlhFjJfmwWi8yUzILHNw...</td>\n",
       "      <td>0</td>\n",
       "      <td>5.00</td>\n",
       "      <td>130</td>\n",
       "      <td>256.000000</td>\n",
       "    </tr>\n",
       "    <tr>\n",
       "      <th>4</th>\n",
       "      <td>HMF3GtYL9aa01DEHm6ww7Q</td>\n",
       "      <td>Sherry</td>\n",
       "      <td>2</td>\n",
       "      <td>2011-02-24 23:12:55</td>\n",
       "      <td>11</td>\n",
       "      <td>455</td>\n",
       "      <td>5</td>\n",
       "      <td></td>\n",
       "      <td>f4W09vMVBWyz0cxWFg4EWg, wHAxtj5Gbk9xywIJRrzcKQ...</td>\n",
       "      <td>1</td>\n",
       "      <td>5.00</td>\n",
       "      <td>15</td>\n",
       "      <td>227.500000</td>\n",
       "    </tr>\n",
       "    <tr>\n",
       "      <th>5</th>\n",
       "      <td>wuYbmgHqquyjjG3X4BYOeA</td>\n",
       "      <td>Angee</td>\n",
       "      <td>4</td>\n",
       "      <td>2012-11-18 19:36:27</td>\n",
       "      <td>19</td>\n",
       "      <td>803</td>\n",
       "      <td>11</td>\n",
       "      <td></td>\n",
       "      <td>fYKjwhrzicBJ0iuv-0CiXQ, zQ0OiJkQwnevOYjuNLBPdw...</td>\n",
       "      <td>1</td>\n",
       "      <td>5.00</td>\n",
       "      <td>27</td>\n",
       "      <td>200.750000</td>\n",
       "    </tr>\n",
       "    <tr>\n",
       "      <th>6</th>\n",
       "      <td>aTEViTVYQ18VOEPwEvB2fw</td>\n",
       "      <td>Sara</td>\n",
       "      <td>1</td>\n",
       "      <td>2012-08-16 13:33:56</td>\n",
       "      <td>0</td>\n",
       "      <td>167</td>\n",
       "      <td>0</td>\n",
       "      <td></td>\n",
       "      <td>JBiXVe_Yk5KMyfkO1_FnaA, oJBCFfMObSWMh8kmOTPkJg...</td>\n",
       "      <td>0</td>\n",
       "      <td>5.00</td>\n",
       "      <td>30</td>\n",
       "      <td>167.000000</td>\n",
       "    </tr>\n",
       "    <tr>\n",
       "      <th>7</th>\n",
       "      <td>_I-lWD9NXCV5kf8cpabX6A</td>\n",
       "      <td>Julie</td>\n",
       "      <td>1</td>\n",
       "      <td>2015-05-04 15:26:49</td>\n",
       "      <td>0</td>\n",
       "      <td>148</td>\n",
       "      <td>0</td>\n",
       "      <td></td>\n",
       "      <td>None</td>\n",
       "      <td>0</td>\n",
       "      <td>5.00</td>\n",
       "      <td>1</td>\n",
       "      <td>148.000000</td>\n",
       "    </tr>\n",
       "    <tr>\n",
       "      <th>8</th>\n",
       "      <td>xgwsA1Z3TjfQsk8lRppiVA</td>\n",
       "      <td>Andrew</td>\n",
       "      <td>14</td>\n",
       "      <td>2016-02-12 17:46:46</td>\n",
       "      <td>60</td>\n",
       "      <td>1977</td>\n",
       "      <td>50</td>\n",
       "      <td></td>\n",
       "      <td>RxbaGs7ltjKtl-smnh-yxg, X489FenmpoYZAXFwsLo0PQ...</td>\n",
       "      <td>2</td>\n",
       "      <td>3.16</td>\n",
       "      <td>12</td>\n",
       "      <td>141.214286</td>\n",
       "    </tr>\n",
       "    <tr>\n",
       "      <th>9</th>\n",
       "      <td>H5dkC0OmZkRDTFjN4nrMxw</td>\n",
       "      <td>Nik</td>\n",
       "      <td>7</td>\n",
       "      <td>2011-06-26 05:51:17</td>\n",
       "      <td>1877</td>\n",
       "      <td>983</td>\n",
       "      <td>639</td>\n",
       "      <td></td>\n",
       "      <td>9H8g1I14siAwaPJCEfbd1A, o45RZ4Ptm0F2hHKA6OVDEg...</td>\n",
       "      <td>8</td>\n",
       "      <td>3.18</td>\n",
       "      <td>10</td>\n",
       "      <td>140.428571</td>\n",
       "    </tr>\n",
       "  </tbody>\n",
       "</table>\n",
       "</div>"
      ],
      "text/plain": [
       "                  user_id      name  review_count       yelping_since  useful  \\\n",
       "0  AbbeFj9SPxOoHNKkeDVn6w     Janet             0 2017-07-11 06:37:38       0   \n",
       "1  qiTy11I-yp6foxIghRfGOA      Joel             1 2008-09-02 16:59:42    2828   \n",
       "2  cyYQqWEhGJ6Mrvyry5Vn3w  Bae Sung             1 2016-07-15 19:22:45      19   \n",
       "3  Nv2a__EFAR9Ds9QZkInuiw     Jerry             1 2017-02-19 02:24:17       1   \n",
       "4  HMF3GtYL9aa01DEHm6ww7Q    Sherry             2 2011-02-24 23:12:55      11   \n",
       "5  wuYbmgHqquyjjG3X4BYOeA     Angee             4 2012-11-18 19:36:27      19   \n",
       "6  aTEViTVYQ18VOEPwEvB2fw      Sara             1 2012-08-16 13:33:56       0   \n",
       "7  _I-lWD9NXCV5kf8cpabX6A     Julie             1 2015-05-04 15:26:49       0   \n",
       "8  xgwsA1Z3TjfQsk8lRppiVA    Andrew            14 2016-02-12 17:46:46      60   \n",
       "9  H5dkC0OmZkRDTFjN4nrMxw       Nik             7 2011-06-26 05:51:17    1877   \n",
       "\n",
       "   funny  cool                elite  \\\n",
       "0      2     0                        \n",
       "1   1424  1085  2009,2010,2011,2012   \n",
       "2    681    13                        \n",
       "3    256     0                        \n",
       "4    455     5                        \n",
       "5    803    11                        \n",
       "6    167     0                        \n",
       "7    148     0                        \n",
       "8   1977    50                        \n",
       "9    983   639                        \n",
       "\n",
       "                                             friends  fans  average_stars  \\\n",
       "0  fwwZK_bVBK-0ovQU8XCKBQ, sNg-Qhpns7km7N6BdjFNNw...     0           1.00   \n",
       "1  oYWILlXqqbUd5M6AyhQ2Yw, oX9fh4dAnVh7vGjdIUg5Ag...   128           3.56   \n",
       "2                                               None     0           3.80   \n",
       "3  6lCfXieOzia4DUrJDlgFqA, QxtlhFjJfmwWi8yUzILHNw...     0           5.00   \n",
       "4  f4W09vMVBWyz0cxWFg4EWg, wHAxtj5Gbk9xywIJRrzcKQ...     1           5.00   \n",
       "5  fYKjwhrzicBJ0iuv-0CiXQ, zQ0OiJkQwnevOYjuNLBPdw...     1           5.00   \n",
       "6  JBiXVe_Yk5KMyfkO1_FnaA, oJBCFfMObSWMh8kmOTPkJg...     0           5.00   \n",
       "7                                               None     0           5.00   \n",
       "8  RxbaGs7ltjKtl-smnh-yxg, X489FenmpoYZAXFwsLo0PQ...     2           3.16   \n",
       "9  9H8g1I14siAwaPJCEfbd1A, o45RZ4Ptm0F2hHKA6OVDEg...     8           3.18   \n",
       "\n",
       "   number_friends      funness  \n",
       "0              25          inf  \n",
       "1             612  1424.000000  \n",
       "2               1   681.000000  \n",
       "3             130   256.000000  \n",
       "4              15   227.500000  \n",
       "5              27   200.750000  \n",
       "6              30   167.000000  \n",
       "7               1   148.000000  \n",
       "8              12   141.214286  \n",
       "9              10   140.428571  "
      ]
     },
     "execution_count": 36,
     "metadata": {},
     "output_type": "execute_result"
    }
   ],
   "source": [
    "HighFunness.head(10)"
   ]
  },
  {
   "cell_type": "code",
   "execution_count": null,
   "metadata": {},
   "outputs": [],
   "source": []
  },
  {
   "cell_type": "markdown",
   "metadata": {},
   "source": [
    "## Data Visualization"
   ]
  },
  {
   "cell_type": "markdown",
   "metadata": {},
   "source": [
    "### Q9. Visualize the number of users joined Yelp by year. (6 points)\n",
    "\n",
    "Choose whatever chart you feel appropriate.\n",
    "\n",
    "**Hint: use 'yelping_since' and  `.dt.year`**"
   ]
  },
  {
   "cell_type": "code",
   "execution_count": 37,
   "metadata": {},
   "outputs": [
    {
     "data": {
      "text/plain": [
       "0          2013\n",
       "1          2013\n",
       "2          2013\n",
       "3          2014\n",
       "4          2013\n",
       "           ... \n",
       "1637133    2016\n",
       "1637134    2017\n",
       "1637135    2009\n",
       "1637136    2018\n",
       "1637137    2016\n",
       "Name: yelping_since, Length: 1637138, dtype: int64"
      ]
     },
     "execution_count": 37,
     "metadata": {},
     "output_type": "execute_result"
    }
   ],
   "source": [
    "users2['yelping_since'].dt.year"
   ]
  },
  {
   "cell_type": "code",
   "execution_count": 38,
   "metadata": {},
   "outputs": [
    {
     "data": {
      "text/plain": [
       "<seaborn.axisgrid.FacetGrid at 0x1edbbcca460>"
      ]
     },
     "execution_count": 38,
     "metadata": {},
     "output_type": "execute_result"
    },
    {
     "data": {
      "image/png": "[encoded data removed]",
      "text/plain": [
       "<Figure size 360x360 with 1 Axes>"
      ]
     },
     "metadata": {
      "needs_background": "light"
     },
     "output_type": "display_data"
    }
   ],
   "source": [
    "sns.displot(users2['yelping_since'].dt.year)"
   ]
  },
  {
   "cell_type": "code",
   "execution_count": null,
   "metadata": {},
   "outputs": [],
   "source": []
  },
  {
   "cell_type": "code",
   "execution_count": null,
   "metadata": {},
   "outputs": [],
   "source": []
  },
  {
   "cell_type": "markdown",
   "metadata": {},
   "source": [
    "### Q10. Display histograms of the following columns: `['review_count', 'useful', 'funny','cool', 'fans', 'average_stars','number_friends']` (6 points)"
   ]
  },
  {
   "cell_type": "code",
   "execution_count": 39,
   "metadata": {},
   "outputs": [
    {
     "data": {
      "image/png": "[encoded data removed]",
      "text/plain": [
       "<Figure size 432x288 with 1 Axes>"
      ]
     },
     "metadata": {
      "needs_background": "light"
     },
     "output_type": "display_data"
    }
   ],
   "source": [
    "plt.hist(users2['review_count'],bins = 200)\n",
    "plt.show()"
   ]
  },
  {
   "cell_type": "code",
   "execution_count": 40,
   "metadata": {},
   "outputs": [
    {
     "data": {
      "image/png": "[encoded data removed]",
      "text/plain": [
       "<Figure size 432x288 with 1 Axes>"
      ]
     },
     "metadata": {
      "needs_background": "light"
     },
     "output_type": "display_data"
    }
   ],
   "source": [
    "plt.hist(users2['useful'],bins = 200)\n",
    "plt.show()"
   ]
  },
  {
   "cell_type": "code",
   "execution_count": 41,
   "metadata": {},
   "outputs": [
    {
     "data": {
      "image/png": "[encoded data removed]",
      "text/plain": [
       "<Figure size 432x288 with 1 Axes>"
      ]
     },
     "metadata": {
      "needs_background": "light"
     },
     "output_type": "display_data"
    }
   ],
   "source": [
    "plt.hist(users2['funny'],bins = 200)\n",
    "plt.show()"
   ]
  },
  {
   "cell_type": "code",
   "execution_count": 42,
   "metadata": {},
   "outputs": [
    {
     "data": {
      "image/png": "[encoded data removed]",
      "text/plain": [
       "<Figure size 432x288 with 1 Axes>"
      ]
     },
     "metadata": {
      "needs_background": "light"
     },
     "output_type": "display_data"
    }
   ],
   "source": [
    "plt.hist(users2['average_stars'],bins = 200)\n",
    "plt.show()"
   ]
  },
  {
   "cell_type": "code",
   "execution_count": 43,
   "metadata": {},
   "outputs": [
    {
     "data": {
      "image/png": "[encoded data removed]",
      "text/plain": [
       "<Figure size 432x288 with 1 Axes>"
      ]
     },
     "metadata": {
      "needs_background": "light"
     },
     "output_type": "display_data"
    }
   ],
   "source": [
    "plt.hist(users2['number_friends'],bins = 200)\n",
    "plt.show()"
   ]
  },
  {
   "cell_type": "code",
   "execution_count": 44,
   "metadata": {},
   "outputs": [
    {
     "data": {
      "image/png": "[encoded data removed]",
      "text/plain": [
       "<Figure size 432x288 with 1 Axes>"
      ]
     },
     "metadata": {
      "needs_background": "light"
     },
     "output_type": "display_data"
    }
   ],
   "source": [
    "plt.hist(users2['fans'],bins = 200)\n",
    "plt.show()"
   ]
  },
  {
   "cell_type": "code",
   "execution_count": 45,
   "metadata": {},
   "outputs": [
    {
     "data": {
      "image/png": "[encoded data removed]",
      "text/plain": [
       "<Figure size 432x288 with 1 Axes>"
      ]
     },
     "metadata": {
      "needs_background": "light"
     },
     "output_type": "display_data"
    }
   ],
   "source": [
    "plt.hist(users2['cool'],bins = 200)\n",
    "plt.show()"
   ]
  },
  {
   "cell_type": "code",
   "execution_count": null,
   "metadata": {},
   "outputs": [],
   "source": []
  },
  {
   "cell_type": "markdown",
   "metadata": {},
   "source": [
    "### Q11. Display a heatmap of variable correlations (4 points)"
   ]
  },
  {
   "cell_type": "code",
   "execution_count": 46,
   "metadata": {},
   "outputs": [
    {
     "data": {
      "text/plain": [
       "<AxesSubplot:>"
      ]
     },
     "execution_count": 46,
     "metadata": {},
     "output_type": "execute_result"
    },
    {
     "data": {
      "image/png": "[encoded data removed]",
      "text/plain": [
       "<Figure size 1152x1152 with 2 Axes>"
      ]
     },
     "metadata": {
      "needs_background": "light"
     },
     "output_type": "display_data"
    }
   ],
   "source": [
    "corr = users2.corr()\n",
    "mask=np.zeros_like(corr)\n",
    "mask[np.triu_indices_from(corr)] = True\n",
    "plt.figure(figsize=(16,16))\n",
    "sns.heatmap(corr,cmap = \"coolwarm\",mask=mask)"
   ]
  },
  {
   "cell_type": "code",
   "execution_count": null,
   "metadata": {},
   "outputs": [],
   "source": []
  },
  {
   "cell_type": "code",
   "execution_count": null,
   "metadata": {},
   "outputs": [],
   "source": []
  }
 ],
 "metadata": {
  "kernelspec": {
   "display_name": "Python 3",
   "language": "python",
   "name": "python3"
  },
  "language_info": {
   "codemirror_mode": {
    "name": "ipython",
    "version": 3
   },
   "file_extension": ".py",
   "mimetype": "text/x-python",
   "name": "python",
   "nbconvert_exporter": "python",
   "pygments_lexer": "ipython3",
   "version": "3.8.5"
  }
 },
 "nbformat": 4,
 "nbformat_minor": 4
}
